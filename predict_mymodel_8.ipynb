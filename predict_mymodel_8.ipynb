{
 "cells": [
  {
   "cell_type": "markdown",
   "id": "84fe5b0d",
   "metadata": {},
   "source": [
    "# Итоговая модель прогнозирования stock"
   ]
  },
  {
   "cell_type": "code",
   "execution_count": 1,
   "id": "1a03e7ca",
   "metadata": {},
   "outputs": [],
   "source": [
    "sym = 'SBERP'"
   ]
  },
  {
   "cell_type": "code",
   "execution_count": 2,
   "id": "a786d37c",
   "metadata": {},
   "outputs": [],
   "source": [
    "import torch\n",
    "from torch import nn, optim\n",
    "from torch.utils.data import Dataset, DataLoader\n",
    "\n",
    "import numpy as np\n",
    "import pandas as pd\n",
    "import pandas_ta as ta\n",
    "\n",
    "import seaborn as sns\n",
    "sns.set_style(\"darkgrid\")\n",
    "\n",
    "import matplotlib\n",
    "%matplotlib inline\n",
    "import matplotlib.pyplot as plt\n",
    "plt.rcParams[\n",
    "    \"figure.facecolor\"\n",
    "] = \"w\"  # force white background on plots when using dark mode in JupyterLab\n",
    "\n",
    "import plotly.express as px\n",
    "import plotly.graph_objects as go\n",
    "\n",
    "import sklearn\n",
    "from sklearn.preprocessing import MinMaxScaler, StandardScaler\n",
    "from sklearn.model_selection import train_test_split\n",
    "from sklearn.metrics import mean_absolute_error, mean_squared_error\n",
    "\n",
    "import datetime\n",
    "from datetime import datetime, date, timedelta\n",
    "import time\n",
    "\n",
    "import random\n",
    "import math\n",
    "\n",
    "from tqdm import tqdm\n",
    "\n",
    "import warnings\n",
    "warnings.filterwarnings('ignore')"
   ]
  },
  {
   "cell_type": "code",
   "execution_count": 3,
   "id": "fae38adb",
   "metadata": {},
   "outputs": [
    {
     "data": {
      "text/plain": [
       "'cpu'"
      ]
     },
     "execution_count": 3,
     "metadata": {},
     "output_type": "execute_result"
    }
   ],
   "source": [
    "DEVICE = 'cuda' if torch.cuda.is_available() else 'cpu'\n",
    "DEVICE "
   ]
  },
  {
   "cell_type": "code",
   "execution_count": 4,
   "id": "c935001b",
   "metadata": {},
   "outputs": [],
   "source": [
    "# Sequence length of input\n",
    "WINDOW_SIZE = 30\n",
    "# Number of hidden layer neurons in LSTM\n",
    "HIDDEN_SIZE = 256\n",
    "# Number of LSTMs\n",
    "NUM_L = 2\n",
    "input_size = 9\n",
    "output_size = 1\n",
    "\n",
    "BATCH_SIZE = 128\n",
    "EPOCHS = 10\n",
    "\n",
    "RANDOM_STATE = 42"
   ]
  },
  {
   "cell_type": "code",
   "execution_count": 5,
   "id": "66e270d9",
   "metadata": {},
   "outputs": [
    {
     "data": {
      "text/html": [
       "<div>\n",
       "<style scoped>\n",
       "    .dataframe tbody tr th:only-of-type {\n",
       "        vertical-align: middle;\n",
       "    }\n",
       "\n",
       "    .dataframe tbody tr th {\n",
       "        vertical-align: top;\n",
       "    }\n",
       "\n",
       "    .dataframe thead th {\n",
       "        text-align: right;\n",
       "    }\n",
       "</style>\n",
       "<table border=\"1\" class=\"dataframe\">\n",
       "  <thead>\n",
       "    <tr style=\"text-align: right;\">\n",
       "      <th></th>\n",
       "      <th>TICKER</th>\n",
       "      <th>PER</th>\n",
       "      <th>TIME</th>\n",
       "      <th>OPEN</th>\n",
       "      <th>HIGH</th>\n",
       "      <th>LOW</th>\n",
       "      <th>CLOSE</th>\n",
       "      <th>VOL</th>\n",
       "    </tr>\n",
       "    <tr>\n",
       "      <th>DATE</th>\n",
       "      <th></th>\n",
       "      <th></th>\n",
       "      <th></th>\n",
       "      <th></th>\n",
       "      <th></th>\n",
       "      <th></th>\n",
       "      <th></th>\n",
       "      <th></th>\n",
       "    </tr>\n",
       "  </thead>\n",
       "  <tbody>\n",
       "    <tr>\n",
       "      <th>2013-01-08</th>\n",
       "      <td>SBERP</td>\n",
       "      <td>D</td>\n",
       "      <td>0</td>\n",
       "      <td>68.99</td>\n",
       "      <td>70.78</td>\n",
       "      <td>68.72</td>\n",
       "      <td>70.38</td>\n",
       "      <td>17944900</td>\n",
       "    </tr>\n",
       "    <tr>\n",
       "      <th>2013-01-09</th>\n",
       "      <td>SBERP</td>\n",
       "      <td>D</td>\n",
       "      <td>0</td>\n",
       "      <td>70.36</td>\n",
       "      <td>71.30</td>\n",
       "      <td>70.12</td>\n",
       "      <td>70.69</td>\n",
       "      <td>15790900</td>\n",
       "    </tr>\n",
       "    <tr>\n",
       "      <th>2013-01-10</th>\n",
       "      <td>SBERP</td>\n",
       "      <td>D</td>\n",
       "      <td>0</td>\n",
       "      <td>70.87</td>\n",
       "      <td>71.00</td>\n",
       "      <td>70.50</td>\n",
       "      <td>70.90</td>\n",
       "      <td>12258200</td>\n",
       "    </tr>\n",
       "    <tr>\n",
       "      <th>2013-01-11</th>\n",
       "      <td>SBERP</td>\n",
       "      <td>D</td>\n",
       "      <td>0</td>\n",
       "      <td>70.91</td>\n",
       "      <td>71.67</td>\n",
       "      <td>70.72</td>\n",
       "      <td>71.32</td>\n",
       "      <td>15105700</td>\n",
       "    </tr>\n",
       "    <tr>\n",
       "      <th>2013-01-14</th>\n",
       "      <td>SBERP</td>\n",
       "      <td>D</td>\n",
       "      <td>0</td>\n",
       "      <td>71.67</td>\n",
       "      <td>72.70</td>\n",
       "      <td>71.65</td>\n",
       "      <td>72.47</td>\n",
       "      <td>18319300</td>\n",
       "    </tr>\n",
       "    <tr>\n",
       "      <th>...</th>\n",
       "      <td>...</td>\n",
       "      <td>...</td>\n",
       "      <td>...</td>\n",
       "      <td>...</td>\n",
       "      <td>...</td>\n",
       "      <td>...</td>\n",
       "      <td>...</td>\n",
       "      <td>...</td>\n",
       "    </tr>\n",
       "    <tr>\n",
       "      <th>2023-11-09</th>\n",
       "      <td>SBERP</td>\n",
       "      <td>D</td>\n",
       "      <td>0</td>\n",
       "      <td>277.11</td>\n",
       "      <td>277.47</td>\n",
       "      <td>274.81</td>\n",
       "      <td>276.05</td>\n",
       "      <td>2706820</td>\n",
       "    </tr>\n",
       "    <tr>\n",
       "      <th>2023-11-10</th>\n",
       "      <td>SBERP</td>\n",
       "      <td>D</td>\n",
       "      <td>0</td>\n",
       "      <td>276.19</td>\n",
       "      <td>279.90</td>\n",
       "      <td>275.85</td>\n",
       "      <td>279.30</td>\n",
       "      <td>4346280</td>\n",
       "    </tr>\n",
       "    <tr>\n",
       "      <th>2023-11-13</th>\n",
       "      <td>SBERP</td>\n",
       "      <td>D</td>\n",
       "      <td>0</td>\n",
       "      <td>279.61</td>\n",
       "      <td>283.98</td>\n",
       "      <td>279.50</td>\n",
       "      <td>282.74</td>\n",
       "      <td>3733460</td>\n",
       "    </tr>\n",
       "    <tr>\n",
       "      <th>2023-11-14</th>\n",
       "      <td>SBERP</td>\n",
       "      <td>D</td>\n",
       "      <td>0</td>\n",
       "      <td>282.71</td>\n",
       "      <td>283.29</td>\n",
       "      <td>279.00</td>\n",
       "      <td>279.54</td>\n",
       "      <td>3607820</td>\n",
       "    </tr>\n",
       "    <tr>\n",
       "      <th>2023-11-15</th>\n",
       "      <td>SBERP</td>\n",
       "      <td>D</td>\n",
       "      <td>0</td>\n",
       "      <td>279.29</td>\n",
       "      <td>282.78</td>\n",
       "      <td>277.33</td>\n",
       "      <td>281.49</td>\n",
       "      <td>3225130</td>\n",
       "    </tr>\n",
       "  </tbody>\n",
       "</table>\n",
       "<p>2721 rows × 8 columns</p>\n",
       "</div>"
      ],
      "text/plain": [
       "           TICKER PER  TIME    OPEN    HIGH     LOW   CLOSE       VOL\n",
       "DATE                                                                 \n",
       "2013-01-08  SBERP   D     0   68.99   70.78   68.72   70.38  17944900\n",
       "2013-01-09  SBERP   D     0   70.36   71.30   70.12   70.69  15790900\n",
       "2013-01-10  SBERP   D     0   70.87   71.00   70.50   70.90  12258200\n",
       "2013-01-11  SBERP   D     0   70.91   71.67   70.72   71.32  15105700\n",
       "2013-01-14  SBERP   D     0   71.67   72.70   71.65   72.47  18319300\n",
       "...           ...  ..   ...     ...     ...     ...     ...       ...\n",
       "2023-11-09  SBERP   D     0  277.11  277.47  274.81  276.05   2706820\n",
       "2023-11-10  SBERP   D     0  276.19  279.90  275.85  279.30   4346280\n",
       "2023-11-13  SBERP   D     0  279.61  283.98  279.50  282.74   3733460\n",
       "2023-11-14  SBERP   D     0  282.71  283.29  279.00  279.54   3607820\n",
       "2023-11-15  SBERP   D     0  279.29  282.78  277.33  281.49   3225130\n",
       "\n",
       "[2721 rows x 8 columns]"
      ]
     },
     "execution_count": 5,
     "metadata": {},
     "output_type": "execute_result"
    }
   ],
   "source": [
    "data = pd.read_csv(f'{sym}_day.csv', index_col=0, parse_dates=True)\n",
    "data"
   ]
  },
  {
   "cell_type": "code",
   "execution_count": 6,
   "id": "a7642fa5",
   "metadata": {},
   "outputs": [
    {
     "data": {
      "image/png": "[encoded data removed]",
      "text/plain": [
       "<Figure size 1080x648 with 1 Axes>"
      ]
     },
     "metadata": {},
     "output_type": "display_data"
    }
   ],
   "source": [
    "sns.set_style(\"darkgrid\")\n",
    "plt.figure(figsize = (15,9))\n",
    "plt.plot(data[['CLOSE']])\n",
    "plt.title(f\"{sym} Stock Price\",fontsize=18, fontweight='bold')\n",
    "plt.xlabel('Date',fontsize=18)\n",
    "plt.ylabel('Close Price (RUB)',fontsize=18)\n",
    "plt.show()"
   ]
  },
  {
   "cell_type": "code",
   "execution_count": 7,
   "id": "37dfd1a1",
   "metadata": {},
   "outputs": [
    {
     "data": {
      "text/html": [
       "<div>\n",
       "<style scoped>\n",
       "    .dataframe tbody tr th:only-of-type {\n",
       "        vertical-align: middle;\n",
       "    }\n",
       "\n",
       "    .dataframe tbody tr th {\n",
       "        vertical-align: top;\n",
       "    }\n",
       "\n",
       "    .dataframe thead th {\n",
       "        text-align: right;\n",
       "    }\n",
       "</style>\n",
       "<table border=\"1\" class=\"dataframe\">\n",
       "  <thead>\n",
       "    <tr style=\"text-align: right;\">\n",
       "      <th></th>\n",
       "      <th>TICKER</th>\n",
       "      <th>PER</th>\n",
       "      <th>TIME</th>\n",
       "      <th>OPEN</th>\n",
       "      <th>HIGH</th>\n",
       "      <th>LOW</th>\n",
       "      <th>CLOSE</th>\n",
       "      <th>VOL</th>\n",
       "      <th>RSI</th>\n",
       "      <th>EMAF</th>\n",
       "      <th>EMAM</th>\n",
       "      <th>EMAS</th>\n",
       "      <th>VWAP</th>\n",
       "    </tr>\n",
       "    <tr>\n",
       "      <th>DATE</th>\n",
       "      <th></th>\n",
       "      <th></th>\n",
       "      <th></th>\n",
       "      <th></th>\n",
       "      <th></th>\n",
       "      <th></th>\n",
       "      <th></th>\n",
       "      <th></th>\n",
       "      <th></th>\n",
       "      <th></th>\n",
       "      <th></th>\n",
       "      <th></th>\n",
       "      <th></th>\n",
       "    </tr>\n",
       "  </thead>\n",
       "  <tbody>\n",
       "    <tr>\n",
       "      <th>2013-01-08</th>\n",
       "      <td>SBERP</td>\n",
       "      <td>D</td>\n",
       "      <td>0</td>\n",
       "      <td>68.99</td>\n",
       "      <td>70.78</td>\n",
       "      <td>68.72</td>\n",
       "      <td>70.38</td>\n",
       "      <td>17944900</td>\n",
       "      <td>NaN</td>\n",
       "      <td>NaN</td>\n",
       "      <td>NaN</td>\n",
       "      <td>NaN</td>\n",
       "      <td>69.960000</td>\n",
       "    </tr>\n",
       "    <tr>\n",
       "      <th>2013-01-09</th>\n",
       "      <td>SBERP</td>\n",
       "      <td>D</td>\n",
       "      <td>0</td>\n",
       "      <td>70.36</td>\n",
       "      <td>71.30</td>\n",
       "      <td>70.12</td>\n",
       "      <td>70.69</td>\n",
       "      <td>15790900</td>\n",
       "      <td>NaN</td>\n",
       "      <td>NaN</td>\n",
       "      <td>NaN</td>\n",
       "      <td>NaN</td>\n",
       "      <td>70.703333</td>\n",
       "    </tr>\n",
       "    <tr>\n",
       "      <th>2013-01-10</th>\n",
       "      <td>SBERP</td>\n",
       "      <td>D</td>\n",
       "      <td>0</td>\n",
       "      <td>70.87</td>\n",
       "      <td>71.00</td>\n",
       "      <td>70.50</td>\n",
       "      <td>70.90</td>\n",
       "      <td>12258200</td>\n",
       "      <td>NaN</td>\n",
       "      <td>NaN</td>\n",
       "      <td>NaN</td>\n",
       "      <td>NaN</td>\n",
       "      <td>70.800000</td>\n",
       "    </tr>\n",
       "    <tr>\n",
       "      <th>2013-01-11</th>\n",
       "      <td>SBERP</td>\n",
       "      <td>D</td>\n",
       "      <td>0</td>\n",
       "      <td>70.91</td>\n",
       "      <td>71.67</td>\n",
       "      <td>70.72</td>\n",
       "      <td>71.32</td>\n",
       "      <td>15105700</td>\n",
       "      <td>NaN</td>\n",
       "      <td>NaN</td>\n",
       "      <td>NaN</td>\n",
       "      <td>NaN</td>\n",
       "      <td>71.236667</td>\n",
       "    </tr>\n",
       "    <tr>\n",
       "      <th>2013-01-14</th>\n",
       "      <td>SBERP</td>\n",
       "      <td>D</td>\n",
       "      <td>0</td>\n",
       "      <td>71.67</td>\n",
       "      <td>72.70</td>\n",
       "      <td>71.65</td>\n",
       "      <td>72.47</td>\n",
       "      <td>18319300</td>\n",
       "      <td>NaN</td>\n",
       "      <td>NaN</td>\n",
       "      <td>NaN</td>\n",
       "      <td>NaN</td>\n",
       "      <td>72.273333</td>\n",
       "    </tr>\n",
       "    <tr>\n",
       "      <th>...</th>\n",
       "      <td>...</td>\n",
       "      <td>...</td>\n",
       "      <td>...</td>\n",
       "      <td>...</td>\n",
       "      <td>...</td>\n",
       "      <td>...</td>\n",
       "      <td>...</td>\n",
       "      <td>...</td>\n",
       "      <td>...</td>\n",
       "      <td>...</td>\n",
       "      <td>...</td>\n",
       "      <td>...</td>\n",
       "      <td>...</td>\n",
       "    </tr>\n",
       "    <tr>\n",
       "      <th>2023-11-09</th>\n",
       "      <td>SBERP</td>\n",
       "      <td>D</td>\n",
       "      <td>0</td>\n",
       "      <td>277.11</td>\n",
       "      <td>277.47</td>\n",
       "      <td>274.81</td>\n",
       "      <td>276.05</td>\n",
       "      <td>2706820</td>\n",
       "      <td>66.926851</td>\n",
       "      <td>269.650106</td>\n",
       "      <td>255.133587</td>\n",
       "      <td>244.011538</td>\n",
       "      <td>276.110000</td>\n",
       "    </tr>\n",
       "    <tr>\n",
       "      <th>2023-11-10</th>\n",
       "      <td>SBERP</td>\n",
       "      <td>D</td>\n",
       "      <td>0</td>\n",
       "      <td>276.19</td>\n",
       "      <td>279.90</td>\n",
       "      <td>275.85</td>\n",
       "      <td>279.30</td>\n",
       "      <td>4346280</td>\n",
       "      <td>70.862265</td>\n",
       "      <td>270.569143</td>\n",
       "      <td>255.612130</td>\n",
       "      <td>244.478935</td>\n",
       "      <td>278.350000</td>\n",
       "    </tr>\n",
       "    <tr>\n",
       "      <th>2023-11-13</th>\n",
       "      <td>SBERP</td>\n",
       "      <td>D</td>\n",
       "      <td>0</td>\n",
       "      <td>279.61</td>\n",
       "      <td>283.98</td>\n",
       "      <td>279.50</td>\n",
       "      <td>282.74</td>\n",
       "      <td>3733460</td>\n",
       "      <td>74.326717</td>\n",
       "      <td>271.728273</td>\n",
       "      <td>256.149315</td>\n",
       "      <td>244.985704</td>\n",
       "      <td>282.073333</td>\n",
       "    </tr>\n",
       "    <tr>\n",
       "      <th>2023-11-14</th>\n",
       "      <td>SBERP</td>\n",
       "      <td>D</td>\n",
       "      <td>0</td>\n",
       "      <td>282.71</td>\n",
       "      <td>283.29</td>\n",
       "      <td>279.00</td>\n",
       "      <td>279.54</td>\n",
       "      <td>3607820</td>\n",
       "      <td>66.451892</td>\n",
       "      <td>272.472247</td>\n",
       "      <td>256.612497</td>\n",
       "      <td>245.443377</td>\n",
       "      <td>280.610000</td>\n",
       "    </tr>\n",
       "    <tr>\n",
       "      <th>2023-11-15</th>\n",
       "      <td>SBERP</td>\n",
       "      <td>D</td>\n",
       "      <td>0</td>\n",
       "      <td>279.29</td>\n",
       "      <td>282.78</td>\n",
       "      <td>277.33</td>\n",
       "      <td>281.49</td>\n",
       "      <td>3225130</td>\n",
       "      <td>68.622410</td>\n",
       "      <td>273.331080</td>\n",
       "      <td>257.105121</td>\n",
       "      <td>245.920815</td>\n",
       "      <td>280.533333</td>\n",
       "    </tr>\n",
       "  </tbody>\n",
       "</table>\n",
       "<p>2721 rows × 13 columns</p>\n",
       "</div>"
      ],
      "text/plain": [
       "           TICKER PER  TIME    OPEN    HIGH     LOW   CLOSE       VOL  \\\n",
       "DATE                                                                    \n",
       "2013-01-08  SBERP   D     0   68.99   70.78   68.72   70.38  17944900   \n",
       "2013-01-09  SBERP   D     0   70.36   71.30   70.12   70.69  15790900   \n",
       "2013-01-10  SBERP   D     0   70.87   71.00   70.50   70.90  12258200   \n",
       "2013-01-11  SBERP   D     0   70.91   71.67   70.72   71.32  15105700   \n",
       "2013-01-14  SBERP   D     0   71.67   72.70   71.65   72.47  18319300   \n",
       "...           ...  ..   ...     ...     ...     ...     ...       ...   \n",
       "2023-11-09  SBERP   D     0  277.11  277.47  274.81  276.05   2706820   \n",
       "2023-11-10  SBERP   D     0  276.19  279.90  275.85  279.30   4346280   \n",
       "2023-11-13  SBERP   D     0  279.61  283.98  279.50  282.74   3733460   \n",
       "2023-11-14  SBERP   D     0  282.71  283.29  279.00  279.54   3607820   \n",
       "2023-11-15  SBERP   D     0  279.29  282.78  277.33  281.49   3225130   \n",
       "\n",
       "                  RSI        EMAF        EMAM        EMAS        VWAP  \n",
       "DATE                                                                   \n",
       "2013-01-08        NaN         NaN         NaN         NaN   69.960000  \n",
       "2013-01-09        NaN         NaN         NaN         NaN   70.703333  \n",
       "2013-01-10        NaN         NaN         NaN         NaN   70.800000  \n",
       "2013-01-11        NaN         NaN         NaN         NaN   71.236667  \n",
       "2013-01-14        NaN         NaN         NaN         NaN   72.273333  \n",
       "...               ...         ...         ...         ...         ...  \n",
       "2023-11-09  66.926851  269.650106  255.133587  244.011538  276.110000  \n",
       "2023-11-10  70.862265  270.569143  255.612130  244.478935  278.350000  \n",
       "2023-11-13  74.326717  271.728273  256.149315  244.985704  282.073333  \n",
       "2023-11-14  66.451892  272.472247  256.612497  245.443377  280.610000  \n",
       "2023-11-15  68.622410  273.331080  257.105121  245.920815  280.533333  \n",
       "\n",
       "[2721 rows x 13 columns]"
      ]
     },
     "execution_count": 7,
     "metadata": {},
     "output_type": "execute_result"
    }
   ],
   "source": [
    "# Adding indicators\n",
    "data['RSI'] = ta.rsi(data.CLOSE, length=15)\n",
    "data['EMAF'] = ta.ema(data.CLOSE, length=20)\n",
    "data['EMAM'] = ta.ema(data.CLOSE, length=100)\n",
    "data['EMAS'] = ta.ema(data.CLOSE, length=150)\n",
    "data['VWAP'] = ta.vwap(data.HIGH, data.LOW, data.CLOSE, data.VOL, anchor = \"D\")\n",
    "data"
   ]
  },
  {
   "cell_type": "code",
   "execution_count": 8,
   "id": "a35c697a",
   "metadata": {},
   "outputs": [
    {
     "data": {
      "text/html": [
       "<div>\n",
       "<style scoped>\n",
       "    .dataframe tbody tr th:only-of-type {\n",
       "        vertical-align: middle;\n",
       "    }\n",
       "\n",
       "    .dataframe tbody tr th {\n",
       "        vertical-align: top;\n",
       "    }\n",
       "\n",
       "    .dataframe thead th {\n",
       "        text-align: right;\n",
       "    }\n",
       "</style>\n",
       "<table border=\"1\" class=\"dataframe\">\n",
       "  <thead>\n",
       "    <tr style=\"text-align: right;\">\n",
       "      <th></th>\n",
       "      <th>TICKER</th>\n",
       "      <th>PER</th>\n",
       "      <th>TIME</th>\n",
       "      <th>OPEN</th>\n",
       "      <th>HIGH</th>\n",
       "      <th>LOW</th>\n",
       "      <th>CLOSE</th>\n",
       "      <th>VOL</th>\n",
       "      <th>RSI</th>\n",
       "      <th>EMAF</th>\n",
       "      <th>EMAM</th>\n",
       "      <th>EMAS</th>\n",
       "      <th>VWAP</th>\n",
       "      <th>Target</th>\n",
       "      <th>TargetClass</th>\n",
       "      <th>TargetNextClose</th>\n",
       "    </tr>\n",
       "    <tr>\n",
       "      <th>DATE</th>\n",
       "      <th></th>\n",
       "      <th></th>\n",
       "      <th></th>\n",
       "      <th></th>\n",
       "      <th></th>\n",
       "      <th></th>\n",
       "      <th></th>\n",
       "      <th></th>\n",
       "      <th></th>\n",
       "      <th></th>\n",
       "      <th></th>\n",
       "      <th></th>\n",
       "      <th></th>\n",
       "      <th></th>\n",
       "      <th></th>\n",
       "      <th></th>\n",
       "    </tr>\n",
       "  </thead>\n",
       "  <tbody>\n",
       "    <tr>\n",
       "      <th>2013-01-08</th>\n",
       "      <td>SBERP</td>\n",
       "      <td>D</td>\n",
       "      <td>0</td>\n",
       "      <td>68.99</td>\n",
       "      <td>70.78</td>\n",
       "      <td>68.72</td>\n",
       "      <td>70.38</td>\n",
       "      <td>17944900</td>\n",
       "      <td>NaN</td>\n",
       "      <td>NaN</td>\n",
       "      <td>NaN</td>\n",
       "      <td>NaN</td>\n",
       "      <td>69.960000</td>\n",
       "      <td>0.33</td>\n",
       "      <td>1</td>\n",
       "      <td>70.69</td>\n",
       "    </tr>\n",
       "    <tr>\n",
       "      <th>2013-01-09</th>\n",
       "      <td>SBERP</td>\n",
       "      <td>D</td>\n",
       "      <td>0</td>\n",
       "      <td>70.36</td>\n",
       "      <td>71.30</td>\n",
       "      <td>70.12</td>\n",
       "      <td>70.69</td>\n",
       "      <td>15790900</td>\n",
       "      <td>NaN</td>\n",
       "      <td>NaN</td>\n",
       "      <td>NaN</td>\n",
       "      <td>NaN</td>\n",
       "      <td>70.703333</td>\n",
       "      <td>0.03</td>\n",
       "      <td>1</td>\n",
       "      <td>70.90</td>\n",
       "    </tr>\n",
       "    <tr>\n",
       "      <th>2013-01-10</th>\n",
       "      <td>SBERP</td>\n",
       "      <td>D</td>\n",
       "      <td>0</td>\n",
       "      <td>70.87</td>\n",
       "      <td>71.00</td>\n",
       "      <td>70.50</td>\n",
       "      <td>70.90</td>\n",
       "      <td>12258200</td>\n",
       "      <td>NaN</td>\n",
       "      <td>NaN</td>\n",
       "      <td>NaN</td>\n",
       "      <td>NaN</td>\n",
       "      <td>70.800000</td>\n",
       "      <td>0.41</td>\n",
       "      <td>1</td>\n",
       "      <td>71.32</td>\n",
       "    </tr>\n",
       "    <tr>\n",
       "      <th>2013-01-11</th>\n",
       "      <td>SBERP</td>\n",
       "      <td>D</td>\n",
       "      <td>0</td>\n",
       "      <td>70.91</td>\n",
       "      <td>71.67</td>\n",
       "      <td>70.72</td>\n",
       "      <td>71.32</td>\n",
       "      <td>15105700</td>\n",
       "      <td>NaN</td>\n",
       "      <td>NaN</td>\n",
       "      <td>NaN</td>\n",
       "      <td>NaN</td>\n",
       "      <td>71.236667</td>\n",
       "      <td>0.80</td>\n",
       "      <td>1</td>\n",
       "      <td>72.47</td>\n",
       "    </tr>\n",
       "    <tr>\n",
       "      <th>2013-01-14</th>\n",
       "      <td>SBERP</td>\n",
       "      <td>D</td>\n",
       "      <td>0</td>\n",
       "      <td>71.67</td>\n",
       "      <td>72.70</td>\n",
       "      <td>71.65</td>\n",
       "      <td>72.47</td>\n",
       "      <td>18319300</td>\n",
       "      <td>NaN</td>\n",
       "      <td>NaN</td>\n",
       "      <td>NaN</td>\n",
       "      <td>NaN</td>\n",
       "      <td>72.273333</td>\n",
       "      <td>-0.80</td>\n",
       "      <td>0</td>\n",
       "      <td>71.50</td>\n",
       "    </tr>\n",
       "    <tr>\n",
       "      <th>...</th>\n",
       "      <td>...</td>\n",
       "      <td>...</td>\n",
       "      <td>...</td>\n",
       "      <td>...</td>\n",
       "      <td>...</td>\n",
       "      <td>...</td>\n",
       "      <td>...</td>\n",
       "      <td>...</td>\n",
       "      <td>...</td>\n",
       "      <td>...</td>\n",
       "      <td>...</td>\n",
       "      <td>...</td>\n",
       "      <td>...</td>\n",
       "      <td>...</td>\n",
       "      <td>...</td>\n",
       "      <td>...</td>\n",
       "    </tr>\n",
       "    <tr>\n",
       "      <th>2023-11-09</th>\n",
       "      <td>SBERP</td>\n",
       "      <td>D</td>\n",
       "      <td>0</td>\n",
       "      <td>277.11</td>\n",
       "      <td>277.47</td>\n",
       "      <td>274.81</td>\n",
       "      <td>276.05</td>\n",
       "      <td>2706820</td>\n",
       "      <td>66.926851</td>\n",
       "      <td>269.650106</td>\n",
       "      <td>255.133587</td>\n",
       "      <td>244.011538</td>\n",
       "      <td>276.110000</td>\n",
       "      <td>3.11</td>\n",
       "      <td>1</td>\n",
       "      <td>279.30</td>\n",
       "    </tr>\n",
       "    <tr>\n",
       "      <th>2023-11-10</th>\n",
       "      <td>SBERP</td>\n",
       "      <td>D</td>\n",
       "      <td>0</td>\n",
       "      <td>276.19</td>\n",
       "      <td>279.90</td>\n",
       "      <td>275.85</td>\n",
       "      <td>279.30</td>\n",
       "      <td>4346280</td>\n",
       "      <td>70.862265</td>\n",
       "      <td>270.569143</td>\n",
       "      <td>255.612130</td>\n",
       "      <td>244.478935</td>\n",
       "      <td>278.350000</td>\n",
       "      <td>3.13</td>\n",
       "      <td>1</td>\n",
       "      <td>282.74</td>\n",
       "    </tr>\n",
       "    <tr>\n",
       "      <th>2023-11-13</th>\n",
       "      <td>SBERP</td>\n",
       "      <td>D</td>\n",
       "      <td>0</td>\n",
       "      <td>279.61</td>\n",
       "      <td>283.98</td>\n",
       "      <td>279.50</td>\n",
       "      <td>282.74</td>\n",
       "      <td>3733460</td>\n",
       "      <td>74.326717</td>\n",
       "      <td>271.728273</td>\n",
       "      <td>256.149315</td>\n",
       "      <td>244.985704</td>\n",
       "      <td>282.073333</td>\n",
       "      <td>-3.17</td>\n",
       "      <td>0</td>\n",
       "      <td>279.54</td>\n",
       "    </tr>\n",
       "    <tr>\n",
       "      <th>2023-11-14</th>\n",
       "      <td>SBERP</td>\n",
       "      <td>D</td>\n",
       "      <td>0</td>\n",
       "      <td>282.71</td>\n",
       "      <td>283.29</td>\n",
       "      <td>279.00</td>\n",
       "      <td>279.54</td>\n",
       "      <td>3607820</td>\n",
       "      <td>66.451892</td>\n",
       "      <td>272.472247</td>\n",
       "      <td>256.612497</td>\n",
       "      <td>245.443377</td>\n",
       "      <td>280.610000</td>\n",
       "      <td>2.20</td>\n",
       "      <td>1</td>\n",
       "      <td>281.49</td>\n",
       "    </tr>\n",
       "    <tr>\n",
       "      <th>2023-11-15</th>\n",
       "      <td>SBERP</td>\n",
       "      <td>D</td>\n",
       "      <td>0</td>\n",
       "      <td>279.29</td>\n",
       "      <td>282.78</td>\n",
       "      <td>277.33</td>\n",
       "      <td>281.49</td>\n",
       "      <td>3225130</td>\n",
       "      <td>68.622410</td>\n",
       "      <td>273.331080</td>\n",
       "      <td>257.105121</td>\n",
       "      <td>245.920815</td>\n",
       "      <td>280.533333</td>\n",
       "      <td>NaN</td>\n",
       "      <td>0</td>\n",
       "      <td>NaN</td>\n",
       "    </tr>\n",
       "  </tbody>\n",
       "</table>\n",
       "<p>2721 rows × 16 columns</p>\n",
       "</div>"
      ],
      "text/plain": [
       "           TICKER PER  TIME    OPEN    HIGH     LOW   CLOSE       VOL  \\\n",
       "DATE                                                                    \n",
       "2013-01-08  SBERP   D     0   68.99   70.78   68.72   70.38  17944900   \n",
       "2013-01-09  SBERP   D     0   70.36   71.30   70.12   70.69  15790900   \n",
       "2013-01-10  SBERP   D     0   70.87   71.00   70.50   70.90  12258200   \n",
       "2013-01-11  SBERP   D     0   70.91   71.67   70.72   71.32  15105700   \n",
       "2013-01-14  SBERP   D     0   71.67   72.70   71.65   72.47  18319300   \n",
       "...           ...  ..   ...     ...     ...     ...     ...       ...   \n",
       "2023-11-09  SBERP   D     0  277.11  277.47  274.81  276.05   2706820   \n",
       "2023-11-10  SBERP   D     0  276.19  279.90  275.85  279.30   4346280   \n",
       "2023-11-13  SBERP   D     0  279.61  283.98  279.50  282.74   3733460   \n",
       "2023-11-14  SBERP   D     0  282.71  283.29  279.00  279.54   3607820   \n",
       "2023-11-15  SBERP   D     0  279.29  282.78  277.33  281.49   3225130   \n",
       "\n",
       "                  RSI        EMAF        EMAM        EMAS        VWAP  Target  \\\n",
       "DATE                                                                            \n",
       "2013-01-08        NaN         NaN         NaN         NaN   69.960000    0.33   \n",
       "2013-01-09        NaN         NaN         NaN         NaN   70.703333    0.03   \n",
       "2013-01-10        NaN         NaN         NaN         NaN   70.800000    0.41   \n",
       "2013-01-11        NaN         NaN         NaN         NaN   71.236667    0.80   \n",
       "2013-01-14        NaN         NaN         NaN         NaN   72.273333   -0.80   \n",
       "...               ...         ...         ...         ...         ...     ...   \n",
       "2023-11-09  66.926851  269.650106  255.133587  244.011538  276.110000    3.11   \n",
       "2023-11-10  70.862265  270.569143  255.612130  244.478935  278.350000    3.13   \n",
       "2023-11-13  74.326717  271.728273  256.149315  244.985704  282.073333   -3.17   \n",
       "2023-11-14  66.451892  272.472247  256.612497  245.443377  280.610000    2.20   \n",
       "2023-11-15  68.622410  273.331080  257.105121  245.920815  280.533333     NaN   \n",
       "\n",
       "            TargetClass  TargetNextClose  \n",
       "DATE                                      \n",
       "2013-01-08            1            70.69  \n",
       "2013-01-09            1            70.90  \n",
       "2013-01-10            1            71.32  \n",
       "2013-01-11            1            72.47  \n",
       "2013-01-14            0            71.50  \n",
       "...                 ...              ...  \n",
       "2023-11-09            1           279.30  \n",
       "2023-11-10            1           282.74  \n",
       "2023-11-13            0           279.54  \n",
       "2023-11-14            1           281.49  \n",
       "2023-11-15            0              NaN  \n",
       "\n",
       "[2721 rows x 16 columns]"
      ]
     },
     "execution_count": 8,
     "metadata": {},
     "output_type": "execute_result"
    }
   ],
   "source": [
    "data['Target'] = data['CLOSE'] - data.OPEN\n",
    "data['Target'] = data['Target'].shift(-1)\n",
    "data['TargetClass'] = [1 if data.Target[i] > 0 else 0 for i in range(len(data))]\n",
    "data['TargetNextClose'] = data['CLOSE'].shift(-1)\n",
    "pd.set_option('display.max_columns', None)\n",
    "data"
   ]
  },
  {
   "cell_type": "code",
   "execution_count": 9,
   "id": "f1ccec1b",
   "metadata": {},
   "outputs": [
    {
     "data": {
      "text/html": [
       "<div>\n",
       "<style scoped>\n",
       "    .dataframe tbody tr th:only-of-type {\n",
       "        vertical-align: middle;\n",
       "    }\n",
       "\n",
       "    .dataframe tbody tr th {\n",
       "        vertical-align: top;\n",
       "    }\n",
       "\n",
       "    .dataframe thead th {\n",
       "        text-align: right;\n",
       "    }\n",
       "</style>\n",
       "<table border=\"1\" class=\"dataframe\">\n",
       "  <thead>\n",
       "    <tr style=\"text-align: right;\">\n",
       "      <th></th>\n",
       "      <th>DATE</th>\n",
       "      <th>OPEN</th>\n",
       "      <th>HIGH</th>\n",
       "      <th>LOW</th>\n",
       "      <th>RSI</th>\n",
       "      <th>EMAF</th>\n",
       "      <th>EMAM</th>\n",
       "      <th>EMAS</th>\n",
       "      <th>VWAP</th>\n",
       "      <th>Target</th>\n",
       "      <th>TargetClass</th>\n",
       "      <th>TargetNextClose</th>\n",
       "    </tr>\n",
       "  </thead>\n",
       "  <tbody>\n",
       "    <tr>\n",
       "      <th>0</th>\n",
       "      <td>2013-08-09</td>\n",
       "      <td>72.50</td>\n",
       "      <td>73.20</td>\n",
       "      <td>72.02</td>\n",
       "      <td>48.571120</td>\n",
       "      <td>73.644141</td>\n",
       "      <td>73.296521</td>\n",
       "      <td>73.652800</td>\n",
       "      <td>72.780000</td>\n",
       "      <td>0.08</td>\n",
       "      <td>1</td>\n",
       "      <td>73.15</td>\n",
       "    </tr>\n",
       "    <tr>\n",
       "      <th>1</th>\n",
       "      <td>2013-08-12</td>\n",
       "      <td>73.07</td>\n",
       "      <td>73.50</td>\n",
       "      <td>72.22</td>\n",
       "      <td>48.697331</td>\n",
       "      <td>73.597080</td>\n",
       "      <td>73.293619</td>\n",
       "      <td>73.646140</td>\n",
       "      <td>72.956667</td>\n",
       "      <td>1.00</td>\n",
       "      <td>1</td>\n",
       "      <td>74.15</td>\n",
       "    </tr>\n",
       "    <tr>\n",
       "      <th>2</th>\n",
       "      <td>2013-08-13</td>\n",
       "      <td>73.15</td>\n",
       "      <td>74.37</td>\n",
       "      <td>72.93</td>\n",
       "      <td>52.831464</td>\n",
       "      <td>73.649739</td>\n",
       "      <td>73.310577</td>\n",
       "      <td>73.652814</td>\n",
       "      <td>73.816667</td>\n",
       "      <td>0.35</td>\n",
       "      <td>1</td>\n",
       "      <td>74.59</td>\n",
       "    </tr>\n",
       "    <tr>\n",
       "      <th>3</th>\n",
       "      <td>2013-08-14</td>\n",
       "      <td>74.24</td>\n",
       "      <td>74.90</td>\n",
       "      <td>74.01</td>\n",
       "      <td>54.557778</td>\n",
       "      <td>73.739288</td>\n",
       "      <td>73.335912</td>\n",
       "      <td>73.665227</td>\n",
       "      <td>74.500000</td>\n",
       "      <td>-1.96</td>\n",
       "      <td>0</td>\n",
       "      <td>72.51</td>\n",
       "    </tr>\n",
       "    <tr>\n",
       "      <th>4</th>\n",
       "      <td>2013-08-15</td>\n",
       "      <td>74.47</td>\n",
       "      <td>74.57</td>\n",
       "      <td>72.40</td>\n",
       "      <td>46.025916</td>\n",
       "      <td>73.622213</td>\n",
       "      <td>73.319558</td>\n",
       "      <td>73.649926</td>\n",
       "      <td>73.160000</td>\n",
       "      <td>-0.48</td>\n",
       "      <td>0</td>\n",
       "      <td>72.02</td>\n",
       "    </tr>\n",
       "    <tr>\n",
       "      <th>...</th>\n",
       "      <td>...</td>\n",
       "      <td>...</td>\n",
       "      <td>...</td>\n",
       "      <td>...</td>\n",
       "      <td>...</td>\n",
       "      <td>...</td>\n",
       "      <td>...</td>\n",
       "      <td>...</td>\n",
       "      <td>...</td>\n",
       "      <td>...</td>\n",
       "      <td>...</td>\n",
       "      <td>...</td>\n",
       "    </tr>\n",
       "    <tr>\n",
       "      <th>2566</th>\n",
       "      <td>2023-11-08</td>\n",
       "      <td>272.70</td>\n",
       "      <td>277.00</td>\n",
       "      <td>272.59</td>\n",
       "      <td>69.070077</td>\n",
       "      <td>268.976433</td>\n",
       "      <td>254.711033</td>\n",
       "      <td>243.581491</td>\n",
       "      <td>275.480000</td>\n",
       "      <td>-1.06</td>\n",
       "      <td>0</td>\n",
       "      <td>276.05</td>\n",
       "    </tr>\n",
       "    <tr>\n",
       "      <th>2567</th>\n",
       "      <td>2023-11-09</td>\n",
       "      <td>277.11</td>\n",
       "      <td>277.47</td>\n",
       "      <td>274.81</td>\n",
       "      <td>66.926851</td>\n",
       "      <td>269.650106</td>\n",
       "      <td>255.133587</td>\n",
       "      <td>244.011538</td>\n",
       "      <td>276.110000</td>\n",
       "      <td>3.11</td>\n",
       "      <td>1</td>\n",
       "      <td>279.30</td>\n",
       "    </tr>\n",
       "    <tr>\n",
       "      <th>2568</th>\n",
       "      <td>2023-11-10</td>\n",
       "      <td>276.19</td>\n",
       "      <td>279.90</td>\n",
       "      <td>275.85</td>\n",
       "      <td>70.862265</td>\n",
       "      <td>270.569143</td>\n",
       "      <td>255.612130</td>\n",
       "      <td>244.478935</td>\n",
       "      <td>278.350000</td>\n",
       "      <td>3.13</td>\n",
       "      <td>1</td>\n",
       "      <td>282.74</td>\n",
       "    </tr>\n",
       "    <tr>\n",
       "      <th>2569</th>\n",
       "      <td>2023-11-13</td>\n",
       "      <td>279.61</td>\n",
       "      <td>283.98</td>\n",
       "      <td>279.50</td>\n",
       "      <td>74.326717</td>\n",
       "      <td>271.728273</td>\n",
       "      <td>256.149315</td>\n",
       "      <td>244.985704</td>\n",
       "      <td>282.073333</td>\n",
       "      <td>-3.17</td>\n",
       "      <td>0</td>\n",
       "      <td>279.54</td>\n",
       "    </tr>\n",
       "    <tr>\n",
       "      <th>2570</th>\n",
       "      <td>2023-11-14</td>\n",
       "      <td>282.71</td>\n",
       "      <td>283.29</td>\n",
       "      <td>279.00</td>\n",
       "      <td>66.451892</td>\n",
       "      <td>272.472247</td>\n",
       "      <td>256.612497</td>\n",
       "      <td>245.443377</td>\n",
       "      <td>280.610000</td>\n",
       "      <td>2.20</td>\n",
       "      <td>1</td>\n",
       "      <td>281.49</td>\n",
       "    </tr>\n",
       "  </tbody>\n",
       "</table>\n",
       "<p>2571 rows × 12 columns</p>\n",
       "</div>"
      ],
      "text/plain": [
       "           DATE    OPEN    HIGH     LOW        RSI        EMAF        EMAM  \\\n",
       "0    2013-08-09   72.50   73.20   72.02  48.571120   73.644141   73.296521   \n",
       "1    2013-08-12   73.07   73.50   72.22  48.697331   73.597080   73.293619   \n",
       "2    2013-08-13   73.15   74.37   72.93  52.831464   73.649739   73.310577   \n",
       "3    2013-08-14   74.24   74.90   74.01  54.557778   73.739288   73.335912   \n",
       "4    2013-08-15   74.47   74.57   72.40  46.025916   73.622213   73.319558   \n",
       "...         ...     ...     ...     ...        ...         ...         ...   \n",
       "2566 2023-11-08  272.70  277.00  272.59  69.070077  268.976433  254.711033   \n",
       "2567 2023-11-09  277.11  277.47  274.81  66.926851  269.650106  255.133587   \n",
       "2568 2023-11-10  276.19  279.90  275.85  70.862265  270.569143  255.612130   \n",
       "2569 2023-11-13  279.61  283.98  279.50  74.326717  271.728273  256.149315   \n",
       "2570 2023-11-14  282.71  283.29  279.00  66.451892  272.472247  256.612497   \n",
       "\n",
       "            EMAS        VWAP  Target  TargetClass  TargetNextClose  \n",
       "0      73.652800   72.780000    0.08            1            73.15  \n",
       "1      73.646140   72.956667    1.00            1            74.15  \n",
       "2      73.652814   73.816667    0.35            1            74.59  \n",
       "3      73.665227   74.500000   -1.96            0            72.51  \n",
       "4      73.649926   73.160000   -0.48            0            72.02  \n",
       "...          ...         ...     ...          ...              ...  \n",
       "2566  243.581491  275.480000   -1.06            0           276.05  \n",
       "2567  244.011538  276.110000    3.11            1           279.30  \n",
       "2568  244.478935  278.350000    3.13            1           282.74  \n",
       "2569  244.985704  282.073333   -3.17            0           279.54  \n",
       "2570  245.443377  280.610000    2.20            1           281.49  \n",
       "\n",
       "[2571 rows x 12 columns]"
      ]
     },
     "execution_count": 9,
     "metadata": {},
     "output_type": "execute_result"
    }
   ],
   "source": [
    "data.dropna(inplace=True)\n",
    "data.reset_index(inplace=True)\n",
    "data.drop(['VOL', 'CLOSE', 'TICKER', 'PER', 'TIME' ], axis=1, inplace=True)\n",
    "data_set = data.iloc[:, 0:13]\n",
    "pd.set_option('display.max_columns', None)\n",
    "data_set"
   ]
  },
  {
   "cell_type": "code",
   "execution_count": 10,
   "id": "266f82da",
   "metadata": {},
   "outputs": [],
   "source": [
    "feature = data_set.iloc[:, 0:10]\n",
    "target = data_set.iloc[:, -1:]"
   ]
  },
  {
   "cell_type": "code",
   "execution_count": 11,
   "id": "d9c6ed45",
   "metadata": {},
   "outputs": [
    {
     "name": "stdout",
     "output_type": "stream",
     "text": [
      "train_X (2313, 10) train_y (2313, 1)\n",
      "val_X (129, 10) val_y (129, 1)\n",
      "test_X (129, 10) test_y (129, 1)\n"
     ]
    }
   ],
   "source": [
    "train_X, test_X, train_y, test_y = train_test_split(feature, target, shuffle=False, test_size=0.1, random_state = RANDOM_STATE)\n",
    "val_X, test_X, val_y, test_y = train_test_split(test_X,test_y, shuffle=False, test_size=0.5, random_state = RANDOM_STATE)\n",
    "\n",
    "print('train_X', train_X.shape, 'train_y', train_y.shape)\n",
    "print('val_X',val_X.shape, 'val_y',val_y.shape)\n",
    "print('test_X',test_X.shape, 'test_y',test_y.shape)"
   ]
  },
  {
   "cell_type": "code",
   "execution_count": 12,
   "id": "90f12d60",
   "metadata": {},
   "outputs": [],
   "source": [
    "sc = MinMaxScaler(feature_range=(-1, 1))\n",
    "train_feature_scaled = sc.fit_transform(train_X.iloc[:, 1:10])\n",
    "train_target_scaled = sc.fit_transform(train_y.iloc[:, -1:])\n",
    "val_feature_scaled = sc.fit_transform(val_X.iloc[:, 1:10])\n",
    "val_target_scaled = sc.fit_transform(val_y.iloc[:, -1:])\n",
    "test_feature_scaled = sc.fit_transform(test_X.iloc[:, 1:10])\n",
    "test_target_scaled = sc.fit_transform(test_y.iloc[:, -1:])"
   ]
  },
  {
   "cell_type": "code",
   "execution_count": 13,
   "id": "64ad6eb7",
   "metadata": {},
   "outputs": [],
   "source": [
    "train_time = train_X['DATE']\n",
    "val_time = val_X['DATE']\n",
    "test_time = test_X['DATE']"
   ]
  },
  {
   "cell_type": "code",
   "execution_count": 14,
   "id": "7c2cf7e8",
   "metadata": {},
   "outputs": [],
   "source": [
    "train_series = train_target_scaled.flatten().tolist()\n",
    "val_series = val_target_scaled.flatten().tolist()\n",
    "test_series = test_target_scaled.flatten().tolist()"
   ]
  },
  {
   "cell_type": "code",
   "execution_count": 15,
   "id": "8dbf0997",
   "metadata": {},
   "outputs": [
    {
     "data": {
      "image/png": "[encoded data removed]",
      "text/plain": [
       "<Figure size 720x288 with 1 Axes>"
      ]
     },
     "metadata": {},
     "output_type": "display_data"
    }
   ],
   "source": [
    "plt.figure(figsize=(10, 4))\n",
    "plt.plot(train_time, train_series)\n",
    "plt.xlabel('Days', fontsize=12)\n",
    "plt.ylabel('Price in RUB', fontsize=12)\n",
    "plt.title(f'{sym} Stock Train', fontsize=18)\n",
    "plt.show()"
   ]
  },
  {
   "cell_type": "code",
   "execution_count": 16,
   "id": "623c9c5c",
   "metadata": {},
   "outputs": [
    {
     "data": {
      "image/png": "[encoded data removed]",
      "text/plain": [
       "<Figure size 720x288 with 1 Axes>"
      ]
     },
     "metadata": {},
     "output_type": "display_data"
    }
   ],
   "source": [
    "plt.figure(figsize=(10, 4))\n",
    "plt.plot(val_time, val_series)\n",
    "plt.xlabel('Days', fontsize=12)\n",
    "plt.ylabel('Price in RUB', fontsize=12)\n",
    "plt.title(f'{sym} Stock Val', fontsize=18)\n",
    "plt.show()"
   ]
  },
  {
   "cell_type": "code",
   "execution_count": 17,
   "id": "56f7008a",
   "metadata": {},
   "outputs": [
    {
     "data": {
      "image/png": "[encoded data removed]",
      "text/plain": [
       "<Figure size 720x288 with 1 Axes>"
      ]
     },
     "metadata": {},
     "output_type": "display_data"
    }
   ],
   "source": [
    "plt.figure(figsize=(10, 4))\n",
    "plt.plot(test_time, test_series)\n",
    "plt.xlabel('Days', fontsize=12)\n",
    "plt.ylabel('Price in RUB', fontsize=12)\n",
    "plt.title(f'{sym} Stock Test', fontsize=18)\n",
    "plt.show()"
   ]
  },
  {
   "cell_type": "code",
   "execution_count": 18,
   "id": "43219ada",
   "metadata": {},
   "outputs": [],
   "source": [
    "class SeriesDataset(Dataset):\n",
    "                            def __init__(self, feature, target, window_size):\n",
    "                                    self.feature = feature\n",
    "                                    self.target = target                \n",
    "                                    self.window_size = window_size\n",
    "                                    \n",
    "                                    self.sequence = []\n",
    "                                    for j in range(self.feature.shape[1]):\n",
    "                                                    self.sequence.append([])\n",
    "                                            \n",
    "                                                    for i in range(self.feature.shape[0] - self.window_size):\n",
    "                                                            self.sequence[j].append(self.feature[i : i + self.window_size, j])\n",
    "                                  \n",
    "                                    self.sequence = np.array(np.moveaxis(self.sequence, [0], [2]))\n",
    "\n",
    "                                    self.y = np.array(self.target[self.window_size:])\n",
    "\n",
    "                        \n",
    "                            def __len__(self):\n",
    "                                                return len(self.feature) - self.window_size\n",
    "\n",
    "                            def __getitem__(self, idx):\n",
    "                                                sequence = self.sequence[idx]\n",
    "                                                label = self.y[idx]\n",
    "                                                \n",
    "                                                 \n",
    "                                                sequence = torch.tensor(sequence).float()\n",
    "                                                label = torch.tensor(label).float()\n",
    "                     \n",
    "#                                            \n",
    "                                                return sequence, label"
   ]
  },
  {
   "cell_type": "code",
   "execution_count": 19,
   "id": "776cc958",
   "metadata": {},
   "outputs": [],
   "source": [
    "train_dataset = SeriesDataset(train_feature_scaled, train_target_scaled, WINDOW_SIZE)\n",
    "train_dataloader = DataLoader(train_dataset, batch_size = BATCH_SIZE, shuffle=True)\n",
    "train_dataloader1 = DataLoader(train_dataset, batch_size = BATCH_SIZE)"
   ]
  },
  {
   "cell_type": "code",
   "execution_count": 20,
   "id": "6f6d5fbd",
   "metadata": {},
   "outputs": [],
   "source": [
    "val_dataset = SeriesDataset(val_feature_scaled, val_target_scaled, WINDOW_SIZE)\n",
    "val_dataloader = DataLoader(val_dataset, batch_size = BATCH_SIZE)"
   ]
  },
  {
   "cell_type": "code",
   "execution_count": 21,
   "id": "da9b7f11",
   "metadata": {},
   "outputs": [],
   "source": [
    "test_dataset = SeriesDataset(test_feature_scaled, test_target_scaled, WINDOW_SIZE)\n",
    "test_dataloader = DataLoader(test_dataset, batch_size = BATCH_SIZE)"
   ]
  },
  {
   "cell_type": "code",
   "execution_count": 22,
   "id": "9ae5a1e9",
   "metadata": {},
   "outputs": [
    {
     "data": {
      "text/plain": [
       "2283"
      ]
     },
     "execution_count": 22,
     "metadata": {},
     "output_type": "execute_result"
    }
   ],
   "source": [
    "train_dataset. __len__()"
   ]
  },
  {
   "cell_type": "code",
   "execution_count": 23,
   "id": "dd0dbf67",
   "metadata": {},
   "outputs": [
    {
     "data": {
      "text/plain": [
       "torch.Size([30, 9])"
      ]
     },
     "execution_count": 23,
     "metadata": {},
     "output_type": "execute_result"
    }
   ],
   "source": [
    "train_dataset.__getitem__(1)[0].size()"
   ]
  },
  {
   "cell_type": "code",
   "execution_count": 24,
   "id": "b48624e3",
   "metadata": {},
   "outputs": [
    {
     "data": {
      "text/plain": [
       "torch.Size([1])"
      ]
     },
     "execution_count": 24,
     "metadata": {},
     "output_type": "execute_result"
    }
   ],
   "source": [
    "train_dataset.__getitem__(1)[1].size()"
   ]
  },
  {
   "cell_type": "code",
   "execution_count": 25,
   "id": "75bac2ac",
   "metadata": {},
   "outputs": [
    {
     "data": {
      "text/plain": [
       "(tensor([[-0.5658, -0.5557, -0.5647, -0.4904, -0.4552, -0.3485, -0.1992, -0.5584,\n",
       "           0.4918],\n",
       "         [-0.5545, -0.5476, -0.5605, -0.5304, -0.4651, -0.3528, -0.2038, -0.5583,\n",
       "           0.4746],\n",
       "         [-0.5596, -0.5657, -0.5764, -0.5593, -0.4750, -0.3571, -0.2086, -0.5725,\n",
       "           0.5199],\n",
       "         [-0.5665, -0.5633, -0.5905, -0.5389, -0.4836, -0.3613, -0.2132, -0.5754,\n",
       "           0.6322],\n",
       "         [-0.5658, -0.5528, -0.5570, -0.3613, -0.4889, -0.3649, -0.2174, -0.5527,\n",
       "           0.4313],\n",
       "         [-0.5387, -0.5498, -0.5479, -0.4248, -0.4953, -0.3687, -0.2218, -0.5539,\n",
       "           0.4604],\n",
       "         [-0.5589, -0.5708, -0.5701, -0.4801, -0.5025, -0.3728, -0.2263, -0.5730,\n",
       "           0.5410],\n",
       "         [-0.5731, -0.5746, -0.5618, -0.4576, -0.5087, -0.3767, -0.2308, -0.5705,\n",
       "           0.3543],\n",
       "         [-0.5711, -0.5826, -0.6002, -0.5971, -0.5183, -0.3815, -0.2358, -0.5985,\n",
       "           0.7371],\n",
       "         [-0.6281, -0.5935, -0.6260, -0.4197, -0.5244, -0.3856, -0.2403, -0.6024,\n",
       "           0.5416],\n",
       "         [-0.5834, -0.5891, -0.5881, -0.3976, -0.5296, -0.3895, -0.2448, -0.5875,\n",
       "           0.4891],\n",
       "         [-0.5772, -0.5876, -0.5748, -0.4188, -0.5348, -0.3935, -0.2492, -0.5843,\n",
       "           0.5291],\n",
       "         [-0.5847, -0.5934, -0.5770, -0.4108, -0.5395, -0.3974, -0.2536, -0.5866,\n",
       "           0.5442],\n",
       "         [-0.5838, -0.5868, -0.5776, -0.3766, -0.5432, -0.4011, -0.2579, -0.5832,\n",
       "           0.6545],\n",
       "         [-0.5784, -0.5609, -0.5654, -0.1580, -0.5436, -0.4040, -0.2616, -0.5608,\n",
       "           0.4627],\n",
       "         [-0.5495, -0.5564, -0.5508, -0.2240, -0.5452, -0.4072, -0.2654, -0.5585,\n",
       "           0.5668],\n",
       "         [-0.5655, -0.5645, -0.5582, -0.1790, -0.5460, -0.4101, -0.2691, -0.5616,\n",
       "           0.6130],\n",
       "         [-0.5559, -0.5465, -0.5430, -0.0429, -0.5447, -0.4126, -0.2725, -0.5440,\n",
       "           0.6248],\n",
       "         [-0.5382, -0.5285, -0.5355,  0.0842, -0.5415, -0.4145, -0.2754, -0.5287,\n",
       "           0.4989],\n",
       "         [-0.5136, -0.5186, -0.5131,  0.0687, -0.5388, -0.4164, -0.2784, -0.5187,\n",
       "           0.6755],\n",
       "         [-0.5205, -0.4926, -0.5086,  0.2438, -0.5331, -0.4175, -0.2808, -0.4982,\n",
       "           0.5208],\n",
       "         [-0.4865, -0.4866, -0.4873,  0.2501, -0.5279, -0.4186, -0.2831, -0.4888,\n",
       "           0.5825],\n",
       "         [-0.4872, -0.4803, -0.4766,  0.3162, -0.5219, -0.4194, -0.2852, -0.4790,\n",
       "           0.5679],\n",
       "         [-0.4778, -0.4778, -0.4679,  0.3494, -0.5158, -0.4200, -0.2872, -0.4732,\n",
       "           0.5021],\n",
       "         [-0.4689, -0.4753, -0.4637,  0.3031, -0.5108, -0.4207, -0.2892, -0.4727,\n",
       "           0.5247],\n",
       "         [-0.4716, -0.4792, -0.4598,  0.3156, -0.5060, -0.4214, -0.2912, -0.4720,\n",
       "           0.4781],\n",
       "         [-0.4705, -0.4794, -0.4708,  0.2316, -0.5027, -0.4222, -0.2933, -0.4787,\n",
       "           0.5193],\n",
       "         [-0.4807, -0.4871, -0.4759,  0.2182, -0.4998, -0.4231, -0.2954, -0.4834,\n",
       "           0.6752],\n",
       "         [-0.4752, -0.4526, -0.4602,  0.4461, -0.4931, -0.4230, -0.2968, -0.4537,\n",
       "           0.5113],\n",
       "         [-0.4435, -0.4491, -0.4409,  0.4161, -0.4875, -0.4230, -0.2983, -0.4472,\n",
       "           0.4361]]),\n",
       " tensor([-0.4175]))"
      ]
     },
     "execution_count": 25,
     "metadata": {},
     "output_type": "execute_result"
    }
   ],
   "source": [
    "train_dataset.__getitem__(2282)"
   ]
  },
  {
   "cell_type": "code",
   "execution_count": 26,
   "id": "d7c7083a",
   "metadata": {},
   "outputs": [],
   "source": [
    "class My_Model_GRU(nn.Module):\n",
    "    def __init__(self, input_size, hidden_size, num_layers, output_size, dropout_p = 0.1):\n",
    "        super(My_Model_GRU, self).__init__()\n",
    "        self.input_size = input_size\n",
    "        self.hidden_size = hidden_size\n",
    "        self.output_size = output_size\n",
    "        self.num_layers = num_layers\n",
    "        self.relu = nn.ReLU()\n",
    "        self.do = nn.Dropout(dropout_p)\n",
    "        self.gru = nn.GRU(input_size=input_size, hidden_size=hidden_size,\n",
    "                                                        num_layers=num_layers, batch_first=True, bidirectional=True)\n",
    "        self.linear1 = nn.Linear(hidden_size * 2, hidden_size )\n",
    "        self.linear2 = nn.Linear(hidden_size , output_size)\n",
    "        \n",
    "    def forward(self, x):\n",
    "            \n",
    "        output, _ = self.gru(x)\n",
    "        output = self.linear1(self.do(output))\n",
    "        output = self.relu(output)\n",
    "        output = self.linear2(output)\n",
    "\n",
    "        \n",
    "        return output[:, -1, :]"
   ]
  },
  {
   "cell_type": "code",
   "execution_count": 27,
   "id": "94125781",
   "metadata": {},
   "outputs": [],
   "source": [
    "model_my = My_Model_GRU(input_size, HIDDEN_SIZE, NUM_L, output_size)\n",
    "criterion = nn.MSELoss()\n",
    "optimizer = optim.Adam(model_my.parameters(), lr=0.01)\n",
    "scheduler = optim.lr_scheduler.StepLR(optimizer, step_size=5, gamma=0.1)"
   ]
  },
  {
   "cell_type": "code",
   "execution_count": 28,
   "id": "7a6eb963",
   "metadata": {},
   "outputs": [
    {
     "name": "stdout",
     "output_type": "stream",
     "text": [
      "torch.Size([128, 30, 9])\n",
      "torch.Size([128, 1])\n",
      "torch.Size([128, 1])\n"
     ]
    }
   ],
   "source": [
    "X,y = next(iter(train_dataloader))\n",
    "output = model_my(X)\n",
    "print(X.size())\n",
    "print(y.size())\n",
    "print(output.size())\n",
    "# print(output.unsqueeze(0).size())\n",
    "# loss = criterion(output, y)"
   ]
  },
  {
   "cell_type": "code",
   "execution_count": 29,
   "id": "a07f31a6",
   "metadata": {},
   "outputs": [],
   "source": [
    "class Optimization:\n",
    "    \"\"\" A helper class to train, test and diagnose the GRU\"\"\"\n",
    "\n",
    "    def __init__(self, model, loss_fn, optimizer, scheduler):\n",
    "        self.model = model\n",
    "        self.loss_fn = loss_fn\n",
    "        self.optimizer = optimizer\n",
    "        self.scheduler = scheduler\n",
    "        self.train_losses = []\n",
    "        self.val_losses = []\n",
    "\n",
    "    def train(\n",
    "        self,\n",
    "        dataloader_train,\n",
    "        n_epochs,\n",
    "        dataloader_val = None,\n",
    "    \n",
    "    ):\n",
    "        for epoch in range(n_epochs):\n",
    "            start_time = time.time()\n",
    "            train_loss = 0\n",
    "            loop = tqdm(dataloader_train, desc='Train', colour='green')\n",
    "            for b, batch in enumerate(loop):\n",
    "                x_batch, y_batch = batch[0], batch[1]\n",
    "                y_pred = self.model(x_batch)\n",
    "                self.optimizer.zero_grad()\n",
    "                loss = self.loss_fn(y_pred, y_batch)\n",
    "                loss.backward()\n",
    "                self.optimizer.step()\n",
    "                train_loss += loss.item()\n",
    "            self.scheduler.step()\n",
    "            train_loss /= (b+1)\n",
    "            self.train_losses.append(train_loss)\n",
    "\n",
    "            self._validation(dataloader_val)\n",
    "\n",
    "            elapsed = time.time() - start_time\n",
    "            print(\n",
    "                \"Epoch %d Train loss: %.2f. Validation loss: %.2f. Elapsed time: %.2fs.\"\n",
    "                % (epoch + 1, train_loss, self.val_losses[-1], elapsed)\n",
    "            )\n",
    "            \n",
    "            torch.save(self.model.state_dict(), f'./chkpt_mymodel_{epoch+1}.pth')\n",
    "    \n",
    "    def _validation(self, dataloader_val):\n",
    "        if dataloader_val is None:\n",
    "            return\n",
    "        with torch.no_grad():\n",
    "            val_loss = 0\n",
    "            loop = tqdm(dataloader_val, desc='Val', colour='green')\n",
    "            for b, batch in enumerate(loop):\n",
    "                x_batch, y_batch = batch[0], batch[1]\n",
    "                y_pred = self.model(x_batch)\n",
    "                loss = self.loss_fn(y_pred, y_batch)\n",
    "                val_loss += loss.item()\n",
    "            val_loss /= b+1\n",
    "            self.val_losses.append(val_loss)\n",
    "\n",
    "    def evaluate(self, dataloader_test):\n",
    "        with torch.no_grad():\n",
    "            test_loss = 0\n",
    "            actual, predicted = [], []\n",
    "            loop = tqdm(dataloader_test, desc='Test', colour='green')\n",
    "            for b, batch in enumerate(loop):\n",
    "                x_batch, y_batch = batch[0], batch[1]\n",
    "                y_pred = self.model(x_batch)\n",
    "                loss = self.loss_fn(y_pred, y_batch)\n",
    "                            \n",
    "                actual += torch.squeeze(y_batch[:, -1]).data.cpu().numpy().tolist()\n",
    "                predicted += torch.squeeze(y_pred[:, -1]).data.cpu().numpy().tolist()\n",
    "\n",
    "                \n",
    "#                 actual.append(torch.squeeze(y_batch[:, -1]).data.cpu().numpy().tolist())\n",
    "#                 predicted.append(torch.squeeze(y_pred[:, -1]).data.cpu().numpy().tolist())\n",
    "                \n",
    "                \n",
    "            \n",
    "            test_loss /= (b+1)\n",
    "            return actual, predicted, test_loss\n",
    "\n",
    "    def plot_losses(self):\n",
    "        plt.plot(self.train_losses, label=\"Training loss\")\n",
    "        plt.plot(self.val_losses, label=\"Validation loss\")\n",
    "        plt.legend()\n",
    "        plt.title(\"Losses\")"
   ]
  },
  {
   "cell_type": "code",
   "execution_count": 30,
   "id": "551655e8",
   "metadata": {},
   "outputs": [],
   "source": [
    "optimization_1 = Optimization(model_my, criterion, optimizer, scheduler)"
   ]
  },
  {
   "cell_type": "code",
   "execution_count": 31,
   "id": "fe64dedc",
   "metadata": {},
   "outputs": [
    {
     "name": "stderr",
     "output_type": "stream",
     "text": [
      "Train: 100%|\u001b[32m███████████████████████████████████████████████████████████████████████████\u001b[0m| 18/18 [00:38<00:00,  2.14s/it]\u001b[0m\n",
      "Val: 100%|\u001b[32m███████████████████████████████████████████████████████████████████████████████\u001b[0m| 1/1 [00:00<00:00,  1.34it/s]\u001b[0m\n"
     ]
    },
    {
     "name": "stdout",
     "output_type": "stream",
     "text": [
      "Epoch 1 Train loss: 1.17. Validation loss: 0.26. Elapsed time: 39.19s.\n"
     ]
    },
    {
     "name": "stderr",
     "output_type": "stream",
     "text": [
      "Train: 100%|\u001b[32m███████████████████████████████████████████████████████████████████████████\u001b[0m| 18/18 [00:36<00:00,  2.03s/it]\u001b[0m\n",
      "Val: 100%|\u001b[32m███████████████████████████████████████████████████████████████████████████████\u001b[0m| 1/1 [00:00<00:00,  1.51it/s]\u001b[0m\n"
     ]
    },
    {
     "name": "stdout",
     "output_type": "stream",
     "text": [
      "Epoch 2 Train loss: 0.03. Validation loss: 0.07. Elapsed time: 37.20s.\n"
     ]
    },
    {
     "name": "stderr",
     "output_type": "stream",
     "text": [
      "Train: 100%|\u001b[32m███████████████████████████████████████████████████████████████████████████\u001b[0m| 18/18 [00:35<00:00,  1.97s/it]\u001b[0m\n",
      "Val: 100%|\u001b[32m███████████████████████████████████████████████████████████████████████████████\u001b[0m| 1/1 [00:00<00:00,  1.57it/s]\u001b[0m\n"
     ]
    },
    {
     "name": "stdout",
     "output_type": "stream",
     "text": [
      "Epoch 3 Train loss: 0.01. Validation loss: 0.04. Elapsed time: 36.04s.\n"
     ]
    },
    {
     "name": "stderr",
     "output_type": "stream",
     "text": [
      "Train: 100%|\u001b[32m███████████████████████████████████████████████████████████████████████████\u001b[0m| 18/18 [00:35<00:00,  1.97s/it]\u001b[0m\n",
      "Val: 100%|\u001b[32m███████████████████████████████████████████████████████████████████████████████\u001b[0m| 1/1 [00:00<00:00,  1.57it/s]\u001b[0m\n"
     ]
    },
    {
     "name": "stdout",
     "output_type": "stream",
     "text": [
      "Epoch 4 Train loss: 0.00. Validation loss: 0.03. Elapsed time: 36.11s.\n"
     ]
    },
    {
     "name": "stderr",
     "output_type": "stream",
     "text": [
      "Train: 100%|\u001b[32m███████████████████████████████████████████████████████████████████████████\u001b[0m| 18/18 [00:35<00:00,  1.98s/it]\u001b[0m\n",
      "Val: 100%|\u001b[32m███████████████████████████████████████████████████████████████████████████████\u001b[0m| 1/1 [00:00<00:00,  1.53it/s]\u001b[0m\n"
     ]
    },
    {
     "name": "stdout",
     "output_type": "stream",
     "text": [
      "Epoch 5 Train loss: 0.00. Validation loss: 0.02. Elapsed time: 36.22s.\n"
     ]
    },
    {
     "name": "stderr",
     "output_type": "stream",
     "text": [
      "Train: 100%|\u001b[32m███████████████████████████████████████████████████████████████████████████\u001b[0m| 18/18 [00:35<00:00,  1.97s/it]\u001b[0m\n",
      "Val: 100%|\u001b[32m███████████████████████████████████████████████████████████████████████████████\u001b[0m| 1/1 [00:00<00:00,  1.62it/s]\u001b[0m\n"
     ]
    },
    {
     "name": "stdout",
     "output_type": "stream",
     "text": [
      "Epoch 6 Train loss: 0.00. Validation loss: 0.03. Elapsed time: 36.05s.\n"
     ]
    },
    {
     "name": "stderr",
     "output_type": "stream",
     "text": [
      "Train: 100%|\u001b[32m███████████████████████████████████████████████████████████████████████████\u001b[0m| 18/18 [00:35<00:00,  1.98s/it]\u001b[0m\n",
      "Val: 100%|\u001b[32m███████████████████████████████████████████████████████████████████████████████\u001b[0m| 1/1 [00:00<00:00,  1.56it/s]\u001b[0m\n"
     ]
    },
    {
     "name": "stdout",
     "output_type": "stream",
     "text": [
      "Epoch 7 Train loss: 0.00. Validation loss: 0.03. Elapsed time: 36.27s.\n"
     ]
    },
    {
     "name": "stderr",
     "output_type": "stream",
     "text": [
      "Train: 100%|\u001b[32m███████████████████████████████████████████████████████████████████████████\u001b[0m| 18/18 [00:35<00:00,  1.99s/it]\u001b[0m\n",
      "Val: 100%|\u001b[32m███████████████████████████████████████████████████████████████████████████████\u001b[0m| 1/1 [00:00<00:00,  1.63it/s]\u001b[0m\n"
     ]
    },
    {
     "name": "stdout",
     "output_type": "stream",
     "text": [
      "Epoch 8 Train loss: 0.00. Validation loss: 0.03. Elapsed time: 36.40s.\n"
     ]
    },
    {
     "name": "stderr",
     "output_type": "stream",
     "text": [
      "Train: 100%|\u001b[32m███████████████████████████████████████████████████████████████████████████\u001b[0m| 18/18 [00:36<00:00,  2.05s/it]\u001b[0m\n",
      "Val: 100%|\u001b[32m███████████████████████████████████████████████████████████████████████████████\u001b[0m| 1/1 [00:00<00:00,  1.44it/s]\u001b[0m\n"
     ]
    },
    {
     "name": "stdout",
     "output_type": "stream",
     "text": [
      "Epoch 9 Train loss: 0.00. Validation loss: 0.03. Elapsed time: 37.54s.\n"
     ]
    },
    {
     "name": "stderr",
     "output_type": "stream",
     "text": [
      "Train: 100%|\u001b[32m███████████████████████████████████████████████████████████████████████████\u001b[0m| 18/18 [00:35<00:00,  1.98s/it]\u001b[0m\n",
      "Val: 100%|\u001b[32m███████████████████████████████████████████████████████████████████████████████\u001b[0m| 1/1 [00:00<00:00,  1.58it/s]\u001b[0m"
     ]
    },
    {
     "name": "stdout",
     "output_type": "stream",
     "text": [
      "Epoch 10 Train loss: 0.00. Validation loss: 0.03. Elapsed time: 36.35s.\n"
     ]
    },
    {
     "name": "stderr",
     "output_type": "stream",
     "text": [
      "\n"
     ]
    }
   ],
   "source": [
    "optimization_1.train(train_dataloader, n_epochs = EPOCHS, dataloader_val = val_dataloader)"
   ]
  },
  {
   "cell_type": "code",
   "execution_count": 32,
   "id": "8c0e2bd6",
   "metadata": {},
   "outputs": [
    {
     "data": {
      "image/png": "[encoded data removed]",
      "text/plain": [
       "<Figure size 432x288 with 1 Axes>"
      ]
     },
     "metadata": {},
     "output_type": "display_data"
    }
   ],
   "source": [
    "optimization_1.plot_losses()"
   ]
  },
  {
   "cell_type": "code",
   "execution_count": 33,
   "id": "f192bf88",
   "metadata": {},
   "outputs": [],
   "source": [
    "def to_dataframe(actual, predicted):\n",
    "    return pd.DataFrame({\"actual\": actual, \"predicted\": predicted})\n",
    "\n",
    "\n",
    "def inverse_transform(scalar, df, columns):\n",
    "    for col in columns:\n",
    "        df[col] = scalar.inverse_transform(np.array(df[col]).reshape(-1,1))\n",
    "    return df"
   ]
  },
  {
   "cell_type": "code",
   "execution_count": 34,
   "id": "f40f3fea",
   "metadata": {},
   "outputs": [
    {
     "name": "stderr",
     "output_type": "stream",
     "text": [
      "Test: 100%|\u001b[32m████████████████████████████████████████████████████████████████████████████\u001b[0m| 18/18 [00:14<00:00,  1.27it/s]\u001b[0m\n"
     ]
    },
    {
     "name": "stdout",
     "output_type": "stream",
     "text": [
      "Train loss 0.0000\n"
     ]
    },
    {
     "data": {
      "image/png": "[encoded data removed]",
      "text/plain": [
       "<Figure size 1008x504 with 1 Axes>"
      ]
     },
     "metadata": {},
     "output_type": "display_data"
    }
   ],
   "source": [
    "actual_3, predicted_3, train_loss_3 = optimization_1.evaluate(train_dataloader1)\n",
    "df_result_3 = to_dataframe(actual_3, predicted_3) \n",
    "# df_result_3\n",
    "\n",
    "df_result_3 = inverse_transform(sc, df_result_3, ['actual', 'predicted'])\n",
    "\n",
    "df_result_3 = df_result_3.set_index(train_time[WINDOW_SIZE:])\n",
    "\n",
    "df_result_3.plot(figsize=(14, 7))\n",
    "print(\"Train loss %.4f\" % train_loss_3)"
   ]
  },
  {
   "cell_type": "code",
   "execution_count": 35,
   "id": "9408192a",
   "metadata": {},
   "outputs": [
    {
     "data": {
      "text/plain": [
       "My_Model_GRU(\n",
       "  (relu): ReLU()\n",
       "  (do): Dropout(p=0.1, inplace=False)\n",
       "  (gru): GRU(9, 256, num_layers=2, batch_first=True, bidirectional=True)\n",
       "  (linear1): Linear(in_features=512, out_features=256, bias=True)\n",
       "  (linear2): Linear(in_features=256, out_features=1, bias=True)\n",
       ")"
      ]
     },
     "execution_count": 35,
     "metadata": {},
     "output_type": "execute_result"
    }
   ],
   "source": [
    "optimization_1.model"
   ]
  },
  {
   "cell_type": "code",
   "execution_count": 36,
   "id": "805e0e57",
   "metadata": {},
   "outputs": [
    {
     "name": "stderr",
     "output_type": "stream",
     "text": [
      "Test: 100%|\u001b[32m██████████████████████████████████████████████████████████████████████████████\u001b[0m| 1/1 [00:00<00:00,  1.58it/s]\u001b[0m\n"
     ]
    },
    {
     "name": "stdout",
     "output_type": "stream",
     "text": [
      "Val loss 0.0000\n"
     ]
    },
    {
     "data": {
      "image/png": "[encoded data removed]",
      "text/plain": [
       "<Figure size 1008x504 with 1 Axes>"
      ]
     },
     "metadata": {},
     "output_type": "display_data"
    }
   ],
   "source": [
    "actual_2, predicted_2, val_loss_2 = optimization_1.evaluate(val_dataloader)\n",
    "df_result_2 = to_dataframe(actual_2, predicted_2) \n",
    "# df_result_1\n",
    "\n",
    "# df_result_2 = inverse_transform(sc, df_result_2, ['actual', 'predicted'])\n",
    "\n",
    "df_result_2 = df_result_2.set_index(val_time[WINDOW_SIZE:])\n",
    "df_result_2.plot(figsize=(14, 7))\n",
    "print(\"Val loss %.4f\" % val_loss_2)"
   ]
  },
  {
   "cell_type": "code",
   "execution_count": 37,
   "id": "c050ada3",
   "metadata": {},
   "outputs": [
    {
     "name": "stderr",
     "output_type": "stream",
     "text": [
      "Test: 100%|\u001b[32m██████████████████████████████████████████████████████████████████████████████\u001b[0m| 1/1 [00:00<00:00,  1.54it/s]\u001b[0m\n"
     ]
    },
    {
     "name": "stdout",
     "output_type": "stream",
     "text": [
      "Test loss 0.0000\n"
     ]
    },
    {
     "data": {
      "image/png": "[encoded data removed]",
      "text/plain": [
       "<Figure size 1008x504 with 1 Axes>"
      ]
     },
     "metadata": {},
     "output_type": "display_data"
    }
   ],
   "source": [
    "actual_1, predicted_1, test_loss_1 = optimization_1.evaluate(test_dataloader)\n",
    "df_result_11 = to_dataframe(actual_1, predicted_1) \n",
    "# df_result_1\n",
    "\n",
    "# df_result_11 = inverse_transform(sc, df_result_11, ['actual', 'predicted'])\n",
    "\n",
    "df_result_1 = df_result_11.set_index(test_time[WINDOW_SIZE:])\n",
    "df_result_1.plot(figsize=(14, 7))\n",
    "print(\"Test loss %.4f\" % test_loss_1)"
   ]
  },
  {
   "cell_type": "code",
   "execution_count": 38,
   "id": "db8b6fbe",
   "metadata": {},
   "outputs": [
    {
     "data": {
      "text/plain": [
       "My_Model_GRU(\n",
       "  (relu): ReLU()\n",
       "  (do): Dropout(p=0.1, inplace=False)\n",
       "  (gru): GRU(9, 256, num_layers=2, batch_first=True, bidirectional=True)\n",
       "  (linear1): Linear(in_features=512, out_features=256, bias=True)\n",
       "  (linear2): Linear(in_features=256, out_features=1, bias=True)\n",
       ")"
      ]
     },
     "execution_count": 38,
     "metadata": {},
     "output_type": "execute_result"
    }
   ],
   "source": [
    "optimization_1.model.eval()"
   ]
  },
  {
   "cell_type": "code",
   "execution_count": 39,
   "id": "1892d426",
   "metadata": {},
   "outputs": [
    {
     "data": {
      "text/plain": [
       "(30, 9)"
      ]
     },
     "execution_count": 39,
     "metadata": {},
     "output_type": "execute_result"
    }
   ],
   "source": [
    "price = test_X.iloc[-WINDOW_SIZE:]\n",
    "price = price.iloc[:, 1:10]\n",
    "price = sc.fit_transform(price)\n",
    "price.shape"
   ]
  },
  {
   "cell_type": "code",
   "execution_count": 40,
   "id": "ef978c69",
   "metadata": {},
   "outputs": [
    {
     "data": {
      "text/plain": [
       "torch.Size([30, 9])"
      ]
     },
     "execution_count": 40,
     "metadata": {},
     "output_type": "execute_result"
    }
   ],
   "source": [
    "price = torch.tensor(price).float()\n",
    "price.shape"
   ]
  },
  {
   "cell_type": "code",
   "execution_count": 41,
   "id": "ec5f1543",
   "metadata": {},
   "outputs": [
    {
     "data": {
      "text/plain": [
       "torch.Size([1, 30, 9])"
      ]
     },
     "execution_count": 41,
     "metadata": {},
     "output_type": "execute_result"
    }
   ],
   "source": [
    "price = price.unsqueeze(0)\n",
    "price.shape"
   ]
  },
  {
   "cell_type": "code",
   "execution_count": 48,
   "id": "c10a9993",
   "metadata": {},
   "outputs": [
    {
     "data": {
      "text/plain": [
       "array([[270.805     , 272.075     , 268.65      ,  63.29471382,\n",
       "        265.03291755, 251.22835275, 239.6381168 , 270.595     ,\n",
       "          3.76133051]])"
      ]
     },
     "execution_count": 48,
     "metadata": {},
     "output_type": "execute_result"
    }
   ],
   "source": [
    "with torch.no_grad():\n",
    "    prediction = optimization_1.model(price).item()\n",
    "\n",
    "arr = np.zeros(8)\n",
    "f = np.concatenate((arr, np.array([prediction])), axis=0)\n",
    "t = f.reshape(1, -1)\n",
    "predictions = sc.inverse_transform(t)\n",
    "predictions"
   ]
  },
  {
   "cell_type": "code",
   "execution_count": null,
   "id": "dae4141b",
   "metadata": {},
   "outputs": [],
   "source": []
  }
 ],
 "metadata": {
  "kernelspec": {
   "display_name": "Python 3 (ipykernel)",
   "language": "python",
   "name": "python3"
  },
  "language_info": {
   "codemirror_mode": {
    "name": "ipython",
    "version": 3
   },
   "file_extension": ".py",
   "mimetype": "text/x-python",
   "name": "python",
   "nbconvert_exporter": "python",
   "pygments_lexer": "ipython3",
   "version": "3.9.12"
  }
 },
 "nbformat": 4,
 "nbformat_minor": 5
}
