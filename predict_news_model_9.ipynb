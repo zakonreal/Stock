{
 "cells": [
  {
   "cell_type": "markdown",
   "id": "7ff8a069",
   "metadata": {},
   "source": [
    "# Подготовка датасета news"
   ]
  },
  {
   "cell_type": "code",
   "execution_count": 250,
   "id": "cc03b46d",
   "metadata": {},
   "outputs": [
    {
     "name": "stderr",
     "output_type": "stream",
     "text": [
      "[nltk_data] Downloading package stopwords to\n",
      "[nltk_data]     C:\\Users\\150ho\\AppData\\Roaming\\nltk_data...\n",
      "[nltk_data]   Package stopwords is already up-to-date!\n",
      "[nltk_data] Downloading package wordnet to\n",
      "[nltk_data]     C:\\Users\\150ho\\AppData\\Roaming\\nltk_data...\n",
      "[nltk_data]   Package wordnet is already up-to-date!\n",
      "[nltk_data] Downloading package omw-1.4 to\n",
      "[nltk_data]     C:\\Users\\150ho\\AppData\\Roaming\\nltk_data...\n",
      "[nltk_data]   Package omw-1.4 is already up-to-date!\n"
     ]
    }
   ],
   "source": [
    "import numpy as np\n",
    "import pandas as pd\n",
    "\n",
    "import matplotlib.pyplot as plt\n",
    "import seaborn as sns\n",
    "\n",
    "import os\n",
    "from tqdm.auto import tqdm\n",
    "import pickle\n",
    "\n",
    "import scipy as sp\n",
    "import string\n",
    "\n",
    "import warnings\n",
    "warnings.filterwarnings(\"ignore\")\n",
    "%matplotlib inline\n",
    "\n",
    "import nltk\n",
    "import scikitplot as skplt\n",
    "\n",
    "import re, string\n",
    "\n",
    "from nltk.corpus import stopwords\n",
    "nltk.download('stopwords')\n",
    "nltk.download('wordnet')\n",
    "nltk.download('omw-1.4')\n",
    "STOPWORDS = set(stopwords.words('russian'))\n",
    "#list of special characters.You can use regular expressions too\n",
    "# importing the PorterStemmer\n",
    "from nltk.stem import PorterStemmer\n",
    "from nltk.tokenize import sent_tokenize,word_tokenize\n",
    "import nltk\n",
    "from nltk.stem import WordNetLemmatizer\n",
    "from nltk.tokenize import word_tokenize\n",
    "#importing the CountVectorizer\n",
    "from sklearn.feature_extraction.text import CountVectorizer\n",
    "from nltk.tokenize import WordPunctTokenizer\n",
    "from nltk.stem import SnowballStemmer\n",
    "\n",
    "from pymorphy2 import MorphAnalyzer\n",
    "\n",
    "from sklearn import metrics\n",
    "from sklearn.pipeline import Pipeline\n",
    "from sklearn.model_selection import train_test_split\n",
    "from sklearn.metrics import classification_report,confusion_matrix, accuracy_score, f1_score\n",
    "from sklearn.feature_extraction.text import CountVectorizer, TfidfVectorizer, TfidfTransformer\n",
    "from sklearn.ensemble import AdaBoostClassifier\n",
    "from sklearn.linear_model import LogisticRegression\n",
    "from sklearn.svm import SVC, LinearSVC\n",
    "\n",
    "import gensim\n",
    "from gensim.models import Word2Vec\n",
    "\n",
    "import fasttext\n",
    "from fasttext import train_supervised"
   ]
  },
  {
   "cell_type": "code",
   "execution_count": 251,
   "id": "d524fd2f",
   "metadata": {},
   "outputs": [],
   "source": [
    "import datetime\n",
    "import pathlib\n",
    "import glob\n",
    "\n",
    "import random\n",
    "from collections import Counter\n",
    "\n",
    "import torch\n",
    "import torch.nn as nn\n",
    "from torch.nn.utils.rnn import pad_sequence\n",
    "from torch.utils.data import DataLoader\n",
    "import torch.nn.functional as F\n",
    "import torch.optim as optim\n",
    "from torch.utils.data import DataLoader, Dataset, Subset, TensorDataset, RandomSampler, SequentialSampler\n",
    "\n",
    "from transformers import BertTokenizer\n",
    "from transformers import BertForSequenceClassification"
   ]
  },
  {
   "cell_type": "code",
   "execution_count": 252,
   "id": "71baf0f6",
   "metadata": {},
   "outputs": [],
   "source": [
    "plt.style.use('ggplot')"
   ]
  },
  {
   "cell_type": "code",
   "execution_count": 253,
   "id": "68153edd",
   "metadata": {},
   "outputs": [],
   "source": [
    "# !pip install fastText"
   ]
  },
  {
   "cell_type": "code",
   "execution_count": 254,
   "id": "aec0eff0",
   "metadata": {},
   "outputs": [],
   "source": [
    "sym1 = 'SBERP'\n",
    "sym2 = 'SBER'"
   ]
  },
  {
   "cell_type": "code",
   "execution_count": 255,
   "id": "338266f7",
   "metadata": {},
   "outputs": [
    {
     "data": {
      "text/html": [
       "<div>\n",
       "<style scoped>\n",
       "    .dataframe tbody tr th:only-of-type {\n",
       "        vertical-align: middle;\n",
       "    }\n",
       "\n",
       "    .dataframe tbody tr th {\n",
       "        vertical-align: top;\n",
       "    }\n",
       "\n",
       "    .dataframe thead th {\n",
       "        text-align: right;\n",
       "    }\n",
       "</style>\n",
       "<table border=\"1\" class=\"dataframe\">\n",
       "  <thead>\n",
       "    <tr style=\"text-align: right;\">\n",
       "      <th></th>\n",
       "      <th>time</th>\n",
       "      <th>text</th>\n",
       "    </tr>\n",
       "  </thead>\n",
       "  <tbody>\n",
       "    <tr>\n",
       "      <th>0</th>\n",
       "      <td>2011-01-11</td>\n",
       "      <td>Первый зампред  Банка России Алексей Улюкаев.«...</td>\n",
       "    </tr>\n",
       "    <tr>\n",
       "      <th>1</th>\n",
       "      <td>2011-01-25</td>\n",
       "      <td>Сбербанк опубликовал финансовые результаты по ...</td>\n",
       "    </tr>\n",
       "    <tr>\n",
       "      <th>2</th>\n",
       "      <td>2011-02-14</td>\n",
       "      <td>Сбербанк совместно с Центральным банком (ЦБ) Р...</td>\n",
       "    </tr>\n",
       "    <tr>\n",
       "      <th>3</th>\n",
       "      <td>2011-02-25</td>\n",
       "      <td>Два дня назад (22 февраля) я затарился Сбером ...</td>\n",
       "    </tr>\n",
       "    <tr>\n",
       "      <th>4</th>\n",
       "      <td>2011-03-22</td>\n",
       "      <td>Чистая прибыль — рекордные 182 млрд рублейЭто ...</td>\n",
       "    </tr>\n",
       "    <tr>\n",
       "      <th>...</th>\n",
       "      <td>...</td>\n",
       "      <td>...</td>\n",
       "    </tr>\n",
       "    <tr>\n",
       "      <th>4149</th>\n",
       "      <td>2023-12-06</td>\n",
       "      <td>Основные положения дивидендной политики Сбера ...</td>\n",
       "    </tr>\n",
       "    <tr>\n",
       "      <th>4150</th>\n",
       "      <td>2023-12-06</td>\n",
       "      <td>Греф заявил, что 2023 г. будет самым успешным ...</td>\n",
       "    </tr>\n",
       "    <tr>\n",
       "      <th>4151</th>\n",
       "      <td>2023-12-06</td>\n",
       "      <td>Нет планов уходить из Сбера, но Набсовет часто...</td>\n",
       "    </tr>\n",
       "    <tr>\n",
       "      <th>4152</th>\n",
       "      <td>2023-12-06</td>\n",
       "      <td>Греф про выкуп акций у нерезидентов: всё возмо...</td>\n",
       "    </tr>\n",
       "    <tr>\n",
       "      <th>4153</th>\n",
       "      <td>2023-12-06</td>\n",
       "      <td>«В кабмине обсуждается возможность продления л...</td>\n",
       "    </tr>\n",
       "  </tbody>\n",
       "</table>\n",
       "<p>4154 rows × 2 columns</p>\n",
       "</div>"
      ],
      "text/plain": [
       "           time                                               text\n",
       "0    2011-01-11  Первый зампред  Банка России Алексей Улюкаев.«...\n",
       "1    2011-01-25  Сбербанк опубликовал финансовые результаты по ...\n",
       "2    2011-02-14  Сбербанк совместно с Центральным банком (ЦБ) Р...\n",
       "3    2011-02-25  Два дня назад (22 февраля) я затарился Сбером ...\n",
       "4    2011-03-22  Чистая прибыль — рекордные 182 млрд рублейЭто ...\n",
       "...         ...                                                ...\n",
       "4149 2023-12-06  Основные положения дивидендной политики Сбера ...\n",
       "4150 2023-12-06  Греф заявил, что 2023 г. будет самым успешным ...\n",
       "4151 2023-12-06  Нет планов уходить из Сбера, но Набсовет часто...\n",
       "4152 2023-12-06  Греф про выкуп акций у нерезидентов: всё возмо...\n",
       "4153 2023-12-06  «В кабмине обсуждается возможность продления л...\n",
       "\n",
       "[4154 rows x 2 columns]"
      ]
     },
     "execution_count": 255,
     "metadata": {},
     "output_type": "execute_result"
    }
   ],
   "source": [
    "df_news = pd.read_csv(f'smartlab_{sym2}_new.csv')\n",
    "df_news['time'] = df_news['time'].map(lambda x: x[:10])\n",
    "df_news['time'] = pd.to_datetime(df_news['time'], format='%Y-%m-%d')\n",
    "df_news = df_news[['time', 'text']]\n",
    "df_news"
   ]
  },
  {
   "cell_type": "code",
   "execution_count": 256,
   "id": "22b93813",
   "metadata": {},
   "outputs": [
    {
     "data": {
      "text/html": [
       "<div>\n",
       "<style scoped>\n",
       "    .dataframe tbody tr th:only-of-type {\n",
       "        vertical-align: middle;\n",
       "    }\n",
       "\n",
       "    .dataframe tbody tr th {\n",
       "        vertical-align: top;\n",
       "    }\n",
       "\n",
       "    .dataframe thead th {\n",
       "        text-align: right;\n",
       "    }\n",
       "</style>\n",
       "<table border=\"1\" class=\"dataframe\">\n",
       "  <thead>\n",
       "    <tr style=\"text-align: right;\">\n",
       "      <th></th>\n",
       "      <th>text</th>\n",
       "    </tr>\n",
       "    <tr>\n",
       "      <th>time</th>\n",
       "      <th></th>\n",
       "    </tr>\n",
       "  </thead>\n",
       "  <tbody>\n",
       "    <tr>\n",
       "      <th>2016-01-13</th>\n",
       "      <td>Сегодня у нас проходит т.н. гайдаровский форум...</td>\n",
       "    </tr>\n",
       "    <tr>\n",
       "      <th>2016-01-15</th>\n",
       "      <td>Сбер представил отчет по РСБУ. Вклады населени...</td>\n",
       "    </tr>\n",
       "    <tr>\n",
       "      <th>2016-01-18</th>\n",
       "      <td>Мы будем предлагатьсказал Улюкаев.  Чтобы прив...</td>\n",
       "    </tr>\n",
       "    <tr>\n",
       "      <th>2016-01-20</th>\n",
       "      <td>Здравствуйте, сегодня наткнулся на ткую новост...</td>\n",
       "    </tr>\n",
       "    <tr>\n",
       "      <th>2016-01-21</th>\n",
       "      <td>Коммерсант сегодня написал, что Керимов хочет ...</td>\n",
       "    </tr>\n",
       "    <tr>\n",
       "      <th>...</th>\n",
       "      <td>...</td>\n",
       "    </tr>\n",
       "    <tr>\n",
       "      <th>2023-12-01</th>\n",
       "      <td>Совкомбанк занимает 8 место по активам среди р...</td>\n",
       "    </tr>\n",
       "    <tr>\n",
       "      <th>2023-12-02</th>\n",
       "      <td>Правительство принимает «некоторые меры» для п...</td>\n",
       "    </tr>\n",
       "    <tr>\n",
       "      <th>2023-12-04</th>\n",
       "      <td>Российские банки выдадут ипотечных кредитов по...</td>\n",
       "    </tr>\n",
       "    <tr>\n",
       "      <th>2023-12-05</th>\n",
       "      <td>В России могут повысить первоначальный взнос п...</td>\n",
       "    </tr>\n",
       "    <tr>\n",
       "      <th>2023-12-06</th>\n",
       "      <td>«Объем выдач потребительских кредитов в четвер...</td>\n",
       "    </tr>\n",
       "  </tbody>\n",
       "</table>\n",
       "<p>1468 rows × 1 columns</p>\n",
       "</div>"
      ],
      "text/plain": [
       "                                                         text\n",
       "time                                                         \n",
       "2016-01-13  Сегодня у нас проходит т.н. гайдаровский форум...\n",
       "2016-01-15  Сбер представил отчет по РСБУ. Вклады населени...\n",
       "2016-01-18  Мы будем предлагатьсказал Улюкаев.  Чтобы прив...\n",
       "2016-01-20  Здравствуйте, сегодня наткнулся на ткую новост...\n",
       "2016-01-21  Коммерсант сегодня написал, что Керимов хочет ...\n",
       "...                                                       ...\n",
       "2023-12-01  Совкомбанк занимает 8 место по активам среди р...\n",
       "2023-12-02  Правительство принимает «некоторые меры» для п...\n",
       "2023-12-04  Российские банки выдадут ипотечных кредитов по...\n",
       "2023-12-05  В России могут повысить первоначальный взнос п...\n",
       "2023-12-06  «Объем выдач потребительских кредитов в четвер...\n",
       "\n",
       "[1468 rows x 1 columns]"
      ]
     },
     "execution_count": 256,
     "metadata": {},
     "output_type": "execute_result"
    }
   ],
   "source": [
    "df_news1 = df_news['text'].groupby(df_news['time']).apply(list).reset_index()\n",
    "df_news1['text'] = df_news1['text'].apply(lambda x: x[0])\n",
    "df_news1.set_index('time', inplace=True)\n",
    "df_news1 = df_news1[df_news1.index > \"2016-01-01\"]\n",
    "df_news1"
   ]
  },
  {
   "cell_type": "code",
   "execution_count": 257,
   "id": "0f27b2c8",
   "metadata": {},
   "outputs": [
    {
     "data": {
      "text/html": [
       "<div>\n",
       "<style scoped>\n",
       "    .dataframe tbody tr th:only-of-type {\n",
       "        vertical-align: middle;\n",
       "    }\n",
       "\n",
       "    .dataframe tbody tr th {\n",
       "        vertical-align: top;\n",
       "    }\n",
       "\n",
       "    .dataframe thead th {\n",
       "        text-align: right;\n",
       "    }\n",
       "</style>\n",
       "<table border=\"1\" class=\"dataframe\">\n",
       "  <thead>\n",
       "    <tr style=\"text-align: right;\">\n",
       "      <th></th>\n",
       "      <th>CLOSE</th>\n",
       "    </tr>\n",
       "    <tr>\n",
       "      <th>DATE</th>\n",
       "      <th></th>\n",
       "    </tr>\n",
       "  </thead>\n",
       "  <tbody>\n",
       "    <tr>\n",
       "      <th>2016-01-04</th>\n",
       "      <td>73.88</td>\n",
       "    </tr>\n",
       "    <tr>\n",
       "      <th>2016-01-05</th>\n",
       "      <td>74.23</td>\n",
       "    </tr>\n",
       "    <tr>\n",
       "      <th>2016-01-06</th>\n",
       "      <td>72.62</td>\n",
       "    </tr>\n",
       "    <tr>\n",
       "      <th>2016-01-11</th>\n",
       "      <td>69.11</td>\n",
       "    </tr>\n",
       "    <tr>\n",
       "      <th>2016-01-12</th>\n",
       "      <td>69.32</td>\n",
       "    </tr>\n",
       "    <tr>\n",
       "      <th>...</th>\n",
       "      <td>...</td>\n",
       "    </tr>\n",
       "    <tr>\n",
       "      <th>2023-11-30</th>\n",
       "      <td>276.95</td>\n",
       "    </tr>\n",
       "    <tr>\n",
       "      <th>2023-12-01</th>\n",
       "      <td>273.85</td>\n",
       "    </tr>\n",
       "    <tr>\n",
       "      <th>2023-12-04</th>\n",
       "      <td>270.30</td>\n",
       "    </tr>\n",
       "    <tr>\n",
       "      <th>2023-12-05</th>\n",
       "      <td>279.15</td>\n",
       "    </tr>\n",
       "    <tr>\n",
       "      <th>2023-12-06</th>\n",
       "      <td>267.62</td>\n",
       "    </tr>\n",
       "  </tbody>\n",
       "</table>\n",
       "<p>1986 rows × 1 columns</p>\n",
       "</div>"
      ],
      "text/plain": [
       "             CLOSE\n",
       "DATE              \n",
       "2016-01-04   73.88\n",
       "2016-01-05   74.23\n",
       "2016-01-06   72.62\n",
       "2016-01-11   69.11\n",
       "2016-01-12   69.32\n",
       "...            ...\n",
       "2023-11-30  276.95\n",
       "2023-12-01  273.85\n",
       "2023-12-04  270.30\n",
       "2023-12-05  279.15\n",
       "2023-12-06  267.62\n",
       "\n",
       "[1986 rows x 1 columns]"
      ]
     },
     "execution_count": 257,
     "metadata": {},
     "output_type": "execute_result"
    }
   ],
   "source": [
    "df_stock = pd.read_csv(f'{sym1}_day.csv', index_col=0, parse_dates=True)\n",
    "df_stock = df_stock[['CLOSE']]\n",
    "df_stock = df_stock[df_stock.index > \"2016-01-01\"]\n",
    "df_stock"
   ]
  },
  {
   "cell_type": "code",
   "execution_count": 258,
   "id": "f4dd970b",
   "metadata": {},
   "outputs": [
    {
     "data": {
      "text/html": [
       "<div>\n",
       "<style scoped>\n",
       "    .dataframe tbody tr th:only-of-type {\n",
       "        vertical-align: middle;\n",
       "    }\n",
       "\n",
       "    .dataframe tbody tr th {\n",
       "        vertical-align: top;\n",
       "    }\n",
       "\n",
       "    .dataframe thead th {\n",
       "        text-align: right;\n",
       "    }\n",
       "</style>\n",
       "<table border=\"1\" class=\"dataframe\">\n",
       "  <thead>\n",
       "    <tr style=\"text-align: right;\">\n",
       "      <th></th>\n",
       "      <th>CLOSE</th>\n",
       "      <th>text</th>\n",
       "    </tr>\n",
       "  </thead>\n",
       "  <tbody>\n",
       "    <tr>\n",
       "      <th>2016-01-04</th>\n",
       "      <td>73.88</td>\n",
       "      <td>NaN</td>\n",
       "    </tr>\n",
       "    <tr>\n",
       "      <th>2016-01-05</th>\n",
       "      <td>74.23</td>\n",
       "      <td>NaN</td>\n",
       "    </tr>\n",
       "    <tr>\n",
       "      <th>2016-01-06</th>\n",
       "      <td>72.62</td>\n",
       "      <td>NaN</td>\n",
       "    </tr>\n",
       "    <tr>\n",
       "      <th>2016-01-11</th>\n",
       "      <td>69.11</td>\n",
       "      <td>NaN</td>\n",
       "    </tr>\n",
       "    <tr>\n",
       "      <th>2016-01-12</th>\n",
       "      <td>69.32</td>\n",
       "      <td>NaN</td>\n",
       "    </tr>\n",
       "    <tr>\n",
       "      <th>...</th>\n",
       "      <td>...</td>\n",
       "      <td>...</td>\n",
       "    </tr>\n",
       "    <tr>\n",
       "      <th>2023-12-01</th>\n",
       "      <td>273.85</td>\n",
       "      <td>Совкомбанк занимает 8 место по активам среди р...</td>\n",
       "    </tr>\n",
       "    <tr>\n",
       "      <th>2023-12-02</th>\n",
       "      <td>NaN</td>\n",
       "      <td>Правительство принимает «некоторые меры» для п...</td>\n",
       "    </tr>\n",
       "    <tr>\n",
       "      <th>2023-12-04</th>\n",
       "      <td>270.30</td>\n",
       "      <td>Российские банки выдадут ипотечных кредитов по...</td>\n",
       "    </tr>\n",
       "    <tr>\n",
       "      <th>2023-12-05</th>\n",
       "      <td>279.15</td>\n",
       "      <td>В России могут повысить первоначальный взнос п...</td>\n",
       "    </tr>\n",
       "    <tr>\n",
       "      <th>2023-12-06</th>\n",
       "      <td>267.62</td>\n",
       "      <td>«Объем выдач потребительских кредитов в четвер...</td>\n",
       "    </tr>\n",
       "  </tbody>\n",
       "</table>\n",
       "<p>2043 rows × 2 columns</p>\n",
       "</div>"
      ],
      "text/plain": [
       "             CLOSE                                               text\n",
       "2016-01-04   73.88                                                NaN\n",
       "2016-01-05   74.23                                                NaN\n",
       "2016-01-06   72.62                                                NaN\n",
       "2016-01-11   69.11                                                NaN\n",
       "2016-01-12   69.32                                                NaN\n",
       "...            ...                                                ...\n",
       "2023-12-01  273.85  Совкомбанк занимает 8 место по активам среди р...\n",
       "2023-12-02     NaN  Правительство принимает «некоторые меры» для п...\n",
       "2023-12-04  270.30  Российские банки выдадут ипотечных кредитов по...\n",
       "2023-12-05  279.15  В России могут повысить первоначальный взнос п...\n",
       "2023-12-06  267.62  «Объем выдач потребительских кредитов в четвер...\n",
       "\n",
       "[2043 rows x 2 columns]"
      ]
     },
     "execution_count": 258,
     "metadata": {},
     "output_type": "execute_result"
    }
   ],
   "source": [
    "df = pd.concat([df_stock, df_news1], axis=1)\n",
    "df"
   ]
  },
  {
   "cell_type": "code",
   "execution_count": 259,
   "id": "f23af450",
   "metadata": {},
   "outputs": [
    {
     "data": {
      "text/plain": [
       "CLOSE     57\n",
       "text     576\n",
       "dtype: int64"
      ]
     },
     "execution_count": 259,
     "metadata": {},
     "output_type": "execute_result"
    }
   ],
   "source": [
    "df.isna().sum()"
   ]
  },
  {
   "cell_type": "code",
   "execution_count": 260,
   "id": "005c9526",
   "metadata": {},
   "outputs": [],
   "source": [
    "df['CLOSE'].fillna(method='ffill', inplace=True)"
   ]
  },
  {
   "cell_type": "code",
   "execution_count": 261,
   "id": "d4b9890c",
   "metadata": {},
   "outputs": [
    {
     "data": {
      "text/html": [
       "<div>\n",
       "<style scoped>\n",
       "    .dataframe tbody tr th:only-of-type {\n",
       "        vertical-align: middle;\n",
       "    }\n",
       "\n",
       "    .dataframe tbody tr th {\n",
       "        vertical-align: top;\n",
       "    }\n",
       "\n",
       "    .dataframe thead th {\n",
       "        text-align: right;\n",
       "    }\n",
       "</style>\n",
       "<table border=\"1\" class=\"dataframe\">\n",
       "  <thead>\n",
       "    <tr style=\"text-align: right;\">\n",
       "      <th></th>\n",
       "      <th>CLOSE</th>\n",
       "      <th>text</th>\n",
       "      <th>Target</th>\n",
       "      <th>TargetClass</th>\n",
       "    </tr>\n",
       "  </thead>\n",
       "  <tbody>\n",
       "    <tr>\n",
       "      <th>2016-01-04</th>\n",
       "      <td>73.88</td>\n",
       "      <td>NaN</td>\n",
       "      <td>NaN</td>\n",
       "      <td>0</td>\n",
       "    </tr>\n",
       "    <tr>\n",
       "      <th>2016-01-05</th>\n",
       "      <td>74.23</td>\n",
       "      <td>NaN</td>\n",
       "      <td>0.35</td>\n",
       "      <td>1</td>\n",
       "    </tr>\n",
       "    <tr>\n",
       "      <th>2016-01-06</th>\n",
       "      <td>72.62</td>\n",
       "      <td>NaN</td>\n",
       "      <td>-1.61</td>\n",
       "      <td>0</td>\n",
       "    </tr>\n",
       "    <tr>\n",
       "      <th>2016-01-11</th>\n",
       "      <td>69.11</td>\n",
       "      <td>NaN</td>\n",
       "      <td>-3.51</td>\n",
       "      <td>0</td>\n",
       "    </tr>\n",
       "    <tr>\n",
       "      <th>2016-01-12</th>\n",
       "      <td>69.32</td>\n",
       "      <td>NaN</td>\n",
       "      <td>0.21</td>\n",
       "      <td>1</td>\n",
       "    </tr>\n",
       "    <tr>\n",
       "      <th>...</th>\n",
       "      <td>...</td>\n",
       "      <td>...</td>\n",
       "      <td>...</td>\n",
       "      <td>...</td>\n",
       "    </tr>\n",
       "    <tr>\n",
       "      <th>2023-12-01</th>\n",
       "      <td>273.85</td>\n",
       "      <td>Совкомбанк занимает 8 место по активам среди р...</td>\n",
       "      <td>-3.10</td>\n",
       "      <td>0</td>\n",
       "    </tr>\n",
       "    <tr>\n",
       "      <th>2023-12-02</th>\n",
       "      <td>273.85</td>\n",
       "      <td>Правительство принимает «некоторые меры» для п...</td>\n",
       "      <td>0.00</td>\n",
       "      <td>0</td>\n",
       "    </tr>\n",
       "    <tr>\n",
       "      <th>2023-12-04</th>\n",
       "      <td>270.30</td>\n",
       "      <td>Российские банки выдадут ипотечных кредитов по...</td>\n",
       "      <td>-3.55</td>\n",
       "      <td>0</td>\n",
       "    </tr>\n",
       "    <tr>\n",
       "      <th>2023-12-05</th>\n",
       "      <td>279.15</td>\n",
       "      <td>В России могут повысить первоначальный взнос п...</td>\n",
       "      <td>8.85</td>\n",
       "      <td>1</td>\n",
       "    </tr>\n",
       "    <tr>\n",
       "      <th>2023-12-06</th>\n",
       "      <td>267.62</td>\n",
       "      <td>«Объем выдач потребительских кредитов в четвер...</td>\n",
       "      <td>-11.53</td>\n",
       "      <td>0</td>\n",
       "    </tr>\n",
       "  </tbody>\n",
       "</table>\n",
       "<p>2043 rows × 4 columns</p>\n",
       "</div>"
      ],
      "text/plain": [
       "             CLOSE                                               text  Target  \\\n",
       "2016-01-04   73.88                                                NaN     NaN   \n",
       "2016-01-05   74.23                                                NaN    0.35   \n",
       "2016-01-06   72.62                                                NaN   -1.61   \n",
       "2016-01-11   69.11                                                NaN   -3.51   \n",
       "2016-01-12   69.32                                                NaN    0.21   \n",
       "...            ...                                                ...     ...   \n",
       "2023-12-01  273.85  Совкомбанк занимает 8 место по активам среди р...   -3.10   \n",
       "2023-12-02  273.85  Правительство принимает «некоторые меры» для п...    0.00   \n",
       "2023-12-04  270.30  Российские банки выдадут ипотечных кредитов по...   -3.55   \n",
       "2023-12-05  279.15  В России могут повысить первоначальный взнос п...    8.85   \n",
       "2023-12-06  267.62  «Объем выдач потребительских кредитов в четвер...  -11.53   \n",
       "\n",
       "            TargetClass  \n",
       "2016-01-04            0  \n",
       "2016-01-05            1  \n",
       "2016-01-06            0  \n",
       "2016-01-11            0  \n",
       "2016-01-12            1  \n",
       "...                 ...  \n",
       "2023-12-01            0  \n",
       "2023-12-02            0  \n",
       "2023-12-04            0  \n",
       "2023-12-05            1  \n",
       "2023-12-06            0  \n",
       "\n",
       "[2043 rows x 4 columns]"
      ]
     },
     "execution_count": 261,
     "metadata": {},
     "output_type": "execute_result"
    }
   ],
   "source": [
    "df['Target'] = df['CLOSE'] - df['CLOSE'].shift()\n",
    "df['TargetClass'] = [1 if df.Target[i] > 0 else 0 for i in range(len(df))]\n",
    "df"
   ]
  },
  {
   "cell_type": "code",
   "execution_count": 262,
   "id": "3d3019bc",
   "metadata": {},
   "outputs": [
    {
     "name": "stdout",
     "output_type": "stream",
     "text": [
      "<class 'pandas.core.frame.DataFrame'>\n",
      "DatetimeIndex: 2043 entries, 2016-01-04 to 2023-12-06\n",
      "Data columns (total 4 columns):\n",
      " #   Column       Non-Null Count  Dtype  \n",
      "---  ------       --------------  -----  \n",
      " 0   CLOSE        2043 non-null   float64\n",
      " 1   text         1467 non-null   object \n",
      " 2   Target       2042 non-null   float64\n",
      " 3   TargetClass  2043 non-null   int64  \n",
      "dtypes: float64(2), int64(1), object(1)\n",
      "memory usage: 79.8+ KB\n"
     ]
    }
   ],
   "source": [
    "df.info()"
   ]
  },
  {
   "cell_type": "code",
   "execution_count": 263,
   "id": "5148123b",
   "metadata": {},
   "outputs": [
    {
     "data": {
      "text/html": [
       "<div>\n",
       "<style scoped>\n",
       "    .dataframe tbody tr th:only-of-type {\n",
       "        vertical-align: middle;\n",
       "    }\n",
       "\n",
       "    .dataframe tbody tr th {\n",
       "        vertical-align: top;\n",
       "    }\n",
       "\n",
       "    .dataframe thead th {\n",
       "        text-align: right;\n",
       "    }\n",
       "</style>\n",
       "<table border=\"1\" class=\"dataframe\">\n",
       "  <thead>\n",
       "    <tr style=\"text-align: right;\">\n",
       "      <th></th>\n",
       "      <th>text</th>\n",
       "      <th>TargetClass</th>\n",
       "    </tr>\n",
       "  </thead>\n",
       "  <tbody>\n",
       "    <tr>\n",
       "      <th>0</th>\n",
       "      <td>Сегодня у нас проходит т.н. гайдаровский форум...</td>\n",
       "      <td>1</td>\n",
       "    </tr>\n",
       "    <tr>\n",
       "      <th>1</th>\n",
       "      <td>Сбер представил отчет по РСБУ. Вклады населени...</td>\n",
       "      <td>0</td>\n",
       "    </tr>\n",
       "    <tr>\n",
       "      <th>2</th>\n",
       "      <td>Мы будем предлагатьсказал Улюкаев.  Чтобы прив...</td>\n",
       "      <td>0</td>\n",
       "    </tr>\n",
       "    <tr>\n",
       "      <th>3</th>\n",
       "      <td>Здравствуйте, сегодня наткнулся на ткую новост...</td>\n",
       "      <td>0</td>\n",
       "    </tr>\n",
       "    <tr>\n",
       "      <th>4</th>\n",
       "      <td>Коммерсант сегодня написал, что Керимов хочет ...</td>\n",
       "      <td>1</td>\n",
       "    </tr>\n",
       "    <tr>\n",
       "      <th>...</th>\n",
       "      <td>...</td>\n",
       "      <td>...</td>\n",
       "    </tr>\n",
       "    <tr>\n",
       "      <th>1462</th>\n",
       "      <td>Совкомбанк занимает 8 место по активам среди р...</td>\n",
       "      <td>0</td>\n",
       "    </tr>\n",
       "    <tr>\n",
       "      <th>1463</th>\n",
       "      <td>Правительство принимает «некоторые меры» для п...</td>\n",
       "      <td>0</td>\n",
       "    </tr>\n",
       "    <tr>\n",
       "      <th>1464</th>\n",
       "      <td>Российские банки выдадут ипотечных кредитов по...</td>\n",
       "      <td>0</td>\n",
       "    </tr>\n",
       "    <tr>\n",
       "      <th>1465</th>\n",
       "      <td>В России могут повысить первоначальный взнос п...</td>\n",
       "      <td>1</td>\n",
       "    </tr>\n",
       "    <tr>\n",
       "      <th>1466</th>\n",
       "      <td>«Объем выдач потребительских кредитов в четвер...</td>\n",
       "      <td>0</td>\n",
       "    </tr>\n",
       "  </tbody>\n",
       "</table>\n",
       "<p>1467 rows × 2 columns</p>\n",
       "</div>"
      ],
      "text/plain": [
       "                                                   text  TargetClass\n",
       "0     Сегодня у нас проходит т.н. гайдаровский форум...            1\n",
       "1     Сбер представил отчет по РСБУ. Вклады населени...            0\n",
       "2     Мы будем предлагатьсказал Улюкаев.  Чтобы прив...            0\n",
       "3     Здравствуйте, сегодня наткнулся на ткую новост...            0\n",
       "4     Коммерсант сегодня написал, что Керимов хочет ...            1\n",
       "...                                                 ...          ...\n",
       "1462  Совкомбанк занимает 8 место по активам среди р...            0\n",
       "1463  Правительство принимает «некоторые меры» для п...            0\n",
       "1464  Российские банки выдадут ипотечных кредитов по...            0\n",
       "1465  В России могут повысить первоначальный взнос п...            1\n",
       "1466  «Объем выдач потребительских кредитов в четвер...            0\n",
       "\n",
       "[1467 rows x 2 columns]"
      ]
     },
     "execution_count": 263,
     "metadata": {},
     "output_type": "execute_result"
    }
   ],
   "source": [
    "df = df.dropna()\n",
    "df = df[['text', 'TargetClass']].reset_index(drop = True)\n",
    "df"
   ]
  },
  {
   "cell_type": "code",
   "execution_count": 264,
   "id": "2c9248b2",
   "metadata": {},
   "outputs": [
    {
     "name": "stdout",
     "output_type": "stream",
     "text": [
      "<class 'pandas.core.frame.DataFrame'>\n",
      "RangeIndex: 1467 entries, 0 to 1466\n",
      "Data columns (total 2 columns):\n",
      " #   Column       Non-Null Count  Dtype \n",
      "---  ------       --------------  ----- \n",
      " 0   text         1467 non-null   object\n",
      " 1   TargetClass  1467 non-null   int64 \n",
      "dtypes: int64(1), object(1)\n",
      "memory usage: 23.0+ KB\n"
     ]
    }
   ],
   "source": [
    "df.info()"
   ]
  },
  {
   "cell_type": "code",
   "execution_count": 265,
   "id": "fc130a1c",
   "metadata": {},
   "outputs": [],
   "source": [
    "df.to_csv(f'{sym1}_dataset_news.csv', index = False)"
   ]
  },
  {
   "cell_type": "code",
   "execution_count": 266,
   "id": "91f35f0a",
   "metadata": {},
   "outputs": [],
   "source": [
    "# pd.read_csv(f'{sym1}_dataset_news.csv')"
   ]
  },
  {
   "cell_type": "code",
   "execution_count": 267,
   "id": "006d326f",
   "metadata": {},
   "outputs": [
    {
     "data": {
      "text/plain": [
       "1    744\n",
       "0    723\n",
       "Name: TargetClass, dtype: int64"
      ]
     },
     "execution_count": 267,
     "metadata": {},
     "output_type": "execute_result"
    }
   ],
   "source": [
    "df['TargetClass'].value_counts()"
   ]
  },
  {
   "cell_type": "markdown",
   "id": "9b18c76e",
   "metadata": {},
   "source": [
    "# Предпроцессинг"
   ]
  },
  {
   "cell_type": "code",
   "execution_count": 18,
   "id": "b1a97e54",
   "metadata": {},
   "outputs": [],
   "source": [
    "ps = SnowballStemmer(language=\"russian\")\n",
    "lemmatizer = MorphAnalyzer()"
   ]
  },
  {
   "cell_type": "code",
   "execution_count": 110,
   "id": "5276aec0",
   "metadata": {},
   "outputs": [
    {
     "data": {
      "text/html": [
       "<div>\n",
       "<style scoped>\n",
       "    .dataframe tbody tr th:only-of-type {\n",
       "        vertical-align: middle;\n",
       "    }\n",
       "\n",
       "    .dataframe tbody tr th {\n",
       "        vertical-align: top;\n",
       "    }\n",
       "\n",
       "    .dataframe thead th {\n",
       "        text-align: right;\n",
       "    }\n",
       "</style>\n",
       "<table border=\"1\" class=\"dataframe\">\n",
       "  <thead>\n",
       "    <tr style=\"text-align: right;\">\n",
       "      <th></th>\n",
       "      <th>Message</th>\n",
       "      <th>Class</th>\n",
       "    </tr>\n",
       "  </thead>\n",
       "  <tbody>\n",
       "    <tr>\n",
       "      <th>2016-01-13</th>\n",
       "      <td>Сегодня у нас проходит т.н. гайдаровский форум...</td>\n",
       "      <td>1</td>\n",
       "    </tr>\n",
       "    <tr>\n",
       "      <th>2016-01-15</th>\n",
       "      <td>Сбер представил отчет по РСБУ. Вклады населени...</td>\n",
       "      <td>0</td>\n",
       "    </tr>\n",
       "    <tr>\n",
       "      <th>2016-01-18</th>\n",
       "      <td>Мы будем предлагатьсказал Улюкаев.  Чтобы прив...</td>\n",
       "      <td>0</td>\n",
       "    </tr>\n",
       "    <tr>\n",
       "      <th>2016-01-20</th>\n",
       "      <td>Здравствуйте, сегодня наткнулся на ткую новост...</td>\n",
       "      <td>0</td>\n",
       "    </tr>\n",
       "    <tr>\n",
       "      <th>2016-01-21</th>\n",
       "      <td>Коммерсант сегодня написал, что Керимов хочет ...</td>\n",
       "      <td>1</td>\n",
       "    </tr>\n",
       "    <tr>\n",
       "      <th>...</th>\n",
       "      <td>...</td>\n",
       "      <td>...</td>\n",
       "    </tr>\n",
       "    <tr>\n",
       "      <th>2023-11-24</th>\n",
       "      <td>Как узнал “Ъ”, крупные банки исчерпали лимиты ...</td>\n",
       "      <td>1</td>\n",
       "    </tr>\n",
       "    <tr>\n",
       "      <th>2023-11-27</th>\n",
       "      <td>Динамика рынка POS-кредитования (point of sale...</td>\n",
       "      <td>0</td>\n",
       "    </tr>\n",
       "    <tr>\n",
       "      <th>2023-11-28</th>\n",
       "      <td>«Банки вернулись в хорошую форму, пора думать ...</td>\n",
       "      <td>0</td>\n",
       "    </tr>\n",
       "    <tr>\n",
       "      <th>2023-11-29</th>\n",
       "      <td>Сбербанк отмечает улучшение ситуации с реструк...</td>\n",
       "      <td>0</td>\n",
       "    </tr>\n",
       "    <tr>\n",
       "      <th>2023-11-30</th>\n",
       "      <td>Правительство России распространило действие п...</td>\n",
       "      <td>1</td>\n",
       "    </tr>\n",
       "  </tbody>\n",
       "</table>\n",
       "<p>1462 rows × 2 columns</p>\n",
       "</div>"
      ],
      "text/plain": [
       "                                                      Message  Class\n",
       "2016-01-13  Сегодня у нас проходит т.н. гайдаровский форум...      1\n",
       "2016-01-15  Сбер представил отчет по РСБУ. Вклады населени...      0\n",
       "2016-01-18  Мы будем предлагатьсказал Улюкаев.  Чтобы прив...      0\n",
       "2016-01-20  Здравствуйте, сегодня наткнулся на ткую новост...      0\n",
       "2016-01-21  Коммерсант сегодня написал, что Керимов хочет ...      1\n",
       "...                                                       ...    ...\n",
       "2023-11-24  Как узнал “Ъ”, крупные банки исчерпали лимиты ...      1\n",
       "2023-11-27  Динамика рынка POS-кредитования (point of sale...      0\n",
       "2023-11-28  «Банки вернулись в хорошую форму, пора думать ...      0\n",
       "2023-11-29  Сбербанк отмечает улучшение ситуации с реструк...      0\n",
       "2023-11-30  Правительство России распространило действие п...      1\n",
       "\n",
       "[1462 rows x 2 columns]"
      ]
     },
     "execution_count": 110,
     "metadata": {},
     "output_type": "execute_result"
    }
   ],
   "source": [
    "data = df.rename({'TargetClass':'Class','text':'Message'},axis=1)\n",
    "data"
   ]
  },
  {
   "cell_type": "code",
   "execution_count": 112,
   "id": "a592df1e",
   "metadata": {},
   "outputs": [],
   "source": [
    "def clean_text(text):\n",
    "    text = re.sub(r'http\\S+', '', text)\n",
    "    text = text.lower()\n",
    "    text = re.sub(r'[^\\w\\s]+|[\\d]+', r'',text).strip()\n",
    "    regex = re.compile('[%s]' % re.escape(string.punctuation))\n",
    "    text = regex.sub(' ', text)\n",
    "#     text = re.sub(r'[^0-9a-zA-Z]', ' ', text)\n",
    "    text = re.sub(r'\\s+', ' ', text)\n",
    "    text = \" \".join(word for word in text.split() if word not in STOPWORDS)\n",
    "    text = \" \".join(ps.stem(lemmatizer.normal_forms(word)[0]) for word in text.split())\n",
    "    return text\n",
    "  \n",
    "data['clean_text'] = data['Message'].apply(clean_text)\n",
    "data.head()"
   ]
  },
  {
   "cell_type": "code",
   "execution_count": 17,
   "id": "d84f76e2",
   "metadata": {},
   "outputs": [
    {
     "data": {
      "text/html": [
       "<div>\n",
       "<style scoped>\n",
       "    .dataframe tbody tr th:only-of-type {\n",
       "        vertical-align: middle;\n",
       "    }\n",
       "\n",
       "    .dataframe tbody tr th {\n",
       "        vertical-align: top;\n",
       "    }\n",
       "\n",
       "    .dataframe thead th {\n",
       "        text-align: right;\n",
       "    }\n",
       "</style>\n",
       "<table border=\"1\" class=\"dataframe\">\n",
       "  <thead>\n",
       "    <tr style=\"text-align: right;\">\n",
       "      <th></th>\n",
       "      <th>Message</th>\n",
       "      <th>Class</th>\n",
       "      <th>clean_text</th>\n",
       "      <th>Message_text_process</th>\n",
       "    </tr>\n",
       "  </thead>\n",
       "  <tbody>\n",
       "    <tr>\n",
       "      <th>2016-01-13</th>\n",
       "      <td>Сегодня у нас проходит т.н. гайдаровский форум...</td>\n",
       "      <td>1</td>\n",
       "      <td>сегодн проход тн гайдаровск форум дела различн...</td>\n",
       "      <td>[Сегодня, у, нас, проходит, тн, гайдаровский, ...</td>\n",
       "    </tr>\n",
       "    <tr>\n",
       "      <th>2016-01-15</th>\n",
       "      <td>Сбер представил отчет по РСБУ. Вклады населени...</td>\n",
       "      <td>0</td>\n",
       "      <td>сбер представ отчет рсб вклад населен трлн руб...</td>\n",
       "      <td>[Сбер, представил, отчет, по, РСБУ, Вклады, на...</td>\n",
       "    </tr>\n",
       "    <tr>\n",
       "      <th>2016-01-18</th>\n",
       "      <td>Мы будем предлагатьсказал Улюкаев.  Чтобы прив...</td>\n",
       "      <td>0</td>\n",
       "      <td>быт предлагатьсказа улюка приватизирова сбер к...</td>\n",
       "      <td>[Мы, будем, предлагатьсказал, Улюкаев, Чтобы, ...</td>\n",
       "    </tr>\n",
       "    <tr>\n",
       "      <th>2016-01-20</th>\n",
       "      <td>Здравствуйте, сегодня наткнулся на ткую новост...</td>\n",
       "      <td>0</td>\n",
       "      <td>здравств сегодн наткнут ткова новостьбумаг пер...</td>\n",
       "      <td>[Здравствуйте, сегодня, наткнулся, на, ткую, н...</td>\n",
       "    </tr>\n",
       "    <tr>\n",
       "      <th>2016-01-21</th>\n",
       "      <td>Коммерсант сегодня написал, что Керимов хочет ...</td>\n",
       "      <td>1</td>\n",
       "      <td>коммерсант сегодн написа кер хотет обкеш компа...</td>\n",
       "      <td>[Коммерсант, сегодня, написал, что, Керимов, х...</td>\n",
       "    </tr>\n",
       "    <tr>\n",
       "      <th>...</th>\n",
       "      <td>...</td>\n",
       "      <td>...</td>\n",
       "      <td>...</td>\n",
       "      <td>...</td>\n",
       "    </tr>\n",
       "    <tr>\n",
       "      <th>2023-11-23</th>\n",
       "      <td>Прирост ипотечного портфеля в 2023г превысил 3...</td>\n",
       "      <td>0</td>\n",
       "      <td>прирост ипотечн портфел г превыс трлн руб г тр...</td>\n",
       "      <td>[Прирост, ипотечного, портфеля, в, 2023г, прев...</td>\n",
       "    </tr>\n",
       "    <tr>\n",
       "      <th>2023-11-24</th>\n",
       "      <td>Как узнал “Ъ”, крупные банки исчерпали лимиты ...</td>\n",
       "      <td>1</td>\n",
       "      <td>узна ь крупн банк исчерпа лим финансирован льг...</td>\n",
       "      <td>[Как, узнал, “Ъ”, крупные, банки, исчерпали, л...</td>\n",
       "    </tr>\n",
       "    <tr>\n",
       "      <th>2023-11-27</th>\n",
       "      <td>Динамика рынка POS-кредитования (point of sale...</td>\n",
       "      <td>0</td>\n",
       "      <td>динамик рынок поскредитован point of sales кре...</td>\n",
       "      <td>[Динамика, рынка, POSкредитования, point, sale...</td>\n",
       "    </tr>\n",
       "    <tr>\n",
       "      <th>2023-11-28</th>\n",
       "      <td>«Банки вернулись в хорошую форму, пора думать ...</td>\n",
       "      <td>0</td>\n",
       "      <td>банк вернут хорош форм пор дума развит сообщ п...</td>\n",
       "      <td>[«Банки, вернулись, в, хорошую, форму, пора, д...</td>\n",
       "    </tr>\n",
       "    <tr>\n",
       "      <th>2023-11-29</th>\n",
       "      <td>Сбербанк отмечает улучшение ситуации с реструк...</td>\n",
       "      <td>0</td>\n",
       "      <td>сбербанк отмеча улучшен ситуац реструктуризац ...</td>\n",
       "      <td>[Сбербанк, отмечает, улучшение, ситуации, с, р...</td>\n",
       "    </tr>\n",
       "  </tbody>\n",
       "</table>\n",
       "<p>1461 rows × 4 columns</p>\n",
       "</div>"
      ],
      "text/plain": [
       "                                                      Message  Class  \\\n",
       "2016-01-13  Сегодня у нас проходит т.н. гайдаровский форум...      1   \n",
       "2016-01-15  Сбер представил отчет по РСБУ. Вклады населени...      0   \n",
       "2016-01-18  Мы будем предлагатьсказал Улюкаев.  Чтобы прив...      0   \n",
       "2016-01-20  Здравствуйте, сегодня наткнулся на ткую новост...      0   \n",
       "2016-01-21  Коммерсант сегодня написал, что Керимов хочет ...      1   \n",
       "...                                                       ...    ...   \n",
       "2023-11-23  Прирост ипотечного портфеля в 2023г превысил 3...      0   \n",
       "2023-11-24  Как узнал “Ъ”, крупные банки исчерпали лимиты ...      1   \n",
       "2023-11-27  Динамика рынка POS-кредитования (point of sale...      0   \n",
       "2023-11-28  «Банки вернулись в хорошую форму, пора думать ...      0   \n",
       "2023-11-29  Сбербанк отмечает улучшение ситуации с реструк...      0   \n",
       "\n",
       "                                                   clean_text  \\\n",
       "2016-01-13  сегодн проход тн гайдаровск форум дела различн...   \n",
       "2016-01-15  сбер представ отчет рсб вклад населен трлн руб...   \n",
       "2016-01-18  быт предлагатьсказа улюка приватизирова сбер к...   \n",
       "2016-01-20  здравств сегодн наткнут ткова новостьбумаг пер...   \n",
       "2016-01-21  коммерсант сегодн написа кер хотет обкеш компа...   \n",
       "...                                                       ...   \n",
       "2023-11-23  прирост ипотечн портфел г превыс трлн руб г тр...   \n",
       "2023-11-24  узна ь крупн банк исчерпа лим финансирован льг...   \n",
       "2023-11-27  динамик рынок поскредитован point of sales кре...   \n",
       "2023-11-28  банк вернут хорош форм пор дума развит сообщ п...   \n",
       "2023-11-29  сбербанк отмеча улучшен ситуац реструктуризац ...   \n",
       "\n",
       "                                         Message_text_process  \n",
       "2016-01-13  [Сегодня, у, нас, проходит, тн, гайдаровский, ...  \n",
       "2016-01-15  [Сбер, представил, отчет, по, РСБУ, Вклады, на...  \n",
       "2016-01-18  [Мы, будем, предлагатьсказал, Улюкаев, Чтобы, ...  \n",
       "2016-01-20  [Здравствуйте, сегодня, наткнулся, на, ткую, н...  \n",
       "2016-01-21  [Коммерсант, сегодня, написал, что, Керимов, х...  \n",
       "...                                                       ...  \n",
       "2023-11-23  [Прирост, ипотечного, портфеля, в, 2023г, прев...  \n",
       "2023-11-24  [Как, узнал, “Ъ”, крупные, банки, исчерпали, л...  \n",
       "2023-11-27  [Динамика, рынка, POSкредитования, point, sale...  \n",
       "2023-11-28  [«Банки, вернулись, в, хорошую, форму, пора, д...  \n",
       "2023-11-29  [Сбербанк, отмечает, улучшение, ситуации, с, р...  \n",
       "\n",
       "[1461 rows x 4 columns]"
      ]
     },
     "execution_count": 17,
     "metadata": {},
     "output_type": "execute_result"
    }
   ],
   "source": [
    "#define a function to get rid of stopwords present in the messages\n",
    "def message_text_process(mess):\n",
    "    # Check characters to see if there are punctuations \n",
    "    no_punctuation=[char for char in mess if char not in string.punctuation]\n",
    "    # now form the sentence\n",
    "    no_punctuation=''.join(no_punctuation)\n",
    "    # Now eliminate any stopwords\n",
    "    return[word for word in no_punctuation.split() if word.lower() not in stopwords.words('english') and stopwords.words('russian')]\n",
    "\n",
    "# to verify that function is working\n",
    "data['Message_text_process'] = data['Message'].apply(message_text_process)\n",
    "data"
   ]
  },
  {
   "cell_type": "code",
   "execution_count": 18,
   "id": "e5341ea5",
   "metadata": {},
   "outputs": [
    {
     "data": {
      "text/html": [
       "<div>\n",
       "<style scoped>\n",
       "    .dataframe tbody tr th:only-of-type {\n",
       "        vertical-align: middle;\n",
       "    }\n",
       "\n",
       "    .dataframe tbody tr th {\n",
       "        vertical-align: top;\n",
       "    }\n",
       "\n",
       "    .dataframe thead th {\n",
       "        text-align: right;\n",
       "    }\n",
       "</style>\n",
       "<table border=\"1\" class=\"dataframe\">\n",
       "  <thead>\n",
       "    <tr style=\"text-align: right;\">\n",
       "      <th></th>\n",
       "      <th>Message</th>\n",
       "      <th>Class</th>\n",
       "      <th>clean_text</th>\n",
       "      <th>Message_text_process</th>\n",
       "      <th>Message_clean_text_process</th>\n",
       "    </tr>\n",
       "  </thead>\n",
       "  <tbody>\n",
       "    <tr>\n",
       "      <th>2016-01-13</th>\n",
       "      <td>Сегодня у нас проходит т.н. гайдаровский форум...</td>\n",
       "      <td>1</td>\n",
       "      <td>сегодн проход тн гайдаровск форум дела различн...</td>\n",
       "      <td>[Сегодня, у, нас, проходит, тн, гайдаровский, ...</td>\n",
       "      <td>[сегодн, проход, тн, гайдаровск, форум, дела, ...</td>\n",
       "    </tr>\n",
       "    <tr>\n",
       "      <th>2016-01-15</th>\n",
       "      <td>Сбер представил отчет по РСБУ. Вклады населени...</td>\n",
       "      <td>0</td>\n",
       "      <td>сбер представ отчет рсб вклад населен трлн руб...</td>\n",
       "      <td>[Сбер, представил, отчет, по, РСБУ, Вклады, на...</td>\n",
       "      <td>[сбер, представ, отчет, рсб, вклад, населен, т...</td>\n",
       "    </tr>\n",
       "    <tr>\n",
       "      <th>2016-01-18</th>\n",
       "      <td>Мы будем предлагатьсказал Улюкаев.  Чтобы прив...</td>\n",
       "      <td>0</td>\n",
       "      <td>быт предлагатьсказа улюка приватизирова сбер к...</td>\n",
       "      <td>[Мы, будем, предлагатьсказал, Улюкаев, Чтобы, ...</td>\n",
       "      <td>[быт, предлагатьсказа, улюка, приватизирова, с...</td>\n",
       "    </tr>\n",
       "    <tr>\n",
       "      <th>2016-01-20</th>\n",
       "      <td>Здравствуйте, сегодня наткнулся на ткую новост...</td>\n",
       "      <td>0</td>\n",
       "      <td>здравств сегодн наткнут ткова новостьбумаг пер...</td>\n",
       "      <td>[Здравствуйте, сегодня, наткнулся, на, ткую, н...</td>\n",
       "      <td>[здравств, сегодн, наткнут, ткова, новостьбума...</td>\n",
       "    </tr>\n",
       "    <tr>\n",
       "      <th>2016-01-21</th>\n",
       "      <td>Коммерсант сегодня написал, что Керимов хочет ...</td>\n",
       "      <td>1</td>\n",
       "      <td>коммерсант сегодн написа кер хотет обкеш компа...</td>\n",
       "      <td>[Коммерсант, сегодня, написал, что, Керимов, х...</td>\n",
       "      <td>[коммерсант, сегодн, написа, кер, хотет, обкеш...</td>\n",
       "    </tr>\n",
       "    <tr>\n",
       "      <th>...</th>\n",
       "      <td>...</td>\n",
       "      <td>...</td>\n",
       "      <td>...</td>\n",
       "      <td>...</td>\n",
       "      <td>...</td>\n",
       "    </tr>\n",
       "    <tr>\n",
       "      <th>2023-11-23</th>\n",
       "      <td>Прирост ипотечного портфеля в 2023г превысил 3...</td>\n",
       "      <td>0</td>\n",
       "      <td>прирост ипотечн портфел г превыс трлн руб г тр...</td>\n",
       "      <td>[Прирост, ипотечного, портфеля, в, 2023г, прев...</td>\n",
       "      <td>[прирост, ипотечн, портфел, г, превыс, трлн, р...</td>\n",
       "    </tr>\n",
       "    <tr>\n",
       "      <th>2023-11-24</th>\n",
       "      <td>Как узнал “Ъ”, крупные банки исчерпали лимиты ...</td>\n",
       "      <td>1</td>\n",
       "      <td>узна ь крупн банк исчерпа лим финансирован льг...</td>\n",
       "      <td>[Как, узнал, “Ъ”, крупные, банки, исчерпали, л...</td>\n",
       "      <td>[узна, ь, крупн, банк, исчерпа, лим, финансиро...</td>\n",
       "    </tr>\n",
       "    <tr>\n",
       "      <th>2023-11-27</th>\n",
       "      <td>Динамика рынка POS-кредитования (point of sale...</td>\n",
       "      <td>0</td>\n",
       "      <td>динамик рынок поскредитован point of sales кре...</td>\n",
       "      <td>[Динамика, рынка, POSкредитования, point, sale...</td>\n",
       "      <td>[динамик, рынок, поскредитован, point, sales, ...</td>\n",
       "    </tr>\n",
       "    <tr>\n",
       "      <th>2023-11-28</th>\n",
       "      <td>«Банки вернулись в хорошую форму, пора думать ...</td>\n",
       "      <td>0</td>\n",
       "      <td>банк вернут хорош форм пор дума развит сообщ п...</td>\n",
       "      <td>[«Банки, вернулись, в, хорошую, форму, пора, д...</td>\n",
       "      <td>[банк, вернут, хорош, форм, пор, дума, развит,...</td>\n",
       "    </tr>\n",
       "    <tr>\n",
       "      <th>2023-11-29</th>\n",
       "      <td>Сбербанк отмечает улучшение ситуации с реструк...</td>\n",
       "      <td>0</td>\n",
       "      <td>сбербанк отмеча улучшен ситуац реструктуризац ...</td>\n",
       "      <td>[Сбербанк, отмечает, улучшение, ситуации, с, р...</td>\n",
       "      <td>[сбербанк, отмеча, улучшен, ситуац, реструктур...</td>\n",
       "    </tr>\n",
       "  </tbody>\n",
       "</table>\n",
       "<p>1461 rows × 5 columns</p>\n",
       "</div>"
      ],
      "text/plain": [
       "                                                      Message  Class  \\\n",
       "2016-01-13  Сегодня у нас проходит т.н. гайдаровский форум...      1   \n",
       "2016-01-15  Сбер представил отчет по РСБУ. Вклады населени...      0   \n",
       "2016-01-18  Мы будем предлагатьсказал Улюкаев.  Чтобы прив...      0   \n",
       "2016-01-20  Здравствуйте, сегодня наткнулся на ткую новост...      0   \n",
       "2016-01-21  Коммерсант сегодня написал, что Керимов хочет ...      1   \n",
       "...                                                       ...    ...   \n",
       "2023-11-23  Прирост ипотечного портфеля в 2023г превысил 3...      0   \n",
       "2023-11-24  Как узнал “Ъ”, крупные банки исчерпали лимиты ...      1   \n",
       "2023-11-27  Динамика рынка POS-кредитования (point of sale...      0   \n",
       "2023-11-28  «Банки вернулись в хорошую форму, пора думать ...      0   \n",
       "2023-11-29  Сбербанк отмечает улучшение ситуации с реструк...      0   \n",
       "\n",
       "                                                   clean_text  \\\n",
       "2016-01-13  сегодн проход тн гайдаровск форум дела различн...   \n",
       "2016-01-15  сбер представ отчет рсб вклад населен трлн руб...   \n",
       "2016-01-18  быт предлагатьсказа улюка приватизирова сбер к...   \n",
       "2016-01-20  здравств сегодн наткнут ткова новостьбумаг пер...   \n",
       "2016-01-21  коммерсант сегодн написа кер хотет обкеш компа...   \n",
       "...                                                       ...   \n",
       "2023-11-23  прирост ипотечн портфел г превыс трлн руб г тр...   \n",
       "2023-11-24  узна ь крупн банк исчерпа лим финансирован льг...   \n",
       "2023-11-27  динамик рынок поскредитован point of sales кре...   \n",
       "2023-11-28  банк вернут хорош форм пор дума развит сообщ п...   \n",
       "2023-11-29  сбербанк отмеча улучшен ситуац реструктуризац ...   \n",
       "\n",
       "                                         Message_text_process  \\\n",
       "2016-01-13  [Сегодня, у, нас, проходит, тн, гайдаровский, ...   \n",
       "2016-01-15  [Сбер, представил, отчет, по, РСБУ, Вклады, на...   \n",
       "2016-01-18  [Мы, будем, предлагатьсказал, Улюкаев, Чтобы, ...   \n",
       "2016-01-20  [Здравствуйте, сегодня, наткнулся, на, ткую, н...   \n",
       "2016-01-21  [Коммерсант, сегодня, написал, что, Керимов, х...   \n",
       "...                                                       ...   \n",
       "2023-11-23  [Прирост, ипотечного, портфеля, в, 2023г, прев...   \n",
       "2023-11-24  [Как, узнал, “Ъ”, крупные, банки, исчерпали, л...   \n",
       "2023-11-27  [Динамика, рынка, POSкредитования, point, sale...   \n",
       "2023-11-28  [«Банки, вернулись, в, хорошую, форму, пора, д...   \n",
       "2023-11-29  [Сбербанк, отмечает, улучшение, ситуации, с, р...   \n",
       "\n",
       "                                   Message_clean_text_process  \n",
       "2016-01-13  [сегодн, проход, тн, гайдаровск, форум, дела, ...  \n",
       "2016-01-15  [сбер, представ, отчет, рсб, вклад, населен, т...  \n",
       "2016-01-18  [быт, предлагатьсказа, улюка, приватизирова, с...  \n",
       "2016-01-20  [здравств, сегодн, наткнут, ткова, новостьбума...  \n",
       "2016-01-21  [коммерсант, сегодн, написа, кер, хотет, обкеш...  \n",
       "...                                                       ...  \n",
       "2023-11-23  [прирост, ипотечн, портфел, г, превыс, трлн, р...  \n",
       "2023-11-24  [узна, ь, крупн, банк, исчерпа, лим, финансиро...  \n",
       "2023-11-27  [динамик, рынок, поскредитован, point, sales, ...  \n",
       "2023-11-28  [банк, вернут, хорош, форм, пор, дума, развит,...  \n",
       "2023-11-29  [сбербанк, отмеча, улучшен, ситуац, реструктур...  \n",
       "\n",
       "[1461 rows x 5 columns]"
      ]
     },
     "execution_count": 18,
     "metadata": {},
     "output_type": "execute_result"
    }
   ],
   "source": [
    "data['Message_clean_text_process'] = data['clean_text'].apply(message_text_process)\n",
    "data"
   ]
  },
  {
   "cell_type": "markdown",
   "id": "d968f684",
   "metadata": {},
   "source": [
    "# TF-IDF BOW"
   ]
  },
  {
   "cell_type": "code",
   "execution_count": 19,
   "id": "4f71c807",
   "metadata": {},
   "outputs": [],
   "source": [
    "X = data['clean_text']\n",
    "y = data['Class']"
   ]
  },
  {
   "cell_type": "code",
   "execution_count": 20,
   "id": "bd9a4ade",
   "metadata": {},
   "outputs": [],
   "source": [
    "def Model(model, X, y):\n",
    "#training and testing the data\n",
    "    x_train, x_test, y_train, y_test = train_test_split(X, y, test_size=0.2, random_state=42)\n",
    "    # model building using CountVectorizer and TfidfTransformer\n",
    "    pipeline_model = Pipeline([('vect', CountVectorizer(ngram_range = (1,3))),\n",
    "#                                ('TfidfVect', TfidfVectorizer()),\n",
    "                              ('tfidf', TfidfTransformer()),\n",
    "                              ('clf', model)])\n",
    "    pipeline_model.fit(x_train, y_train)\n",
    "    \n",
    "    \n",
    "\n",
    "\n",
    "    y_pred = pipeline_model.predict(x_test)\n",
    "    y_probas =pipeline_model.predict_proba(x_test)\n",
    "    skplt.metrics.plot_roc(y_test,y_probas,figsize=(12,8),title_fontsize=12,text_fontsize=16)\n",
    "    plt.show()\n",
    "    skplt.metrics.plot_precision_recall(y_test,y_probas,figsize=(12,8),title_fontsize=12,text_fontsize=16)\n",
    "    plt.show()\n",
    "    print(\"Confusion Matrix:\\n\",confusion_matrix(y_test,y_pred))\n",
    "    print(\"Classification Report is:\\n\",classification_report(y_test, y_pred))\n",
    "    print('Accuracy:', pipeline_model.score(x_test, y_test)*100)\n",
    "    print(\"Training Score:\\n\",pipeline_model.score(x_train,y_train)*100)"
   ]
  },
  {
   "cell_type": "code",
   "execution_count": 21,
   "id": "d10c3ac0",
   "metadata": {},
   "outputs": [
    {
     "data": {
      "image/png": "[encoded data removed]",
      "text/plain": [
       "<Figure size 864x576 with 1 Axes>"
      ]
     },
     "metadata": {
      "needs_background": "light"
     },
     "output_type": "display_data"
    },
    {
     "data": {
      "image/png": "[encoded data removed]",
      "text/plain": [
       "<Figure size 864x576 with 1 Axes>"
      ]
     },
     "metadata": {
      "needs_background": "light"
     },
     "output_type": "display_data"
    },
    {
     "name": "stdout",
     "output_type": "stream",
     "text": [
      "Confusion Matrix:\n",
      " [[72 69]\n",
      " [65 87]]\n",
      "Classification Report is:\n",
      "               precision    recall  f1-score   support\n",
      "\n",
      "           0       0.53      0.51      0.52       141\n",
      "           1       0.56      0.57      0.56       152\n",
      "\n",
      "    accuracy                           0.54       293\n",
      "   macro avg       0.54      0.54      0.54       293\n",
      "weighted avg       0.54      0.54      0.54       293\n",
      "\n",
      "Accuracy: 54.26621160409556\n",
      "Training Score:\n",
      " 99.7431506849315\n",
      "CPU times: total: 9.27 s\n",
      "Wall time: 6.68 s\n"
     ]
    }
   ],
   "source": [
    "%%time\n",
    "model1 = LogisticRegression()\n",
    "Model(model1, X, y)"
   ]
  },
  {
   "cell_type": "code",
   "execution_count": 22,
   "id": "aaa5cdf8",
   "metadata": {},
   "outputs": [
    {
     "data": {
      "image/png": "[encoded data removed]",
      "text/plain": [
       "<Figure size 864x576 with 1 Axes>"
      ]
     },
     "metadata": {
      "needs_background": "light"
     },
     "output_type": "display_data"
    },
    {
     "data": {
      "image/png": "[encoded data removed]",
      "text/plain": [
       "<Figure size 864x576 with 1 Axes>"
      ]
     },
     "metadata": {
      "needs_background": "light"
     },
     "output_type": "display_data"
    },
    {
     "name": "stdout",
     "output_type": "stream",
     "text": [
      "Confusion Matrix:\n",
      " [[74 67]\n",
      " [65 87]]\n",
      "Classification Report is:\n",
      "               precision    recall  f1-score   support\n",
      "\n",
      "           0       0.53      0.52      0.53       141\n",
      "           1       0.56      0.57      0.57       152\n",
      "\n",
      "    accuracy                           0.55       293\n",
      "   macro avg       0.55      0.55      0.55       293\n",
      "weighted avg       0.55      0.55      0.55       293\n",
      "\n",
      "Accuracy: 54.94880546075085\n",
      "Training Score:\n",
      " 99.7431506849315\n",
      "CPU times: total: 26 s\n",
      "Wall time: 26.3 s\n"
     ]
    }
   ],
   "source": [
    "%%time\n",
    "model2 = SVC(kernel='linear',probability=True)\n",
    "Model(model2, X, y)"
   ]
  },
  {
   "cell_type": "code",
   "execution_count": 23,
   "id": "78ebc798",
   "metadata": {},
   "outputs": [],
   "source": [
    "#function for the model building and prediction\n",
    "def Model1(model, X, y):\n",
    "#training and testing the data\n",
    "    x_train, x_test, y_train, y_test = train_test_split(X, y, test_size=0.2, random_state=42)\n",
    "    # model building using CountVectorizer and TfidfTransformer\n",
    "    pipeline_model = Pipeline([('vect', CountVectorizer(ngram_range = (1,3))),\n",
    "                              ('tfidf', TfidfTransformer()),\n",
    "                              ('clf', model)])\n",
    "    pipeline_model.fit(x_train, y_train)\n",
    "    \n",
    "    \n",
    "\n",
    "\n",
    "    y_pred = pipeline_model.predict(x_test)\n",
    "    print(\"Confusion Matrix:\\n\",confusion_matrix(y_test,y_pred))\n",
    "    print(\"Classification Report is:\\n\",classification_report(y_test, y_pred))\n",
    "    print('Accuracy:', pipeline_model.score(x_test, y_test)*100)\n",
    "    print(\"Training Score:\\n\",pipeline_model.score(x_train,y_train)*100)"
   ]
  },
  {
   "cell_type": "code",
   "execution_count": 24,
   "id": "1b2ea591",
   "metadata": {},
   "outputs": [
    {
     "name": "stdout",
     "output_type": "stream",
     "text": [
      "Confusion Matrix:\n",
      " [[75 66]\n",
      " [66 86]]\n",
      "Classification Report is:\n",
      "               precision    recall  f1-score   support\n",
      "\n",
      "           0       0.53      0.53      0.53       141\n",
      "           1       0.57      0.57      0.57       152\n",
      "\n",
      "    accuracy                           0.55       293\n",
      "   macro avg       0.55      0.55      0.55       293\n",
      "weighted avg       0.55      0.55      0.55       293\n",
      "\n",
      "Accuracy: 54.94880546075085\n",
      "Training Score:\n",
      " 100.0\n",
      "CPU times: total: 3.89 s\n",
      "Wall time: 3.97 s\n"
     ]
    }
   ],
   "source": [
    "%%time\n",
    "model3 = LinearSVC()\n",
    "Model1(model3, X, y)"
   ]
  },
  {
   "cell_type": "code",
   "execution_count": 25,
   "id": "633c8e11",
   "metadata": {},
   "outputs": [],
   "source": [
    "with open(\"model1.pkl\", \"wb\") as f:\n",
    "    pickle.dump(model1, f)\n",
    "    \n",
    "with open(\"model2.pkl\", \"wb\") as f:\n",
    "    pickle.dump(model2, f)\n",
    "\n",
    "with open(\"model3.pkl\", \"wb\") as f:\n",
    "    pickle.dump(model3, f)"
   ]
  },
  {
   "cell_type": "code",
   "execution_count": 26,
   "id": "89d8178c",
   "metadata": {},
   "outputs": [],
   "source": [
    "# with open(\"model.pkl\", \"rb\") as f:\n",
    "#     model = pickle.load(f)"
   ]
  },
  {
   "cell_type": "markdown",
   "id": "8c8ef210",
   "metadata": {},
   "source": [
    "# Word2Vec"
   ]
  },
  {
   "cell_type": "markdown",
   "id": "4b266a75",
   "metadata": {},
   "source": [
    "https://colab.research.google.com/github/PragmaticsLab/NLP-course-FinTech/blob/master/seminars/2/2_embeddings.ipynb\n",
    "https://python-school.ru/blog/word2vec-with-examples-in-gensim/"
   ]
  },
  {
   "cell_type": "markdown",
   "id": "d6b6117b",
   "metadata": {},
   "source": [
    "### обучаем свою модель"
   ]
  },
  {
   "cell_type": "code",
   "execution_count": 18,
   "id": "d76c4b22",
   "metadata": {},
   "outputs": [
    {
     "data": {
      "text/plain": [
       "2016-01-13    [сегодня, у, мы, проходить, тн, гайдаровский, ...\n",
       "2016-01-15    [сбер, представить, отчёт, по, рсб, вклад, нас...\n",
       "2016-01-18    [мы, быть, предлагатьсказать, улюкай, чтобы, п...\n",
       "2016-01-20    [здравствуйте, сегодня, наткнуться, на, тковат...\n",
       "2016-01-21    [коммерсант, сегодня, написать, что, керим, хо...\n",
       "                                    ...                        \n",
       "2023-11-24    [как, узнать, ъ, крупный, банк, исчерпать, лим...\n",
       "2023-11-27    [динамика, рынок, posкредитование, point, sale...\n",
       "2023-11-28    [банк, вернуться, в, хороший, форма, пора, дум...\n",
       "2023-11-29    [сбербанк, отмечать, улучшение, ситуация, с, р...\n",
       "2023-11-30    [правительство, россия, распространить, действ...\n",
       "Name: Message, Length: 1462, dtype: object"
      ]
     },
     "execution_count": 18,
     "metadata": {},
     "output_type": "execute_result"
    }
   ],
   "source": [
    "#define a function to get rid of stopwords present in the messages\n",
    "def message_text_process11(text):\n",
    "    text = re.sub(r'http\\S+', '', text)\n",
    "    text = text.lower()\n",
    "    text = re.sub(r'[^\\w\\s]+|[\\d]+', r'',text).strip()\n",
    "    regex = re.compile('[%s]' % re.escape(string.punctuation))\n",
    "    text = regex.sub(' ', text)\n",
    "# #     text = re.sub(r'[^0-9a-zA-Z]', ' ', text)\n",
    "    text = re.sub(r'\\s+', ' ', text)\n",
    "#     text = \" \".join(word for word in text.split() if word not in STOPWORDS)\n",
    "    text = \" \".join(lemmatizer.normal_forms(word)[0] for word in text.split())\n",
    "    \n",
    "    # Check characters to see if there are punctuations \n",
    "    no_punctuation=[char for char in text if char not in string.punctuation]\n",
    "    # now form the sentence\n",
    "    no_punctuation=''.join(no_punctuation)\n",
    "    \n",
    "    \n",
    "    \n",
    "    # Now eliminate any stopwords\n",
    "    return[word for word in no_punctuation.split() if word.lower() not in stopwords.words('english') and stopwords.words('russian')]\n",
    "\n",
    "# to verify that function is working\n",
    "data1 = data['Message'].apply(message_text_process11)\n",
    "data1"
   ]
  },
  {
   "cell_type": "code",
   "execution_count": 87,
   "id": "91d9c306",
   "metadata": {},
   "outputs": [],
   "source": [
    "w2v_model = Word2Vec(\n",
    "    min_count=10,\n",
    "    window=2,\n",
    "    vector_size=300,\n",
    "    negative=10,\n",
    "    alpha=0.03,\n",
    "    min_alpha=0.0007,\n",
    "    sample=6e-5,\n",
    "    sg=1)"
   ]
  },
  {
   "cell_type": "code",
   "execution_count": 88,
   "id": "089bc4e3",
   "metadata": {},
   "outputs": [],
   "source": [
    "w2v_model.build_vocab(data1)"
   ]
  },
  {
   "cell_type": "code",
   "execution_count": 89,
   "id": "c4a89bc0",
   "metadata": {},
   "outputs": [
    {
     "data": {
      "text/plain": [
       "(4182232, 11197290)"
      ]
     },
     "execution_count": 89,
     "metadata": {},
     "output_type": "execute_result"
    }
   ],
   "source": [
    "w2v_model.train(data1, total_examples=w2v_model.corpus_count, epochs=30, report_delay=1)"
   ]
  },
  {
   "cell_type": "code",
   "execution_count": 97,
   "id": "dcdf5389",
   "metadata": {},
   "outputs": [
    {
     "data": {
      "text/plain": [
       "[('воспринять', 0.6355305314064026),\n",
       " ('всегда', 0.6045184135437012),\n",
       " ('казаться', 0.6028740406036377),\n",
       " ('посмотреть', 0.5869712233543396),\n",
       " ('правильный', 0.5761329531669617),\n",
       " ('насколько', 0.5743809342384338),\n",
       " ('легко', 0.5691114664077759),\n",
       " ('потому', 0.5672942996025085),\n",
       " ('я', 0.5629263520240784),\n",
       " ('приемлемый', 0.5610839128494263)]"
      ]
     },
     "execution_count": 97,
     "metadata": {},
     "output_type": "execute_result"
    }
   ],
   "source": [
    "w2v_model.wv.most_similar(positive=[\"хорошо\"], topn=10)"
   ]
  },
  {
   "cell_type": "code",
   "execution_count": 133,
   "id": "9ef51454",
   "metadata": {},
   "outputs": [
    {
     "data": {
      "text/plain": [
       "'воспринять'"
      ]
     },
     "execution_count": 133,
     "metadata": {},
     "output_type": "execute_result"
    }
   ],
   "source": [
    "w2v_model.wv.most_similar(positive=[\"хорошо\"], topn=1)[0][0]"
   ]
  },
  {
   "cell_type": "code",
   "execution_count": 130,
   "id": "f70f20fd",
   "metadata": {},
   "outputs": [],
   "source": [
    "# w2v_model.wv.word_vec(\"хорошо\")"
   ]
  },
  {
   "cell_type": "code",
   "execution_count": 129,
   "id": "061b94dc",
   "metadata": {},
   "outputs": [],
   "source": [
    "# w2v_model.wv[\"хорошо\"]"
   ]
  },
  {
   "cell_type": "code",
   "execution_count": 99,
   "id": "b8587779",
   "metadata": {},
   "outputs": [
    {
     "data": {
      "text/plain": [
       "(3446, 300)"
      ]
     },
     "execution_count": 99,
     "metadata": {},
     "output_type": "execute_result"
    }
   ],
   "source": [
    "w2v_model.wv.vectors.shape"
   ]
  },
  {
   "cell_type": "code",
   "execution_count": 100,
   "id": "460ed853",
   "metadata": {},
   "outputs": [
    {
     "data": {
      "text/plain": [
       "array([[-0.05483741,  0.12492273,  0.20600459, ..., -0.2820193 ,\n",
       "         0.14776455, -0.0715675 ],\n",
       "       [-0.07739273, -0.1477236 ,  0.02727326, ..., -0.12880914,\n",
       "         0.19976835, -0.26123103],\n",
       "       [ 0.02566761,  0.11109508,  0.20854254, ..., -0.07565638,\n",
       "         0.03179994,  0.05433212],\n",
       "       ...,\n",
       "       [ 0.01620821, -0.0547593 , -0.13079768, ..., -0.04612351,\n",
       "         0.02444964,  0.12622792],\n",
       "       [-0.05195332, -0.09643837, -0.08137736, ...,  0.00303858,\n",
       "         0.04654838, -0.2470814 ],\n",
       "       [-0.01222625, -0.02162284, -0.02555733, ..., -0.03320246,\n",
       "        -0.01493341, -0.04800824]], dtype=float32)"
      ]
     },
     "execution_count": 100,
     "metadata": {},
     "output_type": "execute_result"
    }
   ],
   "source": [
    "w2v_model.wv.vectors"
   ]
  },
  {
   "cell_type": "code",
   "execution_count": 101,
   "id": "895bb7d3",
   "metadata": {},
   "outputs": [],
   "source": [
    "# save model in ASCII (word2vec) format\n",
    "filename1 = 'w2v_model.txt'\n",
    "w2v_model.wv.save_word2vec_format(filename1, binary=False)"
   ]
  },
  {
   "cell_type": "code",
   "execution_count": 102,
   "id": "c5cd272b",
   "metadata": {},
   "outputs": [],
   "source": [
    "embeddings_i = {}\n",
    "f = open(os.path.join('', 'w2v_model.txt'),  encoding = \"utf-8\")\n",
    "for line in f:\n",
    "    values = line.split()\n",
    "    word = values[0]\n",
    "    coefs = np.asarray(values[1:])\n",
    "    embeddings_i[word] = coefs\n",
    "f.close()"
   ]
  },
  {
   "cell_type": "code",
   "execution_count": 105,
   "id": "4a7260f3",
   "metadata": {},
   "outputs": [
    {
     "data": {
      "application/vnd.jupyter.widget-view+json": {
       "model_id": "ca919ab73cd14901be5bfb3d3a06e5c3",
       "version_major": 2,
       "version_minor": 0
      },
      "text/plain": [
       "  0%|          | 0/1461 [00:00<?, ?it/s]"
      ]
     },
     "metadata": {},
     "output_type": "display_data"
    },
    {
     "data": {
      "text/plain": [
       "(1461, 300)"
      ]
     },
     "execution_count": 105,
     "metadata": {},
     "output_type": "execute_result"
    }
   ],
   "source": [
    "docs_vectors2 = pd.DataFrame() # creating empty final dataframe\n",
    "# stopwords = nltk.corpus.stopwords.words('english') # removing stop words\n",
    "for doc in tqdm(data1):#.str.lower().str.replace('[^a-z ]', ''): # looping through each document and cleaning it\n",
    "    temp2 = pd.DataFrame()  # creating a temporary dataframe(store value for 1st doc & for 2nd doc remove the details of 1st & proced through 2nd and so on..)\n",
    "    for word in doc: # looping through each word of a single document and spliting through space\n",
    "#         if word not in STOPWORDS: # if word is not present in stopwords then (try)\n",
    "        try:\n",
    "                    word_vec2 = embeddings_i[word] # if word is present in embeddings(goole provides weights associate with words(300)) then proceed\n",
    "                    temp21 = temp2.append(pd.Series(word_vec2), ignore_index = True) # if word is present then append it to temporary dataframe\n",
    "        except:\n",
    "                    pass\n",
    "            \n",
    "    doc_vector2 = temp21.mean() # take the average of each column(w0, w1, w2,........w300)\n",
    "    docs_vectors2 = docs_vectors2.append(doc_vector2, ignore_index = True) # append each document value to the final dataframe\n",
    "docs_vectors2.shape"
   ]
  },
  {
   "cell_type": "code",
   "execution_count": 106,
   "id": "fa8502df",
   "metadata": {},
   "outputs": [
    {
     "data": {
      "text/html": [
       "<div>\n",
       "<style scoped>\n",
       "    .dataframe tbody tr th:only-of-type {\n",
       "        vertical-align: middle;\n",
       "    }\n",
       "\n",
       "    .dataframe tbody tr th {\n",
       "        vertical-align: top;\n",
       "    }\n",
       "\n",
       "    .dataframe thead th {\n",
       "        text-align: right;\n",
       "    }\n",
       "</style>\n",
       "<table border=\"1\" class=\"dataframe\">\n",
       "  <thead>\n",
       "    <tr style=\"text-align: right;\">\n",
       "      <th></th>\n",
       "      <th>0</th>\n",
       "      <th>1</th>\n",
       "      <th>2</th>\n",
       "      <th>3</th>\n",
       "      <th>4</th>\n",
       "      <th>5</th>\n",
       "      <th>6</th>\n",
       "      <th>7</th>\n",
       "      <th>8</th>\n",
       "      <th>9</th>\n",
       "      <th>...</th>\n",
       "      <th>290</th>\n",
       "      <th>291</th>\n",
       "      <th>292</th>\n",
       "      <th>293</th>\n",
       "      <th>294</th>\n",
       "      <th>295</th>\n",
       "      <th>296</th>\n",
       "      <th>297</th>\n",
       "      <th>298</th>\n",
       "      <th>299</th>\n",
       "    </tr>\n",
       "  </thead>\n",
       "  <tbody>\n",
       "    <tr>\n",
       "      <th>0</th>\n",
       "      <td>-0.215360</td>\n",
       "      <td>-0.210863</td>\n",
       "      <td>-0.048993</td>\n",
       "      <td>0.427180</td>\n",
       "      <td>-0.121609</td>\n",
       "      <td>-0.308584</td>\n",
       "      <td>0.112717</td>\n",
       "      <td>0.064141</td>\n",
       "      <td>0.551114</td>\n",
       "      <td>-0.351590</td>\n",
       "      <td>...</td>\n",
       "      <td>0.185593</td>\n",
       "      <td>0.089715</td>\n",
       "      <td>0.462490</td>\n",
       "      <td>-0.220472</td>\n",
       "      <td>0.199894</td>\n",
       "      <td>0.118255</td>\n",
       "      <td>-0.187300</td>\n",
       "      <td>-0.337839</td>\n",
       "      <td>-0.023418</td>\n",
       "      <td>0.067537</td>\n",
       "    </tr>\n",
       "    <tr>\n",
       "      <th>1</th>\n",
       "      <td>0.208120</td>\n",
       "      <td>-0.130429</td>\n",
       "      <td>-0.079580</td>\n",
       "      <td>0.077155</td>\n",
       "      <td>-0.085101</td>\n",
       "      <td>-0.292260</td>\n",
       "      <td>0.136149</td>\n",
       "      <td>0.198058</td>\n",
       "      <td>-0.283171</td>\n",
       "      <td>0.024087</td>\n",
       "      <td>...</td>\n",
       "      <td>0.000810</td>\n",
       "      <td>0.034221</td>\n",
       "      <td>0.221432</td>\n",
       "      <td>-0.116216</td>\n",
       "      <td>0.005286</td>\n",
       "      <td>-0.175949</td>\n",
       "      <td>-0.153092</td>\n",
       "      <td>-0.016642</td>\n",
       "      <td>0.211479</td>\n",
       "      <td>0.007260</td>\n",
       "    </tr>\n",
       "    <tr>\n",
       "      <th>2</th>\n",
       "      <td>-0.077393</td>\n",
       "      <td>-0.147724</td>\n",
       "      <td>0.027273</td>\n",
       "      <td>0.100324</td>\n",
       "      <td>-0.081928</td>\n",
       "      <td>-0.057624</td>\n",
       "      <td>-0.127368</td>\n",
       "      <td>0.215071</td>\n",
       "      <td>-0.097769</td>\n",
       "      <td>0.034881</td>\n",
       "      <td>...</td>\n",
       "      <td>0.075987</td>\n",
       "      <td>-0.044358</td>\n",
       "      <td>0.202998</td>\n",
       "      <td>-0.144032</td>\n",
       "      <td>0.064672</td>\n",
       "      <td>0.144197</td>\n",
       "      <td>0.101997</td>\n",
       "      <td>-0.128809</td>\n",
       "      <td>0.199768</td>\n",
       "      <td>-0.261231</td>\n",
       "    </tr>\n",
       "    <tr>\n",
       "      <th>3</th>\n",
       "      <td>-0.077794</td>\n",
       "      <td>0.219930</td>\n",
       "      <td>0.030250</td>\n",
       "      <td>0.164670</td>\n",
       "      <td>0.088253</td>\n",
       "      <td>-0.252270</td>\n",
       "      <td>0.314031</td>\n",
       "      <td>0.112665</td>\n",
       "      <td>0.242665</td>\n",
       "      <td>-0.218956</td>\n",
       "      <td>...</td>\n",
       "      <td>-0.094893</td>\n",
       "      <td>0.105252</td>\n",
       "      <td>-0.083862</td>\n",
       "      <td>0.021957</td>\n",
       "      <td>-0.111532</td>\n",
       "      <td>0.241370</td>\n",
       "      <td>-0.147619</td>\n",
       "      <td>-0.196421</td>\n",
       "      <td>0.276743</td>\n",
       "      <td>0.061880</td>\n",
       "    </tr>\n",
       "    <tr>\n",
       "      <th>4</th>\n",
       "      <td>0.067912</td>\n",
       "      <td>0.099657</td>\n",
       "      <td>-0.221184</td>\n",
       "      <td>0.057131</td>\n",
       "      <td>0.079260</td>\n",
       "      <td>-0.189118</td>\n",
       "      <td>-0.192921</td>\n",
       "      <td>0.265054</td>\n",
       "      <td>0.140077</td>\n",
       "      <td>0.122684</td>\n",
       "      <td>...</td>\n",
       "      <td>-0.180984</td>\n",
       "      <td>0.138427</td>\n",
       "      <td>0.274409</td>\n",
       "      <td>0.075372</td>\n",
       "      <td>-0.043200</td>\n",
       "      <td>0.288505</td>\n",
       "      <td>0.007114</td>\n",
       "      <td>-0.050045</td>\n",
       "      <td>-0.287214</td>\n",
       "      <td>0.047903</td>\n",
       "    </tr>\n",
       "    <tr>\n",
       "      <th>...</th>\n",
       "      <td>...</td>\n",
       "      <td>...</td>\n",
       "      <td>...</td>\n",
       "      <td>...</td>\n",
       "      <td>...</td>\n",
       "      <td>...</td>\n",
       "      <td>...</td>\n",
       "      <td>...</td>\n",
       "      <td>...</td>\n",
       "      <td>...</td>\n",
       "      <td>...</td>\n",
       "      <td>...</td>\n",
       "      <td>...</td>\n",
       "      <td>...</td>\n",
       "      <td>...</td>\n",
       "      <td>...</td>\n",
       "      <td>...</td>\n",
       "      <td>...</td>\n",
       "      <td>...</td>\n",
       "      <td>...</td>\n",
       "      <td>...</td>\n",
       "    </tr>\n",
       "    <tr>\n",
       "      <th>1456</th>\n",
       "      <td>-0.113096</td>\n",
       "      <td>-0.273482</td>\n",
       "      <td>0.015311</td>\n",
       "      <td>0.338063</td>\n",
       "      <td>0.048570</td>\n",
       "      <td>-0.511775</td>\n",
       "      <td>-0.110672</td>\n",
       "      <td>0.106259</td>\n",
       "      <td>0.161932</td>\n",
       "      <td>-0.225115</td>\n",
       "      <td>...</td>\n",
       "      <td>0.055461</td>\n",
       "      <td>0.219058</td>\n",
       "      <td>0.311583</td>\n",
       "      <td>0.110038</td>\n",
       "      <td>0.049158</td>\n",
       "      <td>0.065531</td>\n",
       "      <td>-0.458110</td>\n",
       "      <td>-0.460287</td>\n",
       "      <td>0.031255</td>\n",
       "      <td>-0.086406</td>\n",
       "    </tr>\n",
       "    <tr>\n",
       "      <th>1457</th>\n",
       "      <td>-0.300625</td>\n",
       "      <td>0.064431</td>\n",
       "      <td>-0.226009</td>\n",
       "      <td>0.020363</td>\n",
       "      <td>-0.263480</td>\n",
       "      <td>-0.361015</td>\n",
       "      <td>0.232229</td>\n",
       "      <td>-0.000351</td>\n",
       "      <td>0.337517</td>\n",
       "      <td>0.144770</td>\n",
       "      <td>...</td>\n",
       "      <td>-0.104717</td>\n",
       "      <td>0.146385</td>\n",
       "      <td>0.404465</td>\n",
       "      <td>-0.167410</td>\n",
       "      <td>-0.050004</td>\n",
       "      <td>0.353769</td>\n",
       "      <td>-0.134281</td>\n",
       "      <td>-0.038105</td>\n",
       "      <td>0.481917</td>\n",
       "      <td>-0.167302</td>\n",
       "    </tr>\n",
       "    <tr>\n",
       "      <th>1458</th>\n",
       "      <td>-0.012226</td>\n",
       "      <td>-0.021623</td>\n",
       "      <td>-0.025557</td>\n",
       "      <td>0.062568</td>\n",
       "      <td>0.044392</td>\n",
       "      <td>-0.195454</td>\n",
       "      <td>0.043100</td>\n",
       "      <td>0.168317</td>\n",
       "      <td>-0.073892</td>\n",
       "      <td>0.003455</td>\n",
       "      <td>...</td>\n",
       "      <td>-0.033350</td>\n",
       "      <td>0.114818</td>\n",
       "      <td>0.198662</td>\n",
       "      <td>-0.071701</td>\n",
       "      <td>-0.069229</td>\n",
       "      <td>0.144593</td>\n",
       "      <td>-0.160528</td>\n",
       "      <td>-0.033202</td>\n",
       "      <td>-0.014933</td>\n",
       "      <td>-0.048008</td>\n",
       "    </tr>\n",
       "    <tr>\n",
       "      <th>1459</th>\n",
       "      <td>0.025668</td>\n",
       "      <td>0.111095</td>\n",
       "      <td>0.208543</td>\n",
       "      <td>0.384037</td>\n",
       "      <td>0.271972</td>\n",
       "      <td>-0.044623</td>\n",
       "      <td>0.098814</td>\n",
       "      <td>-0.137477</td>\n",
       "      <td>0.233620</td>\n",
       "      <td>-0.086121</td>\n",
       "      <td>...</td>\n",
       "      <td>-0.022054</td>\n",
       "      <td>0.005896</td>\n",
       "      <td>0.254335</td>\n",
       "      <td>0.064286</td>\n",
       "      <td>0.053016</td>\n",
       "      <td>0.033330</td>\n",
       "      <td>-0.145949</td>\n",
       "      <td>-0.075656</td>\n",
       "      <td>0.031800</td>\n",
       "      <td>0.054332</td>\n",
       "    </tr>\n",
       "    <tr>\n",
       "      <th>1460</th>\n",
       "      <td>-0.181066</td>\n",
       "      <td>0.418906</td>\n",
       "      <td>-0.402291</td>\n",
       "      <td>0.043643</td>\n",
       "      <td>-0.247754</td>\n",
       "      <td>-0.280986</td>\n",
       "      <td>-0.084304</td>\n",
       "      <td>0.309762</td>\n",
       "      <td>-0.127623</td>\n",
       "      <td>0.162343</td>\n",
       "      <td>...</td>\n",
       "      <td>-0.114205</td>\n",
       "      <td>-0.180213</td>\n",
       "      <td>0.389816</td>\n",
       "      <td>-0.015653</td>\n",
       "      <td>0.294162</td>\n",
       "      <td>-0.074463</td>\n",
       "      <td>0.079486</td>\n",
       "      <td>-0.195355</td>\n",
       "      <td>-0.057083</td>\n",
       "      <td>0.125788</td>\n",
       "    </tr>\n",
       "  </tbody>\n",
       "</table>\n",
       "<p>1461 rows × 300 columns</p>\n",
       "</div>"
      ],
      "text/plain": [
       "           0         1         2         3         4         5         6    \\\n",
       "0    -0.215360 -0.210863 -0.048993  0.427180 -0.121609 -0.308584  0.112717   \n",
       "1     0.208120 -0.130429 -0.079580  0.077155 -0.085101 -0.292260  0.136149   \n",
       "2    -0.077393 -0.147724  0.027273  0.100324 -0.081928 -0.057624 -0.127368   \n",
       "3    -0.077794  0.219930  0.030250  0.164670  0.088253 -0.252270  0.314031   \n",
       "4     0.067912  0.099657 -0.221184  0.057131  0.079260 -0.189118 -0.192921   \n",
       "...        ...       ...       ...       ...       ...       ...       ...   \n",
       "1456 -0.113096 -0.273482  0.015311  0.338063  0.048570 -0.511775 -0.110672   \n",
       "1457 -0.300625  0.064431 -0.226009  0.020363 -0.263480 -0.361015  0.232229   \n",
       "1458 -0.012226 -0.021623 -0.025557  0.062568  0.044392 -0.195454  0.043100   \n",
       "1459  0.025668  0.111095  0.208543  0.384037  0.271972 -0.044623  0.098814   \n",
       "1460 -0.181066  0.418906 -0.402291  0.043643 -0.247754 -0.280986 -0.084304   \n",
       "\n",
       "           7         8         9    ...       290       291       292  \\\n",
       "0     0.064141  0.551114 -0.351590  ...  0.185593  0.089715  0.462490   \n",
       "1     0.198058 -0.283171  0.024087  ...  0.000810  0.034221  0.221432   \n",
       "2     0.215071 -0.097769  0.034881  ...  0.075987 -0.044358  0.202998   \n",
       "3     0.112665  0.242665 -0.218956  ... -0.094893  0.105252 -0.083862   \n",
       "4     0.265054  0.140077  0.122684  ... -0.180984  0.138427  0.274409   \n",
       "...        ...       ...       ...  ...       ...       ...       ...   \n",
       "1456  0.106259  0.161932 -0.225115  ...  0.055461  0.219058  0.311583   \n",
       "1457 -0.000351  0.337517  0.144770  ... -0.104717  0.146385  0.404465   \n",
       "1458  0.168317 -0.073892  0.003455  ... -0.033350  0.114818  0.198662   \n",
       "1459 -0.137477  0.233620 -0.086121  ... -0.022054  0.005896  0.254335   \n",
       "1460  0.309762 -0.127623  0.162343  ... -0.114205 -0.180213  0.389816   \n",
       "\n",
       "           293       294       295       296       297       298       299  \n",
       "0    -0.220472  0.199894  0.118255 -0.187300 -0.337839 -0.023418  0.067537  \n",
       "1    -0.116216  0.005286 -0.175949 -0.153092 -0.016642  0.211479  0.007260  \n",
       "2    -0.144032  0.064672  0.144197  0.101997 -0.128809  0.199768 -0.261231  \n",
       "3     0.021957 -0.111532  0.241370 -0.147619 -0.196421  0.276743  0.061880  \n",
       "4     0.075372 -0.043200  0.288505  0.007114 -0.050045 -0.287214  0.047903  \n",
       "...        ...       ...       ...       ...       ...       ...       ...  \n",
       "1456  0.110038  0.049158  0.065531 -0.458110 -0.460287  0.031255 -0.086406  \n",
       "1457 -0.167410 -0.050004  0.353769 -0.134281 -0.038105  0.481917 -0.167302  \n",
       "1458 -0.071701 -0.069229  0.144593 -0.160528 -0.033202 -0.014933 -0.048008  \n",
       "1459  0.064286  0.053016  0.033330 -0.145949 -0.075656  0.031800  0.054332  \n",
       "1460 -0.015653  0.294162 -0.074463  0.079486 -0.195355 -0.057083  0.125788  \n",
       "\n",
       "[1461 rows x 300 columns]"
      ]
     },
     "execution_count": 106,
     "metadata": {},
     "output_type": "execute_result"
    }
   ],
   "source": [
    "docs_vectors2"
   ]
  },
  {
   "cell_type": "code",
   "execution_count": 107,
   "id": "c1a3cbe1",
   "metadata": {},
   "outputs": [],
   "source": [
    "docs_vectors2.to_csv('docs_vectors2.csv', index = True)"
   ]
  },
  {
   "cell_type": "code",
   "execution_count": 115,
   "id": "62d94f0b",
   "metadata": {},
   "outputs": [
    {
     "data": {
      "text/plain": [
       "0       1\n",
       "1       0\n",
       "2       0\n",
       "3       0\n",
       "4       1\n",
       "       ..\n",
       "1456    0\n",
       "1457    1\n",
       "1458    0\n",
       "1459    0\n",
       "1460    0\n",
       "Name: Class, Length: 1461, dtype: int64"
      ]
     },
     "execution_count": 115,
     "metadata": {},
     "output_type": "execute_result"
    }
   ],
   "source": [
    "d = data['Class'].reset_index(drop = True)\n",
    "d"
   ]
  },
  {
   "cell_type": "code",
   "execution_count": 116,
   "id": "a017a4f4",
   "metadata": {},
   "outputs": [],
   "source": [
    "docs_vectors2['Class'] = d\n",
    "# docs_vectors2 = docs_vectors.dropna()"
   ]
  },
  {
   "cell_type": "code",
   "execution_count": 117,
   "id": "45c55249",
   "metadata": {},
   "outputs": [
    {
     "data": {
      "text/plain": [
       "((1168, 300), (1168,), (293, 300), (293,))"
      ]
     },
     "execution_count": 117,
     "metadata": {},
     "output_type": "execute_result"
    }
   ],
   "source": [
    "train_x, test_x, train_y, test_y = train_test_split(docs_vectors2.drop('Class', axis = 1),\n",
    "                                                   docs_vectors2['Class'],\n",
    "                                                   test_size = 0.2,\n",
    "                                                   random_state = 1)\n",
    "train_x.shape, train_y.shape, test_x.shape, test_y.shape"
   ]
  },
  {
   "cell_type": "code",
   "execution_count": 119,
   "id": "5d5cd1ee",
   "metadata": {},
   "outputs": [
    {
     "data": {
      "text/plain": [
       "0.515358361774744"
      ]
     },
     "execution_count": 119,
     "metadata": {},
     "output_type": "execute_result"
    }
   ],
   "source": [
    "model4 = AdaBoostClassifier(n_estimators=800, random_state = 42)\n",
    "model4.fit(train_x, train_y)\n",
    "test_pred4 = model4.predict(test_x)\n",
    "accuracy_score(test_y, test_pred4)"
   ]
  },
  {
   "cell_type": "code",
   "execution_count": 120,
   "id": "94c236ec",
   "metadata": {},
   "outputs": [],
   "source": [
    "with open(\"model4.pkl\", \"wb\") as f:\n",
    "    pickle.dump(model4, f)"
   ]
  },
  {
   "cell_type": "markdown",
   "id": "9e95eec0",
   "metadata": {},
   "source": [
    "### обучаем готовуюм модель"
   ]
  },
  {
   "cell_type": "code",
   "execution_count": 19,
   "id": "7845acf3",
   "metadata": {},
   "outputs": [],
   "source": [
    "EMBEDDING_DIM = 300\n",
    "# train word2vec model\n",
    "model5 = gensim.models.Word2Vec(sentences=data1, vector_size=EMBEDDING_DIM, window=1, workers=4, min_count=1)"
   ]
  },
  {
   "cell_type": "code",
   "execution_count": 20,
   "id": "ebf1be6f",
   "metadata": {},
   "outputs": [],
   "source": [
    "# data1.values.tolist()"
   ]
  },
  {
   "cell_type": "code",
   "execution_count": 21,
   "id": "8a63e85f",
   "metadata": {},
   "outputs": [
    {
     "data": {
      "text/plain": [
       "(23536, 300)"
      ]
     },
     "execution_count": 21,
     "metadata": {},
     "output_type": "execute_result"
    }
   ],
   "source": [
    "model5.wv.vectors.shape"
   ]
  },
  {
   "cell_type": "code",
   "execution_count": 22,
   "id": "df96a821",
   "metadata": {},
   "outputs": [
    {
     "data": {
      "text/plain": [
       "23536"
      ]
     },
     "execution_count": 22,
     "metadata": {},
     "output_type": "execute_result"
    }
   ],
   "source": [
    "len(model5.wv.index_to_key)"
   ]
  },
  {
   "cell_type": "code",
   "execution_count": 23,
   "id": "44910ee4",
   "metadata": {},
   "outputs": [],
   "source": [
    "# save model in ASCII (word2vec) format\n",
    "filename = 'model5_emb_w2v.txt'\n",
    "model5.wv.save_word2vec_format(filename, binary=False)"
   ]
  },
  {
   "cell_type": "code",
   "execution_count": 24,
   "id": "5ce7b130",
   "metadata": {},
   "outputs": [],
   "source": [
    "embeddings_index = {}\n",
    "f = open(os.path.join('', 'model5_emb_w2v.txt'),  encoding = \"utf-8\")\n",
    "for line in f:\n",
    "    values = line.split()\n",
    "    word = values[0]\n",
    "    coefs = np.asarray(values[1:])\n",
    "    embeddings_index[word] = coefs\n",
    "f.close()"
   ]
  },
  {
   "cell_type": "code",
   "execution_count": 141,
   "id": "2e3fb93d",
   "metadata": {},
   "outputs": [],
   "source": [
    "# embeddings_index"
   ]
  },
  {
   "cell_type": "code",
   "execution_count": null,
   "id": "0ea945e9",
   "metadata": {},
   "outputs": [],
   "source": [
    "# docs_vectors1 = pd.DataFrame() # creating empty final dataframe\n",
    "# # stopwords = nltk.corpus.stopwords.words('english') # removing stop words\n",
    "# for doc in tqdm(data1):#.str.lower().str.replace('[^a-z ]', ''): # looping through each document and cleaning it\n",
    "#     temp1 = pd.DataFrame()  # creating a temporary dataframe(store value for 1st doc & for 2nd doc remove the details of 1st & proced through 2nd and so on..)\n",
    "#     for word in doc: # looping through each word of a single document and spliting through space\n",
    "# #         if word not in STOPWORDS: # if word is not present in stopwords then (try)\n",
    "#         try:\n",
    "#                     word_vec1 = embeddings_index[word] # if word is present in embeddings(goole provides weights associate with words(300)) then proceed\n",
    "#                     temp12 = temp1.append(pd.Series(word_vec1), ignore_index = True) # if word is present then append it to temporary dataframe\n",
    "#         except:\n",
    "#                     pass\n",
    "#     doc_vector1 = temp12.mean() # take the average of each column(w0, w1, w2,........w300)\n",
    "#     docs_vectors1 = docs_vectors1.append(doc_vector1, ignore_index = True) # append each document value to the final dataframe\n",
    "# docs_vectors1.shape"
   ]
  },
  {
   "cell_type": "code",
   "execution_count": 25,
   "id": "cdc4e67e",
   "metadata": {},
   "outputs": [],
   "source": [
    "url = \"model.bin\"\n",
    "embeddings = gensim.models.KeyedVectors.load_word2vec_format(url, binary=True)"
   ]
  },
  {
   "cell_type": "code",
   "execution_count": 26,
   "id": "b9f5fdb3",
   "metadata": {},
   "outputs": [
    {
     "data": {
      "text/plain": [
       "<gensim.models.keyedvectors.KeyedVectors at 0x19daecdf730>"
      ]
     },
     "execution_count": 26,
     "metadata": {},
     "output_type": "execute_result"
    }
   ],
   "source": [
    "embeddings"
   ]
  },
  {
   "cell_type": "code",
   "execution_count": 27,
   "id": "4ed029e6",
   "metadata": {},
   "outputs": [
    {
     "data": {
      "text/plain": [
       "(249318, 300)"
      ]
     },
     "execution_count": 27,
     "metadata": {},
     "output_type": "execute_result"
    }
   ],
   "source": [
    "embeddings.vectors.shape"
   ]
  },
  {
   "cell_type": "code",
   "execution_count": 94,
   "id": "ef207318",
   "metadata": {},
   "outputs": [],
   "source": [
    "xxx = ' '.join(embeddings.index_to_key)"
   ]
  },
  {
   "cell_type": "code",
   "execution_count": 144,
   "id": "944d5727",
   "metadata": {},
   "outputs": [
    {
     "data": {
      "application/vnd.jupyter.widget-view+json": {
       "model_id": "9dea3fc08d084138af4e2846d51a3df8",
       "version_major": 2,
       "version_minor": 0
      },
      "text/plain": [
       "  0%|          | 0/1461 [00:00<?, ?it/s]"
      ]
     },
     "metadata": {},
     "output_type": "display_data"
    },
    {
     "data": {
      "text/plain": [
       "(1461, 300)"
      ]
     },
     "execution_count": 144,
     "metadata": {},
     "output_type": "execute_result"
    }
   ],
   "source": [
    "docs_vectors = pd.DataFrame() # creating empty final dataframe\n",
    "# stopwords = nltk.corpus.stopwords.words('english') # removing stop words\n",
    "for doc in tqdm(data1):#.str.lower().str.replace('[^a-z ]', ''): # looping through each document and cleaning it\n",
    "    temp = pd.DataFrame()  # creating a temporary dataframe(store value for 1st doc & for 2nd doc remove the details of 1st & proced through 2nd and so on..)\n",
    "    for word in doc: # looping through each word of a single document and spliting through space\n",
    "#         if word not in STOPWORDS: # if word is not present in stopwords then (try)\n",
    "            try:\n",
    "                        e = r'{}\\w+'.format(word)\n",
    "                        prog = re.compile(e)\n",
    "                        r = re.search(prog, xxx)\n",
    "                        t = r.group(0)\n",
    "           \n",
    "                        word_vec = embeddings[t] # if word is present in embeddings(goole provides weights associate with words(300)) then proceed\n",
    "                        temp = temp.append(pd.Series(word_vec), ignore_index = True) # if word is present then append it to temporary dataframe\n",
    "            except:\n",
    "                        pass\n",
    "    doc_vector = temp.mean() # take the average of each column(w0, w1, w2,........w300)\n",
    "    docs_vectors = docs_vectors.append(doc_vector, ignore_index = True) # append each document value to the final dataframe\n",
    "docs_vectors.shape"
   ]
  },
  {
   "cell_type": "code",
   "execution_count": 145,
   "id": "9862cc44",
   "metadata": {},
   "outputs": [
    {
     "data": {
      "text/html": [
       "<div>\n",
       "<style scoped>\n",
       "    .dataframe tbody tr th:only-of-type {\n",
       "        vertical-align: middle;\n",
       "    }\n",
       "\n",
       "    .dataframe tbody tr th {\n",
       "        vertical-align: top;\n",
       "    }\n",
       "\n",
       "    .dataframe thead th {\n",
       "        text-align: right;\n",
       "    }\n",
       "</style>\n",
       "<table border=\"1\" class=\"dataframe\">\n",
       "  <thead>\n",
       "    <tr style=\"text-align: right;\">\n",
       "      <th></th>\n",
       "      <th>0</th>\n",
       "      <th>1</th>\n",
       "      <th>2</th>\n",
       "      <th>3</th>\n",
       "      <th>4</th>\n",
       "      <th>5</th>\n",
       "      <th>6</th>\n",
       "      <th>7</th>\n",
       "      <th>8</th>\n",
       "      <th>9</th>\n",
       "      <th>...</th>\n",
       "      <th>290</th>\n",
       "      <th>291</th>\n",
       "      <th>292</th>\n",
       "      <th>293</th>\n",
       "      <th>294</th>\n",
       "      <th>295</th>\n",
       "      <th>296</th>\n",
       "      <th>297</th>\n",
       "      <th>298</th>\n",
       "      <th>299</th>\n",
       "    </tr>\n",
       "  </thead>\n",
       "  <tbody>\n",
       "    <tr>\n",
       "      <th>0</th>\n",
       "      <td>-0.013191</td>\n",
       "      <td>0.059158</td>\n",
       "      <td>0.060224</td>\n",
       "      <td>-0.125594</td>\n",
       "      <td>-0.050226</td>\n",
       "      <td>0.138172</td>\n",
       "      <td>0.120975</td>\n",
       "      <td>-0.332084</td>\n",
       "      <td>0.186536</td>\n",
       "      <td>-0.128958</td>\n",
       "      <td>...</td>\n",
       "      <td>0.070071</td>\n",
       "      <td>-0.054759</td>\n",
       "      <td>0.037225</td>\n",
       "      <td>0.167769</td>\n",
       "      <td>-0.169450</td>\n",
       "      <td>-0.045887</td>\n",
       "      <td>0.155069</td>\n",
       "      <td>0.142826</td>\n",
       "      <td>-0.017079</td>\n",
       "      <td>0.002221</td>\n",
       "    </tr>\n",
       "    <tr>\n",
       "      <th>1</th>\n",
       "      <td>0.084251</td>\n",
       "      <td>0.124188</td>\n",
       "      <td>0.118797</td>\n",
       "      <td>-0.159076</td>\n",
       "      <td>-0.008897</td>\n",
       "      <td>0.111648</td>\n",
       "      <td>0.084689</td>\n",
       "      <td>-0.232688</td>\n",
       "      <td>0.150248</td>\n",
       "      <td>-0.207708</td>\n",
       "      <td>...</td>\n",
       "      <td>0.076398</td>\n",
       "      <td>-0.095839</td>\n",
       "      <td>0.084627</td>\n",
       "      <td>0.269756</td>\n",
       "      <td>-0.245106</td>\n",
       "      <td>-0.180758</td>\n",
       "      <td>-0.055634</td>\n",
       "      <td>0.103793</td>\n",
       "      <td>0.112925</td>\n",
       "      <td>0.060480</td>\n",
       "    </tr>\n",
       "    <tr>\n",
       "      <th>2</th>\n",
       "      <td>0.014422</td>\n",
       "      <td>0.056866</td>\n",
       "      <td>-0.054798</td>\n",
       "      <td>-0.121145</td>\n",
       "      <td>-0.023593</td>\n",
       "      <td>0.010484</td>\n",
       "      <td>0.076940</td>\n",
       "      <td>-0.301954</td>\n",
       "      <td>0.116574</td>\n",
       "      <td>-0.282084</td>\n",
       "      <td>...</td>\n",
       "      <td>0.121851</td>\n",
       "      <td>-0.097298</td>\n",
       "      <td>0.041443</td>\n",
       "      <td>0.126516</td>\n",
       "      <td>-0.197347</td>\n",
       "      <td>-0.194806</td>\n",
       "      <td>0.028369</td>\n",
       "      <td>0.125829</td>\n",
       "      <td>0.046699</td>\n",
       "      <td>-0.003971</td>\n",
       "    </tr>\n",
       "    <tr>\n",
       "      <th>3</th>\n",
       "      <td>-0.068407</td>\n",
       "      <td>0.131613</td>\n",
       "      <td>0.139756</td>\n",
       "      <td>-0.082656</td>\n",
       "      <td>-0.011039</td>\n",
       "      <td>0.134898</td>\n",
       "      <td>0.018105</td>\n",
       "      <td>-0.214545</td>\n",
       "      <td>0.114342</td>\n",
       "      <td>-0.105015</td>\n",
       "      <td>...</td>\n",
       "      <td>0.090942</td>\n",
       "      <td>-0.126689</td>\n",
       "      <td>0.026244</td>\n",
       "      <td>0.134046</td>\n",
       "      <td>-0.110569</td>\n",
       "      <td>-0.081376</td>\n",
       "      <td>0.089226</td>\n",
       "      <td>0.085096</td>\n",
       "      <td>0.019248</td>\n",
       "      <td>0.048981</td>\n",
       "    </tr>\n",
       "    <tr>\n",
       "      <th>4</th>\n",
       "      <td>-0.041747</td>\n",
       "      <td>0.131963</td>\n",
       "      <td>0.096976</td>\n",
       "      <td>-0.165751</td>\n",
       "      <td>0.022550</td>\n",
       "      <td>0.143508</td>\n",
       "      <td>-0.009388</td>\n",
       "      <td>-0.252896</td>\n",
       "      <td>0.155254</td>\n",
       "      <td>-0.093399</td>\n",
       "      <td>...</td>\n",
       "      <td>0.103711</td>\n",
       "      <td>-0.105977</td>\n",
       "      <td>0.200271</td>\n",
       "      <td>0.245046</td>\n",
       "      <td>-0.158686</td>\n",
       "      <td>-0.202534</td>\n",
       "      <td>0.046330</td>\n",
       "      <td>0.142960</td>\n",
       "      <td>0.069193</td>\n",
       "      <td>0.123898</td>\n",
       "    </tr>\n",
       "    <tr>\n",
       "      <th>...</th>\n",
       "      <td>...</td>\n",
       "      <td>...</td>\n",
       "      <td>...</td>\n",
       "      <td>...</td>\n",
       "      <td>...</td>\n",
       "      <td>...</td>\n",
       "      <td>...</td>\n",
       "      <td>...</td>\n",
       "      <td>...</td>\n",
       "      <td>...</td>\n",
       "      <td>...</td>\n",
       "      <td>...</td>\n",
       "      <td>...</td>\n",
       "      <td>...</td>\n",
       "      <td>...</td>\n",
       "      <td>...</td>\n",
       "      <td>...</td>\n",
       "      <td>...</td>\n",
       "      <td>...</td>\n",
       "      <td>...</td>\n",
       "      <td>...</td>\n",
       "    </tr>\n",
       "    <tr>\n",
       "      <th>1456</th>\n",
       "      <td>0.033000</td>\n",
       "      <td>-0.066364</td>\n",
       "      <td>0.245665</td>\n",
       "      <td>-0.127960</td>\n",
       "      <td>-0.107152</td>\n",
       "      <td>0.234287</td>\n",
       "      <td>0.057493</td>\n",
       "      <td>-0.162140</td>\n",
       "      <td>0.068957</td>\n",
       "      <td>-0.324508</td>\n",
       "      <td>...</td>\n",
       "      <td>0.059070</td>\n",
       "      <td>-0.053606</td>\n",
       "      <td>0.088543</td>\n",
       "      <td>0.373459</td>\n",
       "      <td>-0.248380</td>\n",
       "      <td>0.103730</td>\n",
       "      <td>-0.061873</td>\n",
       "      <td>0.099642</td>\n",
       "      <td>-0.018159</td>\n",
       "      <td>0.059618</td>\n",
       "    </tr>\n",
       "    <tr>\n",
       "      <th>1457</th>\n",
       "      <td>0.033794</td>\n",
       "      <td>0.030237</td>\n",
       "      <td>0.117075</td>\n",
       "      <td>-0.105256</td>\n",
       "      <td>-0.070364</td>\n",
       "      <td>0.150136</td>\n",
       "      <td>0.038175</td>\n",
       "      <td>-0.223198</td>\n",
       "      <td>0.115954</td>\n",
       "      <td>-0.135736</td>\n",
       "      <td>...</td>\n",
       "      <td>0.141963</td>\n",
       "      <td>-0.143899</td>\n",
       "      <td>0.074173</td>\n",
       "      <td>0.225582</td>\n",
       "      <td>-0.151185</td>\n",
       "      <td>-0.093885</td>\n",
       "      <td>0.000289</td>\n",
       "      <td>0.175597</td>\n",
       "      <td>-0.010444</td>\n",
       "      <td>0.000767</td>\n",
       "    </tr>\n",
       "    <tr>\n",
       "      <th>1458</th>\n",
       "      <td>0.041877</td>\n",
       "      <td>0.078671</td>\n",
       "      <td>0.190183</td>\n",
       "      <td>-0.112512</td>\n",
       "      <td>-0.032143</td>\n",
       "      <td>0.114198</td>\n",
       "      <td>0.089755</td>\n",
       "      <td>-0.224936</td>\n",
       "      <td>0.060932</td>\n",
       "      <td>-0.143773</td>\n",
       "      <td>...</td>\n",
       "      <td>0.044300</td>\n",
       "      <td>-0.105738</td>\n",
       "      <td>0.071954</td>\n",
       "      <td>0.155497</td>\n",
       "      <td>-0.189605</td>\n",
       "      <td>-0.103912</td>\n",
       "      <td>0.053385</td>\n",
       "      <td>0.097559</td>\n",
       "      <td>0.046215</td>\n",
       "      <td>0.109485</td>\n",
       "    </tr>\n",
       "    <tr>\n",
       "      <th>1459</th>\n",
       "      <td>0.007553</td>\n",
       "      <td>0.156246</td>\n",
       "      <td>0.009881</td>\n",
       "      <td>-0.205053</td>\n",
       "      <td>-0.116344</td>\n",
       "      <td>0.027343</td>\n",
       "      <td>0.090252</td>\n",
       "      <td>-0.362851</td>\n",
       "      <td>0.046996</td>\n",
       "      <td>-0.189398</td>\n",
       "      <td>...</td>\n",
       "      <td>0.147364</td>\n",
       "      <td>-0.102849</td>\n",
       "      <td>0.092346</td>\n",
       "      <td>0.139465</td>\n",
       "      <td>-0.130607</td>\n",
       "      <td>-0.112450</td>\n",
       "      <td>-0.008115</td>\n",
       "      <td>0.117943</td>\n",
       "      <td>0.062811</td>\n",
       "      <td>0.023136</td>\n",
       "    </tr>\n",
       "    <tr>\n",
       "      <th>1460</th>\n",
       "      <td>0.034119</td>\n",
       "      <td>0.035947</td>\n",
       "      <td>0.061263</td>\n",
       "      <td>-0.118614</td>\n",
       "      <td>-0.063564</td>\n",
       "      <td>0.128960</td>\n",
       "      <td>-0.005969</td>\n",
       "      <td>-0.247569</td>\n",
       "      <td>0.074921</td>\n",
       "      <td>-0.156072</td>\n",
       "      <td>...</td>\n",
       "      <td>0.052080</td>\n",
       "      <td>-0.093317</td>\n",
       "      <td>0.139895</td>\n",
       "      <td>0.163305</td>\n",
       "      <td>-0.171559</td>\n",
       "      <td>-0.121639</td>\n",
       "      <td>-0.044351</td>\n",
       "      <td>0.172002</td>\n",
       "      <td>0.062675</td>\n",
       "      <td>0.091743</td>\n",
       "    </tr>\n",
       "  </tbody>\n",
       "</table>\n",
       "<p>1461 rows × 300 columns</p>\n",
       "</div>"
      ],
      "text/plain": [
       "           0         1         2         3         4         5         6    \\\n",
       "0    -0.013191  0.059158  0.060224 -0.125594 -0.050226  0.138172  0.120975   \n",
       "1     0.084251  0.124188  0.118797 -0.159076 -0.008897  0.111648  0.084689   \n",
       "2     0.014422  0.056866 -0.054798 -0.121145 -0.023593  0.010484  0.076940   \n",
       "3    -0.068407  0.131613  0.139756 -0.082656 -0.011039  0.134898  0.018105   \n",
       "4    -0.041747  0.131963  0.096976 -0.165751  0.022550  0.143508 -0.009388   \n",
       "...        ...       ...       ...       ...       ...       ...       ...   \n",
       "1456  0.033000 -0.066364  0.245665 -0.127960 -0.107152  0.234287  0.057493   \n",
       "1457  0.033794  0.030237  0.117075 -0.105256 -0.070364  0.150136  0.038175   \n",
       "1458  0.041877  0.078671  0.190183 -0.112512 -0.032143  0.114198  0.089755   \n",
       "1459  0.007553  0.156246  0.009881 -0.205053 -0.116344  0.027343  0.090252   \n",
       "1460  0.034119  0.035947  0.061263 -0.118614 -0.063564  0.128960 -0.005969   \n",
       "\n",
       "           7         8         9    ...       290       291       292  \\\n",
       "0    -0.332084  0.186536 -0.128958  ...  0.070071 -0.054759  0.037225   \n",
       "1    -0.232688  0.150248 -0.207708  ...  0.076398 -0.095839  0.084627   \n",
       "2    -0.301954  0.116574 -0.282084  ...  0.121851 -0.097298  0.041443   \n",
       "3    -0.214545  0.114342 -0.105015  ...  0.090942 -0.126689  0.026244   \n",
       "4    -0.252896  0.155254 -0.093399  ...  0.103711 -0.105977  0.200271   \n",
       "...        ...       ...       ...  ...       ...       ...       ...   \n",
       "1456 -0.162140  0.068957 -0.324508  ...  0.059070 -0.053606  0.088543   \n",
       "1457 -0.223198  0.115954 -0.135736  ...  0.141963 -0.143899  0.074173   \n",
       "1458 -0.224936  0.060932 -0.143773  ...  0.044300 -0.105738  0.071954   \n",
       "1459 -0.362851  0.046996 -0.189398  ...  0.147364 -0.102849  0.092346   \n",
       "1460 -0.247569  0.074921 -0.156072  ...  0.052080 -0.093317  0.139895   \n",
       "\n",
       "           293       294       295       296       297       298       299  \n",
       "0     0.167769 -0.169450 -0.045887  0.155069  0.142826 -0.017079  0.002221  \n",
       "1     0.269756 -0.245106 -0.180758 -0.055634  0.103793  0.112925  0.060480  \n",
       "2     0.126516 -0.197347 -0.194806  0.028369  0.125829  0.046699 -0.003971  \n",
       "3     0.134046 -0.110569 -0.081376  0.089226  0.085096  0.019248  0.048981  \n",
       "4     0.245046 -0.158686 -0.202534  0.046330  0.142960  0.069193  0.123898  \n",
       "...        ...       ...       ...       ...       ...       ...       ...  \n",
       "1456  0.373459 -0.248380  0.103730 -0.061873  0.099642 -0.018159  0.059618  \n",
       "1457  0.225582 -0.151185 -0.093885  0.000289  0.175597 -0.010444  0.000767  \n",
       "1458  0.155497 -0.189605 -0.103912  0.053385  0.097559  0.046215  0.109485  \n",
       "1459  0.139465 -0.130607 -0.112450 -0.008115  0.117943  0.062811  0.023136  \n",
       "1460  0.163305 -0.171559 -0.121639 -0.044351  0.172002  0.062675  0.091743  \n",
       "\n",
       "[1461 rows x 300 columns]"
      ]
     },
     "execution_count": 145,
     "metadata": {},
     "output_type": "execute_result"
    }
   ],
   "source": [
    "docs_vectors"
   ]
  },
  {
   "cell_type": "code",
   "execution_count": 146,
   "id": "c5f0ce70",
   "metadata": {},
   "outputs": [],
   "source": [
    "docs_vectors.to_csv('docs_vectors.csv', index = True)"
   ]
  },
  {
   "cell_type": "code",
   "execution_count": 147,
   "id": "cd5990da",
   "metadata": {},
   "outputs": [],
   "source": [
    "docs_vectors['Class'] = d\n",
    "# docs_vectors2 = docs_vectors.dropna()"
   ]
  },
  {
   "cell_type": "code",
   "execution_count": 157,
   "id": "8af19ff8",
   "metadata": {},
   "outputs": [],
   "source": [
    "docs_vectors = docs_vectors.dropna()"
   ]
  },
  {
   "cell_type": "code",
   "execution_count": 161,
   "id": "1c013c08",
   "metadata": {},
   "outputs": [
    {
     "data": {
      "text/html": [
       "<div>\n",
       "<style scoped>\n",
       "    .dataframe tbody tr th:only-of-type {\n",
       "        vertical-align: middle;\n",
       "    }\n",
       "\n",
       "    .dataframe tbody tr th {\n",
       "        vertical-align: top;\n",
       "    }\n",
       "\n",
       "    .dataframe thead th {\n",
       "        text-align: right;\n",
       "    }\n",
       "</style>\n",
       "<table border=\"1\" class=\"dataframe\">\n",
       "  <thead>\n",
       "    <tr style=\"text-align: right;\">\n",
       "      <th></th>\n",
       "      <th>0</th>\n",
       "      <th>1</th>\n",
       "      <th>2</th>\n",
       "      <th>3</th>\n",
       "      <th>4</th>\n",
       "      <th>5</th>\n",
       "      <th>6</th>\n",
       "      <th>7</th>\n",
       "      <th>8</th>\n",
       "      <th>9</th>\n",
       "      <th>...</th>\n",
       "      <th>291</th>\n",
       "      <th>292</th>\n",
       "      <th>293</th>\n",
       "      <th>294</th>\n",
       "      <th>295</th>\n",
       "      <th>296</th>\n",
       "      <th>297</th>\n",
       "      <th>298</th>\n",
       "      <th>299</th>\n",
       "      <th>Class</th>\n",
       "    </tr>\n",
       "  </thead>\n",
       "  <tbody>\n",
       "    <tr>\n",
       "      <th>0</th>\n",
       "      <td>-0.013191</td>\n",
       "      <td>0.059158</td>\n",
       "      <td>0.060224</td>\n",
       "      <td>-0.125594</td>\n",
       "      <td>-0.050226</td>\n",
       "      <td>0.138172</td>\n",
       "      <td>0.120975</td>\n",
       "      <td>-0.332084</td>\n",
       "      <td>0.186536</td>\n",
       "      <td>-0.128958</td>\n",
       "      <td>...</td>\n",
       "      <td>-0.054759</td>\n",
       "      <td>0.037225</td>\n",
       "      <td>0.167769</td>\n",
       "      <td>-0.169450</td>\n",
       "      <td>-0.045887</td>\n",
       "      <td>0.155069</td>\n",
       "      <td>0.142826</td>\n",
       "      <td>-0.017079</td>\n",
       "      <td>0.002221</td>\n",
       "      <td>1</td>\n",
       "    </tr>\n",
       "    <tr>\n",
       "      <th>1</th>\n",
       "      <td>0.084251</td>\n",
       "      <td>0.124188</td>\n",
       "      <td>0.118797</td>\n",
       "      <td>-0.159076</td>\n",
       "      <td>-0.008897</td>\n",
       "      <td>0.111648</td>\n",
       "      <td>0.084689</td>\n",
       "      <td>-0.232688</td>\n",
       "      <td>0.150248</td>\n",
       "      <td>-0.207708</td>\n",
       "      <td>...</td>\n",
       "      <td>-0.095839</td>\n",
       "      <td>0.084627</td>\n",
       "      <td>0.269756</td>\n",
       "      <td>-0.245106</td>\n",
       "      <td>-0.180758</td>\n",
       "      <td>-0.055634</td>\n",
       "      <td>0.103793</td>\n",
       "      <td>0.112925</td>\n",
       "      <td>0.060480</td>\n",
       "      <td>0</td>\n",
       "    </tr>\n",
       "    <tr>\n",
       "      <th>2</th>\n",
       "      <td>0.014422</td>\n",
       "      <td>0.056866</td>\n",
       "      <td>-0.054798</td>\n",
       "      <td>-0.121145</td>\n",
       "      <td>-0.023593</td>\n",
       "      <td>0.010484</td>\n",
       "      <td>0.076940</td>\n",
       "      <td>-0.301954</td>\n",
       "      <td>0.116574</td>\n",
       "      <td>-0.282084</td>\n",
       "      <td>...</td>\n",
       "      <td>-0.097298</td>\n",
       "      <td>0.041443</td>\n",
       "      <td>0.126516</td>\n",
       "      <td>-0.197347</td>\n",
       "      <td>-0.194806</td>\n",
       "      <td>0.028369</td>\n",
       "      <td>0.125829</td>\n",
       "      <td>0.046699</td>\n",
       "      <td>-0.003971</td>\n",
       "      <td>0</td>\n",
       "    </tr>\n",
       "    <tr>\n",
       "      <th>3</th>\n",
       "      <td>-0.068407</td>\n",
       "      <td>0.131613</td>\n",
       "      <td>0.139756</td>\n",
       "      <td>-0.082656</td>\n",
       "      <td>-0.011039</td>\n",
       "      <td>0.134898</td>\n",
       "      <td>0.018105</td>\n",
       "      <td>-0.214545</td>\n",
       "      <td>0.114342</td>\n",
       "      <td>-0.105015</td>\n",
       "      <td>...</td>\n",
       "      <td>-0.126689</td>\n",
       "      <td>0.026244</td>\n",
       "      <td>0.134046</td>\n",
       "      <td>-0.110569</td>\n",
       "      <td>-0.081376</td>\n",
       "      <td>0.089226</td>\n",
       "      <td>0.085096</td>\n",
       "      <td>0.019248</td>\n",
       "      <td>0.048981</td>\n",
       "      <td>0</td>\n",
       "    </tr>\n",
       "    <tr>\n",
       "      <th>4</th>\n",
       "      <td>-0.041747</td>\n",
       "      <td>0.131963</td>\n",
       "      <td>0.096976</td>\n",
       "      <td>-0.165751</td>\n",
       "      <td>0.022550</td>\n",
       "      <td>0.143508</td>\n",
       "      <td>-0.009388</td>\n",
       "      <td>-0.252896</td>\n",
       "      <td>0.155254</td>\n",
       "      <td>-0.093399</td>\n",
       "      <td>...</td>\n",
       "      <td>-0.105977</td>\n",
       "      <td>0.200271</td>\n",
       "      <td>0.245046</td>\n",
       "      <td>-0.158686</td>\n",
       "      <td>-0.202534</td>\n",
       "      <td>0.046330</td>\n",
       "      <td>0.142960</td>\n",
       "      <td>0.069193</td>\n",
       "      <td>0.123898</td>\n",
       "      <td>1</td>\n",
       "    </tr>\n",
       "    <tr>\n",
       "      <th>...</th>\n",
       "      <td>...</td>\n",
       "      <td>...</td>\n",
       "      <td>...</td>\n",
       "      <td>...</td>\n",
       "      <td>...</td>\n",
       "      <td>...</td>\n",
       "      <td>...</td>\n",
       "      <td>...</td>\n",
       "      <td>...</td>\n",
       "      <td>...</td>\n",
       "      <td>...</td>\n",
       "      <td>...</td>\n",
       "      <td>...</td>\n",
       "      <td>...</td>\n",
       "      <td>...</td>\n",
       "      <td>...</td>\n",
       "      <td>...</td>\n",
       "      <td>...</td>\n",
       "      <td>...</td>\n",
       "      <td>...</td>\n",
       "      <td>...</td>\n",
       "    </tr>\n",
       "    <tr>\n",
       "      <th>1456</th>\n",
       "      <td>0.033000</td>\n",
       "      <td>-0.066364</td>\n",
       "      <td>0.245665</td>\n",
       "      <td>-0.127960</td>\n",
       "      <td>-0.107152</td>\n",
       "      <td>0.234287</td>\n",
       "      <td>0.057493</td>\n",
       "      <td>-0.162140</td>\n",
       "      <td>0.068957</td>\n",
       "      <td>-0.324508</td>\n",
       "      <td>...</td>\n",
       "      <td>-0.053606</td>\n",
       "      <td>0.088543</td>\n",
       "      <td>0.373459</td>\n",
       "      <td>-0.248380</td>\n",
       "      <td>0.103730</td>\n",
       "      <td>-0.061873</td>\n",
       "      <td>0.099642</td>\n",
       "      <td>-0.018159</td>\n",
       "      <td>0.059618</td>\n",
       "      <td>0</td>\n",
       "    </tr>\n",
       "    <tr>\n",
       "      <th>1457</th>\n",
       "      <td>0.033794</td>\n",
       "      <td>0.030237</td>\n",
       "      <td>0.117075</td>\n",
       "      <td>-0.105256</td>\n",
       "      <td>-0.070364</td>\n",
       "      <td>0.150136</td>\n",
       "      <td>0.038175</td>\n",
       "      <td>-0.223198</td>\n",
       "      <td>0.115954</td>\n",
       "      <td>-0.135736</td>\n",
       "      <td>...</td>\n",
       "      <td>-0.143899</td>\n",
       "      <td>0.074173</td>\n",
       "      <td>0.225582</td>\n",
       "      <td>-0.151185</td>\n",
       "      <td>-0.093885</td>\n",
       "      <td>0.000289</td>\n",
       "      <td>0.175597</td>\n",
       "      <td>-0.010444</td>\n",
       "      <td>0.000767</td>\n",
       "      <td>1</td>\n",
       "    </tr>\n",
       "    <tr>\n",
       "      <th>1458</th>\n",
       "      <td>0.041877</td>\n",
       "      <td>0.078671</td>\n",
       "      <td>0.190183</td>\n",
       "      <td>-0.112512</td>\n",
       "      <td>-0.032143</td>\n",
       "      <td>0.114198</td>\n",
       "      <td>0.089755</td>\n",
       "      <td>-0.224936</td>\n",
       "      <td>0.060932</td>\n",
       "      <td>-0.143773</td>\n",
       "      <td>...</td>\n",
       "      <td>-0.105738</td>\n",
       "      <td>0.071954</td>\n",
       "      <td>0.155497</td>\n",
       "      <td>-0.189605</td>\n",
       "      <td>-0.103912</td>\n",
       "      <td>0.053385</td>\n",
       "      <td>0.097559</td>\n",
       "      <td>0.046215</td>\n",
       "      <td>0.109485</td>\n",
       "      <td>0</td>\n",
       "    </tr>\n",
       "    <tr>\n",
       "      <th>1459</th>\n",
       "      <td>0.007553</td>\n",
       "      <td>0.156246</td>\n",
       "      <td>0.009881</td>\n",
       "      <td>-0.205053</td>\n",
       "      <td>-0.116344</td>\n",
       "      <td>0.027343</td>\n",
       "      <td>0.090252</td>\n",
       "      <td>-0.362851</td>\n",
       "      <td>0.046996</td>\n",
       "      <td>-0.189398</td>\n",
       "      <td>...</td>\n",
       "      <td>-0.102849</td>\n",
       "      <td>0.092346</td>\n",
       "      <td>0.139465</td>\n",
       "      <td>-0.130607</td>\n",
       "      <td>-0.112450</td>\n",
       "      <td>-0.008115</td>\n",
       "      <td>0.117943</td>\n",
       "      <td>0.062811</td>\n",
       "      <td>0.023136</td>\n",
       "      <td>0</td>\n",
       "    </tr>\n",
       "    <tr>\n",
       "      <th>1460</th>\n",
       "      <td>0.034119</td>\n",
       "      <td>0.035947</td>\n",
       "      <td>0.061263</td>\n",
       "      <td>-0.118614</td>\n",
       "      <td>-0.063564</td>\n",
       "      <td>0.128960</td>\n",
       "      <td>-0.005969</td>\n",
       "      <td>-0.247569</td>\n",
       "      <td>0.074921</td>\n",
       "      <td>-0.156072</td>\n",
       "      <td>...</td>\n",
       "      <td>-0.093317</td>\n",
       "      <td>0.139895</td>\n",
       "      <td>0.163305</td>\n",
       "      <td>-0.171559</td>\n",
       "      <td>-0.121639</td>\n",
       "      <td>-0.044351</td>\n",
       "      <td>0.172002</td>\n",
       "      <td>0.062675</td>\n",
       "      <td>0.091743</td>\n",
       "      <td>0</td>\n",
       "    </tr>\n",
       "  </tbody>\n",
       "</table>\n",
       "<p>1460 rows × 301 columns</p>\n",
       "</div>"
      ],
      "text/plain": [
       "             0         1         2         3         4         5         6  \\\n",
       "0    -0.013191  0.059158  0.060224 -0.125594 -0.050226  0.138172  0.120975   \n",
       "1     0.084251  0.124188  0.118797 -0.159076 -0.008897  0.111648  0.084689   \n",
       "2     0.014422  0.056866 -0.054798 -0.121145 -0.023593  0.010484  0.076940   \n",
       "3    -0.068407  0.131613  0.139756 -0.082656 -0.011039  0.134898  0.018105   \n",
       "4    -0.041747  0.131963  0.096976 -0.165751  0.022550  0.143508 -0.009388   \n",
       "...        ...       ...       ...       ...       ...       ...       ...   \n",
       "1456  0.033000 -0.066364  0.245665 -0.127960 -0.107152  0.234287  0.057493   \n",
       "1457  0.033794  0.030237  0.117075 -0.105256 -0.070364  0.150136  0.038175   \n",
       "1458  0.041877  0.078671  0.190183 -0.112512 -0.032143  0.114198  0.089755   \n",
       "1459  0.007553  0.156246  0.009881 -0.205053 -0.116344  0.027343  0.090252   \n",
       "1460  0.034119  0.035947  0.061263 -0.118614 -0.063564  0.128960 -0.005969   \n",
       "\n",
       "             7         8         9  ...       291       292       293  \\\n",
       "0    -0.332084  0.186536 -0.128958  ... -0.054759  0.037225  0.167769   \n",
       "1    -0.232688  0.150248 -0.207708  ... -0.095839  0.084627  0.269756   \n",
       "2    -0.301954  0.116574 -0.282084  ... -0.097298  0.041443  0.126516   \n",
       "3    -0.214545  0.114342 -0.105015  ... -0.126689  0.026244  0.134046   \n",
       "4    -0.252896  0.155254 -0.093399  ... -0.105977  0.200271  0.245046   \n",
       "...        ...       ...       ...  ...       ...       ...       ...   \n",
       "1456 -0.162140  0.068957 -0.324508  ... -0.053606  0.088543  0.373459   \n",
       "1457 -0.223198  0.115954 -0.135736  ... -0.143899  0.074173  0.225582   \n",
       "1458 -0.224936  0.060932 -0.143773  ... -0.105738  0.071954  0.155497   \n",
       "1459 -0.362851  0.046996 -0.189398  ... -0.102849  0.092346  0.139465   \n",
       "1460 -0.247569  0.074921 -0.156072  ... -0.093317  0.139895  0.163305   \n",
       "\n",
       "           294       295       296       297       298       299  Class  \n",
       "0    -0.169450 -0.045887  0.155069  0.142826 -0.017079  0.002221      1  \n",
       "1    -0.245106 -0.180758 -0.055634  0.103793  0.112925  0.060480      0  \n",
       "2    -0.197347 -0.194806  0.028369  0.125829  0.046699 -0.003971      0  \n",
       "3    -0.110569 -0.081376  0.089226  0.085096  0.019248  0.048981      0  \n",
       "4    -0.158686 -0.202534  0.046330  0.142960  0.069193  0.123898      1  \n",
       "...        ...       ...       ...       ...       ...       ...    ...  \n",
       "1456 -0.248380  0.103730 -0.061873  0.099642 -0.018159  0.059618      0  \n",
       "1457 -0.151185 -0.093885  0.000289  0.175597 -0.010444  0.000767      1  \n",
       "1458 -0.189605 -0.103912  0.053385  0.097559  0.046215  0.109485      0  \n",
       "1459 -0.130607 -0.112450 -0.008115  0.117943  0.062811  0.023136      0  \n",
       "1460 -0.171559 -0.121639 -0.044351  0.172002  0.062675  0.091743      0  \n",
       "\n",
       "[1460 rows x 301 columns]"
      ]
     },
     "execution_count": 161,
     "metadata": {},
     "output_type": "execute_result"
    }
   ],
   "source": [
    "docs_vectors"
   ]
  },
  {
   "cell_type": "code",
   "execution_count": 158,
   "id": "570bfd1e",
   "metadata": {},
   "outputs": [
    {
     "data": {
      "text/plain": [
       "((1168, 300), (1168,), (292, 300), (292,))"
      ]
     },
     "execution_count": 158,
     "metadata": {},
     "output_type": "execute_result"
    }
   ],
   "source": [
    "train_x, test_x, train_y, test_y = train_test_split(docs_vectors.drop('Class', axis = 1),\n",
    "                                                   docs_vectors['Class'],\n",
    "                                                   test_size = 0.2,\n",
    "                                                   random_state = 1)\n",
    "train_x.shape, train_y.shape, test_x.shape, test_y.shape"
   ]
  },
  {
   "cell_type": "code",
   "execution_count": 159,
   "id": "39b5d3d1",
   "metadata": {},
   "outputs": [
    {
     "data": {
      "text/plain": [
       "0.5"
      ]
     },
     "execution_count": 159,
     "metadata": {},
     "output_type": "execute_result"
    }
   ],
   "source": [
    "model6 = AdaBoostClassifier(n_estimators=800, random_state = 42)\n",
    "model6.fit(train_x, train_y)\n",
    "test_pred6 = model6.predict(test_x)\n",
    "accuracy_score(test_y, test_pred6)"
   ]
  },
  {
   "cell_type": "code",
   "execution_count": 160,
   "id": "51730cd2",
   "metadata": {},
   "outputs": [],
   "source": [
    "with open(\"model6\", \"wb\") as f:\n",
    "    pickle.dump(model6, f)"
   ]
  },
  {
   "cell_type": "code",
   "execution_count": 30,
   "id": "9efb6279",
   "metadata": {},
   "outputs": [
    {
     "data": {
      "text/plain": [
       "1462"
      ]
     },
     "execution_count": 30,
     "metadata": {},
     "output_type": "execute_result"
    }
   ],
   "source": [
    "sentences = data1.values.tolist()\n",
    "len(sentences)"
   ]
  },
  {
   "cell_type": "code",
   "execution_count": 31,
   "id": "563dc758",
   "metadata": {},
   "outputs": [
    {
     "data": {
      "text/plain": [
       "array([[-3.74067314e-02,  2.04748258e-01, -1.52673215e-01, ...,\n",
       "         3.70897502e-02, -7.32257077e-03, -1.17836885e-01],\n",
       "       [-5.28660021e-04,  1.14490837e-01,  9.57141295e-02, ...,\n",
       "         3.34788375e-02,  2.18277261e-01,  2.36074984e-01],\n",
       "       [ 3.02308053e-01,  9.65273529e-02, -6.90255687e-02, ...,\n",
       "         2.94942498e-01, -1.83054358e-01,  7.05754608e-02],\n",
       "       ...,\n",
       "       [ 4.87050474e-01,  3.73628944e-01, -1.72188863e-01, ...,\n",
       "        -2.11662650e-01,  1.67713478e-01,  5.33627093e-01],\n",
       "       [-5.02996683e-01,  2.99501687e-01,  2.14433834e-01, ...,\n",
       "        -3.04220784e-02, -1.75972402e-01,  1.85107570e-02],\n",
       "       [-8.83719772e-02,  9.99713615e-02, -6.93622530e-01, ...,\n",
       "         4.86309230e-01,  3.72771084e-01,  4.19355810e-01]], dtype=float32)"
      ]
     },
     "execution_count": 31,
     "metadata": {},
     "output_type": "execute_result"
    }
   ],
   "source": [
    "embeddings.vectors"
   ]
  },
  {
   "cell_type": "code",
   "execution_count": 32,
   "id": "7ce5a243",
   "metadata": {},
   "outputs": [
    {
     "data": {
      "application/vnd.jupyter.widget-view+json": {
       "model_id": "156a8ce214024b7f9af28dc4df2aad55",
       "version_major": 2,
       "version_minor": 0
      },
      "text/plain": [
       "  0%|          | 0/1462 [00:00<?, ?it/s]"
      ]
     },
     "metadata": {},
     "output_type": "display_data"
    },
    {
     "name": "stdout",
     "output_type": "stream",
     "text": [
      "['в', 'на', 'и', 'по', 'с', 'год', 'компания', 'не', 'что', 'млрд', 'за', 'быть', 'сбербанк', 'руб', 'банк', 'это', 'до', 'для', 'к', 'о', 'мочь', 'который', 'рынок', 'акция', 'от', 'из', 'он', 'а', 'рост', 'они', 'российский', 'новый', 'россия', 'составить', 'мы', 'но', 'прибыль', 'этот', 'г', 'как', 'тот', 'млн', 'свой', 'цена', 'рубль', 'кредит', 'вырасти', 'у', 'крупный', 'проект']\n"
     ]
    }
   ],
   "source": [
    "from nltk import FreqDist\n",
    "from sklearn.manifold import TSNE\n",
    "\n",
    "top_words = []\n",
    "\n",
    "fd = FreqDist()\n",
    "for s in tqdm(sentences):\n",
    "    fd.update(s)\n",
    "\n",
    "for w in fd.most_common(1000):\n",
    "    top_words.append(w[0])\n",
    "    \n",
    "print(top_words[:50:])"
   ]
  },
  {
   "cell_type": "code",
   "execution_count": 54,
   "id": "962e68e3",
   "metadata": {},
   "outputs": [
    {
     "data": {
      "application/vnd.jupyter.widget-view+json": {
       "model_id": "2fe3d9e2f2be45a491d4c849828e3b34",
       "version_major": 2,
       "version_minor": 0
      },
      "text/plain": [
       "  0%|          | 0/1000 [00:00<?, ?it/s]"
      ]
     },
     "metadata": {},
     "output_type": "display_data"
    },
    {
     "data": {
      "text/plain": [
       "(937, 300)"
      ]
     },
     "execution_count": 54,
     "metadata": {},
     "output_type": "execute_result"
    }
   ],
   "source": [
    "top_words_vec = pd.DataFrame()\n",
    "top_words1 = []\n",
    "for word in tqdm(top_words): \n",
    "            try:\n",
    "                        e = r'{}\\w+'.format(word)\n",
    "                        prog = re.compile(e)\n",
    "                        r = re.search(prog, xxx)\n",
    "                        t = r.group(0)\n",
    "           \n",
    "                        word_vec = embeddings[t] \n",
    "                        top_words_vec = top_words_vec.append(pd.Series(word_vec), ignore_index = True)\n",
    "                        top_words1.append(word)                                  \n",
    "                                  \n",
    "            except:\n",
    "                        pass\n",
    "    \n",
    "\n",
    "top_words_vec.shape"
   ]
  },
  {
   "cell_type": "code",
   "execution_count": 55,
   "id": "d5a3513e",
   "metadata": {},
   "outputs": [
    {
     "data": {
      "text/plain": [
       "937"
      ]
     },
     "execution_count": 55,
     "metadata": {},
     "output_type": "execute_result"
    }
   ],
   "source": [
    "len(top_words1)"
   ]
  },
  {
   "cell_type": "code",
   "execution_count": 34,
   "id": "a5db3340",
   "metadata": {},
   "outputs": [
    {
     "data": {
      "text/plain": [
       "(937, 300)"
      ]
     },
     "execution_count": 34,
     "metadata": {},
     "output_type": "execute_result"
    }
   ],
   "source": [
    "mat = np.array(top_words_vec)\n",
    "mat.shape"
   ]
  },
  {
   "cell_type": "code",
   "execution_count": 35,
   "id": "17eac47e",
   "metadata": {},
   "outputs": [
    {
     "name": "stdout",
     "output_type": "stream",
     "text": [
      "CPU times: total: 31.2 s\n",
      "Wall time: 4.29 s\n"
     ]
    }
   ],
   "source": [
    "%%time\n",
    "tsne = TSNE(n_components=2, random_state=42)\n",
    "top_words_tsne = tsne.fit_transform(top_words_vec)"
   ]
  },
  {
   "cell_type": "code",
   "execution_count": 67,
   "id": "61c571f2",
   "metadata": {},
   "outputs": [],
   "source": [
    "# !pip3 install bokeh"
   ]
  },
  {
   "cell_type": "code",
   "execution_count": 285,
   "id": "7c0075fa",
   "metadata": {},
   "outputs": [],
   "source": [
    "# !pip install --upgrade bokeh"
   ]
  },
  {
   "cell_type": "code",
   "execution_count": 66,
   "id": "3e61ed12",
   "metadata": {},
   "outputs": [],
   "source": [
    "# !pip install bokeh==0.12.15\n",
    "# !pip install holoviews==1.10.4 "
   ]
  },
  {
   "cell_type": "code",
   "execution_count": 77,
   "id": "740e4e91",
   "metadata": {},
   "outputs": [],
   "source": [
    "# from bokeh.resources import INLINE\n",
    "# import bokeh.io\n",
    "# from bokeh import *\n",
    "# bokeh.io.output_notebook(INLINE)"
   ]
  },
  {
   "cell_type": "code",
   "execution_count": 79,
   "id": "569e20cf",
   "metadata": {},
   "outputs": [
    {
     "data": {
      "text/html": [
       "\n",
       "  <div id=\"efbdff07-e694-4a2c-a31d-067b1b9f1cf4\" data-root-id=\"p1617\" style=\"display: contents;\"></div>\n"
      ]
     },
     "metadata": {},
     "output_type": "display_data"
    },
    {
     "data": {
      "application/javascript": [
       "(function(root) {\n",
       "  function embed_document(root) {\n",
       "  const docs_json = {\"db92e16d-59e1-460c-8e77-d8bf38691ddf\":{\"version\":\"0.12.15\",\"title\":\"Bokeh Application\",\"roots\":[{\"type\":\"object\",\"name\":\"Figure\",\"id\":\"p1617\",\"attributes\":{\"x_range\":{\"type\":\"object\",\"name\":\"DataRange1d\",\"id\":\"p1618\"},\"y_range\":{\"type\":\"object\",\"name\":\"DataRange1d\",\"id\":\"p1619\"},\"x_scale\":{\"type\":\"object\",\"name\":\"LinearScale\",\"id\":\"p1627\"},\"y_scale\":{\"type\":\"object\",\"name\":\"LinearScale\",\"id\":\"p1628\"},\"title\":{\"type\":\"object\",\"name\":\"Title\",\"id\":\"p1620\",\"attributes\":{\"text\":\"word2vec T-SNE (eng model, top1000 words)\"}},\"renderers\":[{\"type\":\"object\",\"name\":\"GlyphRenderer\",\"id\":\"p1652\",\"attributes\":{\"data_source\":{\"type\":\"object\",\"name\":\"ColumnDataSource\",\"id\":\"p1643\",\"attributes\":{\"selected\":{\"type\":\"object\",\"name\":\"Selection\",\"id\":\"p1644\",\"attributes\":{\"indices\":[],\"line_indices\":[]}},\"selection_policy\":{\"type\":\"object\",\"name\":\"UnionRenderers\",\"id\":\"p1645\"},\"data\":{\"type\":\"map\",\"entries\":[[\"x1\",{\"type\":\"ndarray\",\"array\":{\"type\":\"bytes\",\"data\":\"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\"},\"shape\":[937],\"dtype\":\"float32\",\"order\":\"little\"}],[\"x2\",{\"type\":\"ndarray\",\"array\":{\"type\":\"bytes\",\"data\":\"6titQa9UI0HwSWXBJrPMP+WNXMHolDxBNcOqwLQUUUCO6vbAbUtdQdGxysCg32E9GPN7P4wEokAUuA1BowifQHvdU8Bt1AjB4r4IQcC4zkFaLtVAP4w3wFYVA8GIfptBuYo3wJG5r0F0Bo0/JbPMP8bT+T/PU1BBCQERQcinRkHsSl1BuQ5swJSUgEFbb51BldrxPxyPiMAN/i9AmA4KwTQEtUHz6KvAUDEDQOrErT91yQxBvkfCQGpFvcHeWG++n447QMZgWcCMe6lBYpddQU8F7EHL7otAoG23QTFjAr0daptAf6okwcnPnUEqA27A0t2UwRKwHED1rW/B0pXOwMqOiMCIBkxB0Lchvzd7nMBjobzAC4EYwd317sEIQSvAjur2wKSzJMBKPZq+n5fFvzW4bkBVKAdAo+zNwBgnnUBV/uHA7tMXQIzaTcF3VADAo8H3wJE1KEGn+aDBfsmHwUAiuMF7QFLB4VfWQRxFYL/bMntAtUKpPzokaEAqAzVBWLeJwZkBjEAoab1B6UKBvvFJAb6CSQTANKWnQX0ubEE6V7XBECn/vUmnIEBYLylBNH9rwYnyj745g6LAUXeNv5L9HcHwlmg+sDlAwWULZEHFdWhA2KccP1soukHO3ZTBJs0NQeoLa0FUuY3B25K7waURw0AooUTBqFknP/LltsEWeYBB21AFwc9ymUFyx4tBMhHsQewDk0CLh4XBwcOMwSTvBEGCRRhBzBDvQI2MpsEynhLB/8EfvupbaUA2Mb5AOXVKQQJN/sBugg/BcJ3yQVFPVsGoOAlBZ75fwRDPi8GjLOM/EVVPQfO+bkA2n0RBUmBxQYgpUcEaeZjALx6zwHznLcAlgzk/eu54QcwaN0Gt5ZjAaD8ZQX3JjEDUjU7BmFDfv8R+vMDKBjdBzl/BwTrRZsCRO7K/HHE3QKB+UUB+PgTAwsQqQaQ2qEG9CN/AyN/BwOrrs8EoAoTBxhHAwGcBrkG3P7zBrHulQQ2sSMDod7LA43AkQSBqp8D8kGjAW3RoQFfptMATKDnB5I8rQYK1mEFczJY/JNbGwNMVlcEt7j1ByUa+PBfyOj8oAlTBbx97v07irkDKhqLATLGGQbq4oMCZjkxA/VC8P9xyosDl8ADCOnIawOMM1UDSWAZBQ73fQe3cjsCafLG74ItPQVAlM8As9Xs/Fx1bQTwZPUDYlZ3ADFGuwdJF8r1hGkxB9ImGwbCZrEFsw5bBvEJKQRAp70CDMlXBfUfQwJSGzcGkWvfBPu5BQakh1MEIijtBPrXdwMlWl8G0aYpAQj/AQVYqgsGkQ3c/bTKRwHKMocGo6MPBYni+QQSfV0BDsZ/Ainp+wfSh/z8yiwZBoYCFvx0QQMADGlY+kt4AQTgIecA4mitAmee7QAW4G0E3XLHALv3BQNfX5z/iuLxAFkG5wcQRLMFdKZzBld2PwNItiUEuJdpBglq6QQ+/GEDKwHBBQ5qHQdSlxUE8524/miSkvyLVhUEfAUlBjGpZQYDT3EFkM+Q/gubTwX2snsDeW9fAfmkXwPVSzD/5D6nAH6XBwaY/4L5LFKq/4hJYwIhrB0GydM2/4dxTwBWSmEFZgMzB2WQcQbavVUHCosHBKuR+wH9OfcCyt3LAnUqswccsJMEaeu/A2GAjQQEykMFo28DB2q3dQT1kLUEvK97Ao/RMwddxV8G37B/BwPXkQKqh2sDWq5o/Bse/QJzXWEEHKw/Bkp+hQPb5B0FzA4JBy1xdQXWOP8HHhmdAx3W1wfQbUUBenglA8BacvywI7MCNabBBKxMQwRRD2EFF4nFBwciCQO3IxcBvYJDAOtmsQHfMnUFgaTDB21GVQXiuqUHZESnB5bPgwOGUNMEZnrFBPkG/QV9psEEeCILBWrqiwLlarkF8N/9BdjWwQPevPcHmEfHA8E1UwXO1gUDowF/Bc93VwKEc+z7sQmdB3Os4QbCt5EELsGXAJ9u+v6BCeT/+VGnBCQsZwXx3PkBTo/FA/drSwEVNlMG/Kg/COy//QZwjB0Gs+yZBhQjEwLjL2cClGvDAFCZhvTnKmEFfoTFB8IvgwZT9uUF6UGXAxJ+5QRAe1kBAVSLBHVfZQQunr8HBKF3BMlw/QNuKTsDrwGdB8IaFwPqitkCfVxRBLh4xv0YGiUEbEJdAaF2lPqLiAkImEo1BeiulwfAKBsAhHH7BBiRPwS0YFsErU+XB3HzIP1fX+EB1CzhBt6KdP3xZjMGO7pzB7QsEQanEckG0kcxAo0erQfYmtcEx6j3BNZYRQIkiLkHZ4onAruOHQR7dVMHf4e7AHUwQwF0LdcGXsHVAroyGwQhdm0HCiJjBkvWqwfE4gMEWPtHB4rb+QfKY0MFGiMBBmsEnwUXVPUGHb9TAklL3P0VcIcE+HGRBK4N0QPAdy8Cc4pzAX6oQQfEPUkFewnJBsI62vw/no0BGSQ3Acp7xwMYD88DxbwnBS99TwYdlrECL10+/j4ueQHcIDUHrr5FAeeKHQW0s1MFPweZANS8swfs6r0CQV5TBWjuaQY70p8B2hzVB84B7QUWyhr8nqzdB2BfdQZrgRcEV3KbBzcVZwe/Hy8GHp7W/2XCFQKY3rsEXYX7BXZrCwX2MNr43iEhBhHVqQHWaqUDRVM9BQN8Bwu1wNT8bkYfAR4hEQcQGYEFY7rNBzW+tQaOarkBNwotBSU46weDyN8FLX1RBeWWRQT8oCEEJyc1BCM9pwWptykGKh7tBGy2KwWqfbsFt37/BtEYNQK+KbcAQaBpBtPWmwKpw8z+BwR1BRmANQNeS7kGmXhPBEQ3zwe7W/EChHXFAKaSRwU7niUGWHXtB6fetv55JjMGzCam/JuQhwbk+jcE0F4C/tKuWQBRxvsDl9CvAPYCyQNH6gcH8UUo/A238wRwrtMCK64xAfLqfwSy4WkGKB5lBaL5oQcV1IUG3apNA4zKaQbgTbUCyaN+/OyNaQTp1U0FyZg5BZI1kwYs5HUBfowRBgOMYwac700DInzrB+kHYQVzLvECXej/Ak96FQVM0YsEpZ/zBqfSrQfnz7EAhF6jAmhZEwQBdqr8N325BmF1jwC+lo8CVNHs+2dtMQVnaIsGrgaJBcH0zwWm2REGqGqo9iR2SwZPKi8FsxNjBrCTuwIdwwMBD0RfBUT2TwSUEvMA3Hs7BJwhXwLKGcMEJJtZBXJOnQac4tUG3hIlBw3y9QDZs7UAtrBdABzTfQEnXdkAeQn3BZN5iPxZcgD/EpoTAwmwFQalmvUHvlp7AwdUZPvAbNcG7xiVBOKxXQUphmcFt4ShBDCBRwc4DhUF+Kp1A/aeHQDsZiMFVeCVBEnQ3QXfbd8Ees3LBG2CwwPnz7EB1eizBF+UYwI1B5cArEIw/zQocQWIlYkGMAWC/dn76QYIiBMAZZhG/VI4eweySkcHPMKxBrduOwYPot8EX18zBqJPpv6lqzEHD8hfBTJquwVSp9sFTViXAAZ9UP0sw9L/JPzhAfIMAwsR5esFSwVE+S8IAwXjZYcHU9lDBvd27wEzby8E7YBzBfYn4PfbaSsC9IbXBtuc2wCaDz0CnCrNA/F3fwYSvwMGrfbxA1wAVQRH+YsEERBnB1M9sQHVaXcFtkr1BQmP4wdRmtj7v1y7Bjr6VQWlsiMBm9fDB7V7FwB7sQsF+q9lA4NocPsXjjkBAlrnA95rHPckfYMCCWiFBmg4OwSLCRUDLoWjBysJNQZOX5UFADuJAAzCHwfQLr8HweD9BqldkQZxS8kFSm1jAYbKBQJIYWkFyGWlBDMYLwMOy00HXtdlAuPpOQYbj3MHmdH3A7UllwTEhWcELo6lAqPDWwXg4KEF5cqTBG5zgv1HJkcFwSlDBE1bNQACg80AhJJVB3b8EQQm2U8HtvDHBHgjsQUow6EDAmI9AXhUkQMBRQcAdWpZBuHlEwZoYwUCKDRy/v7ZuQSm+l8HPtUBA+cw/wROYT8C3T5JBlV2jQVLJCkGEfRVB0O89QUWC0T/FCpPBr4FvwZAz9sETFK1BGzn/QL5/kEH0IoFBs4a5wBUDn0E4BmnAEcZhQMzF+cCWOCrBH/1oQVTfLMGib3TBGhelQaIcEcG20wJBJIqaPu4T2sCqQ6PAbBivwXkmjr98xCBBPdncwbdq+8DYdZxBT22KPzepj8F2LsbB9qMIwJnI6sBFa5K/8EogwVmv8MHUUW9A6msoQb4zEkGz8zfBm6PJQbPpDUGFAuZBSg8Uv/2R7kGi5IDBxMzdPwqHMkBaQQDAsO5vwSTFYsGTgGNBmPsYQQpzZcH8lGxAvgMoQZllR0G5HSzBp1WdwVWwqsC1wuVBUjN4wD4oxL8G8pNB3mXbvtDFEcF+UI4/xyWEQWAs1kGviaFBCCCHwU3RqcHLKrXBEmbwwApUqkBZAOjAoZ2uwXy7MsFou8vB98sXwaaBV8Gd6vHAy5RDwTiw18ATkyHBNE/JwSZyg0HHTK7BSdfFQd43h8GodEjBuIrCwaix/8ETFK1BdjFZQeWPj0FyGlVBA2o5wboCpsBA4H7AVGrnwHt9wsHEn4/BpzUsQRr/8kHIuoVA/jBkPhqdBcECbapAdE2aP2Zj2MFBsdvBT3TIwDZPLkGdrXRBxLE0QMcx4MB9YpvBHqqnwCQCa0FAKg/CMLsUPwkfpcGHg4XBxBDDQMcU9MB5sIFA1KXFQTLJmz430c5Ar+ZgQSzMzUGM797Bn4MhwU3J1cGWIwdAVWDOQT+8scE7EKpBeB5dwRFv4cD+46s/Ms0fQfwRLUDkw6TBMbRkwCDr7sD/DXRA6rtBwO9ECcBKlaC/eXSDQWW5kEHr7a2+KKcMQdFD2EF/8P2/vCg3wCkcMkHaPA9BwREFwe2A+kFzUpdBo8TkwHxpKsEQ83tA8EMYwdphSz8DzpPBbQGNwSs++z8gLoRB71DdQIhPq8DY7Us/yOoCQlis5sFjefhBuFafwRsoj8EC6SRBQxAivj1GnUEY0bvAAGy4weYo7UHZYvzA66o/QQ==\"},\"shape\":[937],\"dtype\":\"float32\",\"order\":\"little\"}],[\"names\",[\"\\u0432\",\"\\u043d\\u0430\",\"\\u043f\\u043e\",\"\\u0433\\u043e\\u0434\",\"\\u043a\\u043e\\u043c\\u043f\\u0430\\u043d\\u0438\\u044f\",\"\\u043c\\u043b\\u0440\\u0434\",\"\\u0437\\u0430\",\"\\u0431\\u044b\\u0442\\u044c\",\"\\u0441\\u0431\\u0435\\u0440\\u0431\\u0430\\u043d\\u043a\",\"\\u0440\\u0443\\u0431\",\"\\u0431\\u0430\\u043d\\u043a\",\"\\u0434\\u043e\",\"\\u043c\\u043e\\u0447\\u044c\",\"\\u043a\\u043e\\u0442\\u043e\\u0440\\u044b\\u0439\",\"\\u0440\\u044b\\u043d\\u043e\\u043a\",\"\\u0430\\u043a\\u0446\\u0438\\u044f\",\"\\u043e\\u0442\",\"\\u043e\\u043d\",\"\\u0430\",\"\\u0440\\u043e\\u0441\\u0442\",\"\\u0440\\u043e\\u0441\\u0441\\u0438\\u0439\\u0441\\u043a\\u0438\\u0439\",\"\\u043d\\u043e\\u0432\\u044b\\u0439\",\"\\u0440\\u043e\\u0441\\u0441\\u0438\\u044f\",\"\\u0441\\u043e\\u0441\\u0442\\u0430\\u0432\\u0438\\u0442\\u044c\",\"\\u043d\\u043e\",\"\\u043f\\u0440\\u0438\\u0431\\u044b\\u043b\\u044c\",\"\\u044d\\u0442\\u043e\\u0442\",\"\\u0433\",\"\\u043a\\u0430\\u043a\",\"\\u043c\\u043b\\u043d\",\"\\u0441\\u0432\\u043e\\u0439\",\"\\u0446\\u0435\\u043d\\u0430\",\"\\u0440\\u0443\\u0431\\u043b\\u044c\",\"\\u043a\\u0440\\u0435\\u0434\\u0438\\u0442\",\"\\u0432\\u044b\\u0440\\u0430\\u0441\\u0442\\u0438\",\"\\u043a\\u0440\\u0443\\u043f\\u043d\\u044b\\u0439\",\"\\u043f\\u0440\\u043e\\u0435\\u043a\\u0442\",\"\\u0442\\u0430\\u043a\\u0436\\u0435\",\"\\u0441\\u0434\\u0435\\u043b\\u043a\\u0430\",\"\\u0441\\u0442\\u0430\\u0442\\u044c\",\"\\u0447\\u0438\\u0441\\u0442\\u044b\\u0439\",\"\\u043f\\u0440\\u0438\",\"\\u0430\\u043a\\u0442\\u0438\\u0432\",\"\\u043c\\u0435\\u0441\\u044f\\u0446\",\"\\u0431\\u043e\\u043b\\u0435\\u0435\",\"\\u0434\\u043e\\u043b\\u044f\",\"\\u0433\\u0430\\u0437\\u043f\\u0440\\u043e\\u043c\",\"\\u0438\\u043d\\u0432\\u0435\\u0441\\u0442\\u043e\\u0440\",\"\\u0442\\u0430\\u043a\\u043e\\u0439\",\"\\u043e\\u043d\\u0430\",\"\\u0434\\u0438\\u0432\\u0438\\u0434\\u0435\\u043d\\u0434\",\"\\u0432\\u0435\\u0441\\u044c\",\"\\u0441\\u0442\\u0430\\u0432\\u043a\\u0430\",\"\\u043f\\u0440\\u043e\\u0434\\u0430\\u0436\\u0430\",\"\\u0443\\u0440\\u043e\\u0432\\u0435\\u043d\\u044c\",\"\\u0443\\u0436\\u0435\",\"\\u043f\\u0435\\u0440\\u0432\\u044b\\u0439\",\"\\u043a\\u043b\\u0438\\u0435\\u043d\\u0442\",\"\\u0434\\u043e\\u0445\\u043e\\u0434\",\"\\u0444\\u0438\\u043d\\u0430\\u043d\\u0441\\u043e\\u0432\\u044b\\u0439\",\"\\u0444\\u043e\\u043d\\u0434\",\"\\u0440\\u0435\\u0437\\u0443\\u043b\\u044c\\u0442\\u0430\\u0442\",\"\\u043f\\u043e\\u043b\\u0443\\u0447\\u0438\\u0442\\u044c\",\"\\u0433\\u0440\\u0443\\u043f\\u043f\\u0430\",\"\\u0442\\u0430\\u043a\",\"\\u0441\\u0442\\u043e\\u0438\\u043c\\u043e\\u0441\\u0442\\u044c\",\"\\u043e\\u0434\\u0438\\u043d\",\"\\u0440\\u0435\\u0448\\u0435\\u043d\\u0438\\u0435\",\"\\u0432\\u0442\\u0431\",\"\\u0441\\u043e\\u043e\\u0431\\u0449\\u0438\\u0442\\u044c\",\"\\u0433\\u0430\\u0437\",\"\\u043a\\u0430\\u043f\\u0438\\u0442\\u0430\\u043b\",\"\\u0441\\u0431\\u0435\\u0440\",\"\\u0441\\u0438\\u0441\\u0442\\u0435\\u043c\\u0430\",\"\\u0441\\u0447\\u0438\\u0442\\u0430\\u0442\\u044c\",\"\\u043a\\u043e\\u043d\\u0435\\u0446\",\"\\u043f\\u043e\\u0441\\u043b\\u0435\",\"\\u0434\\u0440\\u0443\\u0433\\u043e\\u0439\",\"\\u043a\\u0440\\u0435\\u0434\\u0438\\u0442\\u043d\\u044b\\u0439\",\"\\u0441\\u0440\\u0435\\u0434\\u0441\\u0442\\u0432\\u043e\",\"\\u0446\\u0431\",\"\\u0438\\u0442\\u043e\\u0433\",\"\\u0430\\u043a\\u0446\\u0438\\u043e\\u043d\\u0435\\u0440\",\"\\u043d\\u0430\\u0447\\u0430\\u043b\\u043e\",\"\\u0431\\u0438\\u0437\\u043d\\u0435\\u0441\",\"\\u043d\\u0435\\u0444\\u0442\\u044c\",\"\\u0441\\u0435\\u0440\\u0432\\u0438\\u0441\",\"\\u0435\\u0449\\u0451\",\"\\u0440\\u043e\\u0441\\u043d\\u0435\\u0444\\u0442\\u044c\",\"\\u0432\\u0435\\u0434\\u043e\\u043c\\u043e\\u0441\\u0442\\u044c\",\"\\u0441\\u043d\\u0438\\u0436\\u0435\\u043d\\u0438\\u0435\",\"\\u0434\\u043e\\u043b\\u0436\\u043d\\u044b\\u0439\",\"\\u043f\\u043e\\u0440\\u0442\\u0444\\u0435\\u043b\\u044c\",\"\\u043a\\u0432\\u0430\\u0440\\u0442\\u0430\\u043b\",\"\\u0431\\u0443\\u043c\\u0430\\u0433\\u0430\",\"\\u044d\\u043a\\u0441\\u043f\\u0435\\u0440\\u0442\",\"\\u0441\\u0430\\u043d\\u043a\\u0446\\u0438\\u044f\",\"\\u0440\\u0438\\u0441\\u043a\",\"\\u0447\\u0435\\u043c\",\"\\u0438\\u043d\\u0432\\u0435\\u0441\\u0442\\u0438\\u0446\\u0438\\u044f\",\"\\u0434\\u0432\\u0430\",\"\\u043f\\u043b\\u0430\\u043d\\u0438\\u0440\\u043e\\u0432\\u0430\\u0442\\u044c\",\"\\u0432\\u0441\\u0451\",\"\\u0441\\u0443\\u043c\\u043c\\u0430\",\"\\u043f\\u0440\\u0435\\u0434\\u0441\\u0442\\u0430\\u0432\\u0438\\u0442\\u0435\\u043b\\u044c\",\"\\u0447\\u0435\\u0440\\u0435\\u0437\",\"\\u043f\\u043e\\u043a\\u0430\",\"\\u0447\\u0438\\u0441\\u043b\\u043e\",\"\\u0432\\u044b\\u043f\\u043b\\u0430\\u0442\\u0430\",\"\\u0432\\u0440\\u0435\\u043c\\u044f\",\"\\u0434\\u0430\\u043d\\u043d\\u044b\\u0435\",\"\\u0443\\u0441\\u043b\\u043e\\u0432\\u0438\\u0435\",\"\\u0431\\u043b\\u0438\\u0437\\u043a\\u0438\\u0439\",\"\\u0440\\u0430\\u0441\\u0441\\u043a\\u0430\\u0437\\u0430\\u0442\\u044c\",\"group\",\"\\u043e\\u0446\\u0435\\u043d\\u043a\\u0430\",\"\\u0440\\u0430\\u0437\\u0432\\u0438\\u0442\\u0438\\u0435\",\"\\u0441\\u0435\\u0439\\u0447\\u0430\\u0441\",\"\\u0432\\u044b\\u0441\\u043e\\u043a\\u0438\\u0439\",\"\\u0444\\u043e\\u043d\",\"\\u0443\\u0432\\u0435\\u043b\\u0438\\u0447\\u0438\\u0442\\u044c\\u0441\\u044f\",\"\\u0440\\u0430\\u0437\\u043c\\u0435\\u0440\",\"\\u043f\\u0440\\u0430\\u0432\\u0438\\u0442\\u0435\\u043b\\u044c\\u0441\\u0442\\u0432\\u043e\",\"\\u0434\\u0438\\u0440\\u0435\\u043a\\u0442\\u043e\\u0440\",\"\\u0432\\u043e\\u0437\\u043c\\u043e\\u0436\\u043d\\u043e\\u0441\\u0442\\u044c\",\"\\u043a\\u043e\\u0440\\u043f\\u043e\\u0440\\u0430\\u0442\\u0438\\u0432\\u043d\\u044b\\u0439\",\"\\u043e\\u0434\\u043d\\u0430\\u043a\\u043e\",\"\\u043f\\u043e\\u0441\\u0442\\u0430\\u0432\\u043a\\u0430\",\"\\u0431\\u043e\\u043b\\u044c\\u0448\\u043e\\u0439\",\"\\u0440\\u0444\",\"\\u043f\\u043e\\u043a\\u0430\\u0437\\u0430\\u0442\\u0435\\u043b\\u044c\",\"\\u0447\\u0430\\u0441\\u0442\\u044c\",\"\\u043f\\u0440\\u043e\\u0446\\u0435\\u043d\\u0442\\u043d\\u044b\\u0439\",\"\\u0440\\u0430\\u0437\",\"\\u043e\\u043f\\u0435\\u0440\\u0430\\u0442\\u043e\\u0440\",\"\\u0441\\u0435\\u0442\\u044c\",\"\\u0441\\u0448\\u0430\",\"\\u043f\\u043e\\u0447\\u0442\\u0438\",\"\\u0442\\u043e\",\"\\u044f\\u043d\\u0434\\u0435\\u043a\\u0441\",\"\\u0441\\u0442\\u043e\\u0440\\u043e\\u043d\\u0430\",\"\\u0442\\u0435\\u043a\\u0443\\u0449\\u0438\\u0439\",\"\\u043f\\u043e\\u043a\\u0443\\u043f\\u043a\\u0430\",\"\\u0441\\u0442\\u0440\\u0430\\u043d\\u0430\",\"\\u043e\\u0436\\u0438\\u0434\\u0430\\u0442\\u044c\",\"\\u0431\\u0435\\u0437\",\"\\u043f\\u0440\\u043e\\u0442\\u0438\\u0432\",\"\\u0443\\u0432\\u0435\\u043b\\u0438\\u0447\\u0438\\u0442\\u044c\",\"\\u043f\\u0440\\u043e\\u0433\\u0440\\u0430\\u043c\\u043c\\u0430\",\"\\u0431\\u0438\\u0440\\u0436\\u0430\",\"\\u0440\\u043e\\u0437\\u043d\\u0438\\u0447\\u043d\\u044b\\u0439\",\"\\u0441\\u0443\\u0434\",\"\\u0434\\u043e\\u0445\\u043e\\u0434\\u043d\\u043e\\u0441\\u0442\\u044c\",\"\\u043f\\u0440\\u043e\\u0433\\u043d\\u043e\\u0437\",\"\\u043f\\u043e\\u0441\\u043b\\u0435\\u0434\\u043d\\u0438\\u0439\",\"\\u043e\\u0431\\u0449\\u0438\\u0439\",\"\\u043d\\u0430\\u0447\\u0430\\u0442\\u044c\",\"\\u0438\\u0441\\u0442\\u043e\\u0447\\u043d\\u0438\\u043a\",\"\\u0440\\u0430\\u043d\\u0435\\u0435\",\"\\u0431\\u0430\\u043d\\u043a\\u043e\\u0432\\u0441\\u043a\\u0438\\u0439\",\"\\u0443\\u0447\\u0430\\u0441\\u0442\\u043d\\u0438\\u043a\",\"\\u0434\\u0435\\u043d\\u044c\",\"\\u0441\\u043e\\u0441\\u0442\\u0430\\u0432\\u043b\\u044f\\u0442\\u044c\",\"\\u0430\\u043d\\u0430\\u043b\\u0438\\u0442\\u0438\\u043a\",\"\\u0441\\u043b\\u043e\\u0432\\u043e\",\"\\u0441\\u043c\\u043e\\u0447\\u044c\",\"\\u043f\\u0440\\u043e\\u0434\\u0430\\u0442\\u044c\",\"\\u0447\\u0442\\u043e\\u0431\\u044b\",\"\\u0445\\u043e\\u0442\\u0435\\u0442\\u044c\",\"\\u043f\\u0440\\u0438\\u043d\\u044f\\u0442\\u044c\",\"\\u043f\\u0435\\u0440\\u0435\\u0433\\u043e\\u0432\\u043e\\u0440\\u044b\",\"\\u0433\\u043b\\u0430\\u0432\\u0430\",\"\\u0433\\u043e\\u0432\\u043e\\u0440\\u0438\\u0442\\u044c\",\"\\u0440\\u0430\\u043c\\u043a\\u0430\",\"\\u0432\\u043e\\u043f\\u0440\\u043e\\u0441\",\"\\u0437\\u0430\\u044f\\u0432\\u0438\\u0442\\u044c\",\"\\u043f\\u043b\\u0430\\u043d\",\"\\u043a\\u043b\\u044e\\u0447\\u0435\\u0432\\u043e\\u0439\",\"\\u0434\\u0438\\u0432\\u0438\\u0434\\u0435\\u043d\\u0434\\u043d\\u044b\\u0439\",\"\\u0430\\u043f\\u0440\\u0435\\u043b\\u044c\",\"\\u0438\\u044e\\u043b\\u044c\",\"\\u0441\\u043e\\u0432\\u0435\\u0442\",\"\\u043f\\u0440\\u043e\\u0438\\u0437\\u0432\\u043e\\u0434\\u0441\\u0442\\u0432\\u043e\",\"\\u044f\\u043d\\u0432\\u0430\\u0440\\u044c\",\"\\u0434\\u043e\\u0441\\u0442\\u0438\\u0433\\u043d\\u0443\\u0442\\u044c\",\"\\u0434\\u0430\\u0442\\u044c\",\"\\u0440\\u0430\\u0441\\u0445\\u043e\\u0434\",\"\\u0434\\u043e\\u043b\\u0433\",\"\\u0434\\u0435\\u043a\\u0430\\u0431\\u0440\\u044c\",\"\\u0441\\u043f\\u0440\\u043e\\u0441\",\"\\u0441\\u0435\\u043d\\u0442\\u044f\\u0431\\u0440\\u044c\",\"\\u0441\\u0442\\u0440\\u0443\\u043a\\u0442\\u0443\\u0440\\u0430\",\"\\u0441\\u043b\\u0443\\u0447\\u0430\\u0439\",\"\\u0430\\u0432\\u0433\\u0443\\u0441\\u0442\",\"\\u043e\\u0442\\u043a\\u0440\\u044b\\u0442\\u0438\\u0435\",\"\\u0434\\u043e\\u0431\\u044b\\u0447\\u0430\",\"\\u0441\\u0430\\u043c\",\"\\u044f\\u0432\\u043b\\u044f\\u0442\\u044c\\u0441\\u044f\",\"\\u043f\\u0430\\u043a\\u0435\\u0442\",\"\\u0441\\u0435\\u043a\\u0442\\u043e\\u0440\",\"\\u0442\\u044b\\u0441\",\"\\u043c\\u043d\\u0435\\u043d\\u0438\\u0435\",\"\\u043d\\u0435\\u0441\\u043a\\u043e\\u043b\\u044c\\u043a\\u043e\",\"\\u0432\\u044b\\u0434\\u0430\\u0442\\u044c\",\"\\u0441\\u043e\\u0433\\u043b\\u0430\\u0448\\u0435\\u043d\\u0438\\u0435\",\"\\u0432\\u0442\\u043e\\u0440\\u043e\\u0439\",\"\\u043e\\u043a\\u0442\\u044f\\u0431\\u0440\\u044c\",\"\\u043f\\u0440\\u0435\\u0432\\u044b\\u0441\\u0438\\u0442\\u044c\",\"\\u0440\\u0430\\u0431\\u043e\\u0442\\u0430\\u0442\\u044c\",\"\\u0441\\u0440\\u043e\\u043a\",\"\\u0441\\u043b\\u0435\\u0434\\u043e\\u0432\\u0430\\u0442\\u044c\",\"\\u0440\\u0430\\u0431\\u043e\\u0442\\u0430\",\"\\u043b\\u0438\\u0446\\u043e\",\"\\u043c\\u043e\\u0441\\u043a\\u043e\\u0432\\u0441\\u043a\\u0438\\u0439\",\"\\u043f\\u0440\\u043e\\u0448\\u043b\\u043e\\u0435\",\"\\u043f\\u043e\\u0437\\u0432\\u043e\\u043b\\u0438\\u0442\\u044c\",\"\\u0441\\u043d\\u0438\\u0437\\u0438\\u0442\\u044c\",\"\\u0432\\u0430\\u043b\\u044e\\u0442\\u043d\\u044b\\u0439\",\"\\u0442\\u0440\\u0438\",\"\\u0440\\u0435\\u0437\\u0435\\u0440\\u0432\",\"\\u0438\\u043f\\u043e\\u0442\\u0435\\u043a\\u0430\",\"\\u043c\",\"\\u0441\\u0440\\u0430\\u0432\\u043d\\u0435\\u043d\\u0438\\u0435\",\"\\u0441\\u0442\\u0440\\u043e\\u0438\\u0442\\u0435\\u043b\\u044c\\u0441\\u0442\\u0432\\u043e\",\"\\u043e\\u0440\\u0433\\u0430\\u043d\\u0438\\u0437\\u0430\\u0446\\u0438\\u044f\",\"\\u043f\\u0440\\u043e\\u0434\\u0443\\u043a\\u0442\",\"\\u0433\\u043e\\u0442\\u043e\\u0432\\u044b\\u0439\",\"\\u043f\\u0435\\u0440\\u0438\\u043e\\u0434\",\"\\u0437\\u0430\\u0432\\u043e\\u0434\",\"\\u0432\\u044b\\u0440\\u0443\\u0447\\u043a\\u0430\",\"\\u0443\\u0441\\u043b\\u0443\\u0433\\u0430\",\"\\u0445\\u043e\\u0440\\u043e\\u0448\\u0438\\u0439\",\"\\u0438\\u043d\\u043e\\u0441\\u0442\\u0440\\u0430\\u043d\\u043d\\u044b\\u0439\",\"\\u0445\\u043e\\u043b\\u0434\\u0438\\u043d\\u0433\",\"\\u0438\\u044e\\u043d\\u044c\",\"\\u0443\\u043a\\u0440\\u0430\\u0438\\u043d\\u0430\",\"\\u043f\\u043e\\u0442\\u043e\\u043a\",\"\\u043c\\u0438\\u043b\\u043b\\u0438\\u0430\\u0440\\u0434\",\"\\u043f\\u0430\\u0440\\u0442\\u043d\\u0451\\u0440\",\"\\u0438\\u0437\\u043c\\u0435\\u043d\\u0435\\u043d\\u0438\\u0435\",\"\\u043c\\u0430\\u0440\\u0442\",\"\\u043c\\u0438\\u043d\\u0444\\u0438\\u043d\",\"\\u0441\\u0438\\u0442\\u0443\\u0430\\u0446\\u0438\\u044f\",\"\\u0441\\u043d\\u0438\\u0437\\u0438\\u0442\\u044c\\u0441\\u044f\",\"\\u043e\\u0442\\u043d\\u043e\\u0448\\u0435\\u043d\\u0438\\u0435\",\"\\u043e\\u0431\\u043b\\u0438\\u0433\\u0430\\u0446\\u0438\\u044f\",\"\\u0437\\u0430\\u043f\\u0443\\u0441\\u0442\\u0438\\u0442\\u044c\",\"\\u043d\\u043f\\u0444\",\"\\u044d\\u043a\\u0441\\u043f\\u043e\\u0440\\u0442\",\"\\u0440\\u0430\\u0441\\u0442\\u0438\",\"\\u0433\\u043e\\u0434\\u043e\\u0432\\u043e\\u0439\",\"\\u0437\\u0430\\u0440\\u0430\\u0431\\u043e\\u0442\\u0430\\u0442\\u044c\",\"\\u043f\\u0440\\u0435\\u0434\\u043f\\u0440\\u0438\\u044f\\u0442\\u0438\\u0435\",\"\\u0433\\u043e\\u0432\\u043e\\u0440\\u0438\\u0442\\u044c\\u0441\\u044f\",\"\\u0441\\u0435\\u0433\\u043c\\u0435\\u043d\\u0442\",\"\\u0441\\u043f\\u0433\",\"\\u043c\\u043e\\u0441\\u043a\\u0432\\u0430\",\"\\u043d\\u0435\\u0434\\u0435\\u043b\\u044f\",\"\\u0434\\u0435\\u043d\\u044c\\u0433\\u0430\",\"\\u043f\\u0440\\u0435\\u0434\\u043b\\u043e\\u0436\\u0438\\u0442\\u044c\",\"\\u0447\\u0435\\u043b\\u043e\\u0432\\u0435\\u043a\",\"\\u043e\\u0441\\u043d\\u043e\\u0432\\u043d\\u044b\\u0439\",\"\\u0438\\u043d\\u0434\\u0435\\u043a\\u0441\",\"\\u0441\\u0432\\u044f\\u0437\\u044c\",\"\\u0434\\u043e\\u043f\\u043e\\u043b\\u043d\\u0438\\u0442\\u0435\\u043b\\u044c\\u043d\\u044b\\u0439\",\"\\u0442\\u0435\\u043f\\u0435\\u0440\\u044c\",\"\\u0441\\u043e\\u0437\\u0434\\u0430\\u0442\\u044c\",\"\\u043f\\u0440\\u0435\\u0437\\u0438\\u0434\\u0435\\u043d\\u0442\",\"\\u0432\\u043a\\u043b\\u0430\\u0434\",\"\\u043e\\u0431\\u044a\\u044f\\u0432\\u0438\\u0442\\u044c\",\"\\u043f\\u0440\\u0435\\u0434\\u043b\\u0430\\u0433\\u0430\\u0442\\u044c\",\"\\u0431\\u043e\\u043b\\u044c\\u0448\\u0438\\u0439\",\"\\u0443\\u0432\\u0435\\u043b\\u0438\\u0447\\u0435\\u043d\\u0438\\u0435\",\"\\u043c\\u0441\\u0444\\u043e\",\"\\u0442\\u0435\\u043c\",\"\\u043e\\u043a\\u0430\\u0437\\u0430\\u0442\\u044c\\u0441\\u044f\",\"\\u043e\\u0441\\u0442\\u0430\\u0432\\u0430\\u0442\\u044c\\u0441\\u044f\",\"\\u0435\\u0432\\u0440\\u043e\\u043f\\u0430\",\"\\u043c\\u043e\\u043c\\u0435\\u043d\\u0442\",\"\\u043a\\u043e\\u043d\\u0442\\u0440\\u0430\\u043a\\u0442\",\"\\u043e\\u0441\\u0442\\u0430\\u0442\\u044c\\u0441\\u044f\",\"\\u0442\\u0430\\u0440\\u0438\\u0444\",\"\\u0434\\u043e\\u043b\\u043b\\u0430\\u0440\",\"\\u043f\\u043e\\u0432\\u044b\\u0448\\u0435\\u043d\\u0438\\u0435\",\"\\u043a\\u0430\\u0440\\u0442\\u0430\",\"\\u0443\\u043f\\u0440\\u0430\\u0432\\u043b\\u0435\\u043d\\u0438\\u0435\",\"\\u0441\\u043a\\u0430\\u0437\\u0430\\u0442\\u044c\",\"\\u0444\\u0435\\u0432\\u0440\\u0430\\u043b\\u044c\",\"\\u0441\\u043e\\u0431\\u0441\\u0442\\u0432\\u0435\\u043d\\u043d\\u044b\\u0439\",\"\\u0432\\u043e\\u0437\\u043c\\u043e\\u0436\\u043d\\u044b\\u0439\",\"\\u043d\\u043e\\u044f\\u0431\\u0440\\u044c\",\"\\u0442\\u043e\\u0440\\u0433\\u043e\\u0432\\u044b\\u0439\",\"\\u043e\\u0431\\u0440\\u0430\\u0437\",\"\\u0438\\u043d\\u0432\\u0435\\u0441\\u0442\\u0438\\u0446\\u0438\\u043e\\u043d\\u043d\\u044b\\u0439\",\"\\u0438\\u043f\\u043e\\u0442\\u0435\\u0447\\u043d\\u044b\\u0439\",\"\\u043c\\u0435\\u0441\\u0442\\u043e\\u0440\\u043e\\u0436\\u0434\\u0435\\u043d\\u0438\\u0435\",\"\\u0441\\u043b\\u0435\\u0434\\u0443\\u044e\\u0449\\u0438\\u0439\",\"\\u043e\\u0442\\u043c\\u0435\\u0447\\u0430\\u0442\\u044c\",\"\\u0441\\u0430\\u043c\\u044b\\u0439\",\"\\u043f\\u0440\\u0430\\u0432\\u043b\\u0435\\u043d\\u0438\\u0435\",\"\\u043f\\u0440\\u0438\\u043c\\u0435\\u0440\\u043d\\u043e\",\"\\u043c\\u0435\\u0440\\u0430\",\"\\u0442\\u043e\\u0440\\u0433\",\"\\u0441\\u043e\\u043e\\u0431\\u0449\\u0435\\u043d\\u0438\\u0435\",\"\\u043f\\u0440\\u0435\\u0434\\u043b\\u043e\\u0436\\u0435\\u043d\\u0438\\u0435\",\"\\u043a\\u0440\\u0435\\u0434\\u0438\\u0442\\u043e\\u0432\\u0430\\u043d\\u0438\\u0435\",\"\\u043f\\u0440\\u043e\\u0438\\u0437\\u0432\\u043e\\u0434\\u0438\\u0442\\u0435\\u043b\\u044c\",\"\\u0432\\u043b\\u0430\\u0434\\u0435\\u043b\\u0435\\u0446\",\"\\u043f\\u043e\\u0434\\u0442\\u0432\\u0435\\u0440\\u0434\\u0438\\u0442\\u044c\",\"\\u0438\\u0434\\u0442\\u0438\",\"\\u0438\\u0441\\u043a\",\"\\u043d\\u043e\\u0432\\u0430\\u0442\\u044d\\u043a\",\"\\u0440\\u0430\\u0437\\u043c\\u0435\\u0449\\u0435\\u043d\\u0438\\u0435\",\"\\u0440\\u0435\\u043a\\u043e\\u0440\\u0434\\u043d\\u044b\\u0439\",\"\\u043c\\u0430\\u0439\",\"\\u0432\\u044b\\u0434\\u0430\\u0447\\u0430\",\"\\u0447\\u0430\\u0441\\u0442\\u043d\\u044b\\u0439\",\"\\u0441\\u043e\\u043e\\u0431\\u0449\\u0430\\u0442\\u044c\",\"\\u043c\\u043e\\u0449\\u043d\\u043e\\u0441\\u0442\\u044c\",\"\\u044d\\u043a\\u043e\\u043d\\u043e\\u043c\\u0438\\u043a\\u0430\",\"\\u043f\\u0440\\u0435\\u0434\\u043f\\u043e\\u043b\\u0430\\u0433\\u0430\\u0442\\u044c\",\"\\u043a\\u0443\\u043f\\u0438\\u0442\\u044c\",\"\\u0432\\u0430\\u043b\\u044e\\u0442\\u0430\",\"\\u0440\\u0435\\u0433\\u0438\\u043e\\u043d\",\"\\u0441\\u043e\\u0437\\u0434\\u0430\\u043d\\u0438\\u0435\",\"\\u043c\\u0435\\u043d\\u0435\\u0435\",\"\\u043a\\u043e\\u043c\\u0438\\u0441\\u0441\\u0438\\u043e\\u043d\\u043d\\u044b\\u0439\",\"\\u043f\\u0440\\u043e\\u0434\\u043e\\u043b\\u0436\\u0430\\u0442\\u044c\",\"\\u0430\\u0444\\u043a\",\"\\u043f\\u0440\\u043e\\u0431\\u043b\\u0435\\u043c\\u0430\",\"\\u043f\\u043b\\u0430\\u0442\\u0451\\u0436\",\"\\u0431\\u044b\",\"\\u043f\\u0440\\u0438\\u0432\\u0435\\u0441\\u0442\\u0438\",\"\\u043f\\u0435\\u0440\\u0441\\u043f\\u0435\\u043a\\u0442\\u0438\\u0432\\u0430\",\"\\u0443\\u043f\\u0440\\u0430\\u0432\\u043b\\u044f\\u0442\\u044c\",\"\\u043c\\u0435\\u0436\\u0434\\u0443\\u043d\\u0430\\u0440\\u043e\\u0434\\u043d\\u044b\\u0439\",\"\\u043e\\u0431\\u043b\\u0430\\u0441\\u0442\\u044c\",\"\\u0434\\u0438\\u043d\\u0430\\u043c\\u0438\\u043a\\u0430\",\"\\u043c\\u0438\\u0440\\u043e\\u0432\\u043e\\u0439\",\"\\u0441\\u0442\\u0440\\u0430\\u0442\\u0435\\u0433\\u0438\\u044f\",\"\\u0442\\u0440\\u0435\\u0431\\u043e\\u0432\\u0430\\u043d\\u0438\\u0435\",\"\\u0441\\u043e\\u0432\\u043c\\u0435\\u0441\\u0442\\u043d\\u044b\\u0439\",\"\\u043e\\u0431\\u044b\\u043a\\u043d\\u043e\\u0432\\u0435\\u043d\\u043d\\u044b\\u0439\",\"\\u0431\\u044e\\u0434\\u0436\\u0435\\u0442\",\"\\u043f\\u043b\\u0430\\u0442\\u0444\\u043e\\u0440\\u043c\\u0430\",\"\\u0441\\u0438\\u043b\\u044c\\u043d\\u044b\\u0439\",\"\\u043c\\u0438\\u0440\",\"\\u043f\\u043e\\u043a\\u0443\\u043f\\u0430\\u0442\\u0435\\u043b\\u044c\",\"\\u0433\\u0440\\u0435\\u0444\",\"\\u043e\\u043f\\u0435\\u0440\\u0430\\u0446\\u0438\\u044f\",\"\\u043f\\u0430\\u0434\\u0435\\u043d\\u0438\\u0435\",\"\\u0440\\u0430\\u0441\\u0447\\u0451\\u0442\",\"\\u043c\\u0435\\u0436\\u0434\\u0443\",\"\\u043e\\u0442\\u0440\\u0430\\u0441\\u043b\\u044c\",\"\\u0438\\u043d\\u0444\\u043e\\u0440\\u043c\\u0430\\u0446\\u0438\\u044f\",\"\\u0443\\u0431\\u044b\\u0442\\u043e\\u043a\",\"\\u043e\\u043f\\u0435\\u0440\\u0430\\u0446\\u0438\\u043e\\u043d\\u043d\\u044b\\u0439\",\"\\u0440\\u0430\\u0441\\u0441\\u0447\\u0438\\u0442\\u044b\\u0432\\u0430\\u0442\\u044c\",\"\\u043f\\u0440\\u043e\\u0432\\u0435\\u0441\\u0442\\u0438\",\"\\u043d\\u0430\\u043f\\u0440\\u0430\\u0432\\u0438\\u0442\\u044c\",\"\\u0431\\u0430\\u0437\\u0430\",\"\\u0440\\u0435\\u0448\\u0438\\u0442\\u044c\",\"\\u0430\\u0433\\u0435\\u043d\\u0442\\u0441\\u0442\\u0432\\u043e\",\"\\u0440\\u0435\\u0433\\u0443\\u043b\\u044f\\u0442\\u043e\\u0440\",\"\\u043e\\u043f\\u0443\\u0431\\u043b\\u0438\\u043a\\u043e\\u0432\\u0430\\u0442\\u044c\",\"\\u043d\\u0430\\u0445\\u043e\\u0434\\u0438\\u0442\\u044c\\u0441\\u044f\",\"\\u043a\\u043e\\u0433\\u0434\\u0430\",\"\\u043f\\u043e\\u0432\\u044b\\u0441\\u0438\\u0442\\u044c\",\"\\u0446\\u0438\\u0444\\u0440\\u043e\\u0432\\u043e\\u0439\",\"x\",\"\\u043f\\u043e\\u0437\\u0438\\u0446\\u0438\\u044f\",\"\\u043f\\u0440\\u0430\\u0432\\u043e\",\"\\u0441\\u0435\\u0431\\u044f\",\"\\u0440\\u044f\\u0434\",\"\\u0438\\u043c\\u0435\\u0442\\u044c\",\"\\u044d\\u043a\\u043e\\u043d\\u043e\\u043c\\u0438\\u0447\\u0435\\u0441\\u043a\\u0438\\u0439\",\"\\u0430\\u043b\\u0435\\u043a\\u0441\\u0430\\u043d\\u0434\\u0440\",\"\\u0444\\u0430\\u0441\",\"\\u0432\\u044b\\u0439\\u0442\\u0438\",\"\\u0438\\u043d\\u0442\\u0435\\u0440\\u0435\\u0441\",\"\\u043e\\u0433\\u0440\\u0430\\u043d\\u0438\\u0447\\u0435\\u043d\\u0438\\u0435\",\"\\u0443\\u0447\\u0430\\u0441\\u0442\\u0438\\u0435\",\"\\u043f\\u043e\\u0434\\u0434\\u0435\\u0440\\u0436\\u043a\\u0430\",\"\\u0441\\u043e\\u043e\\u0442\\u0432\\u0435\\u0442\\u0441\\u0442\\u0432\\u043e\\u0432\\u0430\\u0442\\u044c\",\"\\u043f\\u0440\\u043e\\u0448\\u043b\\u044b\\u0439\",\"\\u0440\\u0435\\u043d\\u0442\\u0430\\u0431\\u0435\\u043b\\u044c\\u043d\\u043e\\u0441\\u0442\\u044c\",\"\\u043f\\u0435\\u0440\\u0435\\u0432\\u043e\\u0434\",\"\\u043d\\u043e\\u0432\\u043e\\u0441\\u0442\\u044c\",\"\\u043e\\u0442\\u043c\\u0435\\u0442\\u0438\\u0442\\u044c\",\"\\u0434\\u0435\\u043f\\u043e\\u0437\\u0438\\u0442\",\"\\u043d\\u0438\\u0437\\u043a\\u0438\\u0439\",\"\\u043f\\u0440\\u0438\\u0439\\u0442\\u0438\\u0441\\u044c\",\"\\u0444\\u0435\\u0434\\u0435\\u0440\\u0430\\u043b\\u044c\\u043d\\u044b\\u0439\",\"\\u043f\\u043e\\u043a\\u0430\\u0437\\u0430\\u0442\\u044c\",\"\\u043b\\u0443\\u043a\\u043e\\u0439\\u043b\",\"\\u0438\\u0433\\u0440\\u043e\\u043a\",\"\\u043d\\u0435\\u0442\",\"\\u043f\\u0440\\u0438\\u0432\\u043b\\u0435\\u0447\\u044c\",\"\\u043a\\u0443\\u0440\\u0441\",\"\\u044d\\u043a\\u043e\\u0441\\u0438\\u0441\\u0442\\u0435\\u043c\\u0430\",\"\\u0442\\u0440\\u0435\\u0442\\u0438\\u0439\",\"\\u043e\\u0441\\u043d\\u043e\\u0432\\u043d\\u043e\\u0439\",\"\\u043f\\u043e\\u043b\\u0430\\u0433\\u0430\\u0442\\u044c\",\"\\u0434\\u0435\\u043d\\u0435\\u0436\\u043d\\u044b\\u0439\",\"\\u0446\\u0435\\u043b\\u043e\\u0435\",\"\\u043a\\u0430\\u0447\\u0435\\u0441\\u0442\\u0432\\u043e\",\"\\u0432\\u044b\\u043f\\u0443\\u0441\\u043a\",\"\\u0441\\u0435\\u0432\\u0435\\u0440\\u043d\\u044b\\u0439\",\"\\u0442\\u0440\\u0430\\u043d\\u0441\\u043d\\u0435\\u0444\\u0442\\u044c\",\"\\u0441\\u0434\\u0435\\u043b\\u0430\\u0442\\u044c\",\"\\u0430\\u0432\\u0438\\u0430\\u043a\\u043e\\u043c\\u043f\\u0430\\u043d\\u0438\\u044f\",\"\\u0440\\u0435\\u0442\\u0435\\u0439\\u043b\\u0435\\u0440\",\"\\u043f\\u043e\\u043b\\u0438\\u0442\\u0438\\u043a\\u0430\",\"\\u043b\\u0438\",\"\\u0441\\u0440\\u0435\\u0434\\u0438\",\"\\u0434\\u0430\\u043b\\u044c\\u043d\\u0435\\u0439\\u0448\\u0438\\u0439\",\"\\u043a\\u043e\\u0442\\u0438\\u0440\\u043e\\u0432\\u043a\\u0430\",\"\\u0440\\u0435\\u0430\\u043b\\u0438\\u0437\\u0430\\u0446\\u0438\\u044f\",\"\\u043c\\u0442\\u0441\",\"\\u043f\\u0435\\u043d\\u0441\\u0438\\u043e\\u043d\\u043d\\u044b\\u0439\",\"\\u0430\\u043c\\u0435\\u0440\\u0438\\u043a\\u0430\\u043d\\u0441\\u043a\\u0438\\u0439\",\"\\u043c\\u0430\\u043b\\u0435\\u043d\\u044c\\u043a\\u0438\\u0439\",\"\\u0433\\u043e\\u0441\\u0443\\u0434\\u0430\\u0440\\u0441\\u0442\\u0432\\u043e\",\"\\u0441\\u043e\\u043a\\u0440\\u0430\\u0442\\u0438\\u0442\\u044c\\u0441\\u044f\",\"\\u0432\\u043b\\u0430\\u0434\\u0438\\u043c\\u0438\\u0440\",\"\\u0432\\u0432\\u0435\\u0441\\u0442\\u0438\",\"\\u043f\\u043e\\u043b\\u0443\\u0433\\u043e\\u0434\\u0438\\u0435\",\"\\u043a\\u043e\\u043b\\u0438\\u0447\\u0435\\u0441\\u0442\\u0432\\u043e\",\"\\u043a\\u0440\\u043e\\u043c\\u0435\",\"\\u043a\\u0438\\u0442\\u0430\\u0439\",\"\\u0434\\u043e\\u0441\\u0442\\u0430\\u0432\\u043a\\u0430\",\"\\u043f\\u0440\\u0435\\u0434\\u0441\\u0442\\u0430\\u0432\\u0438\\u0442\\u044c\",\"\\u0446\\u0435\\u043b\\u044c\",\"\\u0432\\u044b\\u043f\\u043b\\u0430\\u0442\\u0438\\u0442\\u044c\",\"\\u0430\\u043d\\u0430\\u043b\\u043e\\u0433\\u0438\\u0447\\u043d\\u044b\\u0439\",\"\\u0434\\u0435\\u043b\\u043e\",\"\\u0440\\u0435\\u0439\\u0442\\u0438\\u043d\\u0433\",\"\\u0437\\u0430\\u044f\\u0432\\u043a\\u0430\",\"\\u043d\\u0435\\u043a\\u043e\\u0442\\u043e\\u0440\\u044b\\u0439\",\"\\u043b\\u0438\\u0448\\u044c\",\"\\u0441\\u043e\\u0442\\u0440\\u0443\\u0434\\u043d\\u0438\\u043a\",\"\\u0441\\u043e\\u043a\\u0440\\u0430\\u0442\\u0438\\u0442\\u044c\",\"\\u043b\\u0438\\u0434\\u0435\\u0440\",\"\\u0435\\u0432\\u0440\\u043e\\u043f\\u0435\\u0439\\u0441\\u043a\\u0438\\u0439\",\"\\u0434\\u043e\\u0447\\u0435\\u0440\\u043d\\u0438\\u0439\",\"\\u0442\\u043e\\u043d\\u043d\\u0430\",\"\\u0434\\u043e\\u043a\\u0443\\u043c\\u0435\\u043d\\u0442\",\"\\u043f\\u0435\\u0440\\u0435\\u043e\\u0446\\u0435\\u043d\\u043a\\u0430\",\"\\u0444\\u0438\\u043d\\u0430\\u043d\\u0441\\u0438\\u0440\\u043e\\u0432\\u0430\\u043d\\u0438\\u0435\",\"\\u0440\\u044b\\u043d\\u043e\\u0447\\u043d\\u044b\\u0439\",\"\\u0432\\u0438\\u0434\\u0435\\u0442\\u044c\",\"\\u0432\\u043d\\u0443\\u0442\\u0440\\u0435\\u043d\\u043d\\u0438\\u0439\",\"\\u043f\\u0440\\u0438\\u043e\\u0431\\u0440\\u0435\\u0441\\u0442\\u0438\",\"\\u0438\\u043d\\u0432\\u0435\\u0441\\u0442\\u0438\\u0440\\u043e\\u0432\\u0430\\u0442\\u044c\",\"\\u043e\\u0447\\u0435\\u043d\\u044c\",\"\\u043e\\u0446\\u0435\\u043d\\u0438\\u0432\\u0430\\u0442\\u044c\",\"\\u043f\\u043b\\u043e\\u0449\\u0430\\u0434\\u043a\\u0430\",\"\\u043f\\u0440\\u043e\\u0434\\u0430\\u0432\\u0430\\u0442\\u044c\",\"\\u0446\\u0435\\u043b\\u0435\\u0432\\u043e\\u0439\",\"\\u0433\\u043e\\u0441\\u0431\\u0430\\u043d\\u043a\",\"\\u043a\\u043e\\u043c\\u0438\\u0441\\u0441\\u0438\\u044f\",\"\\u043e\\u0442\\u043a\\u0430\\u0437\\u0430\\u0442\\u044c\\u0441\\u044f\",\"\\u0440\\u0431\\u043a\",\"\\u0431\\u0443\\u0434\\u0443\\u0449\\u0435\\u0435\",\"\\u043f\\u043e\\u043b\\u043e\\u0432\\u0438\\u043d\\u0430\",\"ipo\",\"\\u0444\\u043e\\u043d\\u0434\\u043e\\u0432\\u044b\\u0439\",\"\\u0445\\u043e\\u0434\",\"\\u043a\\u0438\\u0442\\u0430\\u0439\\u0441\\u043a\\u0438\\u0439\",\"\\u0437\\u0430\\u043c\\u043f\\u0440\\u0435\\u0434\",\"\\u0441\\u0442\\u043e\\u0438\\u0442\\u044c\",\"\\u0434\\u043e\\u0447\\u043a\\u0430\",\"\\u0438\\u043d\\u0441\\u0442\\u0440\\u0443\\u043c\\u0435\\u043d\\u0442\",\"\\u043f\\u043e\\u0434\\u0430\\u0442\\u044c\",\"\\u043d\\u0430\\u043b\\u043e\\u0433\",\"\\u0434\\u0435\\u044f\\u0442\\u0435\\u043b\\u044c\\u043d\\u043e\\u0441\\u0442\\u044c\",\"\\u0432\\u0435\\u0441\\u0442\\u0438\",\"\\u043e\\u0431\\u0435\\u0441\\u043f\\u0435\\u0447\\u0438\\u0442\\u044c\",\"\\u0441\\u043e\\u0433\\u043b\\u0430\\u0441\\u043d\\u043e\",\"\\u043e\\u0436\\u0438\\u0434\\u0430\\u043d\\u0438\\u0435\",\"\\u0441\\u043e\\u043a\\u0440\\u0430\\u0449\\u0435\\u043d\\u0438\\u0435\",\"\\u043c\\u0430\\u0433\\u0430\\u0437\\u0438\\u043d\",\"\\u0434\\u043c\\u0438\\u0442\\u0440\\u0438\\u0439\",\"\\u0441\\u043e\\u0431\\u0435\\u0441\\u0435\\u0434\\u043d\\u0438\\u043a\",\"\\u043f\\u0440\\u0435\\u0434\\u0441\\u0435\\u0434\\u0430\\u0442\\u0435\\u043b\\u044c\",\"\\u043f\\u043e\\u0434\\u043f\\u0438\\u0441\\u0430\\u0442\\u044c\",\"\\u0441\\u0432\\u044f\\u0437\\u0430\\u0442\\u044c\",\"\\u0442\\u043e\\u0432\\u0430\\u0440\",\"\\u0430\\u044d\\u0440\\u043e\\u0444\\u043b\\u043e\\u0442\",\"\\u043a\\u043e\\u043d\\u0442\\u0440\\u043e\\u043b\\u044c\",\"\\u0440\\u0430\\u0441\\u0441\\u043c\\u0430\\u0442\\u0440\\u0438\\u0432\\u0430\\u0442\\u044c\",\"\\u043f\\u043e\\u0437\\u0438\\u0442\\u0438\\u0432\\u043d\\u044b\\u0439\",\"\\u0446\\u0435\\u043d\\u043d\\u044b\\u0439\",\"\\u0438\\u0441\\u043f\\u043e\\u043b\\u044c\\u0437\\u043e\\u0432\\u0430\\u0442\\u044c\",\"\\u043f\\u0440\\u043e\\u0438\\u0437\\u043e\\u0439\\u0442\\u0438\",\"\\u0444\\u0438\\u0437\\u0438\\u0447\\u0435\\u0441\\u043a\\u0438\\u0439\",\"\\u0432\\u043b\\u043e\\u0436\\u0435\\u043d\\u0438\\u0435\",\"\\u0437\\u0430\\u043f\\u0443\\u0441\\u043a\",\"\\u0436\\u0434\\u0430\\u0442\\u044c\",\"\\u043e\\u0442\\u043d\\u043e\\u0441\\u0438\\u0442\\u0435\\u043b\\u044c\\u043d\\u043e\",\"\\u0440\\u0441\\u0431\",\"\\u0443\\u043f\\u0430\\u0441\\u0442\\u044c\",\"\\u043f\\u043e\\u043a\\u0443\\u043f\\u0430\\u0442\\u044c\",\"\\u0432\\u0438\\u0434\",\"\\u0437\\u0430\\u043a\\u0440\\u044b\\u0442\\u0438\\u0435\",\"\\u043f\\u043e\\u0442\\u0440\\u0435\\u0431\\u0438\\u0442\\u0435\\u043b\\u044c\",\"\\u0432\\u043e\\u0441\\u0441\\u0442\\u0430\\u043d\\u043e\\u0432\\u043b\\u0435\\u043d\\u0438\\u0435\",\"\\u0442\\u043e\\u0447\\u043a\\u0430\",\"\\u0432\\u043b\\u0438\\u044f\\u043d\\u0438\\u0435\",\"\\u0442\\u0435\\u043c\\u043f\",\"\\u043c\\u0435\\u0441\\u0442\\u043e\",\"\\u043a\\u043e\\u044d\\u0444\\u0444\\u0438\\u0446\\u0438\\u0435\\u043d\\u0442\",\"\\u0432\\u0445\\u043e\\u0434\\u0438\\u0442\\u044c\",\"\\u0432\\u043b\\u0430\\u0441\\u0442\\u044c\",\"\\u0441\\u0440\\u0435\\u0434\\u043d\\u0438\\u0439\",\"\\u0433\\u0435\\u043d\\u0434\\u0438\\u0440\\u0435\\u043a\\u0442\\u043e\\u0440\",\"\\u043f\\u043e\\u044d\\u0442\\u043e\\u043c\\u0443\",\"\\u0442\\u0435\\u0445\\u043d\\u043e\\u043b\\u043e\\u0433\\u0438\\u044f\",\"\\u043d\\u0435\\u0444\\u0442\\u044f\\u043d\\u043e\\u0439\",\"\\u043f\\u0440\\u043e\\u0441\\u0438\\u0442\\u044c\",\"\\u0442\\u0435\\u0447\\u0435\\u043d\\u0438\\u0435\",\"\\u043d\\u0435\\u0441\\u043c\\u043e\\u0442\\u0440\\u044f\",\"\\u0432\\u0430\\u0440\\u0438\\u0430\\u043d\\u0442\",\"\\u043f\\u0443\\u043d\\u043a\\u0442\",\"\\u043f\\u0430\\u043e\",\"\\u0446\\u0435\\u043d\\u0442\\u0440\",\"\\u043e\\u0447\\u0435\\u0440\\u0435\\u0434\\u044c\",\"\\u043f\\u0440\\u0438\\u043e\\u0431\\u0440\\u0435\\u0442\\u0435\\u043d\\u0438\\u0435\",\"\\u0437\\u0430\\u043a\\u043e\\u043d\",\"\\u0441\\u0443\\u0449\\u0435\\u0441\\u0442\\u0432\\u0435\\u043d\\u043d\\u044b\\u0439\",\"\\u043e\\u0446\\u0435\\u043d\\u0438\\u0442\\u044c\",\"\\u0434\\u043e\\u043b\\u0433\\u043e\\u0441\\u0440\\u043e\\u0447\\u043d\\u044b\\u0439\",\"\\u0430\\u043d\\u0434\\u0440\\u0435\\u0439\",\"\\u043f\\u0440\\u0438\\u0447\\u0438\\u043d\\u0430\",\"\\u043f\\u0435\\u0440\\u0435\\u0434\",\"\\u043c\\u0435\\u0433\\u0430\\u0444\\u043e\\u043d\",\"\\u043b\\u044c\\u0433\\u043e\\u0442\\u0430\",\"\\u0434\\u043e\\u0433\\u043e\\u0432\\u043e\\u0440\\u0438\\u0442\\u044c\\u0441\\u044f\",\"\\u043e\\u0434\\u043e\\u0431\\u0440\\u0438\\u0442\\u044c\",\"\\u0432\\u043c\\u0435\\u0441\\u0442\\u0435\",\"\\u0433\\u0435\\u0440\\u043c\\u0430\\u043d\",\"\\u043c\\u0435\\u043d\\u0435\\u0434\\u0436\\u043c\\u0435\\u043d\\u0442\",\"\\u043f\\u0440\\u0438\\u043d\\u0430\\u0434\\u043b\\u0435\\u0436\\u0430\\u0442\\u044c\",\"\\u0443\\u0433\\u043e\\u043b\\u044c\",\"\\u043d\\u0430\\u0441\\u0435\\u043b\\u0435\\u043d\\u0438\\u0435\",\"\\u0432\\u044b\\u043a\\u0443\\u043f\",\"\\u043f\\u0440\\u0430\\u0432\\u0438\\u043b\\u043e\",\"\\u043f\\u043e\\u043c\\u043e\\u0447\\u044c\",\"\\u043c\\u0430\\u043a\\u0441\\u0438\\u043c\\u0430\\u043b\\u044c\\u043d\\u044b\\u0439\",\"\\u0441\\u0438\\u043b\\u0430\",\"\\u0440\\u0435\\u0447\\u044c\",\"\\u043f\\u0440\\u0438\\u0432\\u0438\\u043b\\u0435\\u0433\\u0438\\u0440\\u043e\\u0432\\u0430\\u043d\\u043d\\u044b\\u0439\",\"\\u043d\\u0430\\u043b\\u043e\\u0433\\u043e\\u0432\\u044b\\u0439\",\"\\u0432\\u043f\\u0435\\u0440\\u0432\\u044b\\u0435\",\"\\u043f\\u043b\\u0430\\u043d\\u0438\\u0440\\u043e\\u0432\\u0430\\u0442\\u044c\\u0441\\u044f\",\"\\u043e\\u0436\\u0438\\u0434\\u0430\\u0442\\u044c\\u0441\\u044f\",\"\\u043f\\u0440\\u043e\\u0434\\u043e\\u043b\\u0436\\u0438\\u0442\\u044c\",\"\\u043f\\u043b\\u0430\\u0442\\u0438\\u0442\\u044c\",\"\\u043f\\u043e\\u043b\\u043d\\u044b\\u0439\",\"\\u043e\\u0431\\u0441\\u0443\\u0436\\u0434\\u0430\\u0442\\u044c\",\"\\u043f\\u043e\\u0437\\u0432\\u043e\\u043b\\u044f\\u0442\\u044c\",\"\\u0431\\u0440\\u043e\\u043a\\u0435\\u0440\",\"\\u043d\\u0430\\u043f\\u0440\\u0430\\u0432\\u043b\\u0435\\u043d\\u0438\\u0435\",\"\\u0434\\u0435\\u0439\\u0441\\u0442\\u0432\\u043e\\u0432\\u0430\\u0442\\u044c\",\"\\u0432\\u0435\\u0440\\u043d\\u0443\\u0442\\u044c\\u0441\\u044f\",\"\\u0441\\u043e\\u043e\\u0442\\u0432\\u0435\\u0442\\u0441\\u0442\\u0432\\u0435\\u043d\\u043d\\u043e\",\"\\u0437\\u0430\\u0434\\u043e\\u043b\\u0436\\u0435\\u043d\\u043d\\u043e\\u0441\\u0442\\u044c\",\"\\u0437\\u043e\\u043b\\u043e\\u0442\\u043e\",\"\\u043d\\u0430\\u0439\\u0442\\u0438\",\"\\u0433\\u0430\\u0437\\u043e\\u043f\\u0440\\u043e\\u0432\\u043e\\u0434\",\"\\u0441\\u043f\\u0438\\u0441\\u043e\\u043a\",\"\\u043f\\u043e\\u0442\\u0435\\u043d\\u0446\\u0438\\u0430\\u043b\",\"\\u0433\\u0440\\u0430\\u0436\\u0434\\u0430\\u043d\\u0438\\u043d\",\"\\u043a\\u043e\\u043c\\u043f\\u043b\\u0435\\u043a\\u0441\",\"\\u0433\\u0434\\u0435\",\"\\u043a\\u0430\\u043f\\u0438\\u0442\\u0430\\u043b\\u0438\\u0437\\u0430\\u0446\\u0438\\u044f\",\"\\u043f\\u043e\\u044f\\u0432\\u0438\\u0442\\u044c\\u0441\\u044f\",\"\\u043f\\u043e\\u0434\\u0434\\u0435\\u0440\\u0436\\u0430\\u0442\\u044c\",\"\\u0437\\u0430\\u043a\\u043b\\u044e\\u0447\\u0438\\u0442\\u044c\",\"\\u0442\\u043e\\u0440\\u0433\\u043e\\u0432\\u0430\\u0442\\u044c\\u0441\\u044f\",\"\\u0437\\u0430\\u0440\\u0443\\u0431\\u0435\\u0436\\u043d\\u044b\\u0439\",\"\\u0438\\u0441\\u0442\\u043e\\u0440\\u0438\\u044f\",\"\\u0441\\u0441\\u044b\\u043b\\u043a\\u0430\",\"\\u043f\\u0440\\u0435\\u0434\\u044b\\u0434\\u0443\\u0449\\u0438\\u0439\",\"\\u043d\\u0430\\u0434\",\"\\u0437\\u0430\\u043a\\u043e\\u043d\\u043e\\u043f\\u0440\\u043e\\u0435\\u043a\\u0442\",\"\\u043e\\u043b\\u0435\\u0433\",\"\\u0442\\u0440\\u0430\\u043d\\u0437\\u0438\\u0442\",\"\\u043c\\u0435\\u0442\\u0430\\u043b\\u043b\",\"\\u043a\\u0440\\u0435\\u0434\\u0438\\u0442\\u043e\\u0440\",\"\\u0434\\u0435\\u0439\\u0441\\u0442\\u0432\\u0438\\u0435\",\"\\u0441\\u043e\\u0431\\u0440\\u0430\\u043d\\u0438\\u0435\",\"\\u043e\\u0431\\u044f\\u0437\\u0430\\u0442\\u0435\\u043b\\u044c\\u0441\\u0442\\u0432\\u043e\",\"\\u043a\\u043e\\u043d\\u043a\\u0443\\u0440\\u0435\\u043d\\u0446\\u0438\\u044f\",\"\\u0430\\u0432\\u0442\\u043e\\u043c\\u043e\\u0431\\u0438\\u043b\\u044c\",\"\\u0431\\u0440\\u0435\\u043d\\u0434\",\"\\u0432\\u043e\\u0441\\u0442\\u043e\\u043a\",\"\\u0437\\u0430\\u0442\\u0440\\u0430\\u0442\\u0430\",\"\\u0431\\u044b\\u0441\\u0442\\u0440\\u044b\\u0439\",\"\\u0437\\u043d\\u0430\\u0447\\u0438\\u0442\\u0435\\u043b\\u044c\\u043d\\u044b\\u0439\",\"\\u0432\\u044b\\u043a\\u0443\\u043f\\u0438\\u0442\\u044c\",\"\\u0442\\u0438\\u043d\\u044c\\u043a\\u043e\\u0444\\u0444\",\"\\u0440\\u0430\\u0437\\u0432\\u0438\\u0432\\u0430\\u0442\\u044c\",\"\\u0444\\u0430\\u043a\\u0442\\u043e\\u0440\",\"\\u043d\\u0430\\u0446\\u0438\\u043e\\u043d\\u0430\\u043b\\u044c\\u043d\\u044b\\u0439\",\"\\u0440\\u043e\\u0441\\u0442\\u0435\\u043b\\u0435\\u043a\\u043e\\u043c\",\"\\u0432\\u043f\\u0440\\u043e\\u0447\\u0435\\u043c\",\"\\u0434\\u0430\\u043d\\u043d\\u044b\\u0439\",\"\\u0447\\u0430\\u0441\\u0442\\u043d\\u043e\\u0441\\u0442\\u044c\",\"\\u0440\\u0430\\u0437\\u0440\\u0430\\u0431\\u043e\\u0442\\u043a\\u0430\",\"\\u0432\\u043e\\u0439\\u0442\\u0438\",\"\\u043f\\u043e\\u0442\\u0440\\u0435\\u0431\\u0438\\u0442\\u0435\\u043b\\u044c\\u0441\\u043a\\u0438\\u0439\",\"\\u0442\\u043e\\u0433\\u0434\\u0430\",\"\\u043c\\u043e\\u0434\\u0435\\u043b\\u044c\",\"\\u043c\\u0438\\u043d\\u0438\\u043c\\u0443\\u043c\",\"\\u043d\\u0435\\u0431\\u043e\\u043b\\u044c\\u0448\\u043e\\u0439\",\"\\u043f\\u043e\\u0440\\u044f\\u0434\\u043e\\u043a\",\"\\u0443\\u0447\\u0438\\u0442\\u044b\\u0432\\u0430\\u0442\\u044c\",\"\\u0441\\u043f\\u043e\\u0440\",\"\\u043f\\u043e\\u043b\\u043d\\u043e\\u0441\\u0442\\u044c\\u044e\",\"\\u0441\\u0430\\u043c\\u043e\\u043b\\u0451\\u0442\",\"\\u0443\\u0434\\u0430\\u0442\\u044c\\u0441\\u044f\",\"\\u0441\\u0435\\u0440\\u0433\\u0435\\u0439\",\"\\u0441\\u0440\\u0435\\u0434\\u043d\\u0435\\u0435\",\"\\u043a\\u0430\\u043a\\u043e\\u0439\",\"\\u0437\\u0430\\u043f\\u0430\\u0441\",\"\\u043f\\u043e\\u043b\\u0443\\u0447\\u0435\\u043d\\u0438\\u0435\",\"\\u0442\\u0440\\u0435\\u0431\\u043e\\u0432\\u0430\\u0442\\u044c\",\"\\u043f\\u043e\\u0442\\u0435\\u043d\\u0446\\u0438\\u0430\\u043b\\u044c\\u043d\\u044b\\u0439\",\"\\u0437\\u0430\\u043a\\u0430\\u0437\",\"\\u043f\\u043e\\u043f\\u0430\\u0441\\u0442\\u044c\",\"\\u043e\\u0442\\u0447\\u0451\\u0442\",\"\\u0432\\u043b\\u0430\\u0434\\u0435\\u0442\\u044c\",\"\\u0433\\u043b\\u0430\\u0432\\u043d\\u044b\\u0439\",\"\\u0430\\u043a\\u0442\\u0438\\u0432\\u043d\\u043e\",\"\\u0434\\u043e\\u0433\\u043e\\u0432\\u043e\\u0440\",\"\\u0432\\u044b\\u0445\\u043e\\u0434\",\"\\u0441\\u043e\\u0431\\u0438\\u0440\\u0430\\u0442\\u044c\\u0441\\u044f\",\"\\u044d\\u043c\\u0438\\u0442\\u0435\\u043d\\u0442\",\"\\u043f\\u0440\\u043e\\u0439\\u0442\\u0438\",\"\\u0430\\u043b\\u0435\\u043a\\u0441\\u0435\\u0439\",\"\\u043f\\u043e\\u0441\\u0442\\u0430\\u0432\\u0438\\u0442\\u044c\",\"\\u0440\\u0435\\u0433\\u0443\\u043b\\u0438\\u0440\\u043e\\u0432\\u0430\\u043d\\u0438\\u0435\",\"\\u043a\\u043e\\u043d\\u043a\\u0443\\u0440\\u0435\\u043d\\u0442\",\"\\u0443\\u043a\\u0440\\u0430\\u0438\\u043d\\u0441\\u043a\\u0438\\u0439\",\"\\u0434\\u0435\\u043b\\u0430\\u0442\\u044c\",\"\\u0438\\u043d\\u0444\\u043b\\u044f\\u0446\\u0438\\u044f\",\"\\u0441\\u0444\\u0435\\u0440\\u0430\",\"\\u043f\\u043e\\u0441\\u0442\\u0430\\u0432\\u0449\\u0438\\u043a\",\"\\u0434\\u0435\\u0440\\u0438\\u043f\\u0430\\u0441\\u043a\",\"\\u043f\\u043e\\u0433\\u0430\\u0448\\u0435\\u043d\\u0438\\u0435\",\"\\u0431\\u0430\\u0437\\u043e\\u0432\\u044b\\u0439\",\"\\u043f\\u044b\\u0442\\u0430\\u0442\\u044c\\u0441\\u044f\",\"\\u0438\\u0441\\u043a\\u0430\\u0442\\u044c\",\"\\u044e\\u0440\\u0438\\u0434\\u0438\\u0447\\u0435\\u0441\\u043a\\u0438\\u0439\",\"\\u0442\\u043e\\u0440\\u0433\\u043e\\u0432\\u043b\\u044f\",\"\\u043f\\u044f\\u0442\\u044c\",\"\\u044d\\u043b\\u0435\\u043a\\u0442\\u0440\\u043e\\u043d\\u043d\\u044b\\u0439\",\"\\u043f\\u0440\\u0438\\u0437\\u043d\\u0430\\u0442\\u044c\",\"\\u043e\\u0431\\u044a\\u0435\\u043a\\u0442\",\"\\u0433\\u043e\\u0441\\u0443\\u0434\\u0430\\u0440\\u0441\\u0442\\u0432\\u0435\\u043d\\u043d\\u044b\\u0439\",\"\\u0441\\u043b\\u0443\\u0436\\u0431\\u0430\",\"\\u0437\\u0430\\u0432\\u0435\\u0440\\u0448\\u0438\\u0442\\u044c\",\"\\u0447\\u0435\\u0442\\u044b\\u0440\\u0435\",\"\\u0434\\u043e\\u0441\\u0442\\u0430\\u0442\\u043e\\u0447\\u043d\\u043e\\u0441\\u0442\\u044c\",\"\\u043f\\u0443\\u0442\\u0438\\u043d\",\"\\u0440\\u0435\\u043a\\u043e\\u043c\\u0435\\u043d\\u0434\\u0430\\u0446\\u0438\\u044f\",\"\\u043f\\u0440\\u0438\\u0445\\u043e\\u0434\\u0438\\u0442\\u044c\\u0441\\u044f\",\"\\u0438\\u0441\\u043f\\u043e\\u043b\\u044c\\u0437\\u043e\\u0432\\u0430\\u043d\\u0438\\u0435\",\"\\u043f\\u0435\\u0440\\u0435\\u0432\\u043e\\u0437\\u043a\\u0430\",\"\\u043d\\u0430\\u0444\\u0442\\u043e\\u0433\\u0430\\u0437\",\"\\u043e\\u0431\\u044a\\u0435\\u0434\\u0438\\u043d\\u0438\\u0442\\u044c\",\"\\u043c\\u0430\\u043a\\u0441\\u0438\\u043c\\u0443\\u043c\",\"\\u043f\\u0440\\u0435\\u0434\\u043e\\u0441\\u0442\\u0430\\u0432\\u0438\\u0442\\u044c\",\"\\u0441\\u043e\\u0441\\u0442\\u043e\\u044f\\u0442\\u044c\\u0441\\u044f\",\"\\u043f\\u043e\\u0441\\u0442\\u0440\\u043e\\u0438\\u0442\\u044c\",\"\\u043e\\u043e\\u043e\",\"\\u043a\\u0443\\u0431\",\"\\u0442\\u0440\\u0443\\u0431\\u0430\",\"\\u043f\\u0440\\u0438\\u043d\\u0430\\u0434\\u043b\\u0435\\u0436\\u0430\\u0449\\u0438\\u0439\",\"\\u0443\\u0441\\u0442\\u0430\\u043d\\u043e\\u0432\\u0438\\u0442\\u044c\",\"\\u0441\\u043e\\u0445\\u0440\\u0430\\u043d\\u0438\\u0442\\u044c\",\"\\u0438\\u0434\\u0435\\u044f\",\"\\u0433\\u0430\\u0437\\u043e\\u0432\\u044b\\u0439\",\"\\u0437\\u0430\\u044f\\u0432\\u043b\\u0435\\u043d\\u0438\\u0435\",\"\\u043d\\u0435\\u0434\\u0432\\u0438\\u0436\\u0438\\u043c\\u043e\\u0441\\u0442\\u044c\",\"\\u0434\\u043e\\u0441\\u0442\\u0443\\u043f\",\"\\u043d\\u0430\\u0441\\u0442\\u043e\\u044f\\u0449\\u0438\\u0439\",\"\\u043a\\u0440\\u0438\\u0437\\u0438\\u0441\",\"\\u0432\\u044b\\u0441\\u0442\\u0443\\u043f\\u0430\\u0442\\u044c\",\"\\u043e\\u0444\\u0437\",\"\\u0441\\u0430\\u0439\\u0442\",\"\\u043e\\u0431\\u043d\\u043e\\u0432\\u0438\\u0442\\u044c\",\"\\u043c\\u0430\\u0440\\u043a\\u0435\\u0442\\u043f\\u043b\\u0435\\u0439\\u0441\",\"\\u043d\\u0443\\u0436\\u043d\\u043e\",\"\\u0444\\u043a\",\"\\u043f\\u0440\\u043e\\u0433\\u043d\\u043e\\u0437\\u0438\\u0440\\u043e\\u0432\\u0430\\u0442\\u044c\",\"\\u043f\\u043e\\u0432\\u044b\\u0448\\u0430\\u0442\\u044c\",\"\\u0434\\u043e\\u0431\\u0430\\u0432\\u0438\\u0442\\u044c\",\"\\u0430\\u0440\\u0431\\u0438\\u0442\\u0440\\u0430\\u0436\\u043d\\u044b\\u0439\",\"\\u043f\\u0440\\u043e\\u0434\\u0443\\u043a\\u0446\\u0438\\u044f\",\"\\u0432\\u0432\\u0435\\u0434\\u0435\\u043d\\u0438\\u0435\",\"\\u043d\\u0430\\u0447\\u0438\\u043d\\u0430\\u0442\\u044c\",\"\\u043d\\u0430\\u0440\\u0430\\u0441\\u0442\\u0438\\u0442\\u044c\",\"\\u043e\\u0441\\u043d\\u043e\\u0432\\u043d\\u043e\\u0435\",\"\\u0434\\u043e\\u0441\\u0442\\u0443\\u043f\\u043d\\u044b\\u0439\",\"\\u0430\\u043a\\u0442\\u0438\\u0432\\u043d\\u044b\\u0439\",\"\\u0440\\u0443\\u0441\\u0430\\u043b\\u043e\",\"\\u0432\\u043d\\u0435\\u0441\\u0442\\u0438\",\"\\u0440\\u0430\\u0441\\u0448\\u0438\\u0440\\u0435\\u043d\\u0438\\u0435\",\"\\u0431\\u0438\\u0440\\u0436\\u0435\\u0432\\u043e\\u0439\",\"\\u0432\\u043d\\u043e\\u0432\\u044c\",\"\\u0438\\u043d\\u0442\\u0435\\u0440\\u0444\\u0430\\u043a\\u0441\",\"\\u0443\\u0442\\u0432\\u0435\\u0440\\u0434\\u0438\\u0442\\u044c\",\"\\u043f\\u043e\\u043b\\u0443\\u0447\\u0430\\u0442\\u044c\",\"\\u0438\\u043d\\u0444\\u0440\\u0430\\u0441\\u0442\\u0440\\u0443\\u043a\\u0442\\u0443\\u0440\\u0430\",\"\\u0441\\u043e\\u0437\\u0434\\u0430\\u0432\\u0430\\u0442\\u044c\",\"\\u0440\\u0430\\u043e\",\"\\u0432\\u043a\\u043b\\u044e\\u0447\\u0430\\u044f\",\"\\u043c\\u043e\\u0431\\u0438\\u043b\\u044c\\u043d\\u044b\\u0439\",\"\\u043e\\u0431\\u044a\\u044f\\u0441\\u043d\\u044f\\u0442\\u044c\",\"\\u043d\\u043e\\u0440\\u043d\\u0438\\u043a\\u0435\\u043b\\u044c\",\"\\u043a\\u043e\\u043c\\u043c\\u0435\\u0440\\u0441\\u0430\\u043d\\u0442\",\"\\u043f\\u0440\\u043e\\u0446\\u0435\\u0441\\u0441\",\"\\u0431\\u043b\\u0430\\u0433\\u043e\\u0434\\u0430\\u0440\\u044f\",\"\\u043e\\u0442\\u0447\\u0438\\u0441\\u043b\\u0435\\u043d\\u0438\\u0435\",\"\\u043f\\u043e\\u0442\\u0435\\u0440\\u044f\",\"\\u0440\\u043e\\u0441\\u0441\\u0435\\u0442\\u044c\",\"\\u0431\\u044b\\u0432\\u0448\\u0438\\u0439\",\"\\u0441\\u0443\\u0449\\u0435\\u0441\\u0442\\u0432\\u0435\\u043d\\u043d\\u043e\",\"\\u043f\\u0440\\u044f\\u043c\\u043e\\u0439\",\"\\u043f\\u043e\\u0432\\u043b\\u0438\\u044f\\u0442\\u044c\",\"\\u043a\\u0430\\u0436\\u0434\\u044b\\u0439\",\"\\u0433\\u043e\\u0442\\u043e\\u0432\\u0438\\u0442\\u044c\\u0441\\u044f\",\"\\u043c\\u0430\\u0433\\u043d\\u0438\\u0442\",\"\\u043f\\u043e\\u043c\\u043e\\u0449\\u044c\",\"\\u043f\\u043e\\u043b\\u043e\\u0436\\u0438\\u0442\\u0435\\u043b\\u044c\\u043d\\u044b\\u0439\",\"\\u043d\\u0435\\u043e\\u0431\\u0445\\u043e\\u0434\\u0438\\u043c\\u044b\\u0439\",\"\\u0441\\u043e\\u0432\\u043e\\u043a\\u0443\\u043f\\u043d\\u044b\\u0439\",\"\\u043f\\u043e\\u043b\\u044c\\u0437\\u043e\\u0432\\u0430\\u0442\\u0435\\u043b\\u044c\",\"\\u043d\\u0430\\u0437\\u0430\\u0434\",\"ozon\",\"\\u043f\\u0440\\u0438\\u0432\\u043b\\u0435\\u0447\\u0435\\u043d\\u0438\\u0435\",\"\\u043e\\u0431\\u043e\\u0440\\u043e\\u0442\",\"ebitda\",\"\\u0437\\u0430\\u043f\\u043b\\u0430\\u0442\\u0438\\u0442\\u044c\",\"\\u0440\\u0435\\u043a\\u043e\\u0440\\u0434\",\"\\u0442\\u044b\\u0441\\u044f\\u0447\\u0430\",\"\\u0432\\u0437\\u0433\\u043b\\u044f\\u0434\",\"\\u0438\\u0433\\u043e\\u0440\\u044c\",\"\\u043c\\u043e\\u043d\\u043e\\u043f\\u043e\\u043b\\u0438\\u044f\",\"\\u0442\\u043e\\u043f\\u043b\\u0438\\u0432\\u043e\",\"\\u0441\\u043d\\u0438\\u0436\\u0430\\u0442\\u044c\\u0441\\u044f\",\"\\u0437\\u043d\\u0430\\u0447\\u0435\\u043d\\u0438\\u0435\",\"\\u043d\\u0430\\u0438\\u0431\\u043e\\u043b\\u0435\\u0435\",\"\\u043f\\u0440\\u0435\\u0432\\u044b\\u0448\\u0430\\u0442\\u044c\",\"\\u043f\\u0440\\u043e\\u0432\\u0435\\u0434\\u0435\\u043d\\u0438\\u0435\",\"\\u043c\\u0438\\u043d\\u0438\\u043c\\u0430\\u043b\\u044c\\u043d\\u044b\\u0439\",\"\\u043c\\u0435\\u0445\\u0430\\u043d\\u0438\\u0437\\u043c\",\"\\u043f\\u043e\\u0434\\u043e\\u0431\\u043d\\u044b\\u0439\",\"\\u0441\\u043e\\u0442\\u0440\\u0443\\u0434\\u043d\\u0438\\u0447\\u0435\\u0441\\u0442\\u0432\\u043e\",\"\\u043e\\u0442\\u043a\\u0440\\u044b\\u0442\\u044c\",\"\\u0432\\u044b\\u0433\\u043b\\u044f\\u0434\\u0435\\u0442\\u044c\",\"\\u043f\\u0435\\u0440\\u0435\\u0434\\u0430\\u0442\\u044c\",\"\\u0440\\u0435\\u0436\\u0438\\u043c\",\"\\u043d\\u0430\\u0433\\u0440\\u0443\\u0437\\u043a\\u0430\",\"\\u0443\\u0447\\u0430\\u0441\\u0442\\u043e\\u043a\",\"\\u0431\\u043e\\u043b\\u044c\\u0448\\u0438\\u043d\\u0441\\u0442\\u0432\\u043e\",\"\\u043d\\u0430\\u0437\\u0432\\u0430\\u0442\\u044c\",\"\\u0441\\u0435\\u0433\\u043e\\u0434\\u043d\\u044f\",\"\\u0440\\u043e\\u0441\\u0441\\u0438\\u044f\\u043d\\u0438\\u043d\",\"\\u043c\\u0438\\u043d\\u0438\\u0441\\u0442\\u0440\",\"\\u0442\\u0430\\u043c\",\"\\u043f\\u043e\\u0439\\u0442\\u0438\",\"\\u0442\\u0430\\u0441\\u0441\",\"\\u0434\\u0430\\u0432\\u043b\\u0435\\u043d\\u0438\\u0435\",\"\\u0437\\u0430\\u043a\\u0440\\u044b\\u0442\\u044c\",\"\\u0441\\u0445\\u0435\\u043c\\u0430\",\"\\u043e\\u043f\\u043b\\u0430\\u0442\\u0430\",\"\\u044d\\u043a\\u0441\\u043f\\u043e\\u0440\\u0442\\u043d\\u044b\\u0439\",\"\\u0442\\u0435\\u0440\\u0440\\u0438\\u0442\\u043e\\u0440\\u0438\\u044f\",\"\\u043f\\u0440\\u043e\\u043c\\u0441\\u0432\\u044f\\u0437\\u044c\\u0431\\u0430\\u043d\\u043a\",\"\\u043b\\u044c\\u0433\\u043e\\u0442\\u043d\\u044b\\u0439\",\"\\u0435\\u0434\\u0438\\u043d\\u044b\\u0439\",\"\\u044d\\u043b\\u0435\\u043a\\u0442\\u0440\\u043e\\u044d\\u043d\\u0435\\u0440\\u0433\\u0438\\u044f\",\"\\u043f\\u043e\\u0442\\u0435\\u0440\\u044f\\u0442\\u044c\",\"\\u0438\\u0437\\u0432\\u0435\\u0441\\u0442\\u043d\\u043e\",\"\\u0432\\u043b\\u043e\\u0436\\u0438\\u0442\\u044c\",\"tcs\",\"\\u0440\\u0435\\u0437\\u043a\\u0438\\u0439\",\"\\u043d\\u0435\\u0433\\u0430\\u0442\\u0438\\u0432\\u043d\\u044b\\u0439\",\"\\u043b\\u0438\\u0446\\u0435\\u043d\\u0437\\u0438\\u044f\",\"\\u0430\\u043b\\u0440\\u043e\\u0441\",\"\\u0443\\u0432\\u0435\\u043b\\u0438\\u0447\\u0438\\u0432\\u0430\\u0442\\u044c\",\"\\u043f\\u0440\\u043e\\u043c\\u044b\\u0448\\u043b\\u0435\\u043d\\u043d\\u043e\\u0441\\u0442\\u044c\",\"\\u043d\\u0430\\u043f\\u0440\\u0438\\u043c\\u0435\\u0440\",\"\\u043b\\u044e\\u0431\\u043e\\u0439\",\"\\u043f\\u043b\\u043e\\u0449\\u0430\\u0434\\u044c\",\"\\u0437\\u0430\\u043d\\u044f\\u0442\\u044c\",\"\\u0438\\u0441\\u0442\\u043e\\u0440\\u0438\\u0447\\u0435\\u0441\\u043a\\u0438\\u0439\",\"\\u043f\\u043b\\u044e\\u0441\",\"\\u043d\\u0438\",\"\\u0433\\u043e\\u0441\\u043a\\u043e\\u043c\\u043f\\u0430\\u043d\\u0438\\u044f\",\"\\u0434\\u0443\\u043c\\u0430\\u0442\\u044c\",\"\\u0437\\u0430\\u0432\\u0438\\u0441\\u0435\\u0442\\u044c\",\"\\u043c\\u0438\\u043b\\u043b\\u0438\\u043e\\u043d\",\"\\u043e\\u043a\\u0430\\u0437\\u0430\\u0442\\u044c\",\"\\u043c\\u0438\\u0445\\u0430\\u0438\\u043b\",\"\\u0443\\u0442\\u043e\\u0447\\u043d\\u0438\\u0442\\u044c\",\"\\u0440\\u0435\\u0437\\u043a\\u043e\",\"\\u0440\\u0435\\u0441\\u0442\\u0440\\u0443\\u043a\\u0442\\u0443\\u0440\\u0438\\u0437\\u0430\\u0446\\u0438\\u044f\",\"\\u0441\\u0435\\u0440\\u0435\\u0434\\u0438\\u043d\\u0430\",\"\\u043c\\u0430\\u0440\\u0436\\u0430\",\"\\u0440\\u0430\\u0441\\u0441\\u043c\\u043e\\u0442\\u0440\\u0435\\u0442\\u044c\",\"\\u0441\\u043e\\u043e\\u0442\\u0432\\u0435\\u0442\\u0441\\u0442\\u0432\\u0438\\u0435\",\"\\u0441\\u043a\\u043e\\u0440\\u0435\\u0435\",\"\\u0440\\u0430\\u0437\\u043d\\u044b\\u0439\",\"\\u0434\\u0430\\u043b\\u044c\\u043d\\u0438\\u0439\",\"\\u0438\\u043d\\u0442\\u0435\\u0440\\u0432\\u044c\\u044e\",\"\\u043d\\u043f\\u0437\",\"\\u0437\\u0430\\u0441\\u0435\\u0434\\u0430\\u043d\\u0438\\u0435\",\"\\u043d\\u0430\\u0447\\u0430\\u0442\\u044c\\u0441\\u044f\",\"\\u0433\\u0430\\u0437\\u043f\\u0440\\u043e\\u043c\\u0431\\u0430\\u043d\\u043a\",\"\\u043d\\u0430\\u0434\\u0435\\u044f\\u0442\\u044c\\u0441\\u044f\",\"\\u043f\\u043e\\u0434\\u0442\\u0432\\u0435\\u0440\\u0436\\u0434\\u0430\\u0442\\u044c\",\"\\u044d\\u043d\\u0435\\u0440\\u0433\\u0435\\u0442\\u0438\\u043a\\u0430\",\"\\u0434\\u043e\\u043c\",\"\\u043f\\u043e\\u0448\\u043b\\u0438\\u043d\\u0430\",\"\\u0440\\u0435\\u0433\\u0438\\u043e\\u043d\\u0430\\u043b\\u044c\\u043d\\u044b\\u0439\",\"\\u043c\\u0435\\u0442\\u0430\\u043b\\u043b\\u0443\\u0440\\u0433\",\"\\u043f\\u044f\\u0442\\u043d\\u0438\\u0446\\u0430\",\"\\u0437\\u0430\\u0451\\u043c\\u0449\\u0438\\u043a\",\"\\u0444\\u0430\\u043a\\u0442\",\"\\u0430\\u043e\",\"\\u0437\\u0430\\u043c\\u0435\\u0441\\u0442\\u0438\\u0442\\u0435\\u043b\\u044c\",\"\\u044d\\u0444\\u0444\\u0435\\u043a\\u0442\",\"\\u043c\\u0438\\u043d\\u0438\\u0441\\u0442\\u0435\\u0440\\u0441\\u0442\\u0432\\u043e\",\"\\u0441\\u0442\\u0440\\u0430\\u0442\\u0435\\u0433\\u0438\\u0447\\u0435\\u0441\\u043a\\u0438\\u0439\",\"\\u0437\\u0430\\u043a\\u0440\\u044b\\u0442\\u044b\\u0439\",\"\\u0440\\u0430\\u0437\\u043c\\u0435\\u0441\\u0442\\u0438\\u0442\\u044c\",\"\\u0440\\u0443\\u043a\\u043e\\u0432\\u043e\\u0434\\u0438\\u0442\\u0435\\u043b\\u044c\",\"stream\",\"\\u0441\\u043d\\u0438\\u0436\\u0430\\u0442\\u044c\",\"\\u0441\\u043e\\u0441\\u0442\\u043e\\u044f\\u043d\\u0438\\u0435\",\"\\u0441\\u043e\\u0445\\u0440\\u0430\\u043d\\u0435\\u043d\\u0438\\u0435\",\"\\u0434\\u043e\\u0441\\u0442\\u0430\\u0442\\u043e\\u0447\\u043d\\u043e\",\"\\u0441\\u0442\\u0440\\u0430\\u0445\\u043e\\u0432\\u0430\\u043d\\u0438\\u0435\",\"\\u043f\\u043e\\u0434\\u0434\\u0435\\u0440\\u0436\\u0438\\u0432\\u0430\\u0442\\u044c\",\"\\u043e\\u0431\\u0435\\u0449\\u0430\\u0442\\u044c\",\"\\u043f\\u0438\\u0441\\u044c\\u043c\\u043e\",\"\\u043a\\u043e\\u043d\\u0442\\u0440\\u043e\\u043b\\u0438\\u0440\\u043e\\u0432\\u0430\\u0442\\u044c\",\"\\u0430\\u0432\\u0442\\u043e\\u0432\\u0430\\u0437\",\"\\u043e\\u0442\\u0434\\u0435\\u043b\\u044c\\u043d\\u044b\\u0439\",\"\\u043d\\u0430\\u0440\\u0430\\u0449\\u0438\\u0432\\u0430\\u0442\\u044c\",\"\\u043f\\u0430\\u043d\\u0434\\u0435\\u043c\\u0438\\u044f\",\"\\u043d\\u0430\\u0437\\u044b\\u0432\\u0430\\u0442\\u044c\",\"\\u0432\\u044d\\u0431\",\"\\u0434\\u0430\\u0432\\u0430\\u0442\\u044c\",\"\\u043e\\u0431\\u043e\\u0440\\u0443\\u0434\\u043e\\u0432\\u0430\\u043d\\u0438\\u0435\",\"\\u0440\\u0443\\u0441\\u0433\\u0438\\u0434\\u0440\\u043e\",\"\\u043e\\u0444\\u0438\\u0441\",\"\\u0440\\u0435\\u0435\\u0441\\u0442\\u0440\",\"\\u043e\\u0433\\u0440\\u0430\\u043d\\u0438\\u0447\\u0438\\u0442\\u044c\",\"\\u043e\\u0446\\u0435\\u043d\\u0438\\u0432\\u0430\\u0442\\u044c\\u0441\\u044f\",\"\\u043e\\u0442\\u0441\\u0443\\u0442\\u0441\\u0442\\u0432\\u0438\\u0435\",\"\\u0433\\u043e\\u0440\\u043e\\u0434\",\"\\u043c\\u0438\\u043d\\u044d\\u043d\\u0435\\u0440\\u0433\\u043e\",\"\\u0440\\u0435\\u043a\\u043e\\u043c\\u0435\\u043d\\u0434\\u043e\\u0432\\u0430\\u0442\\u044c\",\"\\u0448\\u0442\\u0440\\u0430\\u0444\",\"\\u0430\\u043d\\u0442\\u0438\\u043c\\u043e\\u043d\\u043e\\u043f\\u043e\\u043b\\u044c\\u043d\\u044b\\u0439\",\"\\u043c\\u0430\\u0442\\u0435\\u0440\\u0438\\u0430\\u043b\",\"\\u0430\\u0440\\u043a\\u0442\\u0438\\u043a\",\"\\u0438\\u0437\\u0432\\u0435\\u0441\\u0442\\u0438\\u0435\",\"\\u0432\\u043e\\u0437\\u043c\\u043e\\u0436\\u043d\\u043e\",\"\\u0441\\u0440\\u0435\\u0434\\u0430\",\"\\u043a\\u0430\\u0441\\u0430\\u0442\\u044c\\u0441\\u044f\",\"\\u0435\\u0432\\u0440\\u043e\",\"\\u043f\\u043e\\u0440\\u0430\",\"\\u0442\\u0443\\u0440\\u0435\\u0446\\u043a\\u0438\\u0439\",\"\\u0430\\u0443\\u043a\\u0446\\u0438\\u043e\\u043d\",\"\\u0430\\u043a\\u0442\\u0438\\u0432\\u043d\\u043e\\u0441\\u0442\\u044c\",\"\\u0442\\u043e\\u043f\\u043c\\u0435\\u043d\\u0435\\u0434\\u0436\\u0435\\u0440\",\"\\u0440\\u0430\\u043d\\u043d\\u0438\\u0439\",\"reuters\",\"\\u0441\\u0446\\u0435\\u043d\\u0430\\u0440\\u0438\\u0439\",\"\\u043f\\u0440\\u0438\\u0442\\u043e\\u043a\",\"\\u043d\\u0430\\u0431\\u043b\\u044e\\u0434\\u0430\\u0442\\u0435\\u043b\\u044c\\u043d\\u044b\\u0439\",\"\\u0437\\u0430\\u043f\\u0430\\u0434\\u043d\\u044b\\u0439\",\"\\u0441\\u0435\\u0432\\u0435\\u0440\\u0441\\u0442\\u0430\\u043b\\u044c\",\"\\u043e\\u0431\\u0441\\u043b\\u0443\\u0436\\u0438\\u0432\\u0430\\u043d\\u0438\\u0435\",\"\\u0437\\u0430\\u043b\\u043e\\u0433\",\"\\u043f\\u0435\\u0440\\u0435\\u0445\\u043e\\u0434\",\"\\u043e\\u0431\\u0441\\u0443\\u0436\\u0434\\u0435\\u043d\\u0438\\u0435\",\"\\u043f\\u0440\\u0438\\u043b\\u043e\\u0436\\u0435\\u043d\\u0438\\u0435\",\"\\u0438\\u043d\\u0438\\u0446\\u0438\\u0430\\u0442\\u0438\\u0432\\u0430\",\"\\u043e\\u0431\\u0435\\u0441\\u043f\\u0435\\u0447\\u0435\\u043d\\u0438\\u0435\",\"\\u043e\\u0441\\u043d\\u043e\\u0432\\u0430\",\"\\u0443\\u043a\\u0430\\u0437\\u044b\\u0432\\u0430\\u0442\\u044c\",\"\\u0432\\u044b\\u044f\\u0441\\u043d\\u0438\\u0442\\u044c\",\"\\u043e\\u043f\\u0430\\u0441\\u0430\\u0442\\u044c\\u0441\\u044f\",\"\\u043f\\u0440\\u0438\\u0432\\u043b\\u0435\\u043a\\u0430\\u0442\\u0435\\u043b\\u044c\\u043d\\u044b\\u0439\",\"\\u0441\\u043e\\u0445\\u0440\\u0430\\u043d\\u044f\\u0442\\u044c\",\"\\u043f\\u0440\\u043e\\u0441\\u0440\\u043e\\u0447\\u0438\\u0442\\u044c\",\"\\u0441\\u043f\\u043e\\u0441\\u043e\\u0431\\u0441\\u0442\\u0432\\u043e\\u0432\\u0430\\u0442\\u044c\",\"\\u0432\\u0435\\u0440\\u043d\\u0443\\u0442\\u044c\",\"\\u043e\\u0442\\u0442\\u043e\\u043a\",\"\\u0437\\u0430\\u0432\\u0435\\u0440\\u0448\\u0435\\u043d\\u0438\\u0435\",\"\\u0432\\u0430\\u0436\\u043d\\u044b\\u0439\",\"\\u043b\\u0438\\u043d\\u0438\\u044f\",\"\\u043e\\u0442\\u043a\\u0430\\u0437\",\"\\u0432\\u044b\\u0445\\u043e\\u0434\\u0438\\u0442\\u044c\",\"\\u0434\\u043e\\u0440\\u043e\\u0433\\u043e\\u0439\",\"\\u0446\\u0435\\u043d\\u0442\\u0440\\u043e\\u0431\\u0430\\u043d\\u043a\",\"\\u0437\\u043d\\u0430\\u043a\\u043e\\u043c\\u044b\\u0439\",\"\\u043f\\u0443\\u0431\\u043b\\u0438\\u0447\\u043d\\u044b\\u0439\",\"\\u043f\\u0435\\u0440\\u0435\\u0434\\u0430\\u0447\\u0430\",\"\\u043e\\u0431\\u0441\\u0443\\u0436\\u0434\\u0430\\u0442\\u044c\\u0441\\u044f\",\"\\u0432\\u044b\\u043c\\u043f\\u0435\\u043b\\u043a\\u043e\\u043c\",\"\\u0430\\u0440\\u0435\\u0441\\u0442\",\"\\u043c\\u043e\\u0434\\u0435\\u0440\\u043d\\u0438\\u0437\\u0430\\u0446\\u0438\\u044f\",\"\\u0440\\u0430\\u0437\\u043b\\u0438\\u0447\\u043d\\u044b\\u0439\",\"\\u043d\\u0430\\u043c\\u0435\\u0440\\u0435\\u043d\\u043d\\u044b\\u0439\",\"\\u043b\\u0438\\u043a\\u0432\\u0438\\u0434\\u043d\\u043e\\u0441\\u0442\\u044c\",\"\\u0440\\u0435\\u0430\\u043b\\u0438\\u0437\\u043e\\u0432\\u0430\\u0442\\u044c\",\"\\u0432\\u044b\\u043f\\u0443\\u0441\\u0442\\u0438\\u0442\\u044c\",\"\\u043a\\u0443\\u0431\\u043e\\u043c\\u0435\\u0442\\u0440\",\"\\u0432\\u0434\\u0432\\u043e\\u0435\",\"\\u043e\\u043d\\u043b\\u0430\\u0439\\u043d\",\"\\u043d\\u0435\\u0444\\u0442\\u0435\\u0433\\u0430\\u0437\\u043e\\u0432\\u044b\\u0439\",\"\\u0437\\u0430\\u043f\\u0440\\u0435\\u0442\",\"\\u043d\\u0443\\u0436\\u043d\\u044b\\u0439\",\"\\u0432\\u0437\\u044f\\u0442\\u044c\",\"\\u0433\\u043e\\u0441\\u043f\\u043e\\u0434\\u0438\\u043d\",\"\\u0431\\u0430\\u0448\\u043d\\u0435\\u0444\\u0442\\u044c\",\"\\u0437\\u043d\\u0430\\u0447\\u0438\\u0442\\u0435\\u043b\\u044c\\u043d\\u043e\",\"\\u0444\\u0438\\u0437\\u043b\\u0438\\u0446\\u043e\",\"\\u043f\\u0435\\u0440\\u0435\\u0441\\u043c\\u043e\\u0442\\u0440\"]]]}}},\"view\":{\"type\":\"object\",\"name\":\"CDSView\",\"id\":\"p1653\",\"attributes\":{\"filter\":{\"type\":\"object\",\"name\":\"AllIndices\",\"id\":\"p1654\"}}},\"glyph\":{\"type\":\"object\",\"name\":\"Scatter\",\"id\":\"p1649\",\"attributes\":{\"x\":{\"type\":\"field\",\"field\":\"x1\"},\"y\":{\"type\":\"field\",\"field\":\"x2\"},\"size\":{\"type\":\"value\",\"value\":8},\"line_color\":{\"type\":\"value\",\"value\":\"#1f77b4\"},\"fill_color\":{\"type\":\"value\",\"value\":\"#1f77b4\"}}},\"nonselection_glyph\":{\"type\":\"object\",\"name\":\"Scatter\",\"id\":\"p1650\",\"attributes\":{\"x\":{\"type\":\"field\",\"field\":\"x1\"},\"y\":{\"type\":\"field\",\"field\":\"x2\"},\"size\":{\"type\":\"value\",\"value\":8},\"line_color\":{\"type\":\"value\",\"value\":\"#1f77b4\"},\"line_alpha\":{\"type\":\"value\",\"value\":0.1},\"fill_color\":{\"type\":\"value\",\"value\":\"#1f77b4\"},\"fill_alpha\":{\"type\":\"value\",\"value\":0.1},\"hatch_alpha\":{\"type\":\"value\",\"value\":0.1}}},\"muted_glyph\":{\"type\":\"object\",\"name\":\"Scatter\",\"id\":\"p1651\",\"attributes\":{\"x\":{\"type\":\"field\",\"field\":\"x1\"},\"y\":{\"type\":\"field\",\"field\":\"x2\"},\"size\":{\"type\":\"value\",\"value\":8},\"line_color\":{\"type\":\"value\",\"value\":\"#1f77b4\"},\"line_alpha\":{\"type\":\"value\",\"value\":0.2},\"fill_color\":{\"type\":\"value\",\"value\":\"#1f77b4\"},\"fill_alpha\":{\"type\":\"value\",\"value\":0.2},\"hatch_alpha\":{\"type\":\"value\",\"value\":0.2}}}}}],\"toolbar\":{\"type\":\"object\",\"name\":\"Toolbar\",\"id\":\"p1626\",\"attributes\":{\"tools\":[{\"type\":\"object\",\"name\":\"PanTool\",\"id\":\"p1639\"},{\"type\":\"object\",\"name\":\"WheelZoomTool\",\"id\":\"p1640\",\"attributes\":{\"renderers\":\"auto\"}},{\"type\":\"object\",\"name\":\"ResetTool\",\"id\":\"p1641\"},{\"type\":\"object\",\"name\":\"SaveTool\",\"id\":\"p1642\"}]}},\"toolbar_location\":\"above\",\"left\":[{\"type\":\"object\",\"name\":\"LinearAxis\",\"id\":\"p1634\",\"attributes\":{\"ticker\":{\"type\":\"object\",\"name\":\"BasicTicker\",\"id\":\"p1635\",\"attributes\":{\"mantissas\":[1,2,5]}},\"formatter\":{\"type\":\"object\",\"name\":\"BasicTickFormatter\",\"id\":\"p1636\"},\"major_label_policy\":{\"type\":\"object\",\"name\":\"AllLabels\",\"id\":\"p1637\"}}}],\"below\":[{\"type\":\"object\",\"name\":\"LinearAxis\",\"id\":\"p1629\",\"attributes\":{\"ticker\":{\"type\":\"object\",\"name\":\"BasicTicker\",\"id\":\"p1630\",\"attributes\":{\"mantissas\":[1,2,5]}},\"formatter\":{\"type\":\"object\",\"name\":\"BasicTickFormatter\",\"id\":\"p1631\"},\"major_label_policy\":{\"type\":\"object\",\"name\":\"AllLabels\",\"id\":\"p1632\"}}}],\"center\":[{\"type\":\"object\",\"name\":\"Grid\",\"id\":\"p1633\",\"attributes\":{\"axis\":{\"id\":\"p1629\"}}},{\"type\":\"object\",\"name\":\"Grid\",\"id\":\"p1638\",\"attributes\":{\"dimension\":1,\"axis\":{\"id\":\"p1634\"}}},{\"type\":\"object\",\"name\":\"LabelSet\",\"id\":\"p1655\",\"attributes\":{\"source\":{\"id\":\"p1643\"},\"x\":{\"type\":\"field\",\"field\":\"x1\"},\"y\":{\"type\":\"field\",\"field\":\"x2\"},\"text\":{\"type\":\"field\",\"field\":\"names\"},\"y_offset\":{\"type\":\"value\",\"value\":6},\"text_color\":{\"type\":\"value\",\"value\":\"#555555\"},\"text_font_size\":{\"type\":\"value\",\"value\":\"8pt\"},\"text_align\":{\"type\":\"value\",\"value\":\"center\"}}}]}}]}};\n",
       "  const render_items = [{\"docid\":\"db92e16d-59e1-460c-8e77-d8bf38691ddf\",\"roots\":{\"p1617\":\"efbdff07-e694-4a2c-a31d-067b1b9f1cf4\"},\"root_ids\":[\"p1617\"]}];\n",
       "  root.Bokeh.embed.embed_items_notebook(docs_json, render_items);\n",
       "  }\n",
       "  if (root.Bokeh !== undefined) {\n",
       "    embed_document(root);\n",
       "  } else {\n",
       "    var attempts = 0;\n",
       "    var timer = setInterval(function(root) {\n",
       "      if (root.Bokeh !== undefined) {\n",
       "        embed_document(root);\n",
       "        clearInterval(timer);\n",
       "      }\n",
       "      attempts++;\n",
       "      if (attempts > 100) {\n",
       "        console.log(\"Bokeh: ERROR: Unable to run BokehJS code because BokehJS library is missing\")\n",
       "        clearInterval(timer);\n",
       "      }\n",
       "    }, 10, root)\n",
       "  }\n",
       "})(window);"
      ],
      "application/vnd.bokehjs_exec.v0+json": ""
     },
     "metadata": {
      "application/vnd.bokehjs_exec.v0+json": {
       "id": "p1617"
      }
     },
     "output_type": "display_data"
    }
   ],
   "source": [
    "from bokeh.models import ColumnDataSource, LabelSet\n",
    "from bokeh.plotting import figure, show, output_file\n",
    "from bokeh.io import output_notebook\n",
    "# output_notebook()\n",
    "\n",
    "p = figure(tools=\"pan,wheel_zoom,reset,save\",\n",
    "           toolbar_location=\"above\",\n",
    "           title=\"word2vec T-SNE (eng model, top1000 words)\")\n",
    "\n",
    "source = ColumnDataSource(data=dict(x1=top_words_tsne[:,0],\n",
    "                                    x2=top_words_tsne[:,1],\n",
    "                                    names=top_words1))\n",
    "\n",
    "p.scatter(x=\"x1\", y=\"x2\", size=8, source=source)\n",
    "\n",
    "labels = LabelSet(x=\"x1\", y=\"x2\", text=\"names\", y_offset=6,\n",
    "                  text_font_size=\"8pt\", text_color=\"#555555\",\n",
    "                  source=source, text_align='center')\n",
    "p.add_layout(labels)\n",
    "\n",
    "show(p)"
   ]
  },
  {
   "cell_type": "code",
   "execution_count": 75,
   "id": "0c077701",
   "metadata": {},
   "outputs": [],
   "source": [
    "from sklearn.decomposition import TruncatedSVD\n",
    "\n",
    "svd_50 = TruncatedSVD(n_components=50)\n",
    "top_words_vec_50 = svd_50.fit_transform(top_words_vec)\n",
    "top_words_tsne2 = TSNE(n_components=2, random_state=0).fit_transform(top_words_vec_50)"
   ]
  },
  {
   "cell_type": "code",
   "execution_count": 76,
   "id": "3b744fd6",
   "metadata": {},
   "outputs": [
    {
     "data": {
      "text/html": [
       "\n",
       "  <div id=\"e878368d-69e8-4675-92cb-57fbfc20f086\" data-root-id=\"p1529\" style=\"display: contents;\"></div>\n"
      ]
     },
     "metadata": {},
     "output_type": "display_data"
    },
    {
     "data": {
      "application/javascript": [
       "(function(root) {\n",
       "  function embed_document(root) {\n",
       "  const docs_json = {\"eab9530c-60de-48fc-acc7-b1f66528d0b7\":{\"version\":\"0.12.15\",\"title\":\"Bokeh Application\",\"roots\":[{\"type\":\"object\",\"name\":\"Figure\",\"id\":\"p1529\",\"attributes\":{\"x_range\":{\"type\":\"object\",\"name\":\"DataRange1d\",\"id\":\"p1530\"},\"y_range\":{\"type\":\"object\",\"name\":\"DataRange1d\",\"id\":\"p1531\"},\"x_scale\":{\"type\":\"object\",\"name\":\"LinearScale\",\"id\":\"p1539\"},\"y_scale\":{\"type\":\"object\",\"name\":\"LinearScale\",\"id\":\"p1540\"},\"title\":{\"type\":\"object\",\"name\":\"Title\",\"id\":\"p1532\",\"attributes\":{\"text\":\"word2vec T-SNE (eng model, top1000 words, +SVD)\"}},\"renderers\":[{\"type\":\"object\",\"name\":\"GlyphRenderer\",\"id\":\"p1564\",\"attributes\":{\"data_source\":{\"type\":\"object\",\"name\":\"ColumnDataSource\",\"id\":\"p1555\",\"attributes\":{\"selected\":{\"type\":\"object\",\"name\":\"Selection\",\"id\":\"p1556\",\"attributes\":{\"indices\":[],\"line_indices\":[]}},\"selection_policy\":{\"type\":\"object\",\"name\":\"UnionRenderers\",\"id\":\"p1557\"},\"data\":{\"type\":\"map\",\"entries\":[[\"x1\",{\"type\":\"ndarray\",\"array\":{\"type\":\"bytes\",\"data\":\"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\"},\"shape\":[937],\"dtype\":\"float32\",\"order\":\"little\"}],[\"x2\",{\"type\":\"ndarray\",\"array\":{\"type\":\"bytes\",\"data\":\"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\"},\"shape\":[937],\"dtype\":\"float32\",\"order\":\"little\"}],[\"names\",[\"\\u0432\",\"\\u043d\\u0430\",\"\\u043f\\u043e\",\"\\u0433\\u043e\\u0434\",\"\\u043a\\u043e\\u043c\\u043f\\u0430\\u043d\\u0438\\u044f\",\"\\u043c\\u043b\\u0440\\u0434\",\"\\u0437\\u0430\",\"\\u0431\\u044b\\u0442\\u044c\",\"\\u0441\\u0431\\u0435\\u0440\\u0431\\u0430\\u043d\\u043a\",\"\\u0440\\u0443\\u0431\",\"\\u0431\\u0430\\u043d\\u043a\",\"\\u0434\\u043e\",\"\\u043c\\u043e\\u0447\\u044c\",\"\\u043a\\u043e\\u0442\\u043e\\u0440\\u044b\\u0439\",\"\\u0440\\u044b\\u043d\\u043e\\u043a\",\"\\u0430\\u043a\\u0446\\u0438\\u044f\",\"\\u043e\\u0442\",\"\\u043e\\u043d\",\"\\u0430\",\"\\u0440\\u043e\\u0441\\u0442\",\"\\u0440\\u043e\\u0441\\u0441\\u0438\\u0439\\u0441\\u043a\\u0438\\u0439\",\"\\u043d\\u043e\\u0432\\u044b\\u0439\",\"\\u0440\\u043e\\u0441\\u0441\\u0438\\u044f\",\"\\u0441\\u043e\\u0441\\u0442\\u0430\\u0432\\u0438\\u0442\\u044c\",\"\\u043d\\u043e\",\"\\u043f\\u0440\\u0438\\u0431\\u044b\\u043b\\u044c\",\"\\u044d\\u0442\\u043e\\u0442\",\"\\u0433\",\"\\u043a\\u0430\\u043a\",\"\\u043c\\u043b\\u043d\",\"\\u0441\\u0432\\u043e\\u0439\",\"\\u0446\\u0435\\u043d\\u0430\",\"\\u0440\\u0443\\u0431\\u043b\\u044c\",\"\\u043a\\u0440\\u0435\\u0434\\u0438\\u0442\",\"\\u0432\\u044b\\u0440\\u0430\\u0441\\u0442\\u0438\",\"\\u043a\\u0440\\u0443\\u043f\\u043d\\u044b\\u0439\",\"\\u043f\\u0440\\u043e\\u0435\\u043a\\u0442\",\"\\u0442\\u0430\\u043a\\u0436\\u0435\",\"\\u0441\\u0434\\u0435\\u043b\\u043a\\u0430\",\"\\u0441\\u0442\\u0430\\u0442\\u044c\",\"\\u0447\\u0438\\u0441\\u0442\\u044b\\u0439\",\"\\u043f\\u0440\\u0438\",\"\\u0430\\u043a\\u0442\\u0438\\u0432\",\"\\u043c\\u0435\\u0441\\u044f\\u0446\",\"\\u0431\\u043e\\u043b\\u0435\\u0435\",\"\\u0434\\u043e\\u043b\\u044f\",\"\\u0433\\u0430\\u0437\\u043f\\u0440\\u043e\\u043c\",\"\\u0438\\u043d\\u0432\\u0435\\u0441\\u0442\\u043e\\u0440\",\"\\u0442\\u0430\\u043a\\u043e\\u0439\",\"\\u043e\\u043d\\u0430\",\"\\u0434\\u0438\\u0432\\u0438\\u0434\\u0435\\u043d\\u0434\",\"\\u0432\\u0435\\u0441\\u044c\",\"\\u0441\\u0442\\u0430\\u0432\\u043a\\u0430\",\"\\u043f\\u0440\\u043e\\u0434\\u0430\\u0436\\u0430\",\"\\u0443\\u0440\\u043e\\u0432\\u0435\\u043d\\u044c\",\"\\u0443\\u0436\\u0435\",\"\\u043f\\u0435\\u0440\\u0432\\u044b\\u0439\",\"\\u043a\\u043b\\u0438\\u0435\\u043d\\u0442\",\"\\u0434\\u043e\\u0445\\u043e\\u0434\",\"\\u0444\\u0438\\u043d\\u0430\\u043d\\u0441\\u043e\\u0432\\u044b\\u0439\",\"\\u0444\\u043e\\u043d\\u0434\",\"\\u0440\\u0435\\u0437\\u0443\\u043b\\u044c\\u0442\\u0430\\u0442\",\"\\u043f\\u043e\\u043b\\u0443\\u0447\\u0438\\u0442\\u044c\",\"\\u0433\\u0440\\u0443\\u043f\\u043f\\u0430\",\"\\u0442\\u0430\\u043a\",\"\\u0441\\u0442\\u043e\\u0438\\u043c\\u043e\\u0441\\u0442\\u044c\",\"\\u043e\\u0434\\u0438\\u043d\",\"\\u0440\\u0435\\u0448\\u0435\\u043d\\u0438\\u0435\",\"\\u0432\\u0442\\u0431\",\"\\u0441\\u043e\\u043e\\u0431\\u0449\\u0438\\u0442\\u044c\",\"\\u0433\\u0430\\u0437\",\"\\u043a\\u0430\\u043f\\u0438\\u0442\\u0430\\u043b\",\"\\u0441\\u0431\\u0435\\u0440\",\"\\u0441\\u0438\\u0441\\u0442\\u0435\\u043c\\u0430\",\"\\u0441\\u0447\\u0438\\u0442\\u0430\\u0442\\u044c\",\"\\u043a\\u043e\\u043d\\u0435\\u0446\",\"\\u043f\\u043e\\u0441\\u043b\\u0435\",\"\\u0434\\u0440\\u0443\\u0433\\u043e\\u0439\",\"\\u043a\\u0440\\u0435\\u0434\\u0438\\u0442\\u043d\\u044b\\u0439\",\"\\u0441\\u0440\\u0435\\u0434\\u0441\\u0442\\u0432\\u043e\",\"\\u0446\\u0431\",\"\\u0438\\u0442\\u043e\\u0433\",\"\\u0430\\u043a\\u0446\\u0438\\u043e\\u043d\\u0435\\u0440\",\"\\u043d\\u0430\\u0447\\u0430\\u043b\\u043e\",\"\\u0431\\u0438\\u0437\\u043d\\u0435\\u0441\",\"\\u043d\\u0435\\u0444\\u0442\\u044c\",\"\\u0441\\u0435\\u0440\\u0432\\u0438\\u0441\",\"\\u0435\\u0449\\u0451\",\"\\u0440\\u043e\\u0441\\u043d\\u0435\\u0444\\u0442\\u044c\",\"\\u0432\\u0435\\u0434\\u043e\\u043c\\u043e\\u0441\\u0442\\u044c\",\"\\u0441\\u043d\\u0438\\u0436\\u0435\\u043d\\u0438\\u0435\",\"\\u0434\\u043e\\u043b\\u0436\\u043d\\u044b\\u0439\",\"\\u043f\\u043e\\u0440\\u0442\\u0444\\u0435\\u043b\\u044c\",\"\\u043a\\u0432\\u0430\\u0440\\u0442\\u0430\\u043b\",\"\\u0431\\u0443\\u043c\\u0430\\u0433\\u0430\",\"\\u044d\\u043a\\u0441\\u043f\\u0435\\u0440\\u0442\",\"\\u0441\\u0430\\u043d\\u043a\\u0446\\u0438\\u044f\",\"\\u0440\\u0438\\u0441\\u043a\",\"\\u0447\\u0435\\u043c\",\"\\u0438\\u043d\\u0432\\u0435\\u0441\\u0442\\u0438\\u0446\\u0438\\u044f\",\"\\u0434\\u0432\\u0430\",\"\\u043f\\u043b\\u0430\\u043d\\u0438\\u0440\\u043e\\u0432\\u0430\\u0442\\u044c\",\"\\u0432\\u0441\\u0451\",\"\\u0441\\u0443\\u043c\\u043c\\u0430\",\"\\u043f\\u0440\\u0435\\u0434\\u0441\\u0442\\u0430\\u0432\\u0438\\u0442\\u0435\\u043b\\u044c\",\"\\u0447\\u0435\\u0440\\u0435\\u0437\",\"\\u043f\\u043e\\u043a\\u0430\",\"\\u0447\\u0438\\u0441\\u043b\\u043e\",\"\\u0432\\u044b\\u043f\\u043b\\u0430\\u0442\\u0430\",\"\\u0432\\u0440\\u0435\\u043c\\u044f\",\"\\u0434\\u0430\\u043d\\u043d\\u044b\\u0435\",\"\\u0443\\u0441\\u043b\\u043e\\u0432\\u0438\\u0435\",\"\\u0431\\u043b\\u0438\\u0437\\u043a\\u0438\\u0439\",\"\\u0440\\u0430\\u0441\\u0441\\u043a\\u0430\\u0437\\u0430\\u0442\\u044c\",\"group\",\"\\u043e\\u0446\\u0435\\u043d\\u043a\\u0430\",\"\\u0440\\u0430\\u0437\\u0432\\u0438\\u0442\\u0438\\u0435\",\"\\u0441\\u0435\\u0439\\u0447\\u0430\\u0441\",\"\\u0432\\u044b\\u0441\\u043e\\u043a\\u0438\\u0439\",\"\\u0444\\u043e\\u043d\",\"\\u0443\\u0432\\u0435\\u043b\\u0438\\u0447\\u0438\\u0442\\u044c\\u0441\\u044f\",\"\\u0440\\u0430\\u0437\\u043c\\u0435\\u0440\",\"\\u043f\\u0440\\u0430\\u0432\\u0438\\u0442\\u0435\\u043b\\u044c\\u0441\\u0442\\u0432\\u043e\",\"\\u0434\\u0438\\u0440\\u0435\\u043a\\u0442\\u043e\\u0440\",\"\\u0432\\u043e\\u0437\\u043c\\u043e\\u0436\\u043d\\u043e\\u0441\\u0442\\u044c\",\"\\u043a\\u043e\\u0440\\u043f\\u043e\\u0440\\u0430\\u0442\\u0438\\u0432\\u043d\\u044b\\u0439\",\"\\u043e\\u0434\\u043d\\u0430\\u043a\\u043e\",\"\\u043f\\u043e\\u0441\\u0442\\u0430\\u0432\\u043a\\u0430\",\"\\u0431\\u043e\\u043b\\u044c\\u0448\\u043e\\u0439\",\"\\u0440\\u0444\",\"\\u043f\\u043e\\u043a\\u0430\\u0437\\u0430\\u0442\\u0435\\u043b\\u044c\",\"\\u0447\\u0430\\u0441\\u0442\\u044c\",\"\\u043f\\u0440\\u043e\\u0446\\u0435\\u043d\\u0442\\u043d\\u044b\\u0439\",\"\\u0440\\u0430\\u0437\",\"\\u043e\\u043f\\u0435\\u0440\\u0430\\u0442\\u043e\\u0440\",\"\\u0441\\u0435\\u0442\\u044c\",\"\\u0441\\u0448\\u0430\",\"\\u043f\\u043e\\u0447\\u0442\\u0438\",\"\\u0442\\u043e\",\"\\u044f\\u043d\\u0434\\u0435\\u043a\\u0441\",\"\\u0441\\u0442\\u043e\\u0440\\u043e\\u043d\\u0430\",\"\\u0442\\u0435\\u043a\\u0443\\u0449\\u0438\\u0439\",\"\\u043f\\u043e\\u043a\\u0443\\u043f\\u043a\\u0430\",\"\\u0441\\u0442\\u0440\\u0430\\u043d\\u0430\",\"\\u043e\\u0436\\u0438\\u0434\\u0430\\u0442\\u044c\",\"\\u0431\\u0435\\u0437\",\"\\u043f\\u0440\\u043e\\u0442\\u0438\\u0432\",\"\\u0443\\u0432\\u0435\\u043b\\u0438\\u0447\\u0438\\u0442\\u044c\",\"\\u043f\\u0440\\u043e\\u0433\\u0440\\u0430\\u043c\\u043c\\u0430\",\"\\u0431\\u0438\\u0440\\u0436\\u0430\",\"\\u0440\\u043e\\u0437\\u043d\\u0438\\u0447\\u043d\\u044b\\u0439\",\"\\u0441\\u0443\\u0434\",\"\\u0434\\u043e\\u0445\\u043e\\u0434\\u043d\\u043e\\u0441\\u0442\\u044c\",\"\\u043f\\u0440\\u043e\\u0433\\u043d\\u043e\\u0437\",\"\\u043f\\u043e\\u0441\\u043b\\u0435\\u0434\\u043d\\u0438\\u0439\",\"\\u043e\\u0431\\u0449\\u0438\\u0439\",\"\\u043d\\u0430\\u0447\\u0430\\u0442\\u044c\",\"\\u0438\\u0441\\u0442\\u043e\\u0447\\u043d\\u0438\\u043a\",\"\\u0440\\u0430\\u043d\\u0435\\u0435\",\"\\u0431\\u0430\\u043d\\u043a\\u043e\\u0432\\u0441\\u043a\\u0438\\u0439\",\"\\u0443\\u0447\\u0430\\u0441\\u0442\\u043d\\u0438\\u043a\",\"\\u0434\\u0435\\u043d\\u044c\",\"\\u0441\\u043e\\u0441\\u0442\\u0430\\u0432\\u043b\\u044f\\u0442\\u044c\",\"\\u0430\\u043d\\u0430\\u043b\\u0438\\u0442\\u0438\\u043a\",\"\\u0441\\u043b\\u043e\\u0432\\u043e\",\"\\u0441\\u043c\\u043e\\u0447\\u044c\",\"\\u043f\\u0440\\u043e\\u0434\\u0430\\u0442\\u044c\",\"\\u0447\\u0442\\u043e\\u0431\\u044b\",\"\\u0445\\u043e\\u0442\\u0435\\u0442\\u044c\",\"\\u043f\\u0440\\u0438\\u043d\\u044f\\u0442\\u044c\",\"\\u043f\\u0435\\u0440\\u0435\\u0433\\u043e\\u0432\\u043e\\u0440\\u044b\",\"\\u0433\\u043b\\u0430\\u0432\\u0430\",\"\\u0433\\u043e\\u0432\\u043e\\u0440\\u0438\\u0442\\u044c\",\"\\u0440\\u0430\\u043c\\u043a\\u0430\",\"\\u0432\\u043e\\u043f\\u0440\\u043e\\u0441\",\"\\u0437\\u0430\\u044f\\u0432\\u0438\\u0442\\u044c\",\"\\u043f\\u043b\\u0430\\u043d\",\"\\u043a\\u043b\\u044e\\u0447\\u0435\\u0432\\u043e\\u0439\",\"\\u0434\\u0438\\u0432\\u0438\\u0434\\u0435\\u043d\\u0434\\u043d\\u044b\\u0439\",\"\\u0430\\u043f\\u0440\\u0435\\u043b\\u044c\",\"\\u0438\\u044e\\u043b\\u044c\",\"\\u0441\\u043e\\u0432\\u0435\\u0442\",\"\\u043f\\u0440\\u043e\\u0438\\u0437\\u0432\\u043e\\u0434\\u0441\\u0442\\u0432\\u043e\",\"\\u044f\\u043d\\u0432\\u0430\\u0440\\u044c\",\"\\u0434\\u043e\\u0441\\u0442\\u0438\\u0433\\u043d\\u0443\\u0442\\u044c\",\"\\u0434\\u0430\\u0442\\u044c\",\"\\u0440\\u0430\\u0441\\u0445\\u043e\\u0434\",\"\\u0434\\u043e\\u043b\\u0433\",\"\\u0434\\u0435\\u043a\\u0430\\u0431\\u0440\\u044c\",\"\\u0441\\u043f\\u0440\\u043e\\u0441\",\"\\u0441\\u0435\\u043d\\u0442\\u044f\\u0431\\u0440\\u044c\",\"\\u0441\\u0442\\u0440\\u0443\\u043a\\u0442\\u0443\\u0440\\u0430\",\"\\u0441\\u043b\\u0443\\u0447\\u0430\\u0439\",\"\\u0430\\u0432\\u0433\\u0443\\u0441\\u0442\",\"\\u043e\\u0442\\u043a\\u0440\\u044b\\u0442\\u0438\\u0435\",\"\\u0434\\u043e\\u0431\\u044b\\u0447\\u0430\",\"\\u0441\\u0430\\u043c\",\"\\u044f\\u0432\\u043b\\u044f\\u0442\\u044c\\u0441\\u044f\",\"\\u043f\\u0430\\u043a\\u0435\\u0442\",\"\\u0441\\u0435\\u043a\\u0442\\u043e\\u0440\",\"\\u0442\\u044b\\u0441\",\"\\u043c\\u043d\\u0435\\u043d\\u0438\\u0435\",\"\\u043d\\u0435\\u0441\\u043a\\u043e\\u043b\\u044c\\u043a\\u043e\",\"\\u0432\\u044b\\u0434\\u0430\\u0442\\u044c\",\"\\u0441\\u043e\\u0433\\u043b\\u0430\\u0448\\u0435\\u043d\\u0438\\u0435\",\"\\u0432\\u0442\\u043e\\u0440\\u043e\\u0439\",\"\\u043e\\u043a\\u0442\\u044f\\u0431\\u0440\\u044c\",\"\\u043f\\u0440\\u0435\\u0432\\u044b\\u0441\\u0438\\u0442\\u044c\",\"\\u0440\\u0430\\u0431\\u043e\\u0442\\u0430\\u0442\\u044c\",\"\\u0441\\u0440\\u043e\\u043a\",\"\\u0441\\u043b\\u0435\\u0434\\u043e\\u0432\\u0430\\u0442\\u044c\",\"\\u0440\\u0430\\u0431\\u043e\\u0442\\u0430\",\"\\u043b\\u0438\\u0446\\u043e\",\"\\u043c\\u043e\\u0441\\u043a\\u043e\\u0432\\u0441\\u043a\\u0438\\u0439\",\"\\u043f\\u0440\\u043e\\u0448\\u043b\\u043e\\u0435\",\"\\u043f\\u043e\\u0437\\u0432\\u043e\\u043b\\u0438\\u0442\\u044c\",\"\\u0441\\u043d\\u0438\\u0437\\u0438\\u0442\\u044c\",\"\\u0432\\u0430\\u043b\\u044e\\u0442\\u043d\\u044b\\u0439\",\"\\u0442\\u0440\\u0438\",\"\\u0440\\u0435\\u0437\\u0435\\u0440\\u0432\",\"\\u0438\\u043f\\u043e\\u0442\\u0435\\u043a\\u0430\",\"\\u043c\",\"\\u0441\\u0440\\u0430\\u0432\\u043d\\u0435\\u043d\\u0438\\u0435\",\"\\u0441\\u0442\\u0440\\u043e\\u0438\\u0442\\u0435\\u043b\\u044c\\u0441\\u0442\\u0432\\u043e\",\"\\u043e\\u0440\\u0433\\u0430\\u043d\\u0438\\u0437\\u0430\\u0446\\u0438\\u044f\",\"\\u043f\\u0440\\u043e\\u0434\\u0443\\u043a\\u0442\",\"\\u0433\\u043e\\u0442\\u043e\\u0432\\u044b\\u0439\",\"\\u043f\\u0435\\u0440\\u0438\\u043e\\u0434\",\"\\u0437\\u0430\\u0432\\u043e\\u0434\",\"\\u0432\\u044b\\u0440\\u0443\\u0447\\u043a\\u0430\",\"\\u0443\\u0441\\u043b\\u0443\\u0433\\u0430\",\"\\u0445\\u043e\\u0440\\u043e\\u0448\\u0438\\u0439\",\"\\u0438\\u043d\\u043e\\u0441\\u0442\\u0440\\u0430\\u043d\\u043d\\u044b\\u0439\",\"\\u0445\\u043e\\u043b\\u0434\\u0438\\u043d\\u0433\",\"\\u0438\\u044e\\u043d\\u044c\",\"\\u0443\\u043a\\u0440\\u0430\\u0438\\u043d\\u0430\",\"\\u043f\\u043e\\u0442\\u043e\\u043a\",\"\\u043c\\u0438\\u043b\\u043b\\u0438\\u0430\\u0440\\u0434\",\"\\u043f\\u0430\\u0440\\u0442\\u043d\\u0451\\u0440\",\"\\u0438\\u0437\\u043c\\u0435\\u043d\\u0435\\u043d\\u0438\\u0435\",\"\\u043c\\u0430\\u0440\\u0442\",\"\\u043c\\u0438\\u043d\\u0444\\u0438\\u043d\",\"\\u0441\\u0438\\u0442\\u0443\\u0430\\u0446\\u0438\\u044f\",\"\\u0441\\u043d\\u0438\\u0437\\u0438\\u0442\\u044c\\u0441\\u044f\",\"\\u043e\\u0442\\u043d\\u043e\\u0448\\u0435\\u043d\\u0438\\u0435\",\"\\u043e\\u0431\\u043b\\u0438\\u0433\\u0430\\u0446\\u0438\\u044f\",\"\\u0437\\u0430\\u043f\\u0443\\u0441\\u0442\\u0438\\u0442\\u044c\",\"\\u043d\\u043f\\u0444\",\"\\u044d\\u043a\\u0441\\u043f\\u043e\\u0440\\u0442\",\"\\u0440\\u0430\\u0441\\u0442\\u0438\",\"\\u0433\\u043e\\u0434\\u043e\\u0432\\u043e\\u0439\",\"\\u0437\\u0430\\u0440\\u0430\\u0431\\u043e\\u0442\\u0430\\u0442\\u044c\",\"\\u043f\\u0440\\u0435\\u0434\\u043f\\u0440\\u0438\\u044f\\u0442\\u0438\\u0435\",\"\\u0433\\u043e\\u0432\\u043e\\u0440\\u0438\\u0442\\u044c\\u0441\\u044f\",\"\\u0441\\u0435\\u0433\\u043c\\u0435\\u043d\\u0442\",\"\\u0441\\u043f\\u0433\",\"\\u043c\\u043e\\u0441\\u043a\\u0432\\u0430\",\"\\u043d\\u0435\\u0434\\u0435\\u043b\\u044f\",\"\\u0434\\u0435\\u043d\\u044c\\u0433\\u0430\",\"\\u043f\\u0440\\u0435\\u0434\\u043b\\u043e\\u0436\\u0438\\u0442\\u044c\",\"\\u0447\\u0435\\u043b\\u043e\\u0432\\u0435\\u043a\",\"\\u043e\\u0441\\u043d\\u043e\\u0432\\u043d\\u044b\\u0439\",\"\\u0438\\u043d\\u0434\\u0435\\u043a\\u0441\",\"\\u0441\\u0432\\u044f\\u0437\\u044c\",\"\\u0434\\u043e\\u043f\\u043e\\u043b\\u043d\\u0438\\u0442\\u0435\\u043b\\u044c\\u043d\\u044b\\u0439\",\"\\u0442\\u0435\\u043f\\u0435\\u0440\\u044c\",\"\\u0441\\u043e\\u0437\\u0434\\u0430\\u0442\\u044c\",\"\\u043f\\u0440\\u0435\\u0437\\u0438\\u0434\\u0435\\u043d\\u0442\",\"\\u0432\\u043a\\u043b\\u0430\\u0434\",\"\\u043e\\u0431\\u044a\\u044f\\u0432\\u0438\\u0442\\u044c\",\"\\u043f\\u0440\\u0435\\u0434\\u043b\\u0430\\u0433\\u0430\\u0442\\u044c\",\"\\u0431\\u043e\\u043b\\u044c\\u0448\\u0438\\u0439\",\"\\u0443\\u0432\\u0435\\u043b\\u0438\\u0447\\u0435\\u043d\\u0438\\u0435\",\"\\u043c\\u0441\\u0444\\u043e\",\"\\u0442\\u0435\\u043c\",\"\\u043e\\u043a\\u0430\\u0437\\u0430\\u0442\\u044c\\u0441\\u044f\",\"\\u043e\\u0441\\u0442\\u0430\\u0432\\u0430\\u0442\\u044c\\u0441\\u044f\",\"\\u0435\\u0432\\u0440\\u043e\\u043f\\u0430\",\"\\u043c\\u043e\\u043c\\u0435\\u043d\\u0442\",\"\\u043a\\u043e\\u043d\\u0442\\u0440\\u0430\\u043a\\u0442\",\"\\u043e\\u0441\\u0442\\u0430\\u0442\\u044c\\u0441\\u044f\",\"\\u0442\\u0430\\u0440\\u0438\\u0444\",\"\\u0434\\u043e\\u043b\\u043b\\u0430\\u0440\",\"\\u043f\\u043e\\u0432\\u044b\\u0448\\u0435\\u043d\\u0438\\u0435\",\"\\u043a\\u0430\\u0440\\u0442\\u0430\",\"\\u0443\\u043f\\u0440\\u0430\\u0432\\u043b\\u0435\\u043d\\u0438\\u0435\",\"\\u0441\\u043a\\u0430\\u0437\\u0430\\u0442\\u044c\",\"\\u0444\\u0435\\u0432\\u0440\\u0430\\u043b\\u044c\",\"\\u0441\\u043e\\u0431\\u0441\\u0442\\u0432\\u0435\\u043d\\u043d\\u044b\\u0439\",\"\\u0432\\u043e\\u0437\\u043c\\u043e\\u0436\\u043d\\u044b\\u0439\",\"\\u043d\\u043e\\u044f\\u0431\\u0440\\u044c\",\"\\u0442\\u043e\\u0440\\u0433\\u043e\\u0432\\u044b\\u0439\",\"\\u043e\\u0431\\u0440\\u0430\\u0437\",\"\\u0438\\u043d\\u0432\\u0435\\u0441\\u0442\\u0438\\u0446\\u0438\\u043e\\u043d\\u043d\\u044b\\u0439\",\"\\u0438\\u043f\\u043e\\u0442\\u0435\\u0447\\u043d\\u044b\\u0439\",\"\\u043c\\u0435\\u0441\\u0442\\u043e\\u0440\\u043e\\u0436\\u0434\\u0435\\u043d\\u0438\\u0435\",\"\\u0441\\u043b\\u0435\\u0434\\u0443\\u044e\\u0449\\u0438\\u0439\",\"\\u043e\\u0442\\u043c\\u0435\\u0447\\u0430\\u0442\\u044c\",\"\\u0441\\u0430\\u043c\\u044b\\u0439\",\"\\u043f\\u0440\\u0430\\u0432\\u043b\\u0435\\u043d\\u0438\\u0435\",\"\\u043f\\u0440\\u0438\\u043c\\u0435\\u0440\\u043d\\u043e\",\"\\u043c\\u0435\\u0440\\u0430\",\"\\u0442\\u043e\\u0440\\u0433\",\"\\u0441\\u043e\\u043e\\u0431\\u0449\\u0435\\u043d\\u0438\\u0435\",\"\\u043f\\u0440\\u0435\\u0434\\u043b\\u043e\\u0436\\u0435\\u043d\\u0438\\u0435\",\"\\u043a\\u0440\\u0435\\u0434\\u0438\\u0442\\u043e\\u0432\\u0430\\u043d\\u0438\\u0435\",\"\\u043f\\u0440\\u043e\\u0438\\u0437\\u0432\\u043e\\u0434\\u0438\\u0442\\u0435\\u043b\\u044c\",\"\\u0432\\u043b\\u0430\\u0434\\u0435\\u043b\\u0435\\u0446\",\"\\u043f\\u043e\\u0434\\u0442\\u0432\\u0435\\u0440\\u0434\\u0438\\u0442\\u044c\",\"\\u0438\\u0434\\u0442\\u0438\",\"\\u0438\\u0441\\u043a\",\"\\u043d\\u043e\\u0432\\u0430\\u0442\\u044d\\u043a\",\"\\u0440\\u0430\\u0437\\u043c\\u0435\\u0449\\u0435\\u043d\\u0438\\u0435\",\"\\u0440\\u0435\\u043a\\u043e\\u0440\\u0434\\u043d\\u044b\\u0439\",\"\\u043c\\u0430\\u0439\",\"\\u0432\\u044b\\u0434\\u0430\\u0447\\u0430\",\"\\u0447\\u0430\\u0441\\u0442\\u043d\\u044b\\u0439\",\"\\u0441\\u043e\\u043e\\u0431\\u0449\\u0430\\u0442\\u044c\",\"\\u043c\\u043e\\u0449\\u043d\\u043e\\u0441\\u0442\\u044c\",\"\\u044d\\u043a\\u043e\\u043d\\u043e\\u043c\\u0438\\u043a\\u0430\",\"\\u043f\\u0440\\u0435\\u0434\\u043f\\u043e\\u043b\\u0430\\u0433\\u0430\\u0442\\u044c\",\"\\u043a\\u0443\\u043f\\u0438\\u0442\\u044c\",\"\\u0432\\u0430\\u043b\\u044e\\u0442\\u0430\",\"\\u0440\\u0435\\u0433\\u0438\\u043e\\u043d\",\"\\u0441\\u043e\\u0437\\u0434\\u0430\\u043d\\u0438\\u0435\",\"\\u043c\\u0435\\u043d\\u0435\\u0435\",\"\\u043a\\u043e\\u043c\\u0438\\u0441\\u0441\\u0438\\u043e\\u043d\\u043d\\u044b\\u0439\",\"\\u043f\\u0440\\u043e\\u0434\\u043e\\u043b\\u0436\\u0430\\u0442\\u044c\",\"\\u0430\\u0444\\u043a\",\"\\u043f\\u0440\\u043e\\u0431\\u043b\\u0435\\u043c\\u0430\",\"\\u043f\\u043b\\u0430\\u0442\\u0451\\u0436\",\"\\u0431\\u044b\",\"\\u043f\\u0440\\u0438\\u0432\\u0435\\u0441\\u0442\\u0438\",\"\\u043f\\u0435\\u0440\\u0441\\u043f\\u0435\\u043a\\u0442\\u0438\\u0432\\u0430\",\"\\u0443\\u043f\\u0440\\u0430\\u0432\\u043b\\u044f\\u0442\\u044c\",\"\\u043c\\u0435\\u0436\\u0434\\u0443\\u043d\\u0430\\u0440\\u043e\\u0434\\u043d\\u044b\\u0439\",\"\\u043e\\u0431\\u043b\\u0430\\u0441\\u0442\\u044c\",\"\\u0434\\u0438\\u043d\\u0430\\u043c\\u0438\\u043a\\u0430\",\"\\u043c\\u0438\\u0440\\u043e\\u0432\\u043e\\u0439\",\"\\u0441\\u0442\\u0440\\u0430\\u0442\\u0435\\u0433\\u0438\\u044f\",\"\\u0442\\u0440\\u0435\\u0431\\u043e\\u0432\\u0430\\u043d\\u0438\\u0435\",\"\\u0441\\u043e\\u0432\\u043c\\u0435\\u0441\\u0442\\u043d\\u044b\\u0439\",\"\\u043e\\u0431\\u044b\\u043a\\u043d\\u043e\\u0432\\u0435\\u043d\\u043d\\u044b\\u0439\",\"\\u0431\\u044e\\u0434\\u0436\\u0435\\u0442\",\"\\u043f\\u043b\\u0430\\u0442\\u0444\\u043e\\u0440\\u043c\\u0430\",\"\\u0441\\u0438\\u043b\\u044c\\u043d\\u044b\\u0439\",\"\\u043c\\u0438\\u0440\",\"\\u043f\\u043e\\u043a\\u0443\\u043f\\u0430\\u0442\\u0435\\u043b\\u044c\",\"\\u0433\\u0440\\u0435\\u0444\",\"\\u043e\\u043f\\u0435\\u0440\\u0430\\u0446\\u0438\\u044f\",\"\\u043f\\u0430\\u0434\\u0435\\u043d\\u0438\\u0435\",\"\\u0440\\u0430\\u0441\\u0447\\u0451\\u0442\",\"\\u043c\\u0435\\u0436\\u0434\\u0443\",\"\\u043e\\u0442\\u0440\\u0430\\u0441\\u043b\\u044c\",\"\\u0438\\u043d\\u0444\\u043e\\u0440\\u043c\\u0430\\u0446\\u0438\\u044f\",\"\\u0443\\u0431\\u044b\\u0442\\u043e\\u043a\",\"\\u043e\\u043f\\u0435\\u0440\\u0430\\u0446\\u0438\\u043e\\u043d\\u043d\\u044b\\u0439\",\"\\u0440\\u0430\\u0441\\u0441\\u0447\\u0438\\u0442\\u044b\\u0432\\u0430\\u0442\\u044c\",\"\\u043f\\u0440\\u043e\\u0432\\u0435\\u0441\\u0442\\u0438\",\"\\u043d\\u0430\\u043f\\u0440\\u0430\\u0432\\u0438\\u0442\\u044c\",\"\\u0431\\u0430\\u0437\\u0430\",\"\\u0440\\u0435\\u0448\\u0438\\u0442\\u044c\",\"\\u0430\\u0433\\u0435\\u043d\\u0442\\u0441\\u0442\\u0432\\u043e\",\"\\u0440\\u0435\\u0433\\u0443\\u043b\\u044f\\u0442\\u043e\\u0440\",\"\\u043e\\u043f\\u0443\\u0431\\u043b\\u0438\\u043a\\u043e\\u0432\\u0430\\u0442\\u044c\",\"\\u043d\\u0430\\u0445\\u043e\\u0434\\u0438\\u0442\\u044c\\u0441\\u044f\",\"\\u043a\\u043e\\u0433\\u0434\\u0430\",\"\\u043f\\u043e\\u0432\\u044b\\u0441\\u0438\\u0442\\u044c\",\"\\u0446\\u0438\\u0444\\u0440\\u043e\\u0432\\u043e\\u0439\",\"x\",\"\\u043f\\u043e\\u0437\\u0438\\u0446\\u0438\\u044f\",\"\\u043f\\u0440\\u0430\\u0432\\u043e\",\"\\u0441\\u0435\\u0431\\u044f\",\"\\u0440\\u044f\\u0434\",\"\\u0438\\u043c\\u0435\\u0442\\u044c\",\"\\u044d\\u043a\\u043e\\u043d\\u043e\\u043c\\u0438\\u0447\\u0435\\u0441\\u043a\\u0438\\u0439\",\"\\u0430\\u043b\\u0435\\u043a\\u0441\\u0430\\u043d\\u0434\\u0440\",\"\\u0444\\u0430\\u0441\",\"\\u0432\\u044b\\u0439\\u0442\\u0438\",\"\\u0438\\u043d\\u0442\\u0435\\u0440\\u0435\\u0441\",\"\\u043e\\u0433\\u0440\\u0430\\u043d\\u0438\\u0447\\u0435\\u043d\\u0438\\u0435\",\"\\u0443\\u0447\\u0430\\u0441\\u0442\\u0438\\u0435\",\"\\u043f\\u043e\\u0434\\u0434\\u0435\\u0440\\u0436\\u043a\\u0430\",\"\\u0441\\u043e\\u043e\\u0442\\u0432\\u0435\\u0442\\u0441\\u0442\\u0432\\u043e\\u0432\\u0430\\u0442\\u044c\",\"\\u043f\\u0440\\u043e\\u0448\\u043b\\u044b\\u0439\",\"\\u0440\\u0435\\u043d\\u0442\\u0430\\u0431\\u0435\\u043b\\u044c\\u043d\\u043e\\u0441\\u0442\\u044c\",\"\\u043f\\u0435\\u0440\\u0435\\u0432\\u043e\\u0434\",\"\\u043d\\u043e\\u0432\\u043e\\u0441\\u0442\\u044c\",\"\\u043e\\u0442\\u043c\\u0435\\u0442\\u0438\\u0442\\u044c\",\"\\u0434\\u0435\\u043f\\u043e\\u0437\\u0438\\u0442\",\"\\u043d\\u0438\\u0437\\u043a\\u0438\\u0439\",\"\\u043f\\u0440\\u0438\\u0439\\u0442\\u0438\\u0441\\u044c\",\"\\u0444\\u0435\\u0434\\u0435\\u0440\\u0430\\u043b\\u044c\\u043d\\u044b\\u0439\",\"\\u043f\\u043e\\u043a\\u0430\\u0437\\u0430\\u0442\\u044c\",\"\\u043b\\u0443\\u043a\\u043e\\u0439\\u043b\",\"\\u0438\\u0433\\u0440\\u043e\\u043a\",\"\\u043d\\u0435\\u0442\",\"\\u043f\\u0440\\u0438\\u0432\\u043b\\u0435\\u0447\\u044c\",\"\\u043a\\u0443\\u0440\\u0441\",\"\\u044d\\u043a\\u043e\\u0441\\u0438\\u0441\\u0442\\u0435\\u043c\\u0430\",\"\\u0442\\u0440\\u0435\\u0442\\u0438\\u0439\",\"\\u043e\\u0441\\u043d\\u043e\\u0432\\u043d\\u043e\\u0439\",\"\\u043f\\u043e\\u043b\\u0430\\u0433\\u0430\\u0442\\u044c\",\"\\u0434\\u0435\\u043d\\u0435\\u0436\\u043d\\u044b\\u0439\",\"\\u0446\\u0435\\u043b\\u043e\\u0435\",\"\\u043a\\u0430\\u0447\\u0435\\u0441\\u0442\\u0432\\u043e\",\"\\u0432\\u044b\\u043f\\u0443\\u0441\\u043a\",\"\\u0441\\u0435\\u0432\\u0435\\u0440\\u043d\\u044b\\u0439\",\"\\u0442\\u0440\\u0430\\u043d\\u0441\\u043d\\u0435\\u0444\\u0442\\u044c\",\"\\u0441\\u0434\\u0435\\u043b\\u0430\\u0442\\u044c\",\"\\u0430\\u0432\\u0438\\u0430\\u043a\\u043e\\u043c\\u043f\\u0430\\u043d\\u0438\\u044f\",\"\\u0440\\u0435\\u0442\\u0435\\u0439\\u043b\\u0435\\u0440\",\"\\u043f\\u043e\\u043b\\u0438\\u0442\\u0438\\u043a\\u0430\",\"\\u043b\\u0438\",\"\\u0441\\u0440\\u0435\\u0434\\u0438\",\"\\u0434\\u0430\\u043b\\u044c\\u043d\\u0435\\u0439\\u0448\\u0438\\u0439\",\"\\u043a\\u043e\\u0442\\u0438\\u0440\\u043e\\u0432\\u043a\\u0430\",\"\\u0440\\u0435\\u0430\\u043b\\u0438\\u0437\\u0430\\u0446\\u0438\\u044f\",\"\\u043c\\u0442\\u0441\",\"\\u043f\\u0435\\u043d\\u0441\\u0438\\u043e\\u043d\\u043d\\u044b\\u0439\",\"\\u0430\\u043c\\u0435\\u0440\\u0438\\u043a\\u0430\\u043d\\u0441\\u043a\\u0438\\u0439\",\"\\u043c\\u0430\\u043b\\u0435\\u043d\\u044c\\u043a\\u0438\\u0439\",\"\\u0433\\u043e\\u0441\\u0443\\u0434\\u0430\\u0440\\u0441\\u0442\\u0432\\u043e\",\"\\u0441\\u043e\\u043a\\u0440\\u0430\\u0442\\u0438\\u0442\\u044c\\u0441\\u044f\",\"\\u0432\\u043b\\u0430\\u0434\\u0438\\u043c\\u0438\\u0440\",\"\\u0432\\u0432\\u0435\\u0441\\u0442\\u0438\",\"\\u043f\\u043e\\u043b\\u0443\\u0433\\u043e\\u0434\\u0438\\u0435\",\"\\u043a\\u043e\\u043b\\u0438\\u0447\\u0435\\u0441\\u0442\\u0432\\u043e\",\"\\u043a\\u0440\\u043e\\u043c\\u0435\",\"\\u043a\\u0438\\u0442\\u0430\\u0439\",\"\\u0434\\u043e\\u0441\\u0442\\u0430\\u0432\\u043a\\u0430\",\"\\u043f\\u0440\\u0435\\u0434\\u0441\\u0442\\u0430\\u0432\\u0438\\u0442\\u044c\",\"\\u0446\\u0435\\u043b\\u044c\",\"\\u0432\\u044b\\u043f\\u043b\\u0430\\u0442\\u0438\\u0442\\u044c\",\"\\u0430\\u043d\\u0430\\u043b\\u043e\\u0433\\u0438\\u0447\\u043d\\u044b\\u0439\",\"\\u0434\\u0435\\u043b\\u043e\",\"\\u0440\\u0435\\u0439\\u0442\\u0438\\u043d\\u0433\",\"\\u0437\\u0430\\u044f\\u0432\\u043a\\u0430\",\"\\u043d\\u0435\\u043a\\u043e\\u0442\\u043e\\u0440\\u044b\\u0439\",\"\\u043b\\u0438\\u0448\\u044c\",\"\\u0441\\u043e\\u0442\\u0440\\u0443\\u0434\\u043d\\u0438\\u043a\",\"\\u0441\\u043e\\u043a\\u0440\\u0430\\u0442\\u0438\\u0442\\u044c\",\"\\u043b\\u0438\\u0434\\u0435\\u0440\",\"\\u0435\\u0432\\u0440\\u043e\\u043f\\u0435\\u0439\\u0441\\u043a\\u0438\\u0439\",\"\\u0434\\u043e\\u0447\\u0435\\u0440\\u043d\\u0438\\u0439\",\"\\u0442\\u043e\\u043d\\u043d\\u0430\",\"\\u0434\\u043e\\u043a\\u0443\\u043c\\u0435\\u043d\\u0442\",\"\\u043f\\u0435\\u0440\\u0435\\u043e\\u0446\\u0435\\u043d\\u043a\\u0430\",\"\\u0444\\u0438\\u043d\\u0430\\u043d\\u0441\\u0438\\u0440\\u043e\\u0432\\u0430\\u043d\\u0438\\u0435\",\"\\u0440\\u044b\\u043d\\u043e\\u0447\\u043d\\u044b\\u0439\",\"\\u0432\\u0438\\u0434\\u0435\\u0442\\u044c\",\"\\u0432\\u043d\\u0443\\u0442\\u0440\\u0435\\u043d\\u043d\\u0438\\u0439\",\"\\u043f\\u0440\\u0438\\u043e\\u0431\\u0440\\u0435\\u0441\\u0442\\u0438\",\"\\u0438\\u043d\\u0432\\u0435\\u0441\\u0442\\u0438\\u0440\\u043e\\u0432\\u0430\\u0442\\u044c\",\"\\u043e\\u0447\\u0435\\u043d\\u044c\",\"\\u043e\\u0446\\u0435\\u043d\\u0438\\u0432\\u0430\\u0442\\u044c\",\"\\u043f\\u043b\\u043e\\u0449\\u0430\\u0434\\u043a\\u0430\",\"\\u043f\\u0440\\u043e\\u0434\\u0430\\u0432\\u0430\\u0442\\u044c\",\"\\u0446\\u0435\\u043b\\u0435\\u0432\\u043e\\u0439\",\"\\u0433\\u043e\\u0441\\u0431\\u0430\\u043d\\u043a\",\"\\u043a\\u043e\\u043c\\u0438\\u0441\\u0441\\u0438\\u044f\",\"\\u043e\\u0442\\u043a\\u0430\\u0437\\u0430\\u0442\\u044c\\u0441\\u044f\",\"\\u0440\\u0431\\u043a\",\"\\u0431\\u0443\\u0434\\u0443\\u0449\\u0435\\u0435\",\"\\u043f\\u043e\\u043b\\u043e\\u0432\\u0438\\u043d\\u0430\",\"ipo\",\"\\u0444\\u043e\\u043d\\u0434\\u043e\\u0432\\u044b\\u0439\",\"\\u0445\\u043e\\u0434\",\"\\u043a\\u0438\\u0442\\u0430\\u0439\\u0441\\u043a\\u0438\\u0439\",\"\\u0437\\u0430\\u043c\\u043f\\u0440\\u0435\\u0434\",\"\\u0441\\u0442\\u043e\\u0438\\u0442\\u044c\",\"\\u0434\\u043e\\u0447\\u043a\\u0430\",\"\\u0438\\u043d\\u0441\\u0442\\u0440\\u0443\\u043c\\u0435\\u043d\\u0442\",\"\\u043f\\u043e\\u0434\\u0430\\u0442\\u044c\",\"\\u043d\\u0430\\u043b\\u043e\\u0433\",\"\\u0434\\u0435\\u044f\\u0442\\u0435\\u043b\\u044c\\u043d\\u043e\\u0441\\u0442\\u044c\",\"\\u0432\\u0435\\u0441\\u0442\\u0438\",\"\\u043e\\u0431\\u0435\\u0441\\u043f\\u0435\\u0447\\u0438\\u0442\\u044c\",\"\\u0441\\u043e\\u0433\\u043b\\u0430\\u0441\\u043d\\u043e\",\"\\u043e\\u0436\\u0438\\u0434\\u0430\\u043d\\u0438\\u0435\",\"\\u0441\\u043e\\u043a\\u0440\\u0430\\u0449\\u0435\\u043d\\u0438\\u0435\",\"\\u043c\\u0430\\u0433\\u0430\\u0437\\u0438\\u043d\",\"\\u0434\\u043c\\u0438\\u0442\\u0440\\u0438\\u0439\",\"\\u0441\\u043e\\u0431\\u0435\\u0441\\u0435\\u0434\\u043d\\u0438\\u043a\",\"\\u043f\\u0440\\u0435\\u0434\\u0441\\u0435\\u0434\\u0430\\u0442\\u0435\\u043b\\u044c\",\"\\u043f\\u043e\\u0434\\u043f\\u0438\\u0441\\u0430\\u0442\\u044c\",\"\\u0441\\u0432\\u044f\\u0437\\u0430\\u0442\\u044c\",\"\\u0442\\u043e\\u0432\\u0430\\u0440\",\"\\u0430\\u044d\\u0440\\u043e\\u0444\\u043b\\u043e\\u0442\",\"\\u043a\\u043e\\u043d\\u0442\\u0440\\u043e\\u043b\\u044c\",\"\\u0440\\u0430\\u0441\\u0441\\u043c\\u0430\\u0442\\u0440\\u0438\\u0432\\u0430\\u0442\\u044c\",\"\\u043f\\u043e\\u0437\\u0438\\u0442\\u0438\\u0432\\u043d\\u044b\\u0439\",\"\\u0446\\u0435\\u043d\\u043d\\u044b\\u0439\",\"\\u0438\\u0441\\u043f\\u043e\\u043b\\u044c\\u0437\\u043e\\u0432\\u0430\\u0442\\u044c\",\"\\u043f\\u0440\\u043e\\u0438\\u0437\\u043e\\u0439\\u0442\\u0438\",\"\\u0444\\u0438\\u0437\\u0438\\u0447\\u0435\\u0441\\u043a\\u0438\\u0439\",\"\\u0432\\u043b\\u043e\\u0436\\u0435\\u043d\\u0438\\u0435\",\"\\u0437\\u0430\\u043f\\u0443\\u0441\\u043a\",\"\\u0436\\u0434\\u0430\\u0442\\u044c\",\"\\u043e\\u0442\\u043d\\u043e\\u0441\\u0438\\u0442\\u0435\\u043b\\u044c\\u043d\\u043e\",\"\\u0440\\u0441\\u0431\",\"\\u0443\\u043f\\u0430\\u0441\\u0442\\u044c\",\"\\u043f\\u043e\\u043a\\u0443\\u043f\\u0430\\u0442\\u044c\",\"\\u0432\\u0438\\u0434\",\"\\u0437\\u0430\\u043a\\u0440\\u044b\\u0442\\u0438\\u0435\",\"\\u043f\\u043e\\u0442\\u0440\\u0435\\u0431\\u0438\\u0442\\u0435\\u043b\\u044c\",\"\\u0432\\u043e\\u0441\\u0441\\u0442\\u0430\\u043d\\u043e\\u0432\\u043b\\u0435\\u043d\\u0438\\u0435\",\"\\u0442\\u043e\\u0447\\u043a\\u0430\",\"\\u0432\\u043b\\u0438\\u044f\\u043d\\u0438\\u0435\",\"\\u0442\\u0435\\u043c\\u043f\",\"\\u043c\\u0435\\u0441\\u0442\\u043e\",\"\\u043a\\u043e\\u044d\\u0444\\u0444\\u0438\\u0446\\u0438\\u0435\\u043d\\u0442\",\"\\u0432\\u0445\\u043e\\u0434\\u0438\\u0442\\u044c\",\"\\u0432\\u043b\\u0430\\u0441\\u0442\\u044c\",\"\\u0441\\u0440\\u0435\\u0434\\u043d\\u0438\\u0439\",\"\\u0433\\u0435\\u043d\\u0434\\u0438\\u0440\\u0435\\u043a\\u0442\\u043e\\u0440\",\"\\u043f\\u043e\\u044d\\u0442\\u043e\\u043c\\u0443\",\"\\u0442\\u0435\\u0445\\u043d\\u043e\\u043b\\u043e\\u0433\\u0438\\u044f\",\"\\u043d\\u0435\\u0444\\u0442\\u044f\\u043d\\u043e\\u0439\",\"\\u043f\\u0440\\u043e\\u0441\\u0438\\u0442\\u044c\",\"\\u0442\\u0435\\u0447\\u0435\\u043d\\u0438\\u0435\",\"\\u043d\\u0435\\u0441\\u043c\\u043e\\u0442\\u0440\\u044f\",\"\\u0432\\u0430\\u0440\\u0438\\u0430\\u043d\\u0442\",\"\\u043f\\u0443\\u043d\\u043a\\u0442\",\"\\u043f\\u0430\\u043e\",\"\\u0446\\u0435\\u043d\\u0442\\u0440\",\"\\u043e\\u0447\\u0435\\u0440\\u0435\\u0434\\u044c\",\"\\u043f\\u0440\\u0438\\u043e\\u0431\\u0440\\u0435\\u0442\\u0435\\u043d\\u0438\\u0435\",\"\\u0437\\u0430\\u043a\\u043e\\u043d\",\"\\u0441\\u0443\\u0449\\u0435\\u0441\\u0442\\u0432\\u0435\\u043d\\u043d\\u044b\\u0439\",\"\\u043e\\u0446\\u0435\\u043d\\u0438\\u0442\\u044c\",\"\\u0434\\u043e\\u043b\\u0433\\u043e\\u0441\\u0440\\u043e\\u0447\\u043d\\u044b\\u0439\",\"\\u0430\\u043d\\u0434\\u0440\\u0435\\u0439\",\"\\u043f\\u0440\\u0438\\u0447\\u0438\\u043d\\u0430\",\"\\u043f\\u0435\\u0440\\u0435\\u0434\",\"\\u043c\\u0435\\u0433\\u0430\\u0444\\u043e\\u043d\",\"\\u043b\\u044c\\u0433\\u043e\\u0442\\u0430\",\"\\u0434\\u043e\\u0433\\u043e\\u0432\\u043e\\u0440\\u0438\\u0442\\u044c\\u0441\\u044f\",\"\\u043e\\u0434\\u043e\\u0431\\u0440\\u0438\\u0442\\u044c\",\"\\u0432\\u043c\\u0435\\u0441\\u0442\\u0435\",\"\\u0433\\u0435\\u0440\\u043c\\u0430\\u043d\",\"\\u043c\\u0435\\u043d\\u0435\\u0434\\u0436\\u043c\\u0435\\u043d\\u0442\",\"\\u043f\\u0440\\u0438\\u043d\\u0430\\u0434\\u043b\\u0435\\u0436\\u0430\\u0442\\u044c\",\"\\u0443\\u0433\\u043e\\u043b\\u044c\",\"\\u043d\\u0430\\u0441\\u0435\\u043b\\u0435\\u043d\\u0438\\u0435\",\"\\u0432\\u044b\\u043a\\u0443\\u043f\",\"\\u043f\\u0440\\u0430\\u0432\\u0438\\u043b\\u043e\",\"\\u043f\\u043e\\u043c\\u043e\\u0447\\u044c\",\"\\u043c\\u0430\\u043a\\u0441\\u0438\\u043c\\u0430\\u043b\\u044c\\u043d\\u044b\\u0439\",\"\\u0441\\u0438\\u043b\\u0430\",\"\\u0440\\u0435\\u0447\\u044c\",\"\\u043f\\u0440\\u0438\\u0432\\u0438\\u043b\\u0435\\u0433\\u0438\\u0440\\u043e\\u0432\\u0430\\u043d\\u043d\\u044b\\u0439\",\"\\u043d\\u0430\\u043b\\u043e\\u0433\\u043e\\u0432\\u044b\\u0439\",\"\\u0432\\u043f\\u0435\\u0440\\u0432\\u044b\\u0435\",\"\\u043f\\u043b\\u0430\\u043d\\u0438\\u0440\\u043e\\u0432\\u0430\\u0442\\u044c\\u0441\\u044f\",\"\\u043e\\u0436\\u0438\\u0434\\u0430\\u0442\\u044c\\u0441\\u044f\",\"\\u043f\\u0440\\u043e\\u0434\\u043e\\u043b\\u0436\\u0438\\u0442\\u044c\",\"\\u043f\\u043b\\u0430\\u0442\\u0438\\u0442\\u044c\",\"\\u043f\\u043e\\u043b\\u043d\\u044b\\u0439\",\"\\u043e\\u0431\\u0441\\u0443\\u0436\\u0434\\u0430\\u0442\\u044c\",\"\\u043f\\u043e\\u0437\\u0432\\u043e\\u043b\\u044f\\u0442\\u044c\",\"\\u0431\\u0440\\u043e\\u043a\\u0435\\u0440\",\"\\u043d\\u0430\\u043f\\u0440\\u0430\\u0432\\u043b\\u0435\\u043d\\u0438\\u0435\",\"\\u0434\\u0435\\u0439\\u0441\\u0442\\u0432\\u043e\\u0432\\u0430\\u0442\\u044c\",\"\\u0432\\u0435\\u0440\\u043d\\u0443\\u0442\\u044c\\u0441\\u044f\",\"\\u0441\\u043e\\u043e\\u0442\\u0432\\u0435\\u0442\\u0441\\u0442\\u0432\\u0435\\u043d\\u043d\\u043e\",\"\\u0437\\u0430\\u0434\\u043e\\u043b\\u0436\\u0435\\u043d\\u043d\\u043e\\u0441\\u0442\\u044c\",\"\\u0437\\u043e\\u043b\\u043e\\u0442\\u043e\",\"\\u043d\\u0430\\u0439\\u0442\\u0438\",\"\\u0433\\u0430\\u0437\\u043e\\u043f\\u0440\\u043e\\u0432\\u043e\\u0434\",\"\\u0441\\u043f\\u0438\\u0441\\u043e\\u043a\",\"\\u043f\\u043e\\u0442\\u0435\\u043d\\u0446\\u0438\\u0430\\u043b\",\"\\u0433\\u0440\\u0430\\u0436\\u0434\\u0430\\u043d\\u0438\\u043d\",\"\\u043a\\u043e\\u043c\\u043f\\u043b\\u0435\\u043a\\u0441\",\"\\u0433\\u0434\\u0435\",\"\\u043a\\u0430\\u043f\\u0438\\u0442\\u0430\\u043b\\u0438\\u0437\\u0430\\u0446\\u0438\\u044f\",\"\\u043f\\u043e\\u044f\\u0432\\u0438\\u0442\\u044c\\u0441\\u044f\",\"\\u043f\\u043e\\u0434\\u0434\\u0435\\u0440\\u0436\\u0430\\u0442\\u044c\",\"\\u0437\\u0430\\u043a\\u043b\\u044e\\u0447\\u0438\\u0442\\u044c\",\"\\u0442\\u043e\\u0440\\u0433\\u043e\\u0432\\u0430\\u0442\\u044c\\u0441\\u044f\",\"\\u0437\\u0430\\u0440\\u0443\\u0431\\u0435\\u0436\\u043d\\u044b\\u0439\",\"\\u0438\\u0441\\u0442\\u043e\\u0440\\u0438\\u044f\",\"\\u0441\\u0441\\u044b\\u043b\\u043a\\u0430\",\"\\u043f\\u0440\\u0435\\u0434\\u044b\\u0434\\u0443\\u0449\\u0438\\u0439\",\"\\u043d\\u0430\\u0434\",\"\\u0437\\u0430\\u043a\\u043e\\u043d\\u043e\\u043f\\u0440\\u043e\\u0435\\u043a\\u0442\",\"\\u043e\\u043b\\u0435\\u0433\",\"\\u0442\\u0440\\u0430\\u043d\\u0437\\u0438\\u0442\",\"\\u043c\\u0435\\u0442\\u0430\\u043b\\u043b\",\"\\u043a\\u0440\\u0435\\u0434\\u0438\\u0442\\u043e\\u0440\",\"\\u0434\\u0435\\u0439\\u0441\\u0442\\u0432\\u0438\\u0435\",\"\\u0441\\u043e\\u0431\\u0440\\u0430\\u043d\\u0438\\u0435\",\"\\u043e\\u0431\\u044f\\u0437\\u0430\\u0442\\u0435\\u043b\\u044c\\u0441\\u0442\\u0432\\u043e\",\"\\u043a\\u043e\\u043d\\u043a\\u0443\\u0440\\u0435\\u043d\\u0446\\u0438\\u044f\",\"\\u0430\\u0432\\u0442\\u043e\\u043c\\u043e\\u0431\\u0438\\u043b\\u044c\",\"\\u0431\\u0440\\u0435\\u043d\\u0434\",\"\\u0432\\u043e\\u0441\\u0442\\u043e\\u043a\",\"\\u0437\\u0430\\u0442\\u0440\\u0430\\u0442\\u0430\",\"\\u0431\\u044b\\u0441\\u0442\\u0440\\u044b\\u0439\",\"\\u0437\\u043d\\u0430\\u0447\\u0438\\u0442\\u0435\\u043b\\u044c\\u043d\\u044b\\u0439\",\"\\u0432\\u044b\\u043a\\u0443\\u043f\\u0438\\u0442\\u044c\",\"\\u0442\\u0438\\u043d\\u044c\\u043a\\u043e\\u0444\\u0444\",\"\\u0440\\u0430\\u0437\\u0432\\u0438\\u0432\\u0430\\u0442\\u044c\",\"\\u0444\\u0430\\u043a\\u0442\\u043e\\u0440\",\"\\u043d\\u0430\\u0446\\u0438\\u043e\\u043d\\u0430\\u043b\\u044c\\u043d\\u044b\\u0439\",\"\\u0440\\u043e\\u0441\\u0442\\u0435\\u043b\\u0435\\u043a\\u043e\\u043c\",\"\\u0432\\u043f\\u0440\\u043e\\u0447\\u0435\\u043c\",\"\\u0434\\u0430\\u043d\\u043d\\u044b\\u0439\",\"\\u0447\\u0430\\u0441\\u0442\\u043d\\u043e\\u0441\\u0442\\u044c\",\"\\u0440\\u0430\\u0437\\u0440\\u0430\\u0431\\u043e\\u0442\\u043a\\u0430\",\"\\u0432\\u043e\\u0439\\u0442\\u0438\",\"\\u043f\\u043e\\u0442\\u0440\\u0435\\u0431\\u0438\\u0442\\u0435\\u043b\\u044c\\u0441\\u043a\\u0438\\u0439\",\"\\u0442\\u043e\\u0433\\u0434\\u0430\",\"\\u043c\\u043e\\u0434\\u0435\\u043b\\u044c\",\"\\u043c\\u0438\\u043d\\u0438\\u043c\\u0443\\u043c\",\"\\u043d\\u0435\\u0431\\u043e\\u043b\\u044c\\u0448\\u043e\\u0439\",\"\\u043f\\u043e\\u0440\\u044f\\u0434\\u043e\\u043a\",\"\\u0443\\u0447\\u0438\\u0442\\u044b\\u0432\\u0430\\u0442\\u044c\",\"\\u0441\\u043f\\u043e\\u0440\",\"\\u043f\\u043e\\u043b\\u043d\\u043e\\u0441\\u0442\\u044c\\u044e\",\"\\u0441\\u0430\\u043c\\u043e\\u043b\\u0451\\u0442\",\"\\u0443\\u0434\\u0430\\u0442\\u044c\\u0441\\u044f\",\"\\u0441\\u0435\\u0440\\u0433\\u0435\\u0439\",\"\\u0441\\u0440\\u0435\\u0434\\u043d\\u0435\\u0435\",\"\\u043a\\u0430\\u043a\\u043e\\u0439\",\"\\u0437\\u0430\\u043f\\u0430\\u0441\",\"\\u043f\\u043e\\u043b\\u0443\\u0447\\u0435\\u043d\\u0438\\u0435\",\"\\u0442\\u0440\\u0435\\u0431\\u043e\\u0432\\u0430\\u0442\\u044c\",\"\\u043f\\u043e\\u0442\\u0435\\u043d\\u0446\\u0438\\u0430\\u043b\\u044c\\u043d\\u044b\\u0439\",\"\\u0437\\u0430\\u043a\\u0430\\u0437\",\"\\u043f\\u043e\\u043f\\u0430\\u0441\\u0442\\u044c\",\"\\u043e\\u0442\\u0447\\u0451\\u0442\",\"\\u0432\\u043b\\u0430\\u0434\\u0435\\u0442\\u044c\",\"\\u0433\\u043b\\u0430\\u0432\\u043d\\u044b\\u0439\",\"\\u0430\\u043a\\u0442\\u0438\\u0432\\u043d\\u043e\",\"\\u0434\\u043e\\u0433\\u043e\\u0432\\u043e\\u0440\",\"\\u0432\\u044b\\u0445\\u043e\\u0434\",\"\\u0441\\u043e\\u0431\\u0438\\u0440\\u0430\\u0442\\u044c\\u0441\\u044f\",\"\\u044d\\u043c\\u0438\\u0442\\u0435\\u043d\\u0442\",\"\\u043f\\u0440\\u043e\\u0439\\u0442\\u0438\",\"\\u0430\\u043b\\u0435\\u043a\\u0441\\u0435\\u0439\",\"\\u043f\\u043e\\u0441\\u0442\\u0430\\u0432\\u0438\\u0442\\u044c\",\"\\u0440\\u0435\\u0433\\u0443\\u043b\\u0438\\u0440\\u043e\\u0432\\u0430\\u043d\\u0438\\u0435\",\"\\u043a\\u043e\\u043d\\u043a\\u0443\\u0440\\u0435\\u043d\\u0442\",\"\\u0443\\u043a\\u0440\\u0430\\u0438\\u043d\\u0441\\u043a\\u0438\\u0439\",\"\\u0434\\u0435\\u043b\\u0430\\u0442\\u044c\",\"\\u0438\\u043d\\u0444\\u043b\\u044f\\u0446\\u0438\\u044f\",\"\\u0441\\u0444\\u0435\\u0440\\u0430\",\"\\u043f\\u043e\\u0441\\u0442\\u0430\\u0432\\u0449\\u0438\\u043a\",\"\\u0434\\u0435\\u0440\\u0438\\u043f\\u0430\\u0441\\u043a\",\"\\u043f\\u043e\\u0433\\u0430\\u0448\\u0435\\u043d\\u0438\\u0435\",\"\\u0431\\u0430\\u0437\\u043e\\u0432\\u044b\\u0439\",\"\\u043f\\u044b\\u0442\\u0430\\u0442\\u044c\\u0441\\u044f\",\"\\u0438\\u0441\\u043a\\u0430\\u0442\\u044c\",\"\\u044e\\u0440\\u0438\\u0434\\u0438\\u0447\\u0435\\u0441\\u043a\\u0438\\u0439\",\"\\u0442\\u043e\\u0440\\u0433\\u043e\\u0432\\u043b\\u044f\",\"\\u043f\\u044f\\u0442\\u044c\",\"\\u044d\\u043b\\u0435\\u043a\\u0442\\u0440\\u043e\\u043d\\u043d\\u044b\\u0439\",\"\\u043f\\u0440\\u0438\\u0437\\u043d\\u0430\\u0442\\u044c\",\"\\u043e\\u0431\\u044a\\u0435\\u043a\\u0442\",\"\\u0433\\u043e\\u0441\\u0443\\u0434\\u0430\\u0440\\u0441\\u0442\\u0432\\u0435\\u043d\\u043d\\u044b\\u0439\",\"\\u0441\\u043b\\u0443\\u0436\\u0431\\u0430\",\"\\u0437\\u0430\\u0432\\u0435\\u0440\\u0448\\u0438\\u0442\\u044c\",\"\\u0447\\u0435\\u0442\\u044b\\u0440\\u0435\",\"\\u0434\\u043e\\u0441\\u0442\\u0430\\u0442\\u043e\\u0447\\u043d\\u043e\\u0441\\u0442\\u044c\",\"\\u043f\\u0443\\u0442\\u0438\\u043d\",\"\\u0440\\u0435\\u043a\\u043e\\u043c\\u0435\\u043d\\u0434\\u0430\\u0446\\u0438\\u044f\",\"\\u043f\\u0440\\u0438\\u0445\\u043e\\u0434\\u0438\\u0442\\u044c\\u0441\\u044f\",\"\\u0438\\u0441\\u043f\\u043e\\u043b\\u044c\\u0437\\u043e\\u0432\\u0430\\u043d\\u0438\\u0435\",\"\\u043f\\u0435\\u0440\\u0435\\u0432\\u043e\\u0437\\u043a\\u0430\",\"\\u043d\\u0430\\u0444\\u0442\\u043e\\u0433\\u0430\\u0437\",\"\\u043e\\u0431\\u044a\\u0435\\u0434\\u0438\\u043d\\u0438\\u0442\\u044c\",\"\\u043c\\u0430\\u043a\\u0441\\u0438\\u043c\\u0443\\u043c\",\"\\u043f\\u0440\\u0435\\u0434\\u043e\\u0441\\u0442\\u0430\\u0432\\u0438\\u0442\\u044c\",\"\\u0441\\u043e\\u0441\\u0442\\u043e\\u044f\\u0442\\u044c\\u0441\\u044f\",\"\\u043f\\u043e\\u0441\\u0442\\u0440\\u043e\\u0438\\u0442\\u044c\",\"\\u043e\\u043e\\u043e\",\"\\u043a\\u0443\\u0431\",\"\\u0442\\u0440\\u0443\\u0431\\u0430\",\"\\u043f\\u0440\\u0438\\u043d\\u0430\\u0434\\u043b\\u0435\\u0436\\u0430\\u0449\\u0438\\u0439\",\"\\u0443\\u0441\\u0442\\u0430\\u043d\\u043e\\u0432\\u0438\\u0442\\u044c\",\"\\u0441\\u043e\\u0445\\u0440\\u0430\\u043d\\u0438\\u0442\\u044c\",\"\\u0438\\u0434\\u0435\\u044f\",\"\\u0433\\u0430\\u0437\\u043e\\u0432\\u044b\\u0439\",\"\\u0437\\u0430\\u044f\\u0432\\u043b\\u0435\\u043d\\u0438\\u0435\",\"\\u043d\\u0435\\u0434\\u0432\\u0438\\u0436\\u0438\\u043c\\u043e\\u0441\\u0442\\u044c\",\"\\u0434\\u043e\\u0441\\u0442\\u0443\\u043f\",\"\\u043d\\u0430\\u0441\\u0442\\u043e\\u044f\\u0449\\u0438\\u0439\",\"\\u043a\\u0440\\u0438\\u0437\\u0438\\u0441\",\"\\u0432\\u044b\\u0441\\u0442\\u0443\\u043f\\u0430\\u0442\\u044c\",\"\\u043e\\u0444\\u0437\",\"\\u0441\\u0430\\u0439\\u0442\",\"\\u043e\\u0431\\u043d\\u043e\\u0432\\u0438\\u0442\\u044c\",\"\\u043c\\u0430\\u0440\\u043a\\u0435\\u0442\\u043f\\u043b\\u0435\\u0439\\u0441\",\"\\u043d\\u0443\\u0436\\u043d\\u043e\",\"\\u0444\\u043a\",\"\\u043f\\u0440\\u043e\\u0433\\u043d\\u043e\\u0437\\u0438\\u0440\\u043e\\u0432\\u0430\\u0442\\u044c\",\"\\u043f\\u043e\\u0432\\u044b\\u0448\\u0430\\u0442\\u044c\",\"\\u0434\\u043e\\u0431\\u0430\\u0432\\u0438\\u0442\\u044c\",\"\\u0430\\u0440\\u0431\\u0438\\u0442\\u0440\\u0430\\u0436\\u043d\\u044b\\u0439\",\"\\u043f\\u0440\\u043e\\u0434\\u0443\\u043a\\u0446\\u0438\\u044f\",\"\\u0432\\u0432\\u0435\\u0434\\u0435\\u043d\\u0438\\u0435\",\"\\u043d\\u0430\\u0447\\u0438\\u043d\\u0430\\u0442\\u044c\",\"\\u043d\\u0430\\u0440\\u0430\\u0441\\u0442\\u0438\\u0442\\u044c\",\"\\u043e\\u0441\\u043d\\u043e\\u0432\\u043d\\u043e\\u0435\",\"\\u0434\\u043e\\u0441\\u0442\\u0443\\u043f\\u043d\\u044b\\u0439\",\"\\u0430\\u043a\\u0442\\u0438\\u0432\\u043d\\u044b\\u0439\",\"\\u0440\\u0443\\u0441\\u0430\\u043b\\u043e\",\"\\u0432\\u043d\\u0435\\u0441\\u0442\\u0438\",\"\\u0440\\u0430\\u0441\\u0448\\u0438\\u0440\\u0435\\u043d\\u0438\\u0435\",\"\\u0431\\u0438\\u0440\\u0436\\u0435\\u0432\\u043e\\u0439\",\"\\u0432\\u043d\\u043e\\u0432\\u044c\",\"\\u0438\\u043d\\u0442\\u0435\\u0440\\u0444\\u0430\\u043a\\u0441\",\"\\u0443\\u0442\\u0432\\u0435\\u0440\\u0434\\u0438\\u0442\\u044c\",\"\\u043f\\u043e\\u043b\\u0443\\u0447\\u0430\\u0442\\u044c\",\"\\u0438\\u043d\\u0444\\u0440\\u0430\\u0441\\u0442\\u0440\\u0443\\u043a\\u0442\\u0443\\u0440\\u0430\",\"\\u0441\\u043e\\u0437\\u0434\\u0430\\u0432\\u0430\\u0442\\u044c\",\"\\u0440\\u0430\\u043e\",\"\\u0432\\u043a\\u043b\\u044e\\u0447\\u0430\\u044f\",\"\\u043c\\u043e\\u0431\\u0438\\u043b\\u044c\\u043d\\u044b\\u0439\",\"\\u043e\\u0431\\u044a\\u044f\\u0441\\u043d\\u044f\\u0442\\u044c\",\"\\u043d\\u043e\\u0440\\u043d\\u0438\\u043a\\u0435\\u043b\\u044c\",\"\\u043a\\u043e\\u043c\\u043c\\u0435\\u0440\\u0441\\u0430\\u043d\\u0442\",\"\\u043f\\u0440\\u043e\\u0446\\u0435\\u0441\\u0441\",\"\\u0431\\u043b\\u0430\\u0433\\u043e\\u0434\\u0430\\u0440\\u044f\",\"\\u043e\\u0442\\u0447\\u0438\\u0441\\u043b\\u0435\\u043d\\u0438\\u0435\",\"\\u043f\\u043e\\u0442\\u0435\\u0440\\u044f\",\"\\u0440\\u043e\\u0441\\u0441\\u0435\\u0442\\u044c\",\"\\u0431\\u044b\\u0432\\u0448\\u0438\\u0439\",\"\\u0441\\u0443\\u0449\\u0435\\u0441\\u0442\\u0432\\u0435\\u043d\\u043d\\u043e\",\"\\u043f\\u0440\\u044f\\u043c\\u043e\\u0439\",\"\\u043f\\u043e\\u0432\\u043b\\u0438\\u044f\\u0442\\u044c\",\"\\u043a\\u0430\\u0436\\u0434\\u044b\\u0439\",\"\\u0433\\u043e\\u0442\\u043e\\u0432\\u0438\\u0442\\u044c\\u0441\\u044f\",\"\\u043c\\u0430\\u0433\\u043d\\u0438\\u0442\",\"\\u043f\\u043e\\u043c\\u043e\\u0449\\u044c\",\"\\u043f\\u043e\\u043b\\u043e\\u0436\\u0438\\u0442\\u0435\\u043b\\u044c\\u043d\\u044b\\u0439\",\"\\u043d\\u0435\\u043e\\u0431\\u0445\\u043e\\u0434\\u0438\\u043c\\u044b\\u0439\",\"\\u0441\\u043e\\u0432\\u043e\\u043a\\u0443\\u043f\\u043d\\u044b\\u0439\",\"\\u043f\\u043e\\u043b\\u044c\\u0437\\u043e\\u0432\\u0430\\u0442\\u0435\\u043b\\u044c\",\"\\u043d\\u0430\\u0437\\u0430\\u0434\",\"ozon\",\"\\u043f\\u0440\\u0438\\u0432\\u043b\\u0435\\u0447\\u0435\\u043d\\u0438\\u0435\",\"\\u043e\\u0431\\u043e\\u0440\\u043e\\u0442\",\"ebitda\",\"\\u0437\\u0430\\u043f\\u043b\\u0430\\u0442\\u0438\\u0442\\u044c\",\"\\u0440\\u0435\\u043a\\u043e\\u0440\\u0434\",\"\\u0442\\u044b\\u0441\\u044f\\u0447\\u0430\",\"\\u0432\\u0437\\u0433\\u043b\\u044f\\u0434\",\"\\u0438\\u0433\\u043e\\u0440\\u044c\",\"\\u043c\\u043e\\u043d\\u043e\\u043f\\u043e\\u043b\\u0438\\u044f\",\"\\u0442\\u043e\\u043f\\u043b\\u0438\\u0432\\u043e\",\"\\u0441\\u043d\\u0438\\u0436\\u0430\\u0442\\u044c\\u0441\\u044f\",\"\\u0437\\u043d\\u0430\\u0447\\u0435\\u043d\\u0438\\u0435\",\"\\u043d\\u0430\\u0438\\u0431\\u043e\\u043b\\u0435\\u0435\",\"\\u043f\\u0440\\u0435\\u0432\\u044b\\u0448\\u0430\\u0442\\u044c\",\"\\u043f\\u0440\\u043e\\u0432\\u0435\\u0434\\u0435\\u043d\\u0438\\u0435\",\"\\u043c\\u0438\\u043d\\u0438\\u043c\\u0430\\u043b\\u044c\\u043d\\u044b\\u0439\",\"\\u043c\\u0435\\u0445\\u0430\\u043d\\u0438\\u0437\\u043c\",\"\\u043f\\u043e\\u0434\\u043e\\u0431\\u043d\\u044b\\u0439\",\"\\u0441\\u043e\\u0442\\u0440\\u0443\\u0434\\u043d\\u0438\\u0447\\u0435\\u0441\\u0442\\u0432\\u043e\",\"\\u043e\\u0442\\u043a\\u0440\\u044b\\u0442\\u044c\",\"\\u0432\\u044b\\u0433\\u043b\\u044f\\u0434\\u0435\\u0442\\u044c\",\"\\u043f\\u0435\\u0440\\u0435\\u0434\\u0430\\u0442\\u044c\",\"\\u0440\\u0435\\u0436\\u0438\\u043c\",\"\\u043d\\u0430\\u0433\\u0440\\u0443\\u0437\\u043a\\u0430\",\"\\u0443\\u0447\\u0430\\u0441\\u0442\\u043e\\u043a\",\"\\u0431\\u043e\\u043b\\u044c\\u0448\\u0438\\u043d\\u0441\\u0442\\u0432\\u043e\",\"\\u043d\\u0430\\u0437\\u0432\\u0430\\u0442\\u044c\",\"\\u0441\\u0435\\u0433\\u043e\\u0434\\u043d\\u044f\",\"\\u0440\\u043e\\u0441\\u0441\\u0438\\u044f\\u043d\\u0438\\u043d\",\"\\u043c\\u0438\\u043d\\u0438\\u0441\\u0442\\u0440\",\"\\u0442\\u0430\\u043c\",\"\\u043f\\u043e\\u0439\\u0442\\u0438\",\"\\u0442\\u0430\\u0441\\u0441\",\"\\u0434\\u0430\\u0432\\u043b\\u0435\\u043d\\u0438\\u0435\",\"\\u0437\\u0430\\u043a\\u0440\\u044b\\u0442\\u044c\",\"\\u0441\\u0445\\u0435\\u043c\\u0430\",\"\\u043e\\u043f\\u043b\\u0430\\u0442\\u0430\",\"\\u044d\\u043a\\u0441\\u043f\\u043e\\u0440\\u0442\\u043d\\u044b\\u0439\",\"\\u0442\\u0435\\u0440\\u0440\\u0438\\u0442\\u043e\\u0440\\u0438\\u044f\",\"\\u043f\\u0440\\u043e\\u043c\\u0441\\u0432\\u044f\\u0437\\u044c\\u0431\\u0430\\u043d\\u043a\",\"\\u043b\\u044c\\u0433\\u043e\\u0442\\u043d\\u044b\\u0439\",\"\\u0435\\u0434\\u0438\\u043d\\u044b\\u0439\",\"\\u044d\\u043b\\u0435\\u043a\\u0442\\u0440\\u043e\\u044d\\u043d\\u0435\\u0440\\u0433\\u0438\\u044f\",\"\\u043f\\u043e\\u0442\\u0435\\u0440\\u044f\\u0442\\u044c\",\"\\u0438\\u0437\\u0432\\u0435\\u0441\\u0442\\u043d\\u043e\",\"\\u0432\\u043b\\u043e\\u0436\\u0438\\u0442\\u044c\",\"tcs\",\"\\u0440\\u0435\\u0437\\u043a\\u0438\\u0439\",\"\\u043d\\u0435\\u0433\\u0430\\u0442\\u0438\\u0432\\u043d\\u044b\\u0439\",\"\\u043b\\u0438\\u0446\\u0435\\u043d\\u0437\\u0438\\u044f\",\"\\u0430\\u043b\\u0440\\u043e\\u0441\",\"\\u0443\\u0432\\u0435\\u043b\\u0438\\u0447\\u0438\\u0432\\u0430\\u0442\\u044c\",\"\\u043f\\u0440\\u043e\\u043c\\u044b\\u0448\\u043b\\u0435\\u043d\\u043d\\u043e\\u0441\\u0442\\u044c\",\"\\u043d\\u0430\\u043f\\u0440\\u0438\\u043c\\u0435\\u0440\",\"\\u043b\\u044e\\u0431\\u043e\\u0439\",\"\\u043f\\u043b\\u043e\\u0449\\u0430\\u0434\\u044c\",\"\\u0437\\u0430\\u043d\\u044f\\u0442\\u044c\",\"\\u0438\\u0441\\u0442\\u043e\\u0440\\u0438\\u0447\\u0435\\u0441\\u043a\\u0438\\u0439\",\"\\u043f\\u043b\\u044e\\u0441\",\"\\u043d\\u0438\",\"\\u0433\\u043e\\u0441\\u043a\\u043e\\u043c\\u043f\\u0430\\u043d\\u0438\\u044f\",\"\\u0434\\u0443\\u043c\\u0430\\u0442\\u044c\",\"\\u0437\\u0430\\u0432\\u0438\\u0441\\u0435\\u0442\\u044c\",\"\\u043c\\u0438\\u043b\\u043b\\u0438\\u043e\\u043d\",\"\\u043e\\u043a\\u0430\\u0437\\u0430\\u0442\\u044c\",\"\\u043c\\u0438\\u0445\\u0430\\u0438\\u043b\",\"\\u0443\\u0442\\u043e\\u0447\\u043d\\u0438\\u0442\\u044c\",\"\\u0440\\u0435\\u0437\\u043a\\u043e\",\"\\u0440\\u0435\\u0441\\u0442\\u0440\\u0443\\u043a\\u0442\\u0443\\u0440\\u0438\\u0437\\u0430\\u0446\\u0438\\u044f\",\"\\u0441\\u0435\\u0440\\u0435\\u0434\\u0438\\u043d\\u0430\",\"\\u043c\\u0430\\u0440\\u0436\\u0430\",\"\\u0440\\u0430\\u0441\\u0441\\u043c\\u043e\\u0442\\u0440\\u0435\\u0442\\u044c\",\"\\u0441\\u043e\\u043e\\u0442\\u0432\\u0435\\u0442\\u0441\\u0442\\u0432\\u0438\\u0435\",\"\\u0441\\u043a\\u043e\\u0440\\u0435\\u0435\",\"\\u0440\\u0430\\u0437\\u043d\\u044b\\u0439\",\"\\u0434\\u0430\\u043b\\u044c\\u043d\\u0438\\u0439\",\"\\u0438\\u043d\\u0442\\u0435\\u0440\\u0432\\u044c\\u044e\",\"\\u043d\\u043f\\u0437\",\"\\u0437\\u0430\\u0441\\u0435\\u0434\\u0430\\u043d\\u0438\\u0435\",\"\\u043d\\u0430\\u0447\\u0430\\u0442\\u044c\\u0441\\u044f\",\"\\u0433\\u0430\\u0437\\u043f\\u0440\\u043e\\u043c\\u0431\\u0430\\u043d\\u043a\",\"\\u043d\\u0430\\u0434\\u0435\\u044f\\u0442\\u044c\\u0441\\u044f\",\"\\u043f\\u043e\\u0434\\u0442\\u0432\\u0435\\u0440\\u0436\\u0434\\u0430\\u0442\\u044c\",\"\\u044d\\u043d\\u0435\\u0440\\u0433\\u0435\\u0442\\u0438\\u043a\\u0430\",\"\\u0434\\u043e\\u043c\",\"\\u043f\\u043e\\u0448\\u043b\\u0438\\u043d\\u0430\",\"\\u0440\\u0435\\u0433\\u0438\\u043e\\u043d\\u0430\\u043b\\u044c\\u043d\\u044b\\u0439\",\"\\u043c\\u0435\\u0442\\u0430\\u043b\\u043b\\u0443\\u0440\\u0433\",\"\\u043f\\u044f\\u0442\\u043d\\u0438\\u0446\\u0430\",\"\\u0437\\u0430\\u0451\\u043c\\u0449\\u0438\\u043a\",\"\\u0444\\u0430\\u043a\\u0442\",\"\\u0430\\u043e\",\"\\u0437\\u0430\\u043c\\u0435\\u0441\\u0442\\u0438\\u0442\\u0435\\u043b\\u044c\",\"\\u044d\\u0444\\u0444\\u0435\\u043a\\u0442\",\"\\u043c\\u0438\\u043d\\u0438\\u0441\\u0442\\u0435\\u0440\\u0441\\u0442\\u0432\\u043e\",\"\\u0441\\u0442\\u0440\\u0430\\u0442\\u0435\\u0433\\u0438\\u0447\\u0435\\u0441\\u043a\\u0438\\u0439\",\"\\u0437\\u0430\\u043a\\u0440\\u044b\\u0442\\u044b\\u0439\",\"\\u0440\\u0430\\u0437\\u043c\\u0435\\u0441\\u0442\\u0438\\u0442\\u044c\",\"\\u0440\\u0443\\u043a\\u043e\\u0432\\u043e\\u0434\\u0438\\u0442\\u0435\\u043b\\u044c\",\"stream\",\"\\u0441\\u043d\\u0438\\u0436\\u0430\\u0442\\u044c\",\"\\u0441\\u043e\\u0441\\u0442\\u043e\\u044f\\u043d\\u0438\\u0435\",\"\\u0441\\u043e\\u0445\\u0440\\u0430\\u043d\\u0435\\u043d\\u0438\\u0435\",\"\\u0434\\u043e\\u0441\\u0442\\u0430\\u0442\\u043e\\u0447\\u043d\\u043e\",\"\\u0441\\u0442\\u0440\\u0430\\u0445\\u043e\\u0432\\u0430\\u043d\\u0438\\u0435\",\"\\u043f\\u043e\\u0434\\u0434\\u0435\\u0440\\u0436\\u0438\\u0432\\u0430\\u0442\\u044c\",\"\\u043e\\u0431\\u0435\\u0449\\u0430\\u0442\\u044c\",\"\\u043f\\u0438\\u0441\\u044c\\u043c\\u043e\",\"\\u043a\\u043e\\u043d\\u0442\\u0440\\u043e\\u043b\\u0438\\u0440\\u043e\\u0432\\u0430\\u0442\\u044c\",\"\\u0430\\u0432\\u0442\\u043e\\u0432\\u0430\\u0437\",\"\\u043e\\u0442\\u0434\\u0435\\u043b\\u044c\\u043d\\u044b\\u0439\",\"\\u043d\\u0430\\u0440\\u0430\\u0449\\u0438\\u0432\\u0430\\u0442\\u044c\",\"\\u043f\\u0430\\u043d\\u0434\\u0435\\u043c\\u0438\\u044f\",\"\\u043d\\u0430\\u0437\\u044b\\u0432\\u0430\\u0442\\u044c\",\"\\u0432\\u044d\\u0431\",\"\\u0434\\u0430\\u0432\\u0430\\u0442\\u044c\",\"\\u043e\\u0431\\u043e\\u0440\\u0443\\u0434\\u043e\\u0432\\u0430\\u043d\\u0438\\u0435\",\"\\u0440\\u0443\\u0441\\u0433\\u0438\\u0434\\u0440\\u043e\",\"\\u043e\\u0444\\u0438\\u0441\",\"\\u0440\\u0435\\u0435\\u0441\\u0442\\u0440\",\"\\u043e\\u0433\\u0440\\u0430\\u043d\\u0438\\u0447\\u0438\\u0442\\u044c\",\"\\u043e\\u0446\\u0435\\u043d\\u0438\\u0432\\u0430\\u0442\\u044c\\u0441\\u044f\",\"\\u043e\\u0442\\u0441\\u0443\\u0442\\u0441\\u0442\\u0432\\u0438\\u0435\",\"\\u0433\\u043e\\u0440\\u043e\\u0434\",\"\\u043c\\u0438\\u043d\\u044d\\u043d\\u0435\\u0440\\u0433\\u043e\",\"\\u0440\\u0435\\u043a\\u043e\\u043c\\u0435\\u043d\\u0434\\u043e\\u0432\\u0430\\u0442\\u044c\",\"\\u0448\\u0442\\u0440\\u0430\\u0444\",\"\\u0430\\u043d\\u0442\\u0438\\u043c\\u043e\\u043d\\u043e\\u043f\\u043e\\u043b\\u044c\\u043d\\u044b\\u0439\",\"\\u043c\\u0430\\u0442\\u0435\\u0440\\u0438\\u0430\\u043b\",\"\\u0430\\u0440\\u043a\\u0442\\u0438\\u043a\",\"\\u0438\\u0437\\u0432\\u0435\\u0441\\u0442\\u0438\\u0435\",\"\\u0432\\u043e\\u0437\\u043c\\u043e\\u0436\\u043d\\u043e\",\"\\u0441\\u0440\\u0435\\u0434\\u0430\",\"\\u043a\\u0430\\u0441\\u0430\\u0442\\u044c\\u0441\\u044f\",\"\\u0435\\u0432\\u0440\\u043e\",\"\\u043f\\u043e\\u0440\\u0430\",\"\\u0442\\u0443\\u0440\\u0435\\u0446\\u043a\\u0438\\u0439\",\"\\u0430\\u0443\\u043a\\u0446\\u0438\\u043e\\u043d\",\"\\u0430\\u043a\\u0442\\u0438\\u0432\\u043d\\u043e\\u0441\\u0442\\u044c\",\"\\u0442\\u043e\\u043f\\u043c\\u0435\\u043d\\u0435\\u0434\\u0436\\u0435\\u0440\",\"\\u0440\\u0430\\u043d\\u043d\\u0438\\u0439\",\"reuters\",\"\\u0441\\u0446\\u0435\\u043d\\u0430\\u0440\\u0438\\u0439\",\"\\u043f\\u0440\\u0438\\u0442\\u043e\\u043a\",\"\\u043d\\u0430\\u0431\\u043b\\u044e\\u0434\\u0430\\u0442\\u0435\\u043b\\u044c\\u043d\\u044b\\u0439\",\"\\u0437\\u0430\\u043f\\u0430\\u0434\\u043d\\u044b\\u0439\",\"\\u0441\\u0435\\u0432\\u0435\\u0440\\u0441\\u0442\\u0430\\u043b\\u044c\",\"\\u043e\\u0431\\u0441\\u043b\\u0443\\u0436\\u0438\\u0432\\u0430\\u043d\\u0438\\u0435\",\"\\u0437\\u0430\\u043b\\u043e\\u0433\",\"\\u043f\\u0435\\u0440\\u0435\\u0445\\u043e\\u0434\",\"\\u043e\\u0431\\u0441\\u0443\\u0436\\u0434\\u0435\\u043d\\u0438\\u0435\",\"\\u043f\\u0440\\u0438\\u043b\\u043e\\u0436\\u0435\\u043d\\u0438\\u0435\",\"\\u0438\\u043d\\u0438\\u0446\\u0438\\u0430\\u0442\\u0438\\u0432\\u0430\",\"\\u043e\\u0431\\u0435\\u0441\\u043f\\u0435\\u0447\\u0435\\u043d\\u0438\\u0435\",\"\\u043e\\u0441\\u043d\\u043e\\u0432\\u0430\",\"\\u0443\\u043a\\u0430\\u0437\\u044b\\u0432\\u0430\\u0442\\u044c\",\"\\u0432\\u044b\\u044f\\u0441\\u043d\\u0438\\u0442\\u044c\",\"\\u043e\\u043f\\u0430\\u0441\\u0430\\u0442\\u044c\\u0441\\u044f\",\"\\u043f\\u0440\\u0438\\u0432\\u043b\\u0435\\u043a\\u0430\\u0442\\u0435\\u043b\\u044c\\u043d\\u044b\\u0439\",\"\\u0441\\u043e\\u0445\\u0440\\u0430\\u043d\\u044f\\u0442\\u044c\",\"\\u043f\\u0440\\u043e\\u0441\\u0440\\u043e\\u0447\\u0438\\u0442\\u044c\",\"\\u0441\\u043f\\u043e\\u0441\\u043e\\u0431\\u0441\\u0442\\u0432\\u043e\\u0432\\u0430\\u0442\\u044c\",\"\\u0432\\u0435\\u0440\\u043d\\u0443\\u0442\\u044c\",\"\\u043e\\u0442\\u0442\\u043e\\u043a\",\"\\u0437\\u0430\\u0432\\u0435\\u0440\\u0448\\u0435\\u043d\\u0438\\u0435\",\"\\u0432\\u0430\\u0436\\u043d\\u044b\\u0439\",\"\\u043b\\u0438\\u043d\\u0438\\u044f\",\"\\u043e\\u0442\\u043a\\u0430\\u0437\",\"\\u0432\\u044b\\u0445\\u043e\\u0434\\u0438\\u0442\\u044c\",\"\\u0434\\u043e\\u0440\\u043e\\u0433\\u043e\\u0439\",\"\\u0446\\u0435\\u043d\\u0442\\u0440\\u043e\\u0431\\u0430\\u043d\\u043a\",\"\\u0437\\u043d\\u0430\\u043a\\u043e\\u043c\\u044b\\u0439\",\"\\u043f\\u0443\\u0431\\u043b\\u0438\\u0447\\u043d\\u044b\\u0439\",\"\\u043f\\u0435\\u0440\\u0435\\u0434\\u0430\\u0447\\u0430\",\"\\u043e\\u0431\\u0441\\u0443\\u0436\\u0434\\u0430\\u0442\\u044c\\u0441\\u044f\",\"\\u0432\\u044b\\u043c\\u043f\\u0435\\u043b\\u043a\\u043e\\u043c\",\"\\u0430\\u0440\\u0435\\u0441\\u0442\",\"\\u043c\\u043e\\u0434\\u0435\\u0440\\u043d\\u0438\\u0437\\u0430\\u0446\\u0438\\u044f\",\"\\u0440\\u0430\\u0437\\u043b\\u0438\\u0447\\u043d\\u044b\\u0439\",\"\\u043d\\u0430\\u043c\\u0435\\u0440\\u0435\\u043d\\u043d\\u044b\\u0439\",\"\\u043b\\u0438\\u043a\\u0432\\u0438\\u0434\\u043d\\u043e\\u0441\\u0442\\u044c\",\"\\u0440\\u0435\\u0430\\u043b\\u0438\\u0437\\u043e\\u0432\\u0430\\u0442\\u044c\",\"\\u0432\\u044b\\u043f\\u0443\\u0441\\u0442\\u0438\\u0442\\u044c\",\"\\u043a\\u0443\\u0431\\u043e\\u043c\\u0435\\u0442\\u0440\",\"\\u0432\\u0434\\u0432\\u043e\\u0435\",\"\\u043e\\u043d\\u043b\\u0430\\u0439\\u043d\",\"\\u043d\\u0435\\u0444\\u0442\\u0435\\u0433\\u0430\\u0437\\u043e\\u0432\\u044b\\u0439\",\"\\u0437\\u0430\\u043f\\u0440\\u0435\\u0442\",\"\\u043d\\u0443\\u0436\\u043d\\u044b\\u0439\",\"\\u0432\\u0437\\u044f\\u0442\\u044c\",\"\\u0433\\u043e\\u0441\\u043f\\u043e\\u0434\\u0438\\u043d\",\"\\u0431\\u0430\\u0448\\u043d\\u0435\\u0444\\u0442\\u044c\",\"\\u0437\\u043d\\u0430\\u0447\\u0438\\u0442\\u0435\\u043b\\u044c\\u043d\\u043e\",\"\\u0444\\u0438\\u0437\\u043b\\u0438\\u0446\\u043e\",\"\\u043f\\u0435\\u0440\\u0435\\u0441\\u043c\\u043e\\u0442\\u0440\"]]]}}},\"view\":{\"type\":\"object\",\"name\":\"CDSView\",\"id\":\"p1565\",\"attributes\":{\"filter\":{\"type\":\"object\",\"name\":\"AllIndices\",\"id\":\"p1566\"}}},\"glyph\":{\"type\":\"object\",\"name\":\"Scatter\",\"id\":\"p1561\",\"attributes\":{\"x\":{\"type\":\"field\",\"field\":\"x1\"},\"y\":{\"type\":\"field\",\"field\":\"x2\"},\"size\":{\"type\":\"value\",\"value\":8},\"line_color\":{\"type\":\"value\",\"value\":\"#1f77b4\"},\"fill_color\":{\"type\":\"value\",\"value\":\"#1f77b4\"}}},\"nonselection_glyph\":{\"type\":\"object\",\"name\":\"Scatter\",\"id\":\"p1562\",\"attributes\":{\"x\":{\"type\":\"field\",\"field\":\"x1\"},\"y\":{\"type\":\"field\",\"field\":\"x2\"},\"size\":{\"type\":\"value\",\"value\":8},\"line_color\":{\"type\":\"value\",\"value\":\"#1f77b4\"},\"line_alpha\":{\"type\":\"value\",\"value\":0.1},\"fill_color\":{\"type\":\"value\",\"value\":\"#1f77b4\"},\"fill_alpha\":{\"type\":\"value\",\"value\":0.1},\"hatch_alpha\":{\"type\":\"value\",\"value\":0.1}}},\"muted_glyph\":{\"type\":\"object\",\"name\":\"Scatter\",\"id\":\"p1563\",\"attributes\":{\"x\":{\"type\":\"field\",\"field\":\"x1\"},\"y\":{\"type\":\"field\",\"field\":\"x2\"},\"size\":{\"type\":\"value\",\"value\":8},\"line_color\":{\"type\":\"value\",\"value\":\"#1f77b4\"},\"line_alpha\":{\"type\":\"value\",\"value\":0.2},\"fill_color\":{\"type\":\"value\",\"value\":\"#1f77b4\"},\"fill_alpha\":{\"type\":\"value\",\"value\":0.2},\"hatch_alpha\":{\"type\":\"value\",\"value\":0.2}}}}}],\"toolbar\":{\"type\":\"object\",\"name\":\"Toolbar\",\"id\":\"p1538\",\"attributes\":{\"tools\":[{\"type\":\"object\",\"name\":\"PanTool\",\"id\":\"p1551\"},{\"type\":\"object\",\"name\":\"WheelZoomTool\",\"id\":\"p1552\",\"attributes\":{\"renderers\":\"auto\"}},{\"type\":\"object\",\"name\":\"ResetTool\",\"id\":\"p1553\"},{\"type\":\"object\",\"name\":\"SaveTool\",\"id\":\"p1554\"}]}},\"toolbar_location\":\"above\",\"left\":[{\"type\":\"object\",\"name\":\"LinearAxis\",\"id\":\"p1546\",\"attributes\":{\"ticker\":{\"type\":\"object\",\"name\":\"BasicTicker\",\"id\":\"p1547\",\"attributes\":{\"mantissas\":[1,2,5]}},\"formatter\":{\"type\":\"object\",\"name\":\"BasicTickFormatter\",\"id\":\"p1548\"},\"major_label_policy\":{\"type\":\"object\",\"name\":\"AllLabels\",\"id\":\"p1549\"}}}],\"below\":[{\"type\":\"object\",\"name\":\"LinearAxis\",\"id\":\"p1541\",\"attributes\":{\"ticker\":{\"type\":\"object\",\"name\":\"BasicTicker\",\"id\":\"p1542\",\"attributes\":{\"mantissas\":[1,2,5]}},\"formatter\":{\"type\":\"object\",\"name\":\"BasicTickFormatter\",\"id\":\"p1543\"},\"major_label_policy\":{\"type\":\"object\",\"name\":\"AllLabels\",\"id\":\"p1544\"}}}],\"center\":[{\"type\":\"object\",\"name\":\"Grid\",\"id\":\"p1545\",\"attributes\":{\"axis\":{\"id\":\"p1541\"}}},{\"type\":\"object\",\"name\":\"Grid\",\"id\":\"p1550\",\"attributes\":{\"dimension\":1,\"axis\":{\"id\":\"p1546\"}}},{\"type\":\"object\",\"name\":\"LabelSet\",\"id\":\"p1567\",\"attributes\":{\"source\":{\"id\":\"p1555\"},\"x\":{\"type\":\"field\",\"field\":\"x1\"},\"y\":{\"type\":\"field\",\"field\":\"x2\"},\"text\":{\"type\":\"field\",\"field\":\"names\"},\"y_offset\":{\"type\":\"value\",\"value\":6},\"text_color\":{\"type\":\"value\",\"value\":\"#555555\"},\"text_font_size\":{\"type\":\"value\",\"value\":\"8pt\"},\"text_align\":{\"type\":\"value\",\"value\":\"center\"}}}]}}]}};\n",
       "  const render_items = [{\"docid\":\"eab9530c-60de-48fc-acc7-b1f66528d0b7\",\"roots\":{\"p1529\":\"e878368d-69e8-4675-92cb-57fbfc20f086\"},\"root_ids\":[\"p1529\"]}];\n",
       "  root.Bokeh.embed.embed_items_notebook(docs_json, render_items);\n",
       "  }\n",
       "  if (root.Bokeh !== undefined) {\n",
       "    embed_document(root);\n",
       "  } else {\n",
       "    var attempts = 0;\n",
       "    var timer = setInterval(function(root) {\n",
       "      if (root.Bokeh !== undefined) {\n",
       "        embed_document(root);\n",
       "        clearInterval(timer);\n",
       "      }\n",
       "      attempts++;\n",
       "      if (attempts > 100) {\n",
       "        console.log(\"Bokeh: ERROR: Unable to run BokehJS code because BokehJS library is missing\")\n",
       "        clearInterval(timer);\n",
       "      }\n",
       "    }, 10, root)\n",
       "  }\n",
       "})(window);"
      ],
      "application/vnd.bokehjs_exec.v0+json": ""
     },
     "metadata": {
      "application/vnd.bokehjs_exec.v0+json": {
       "id": "p1529"
      }
     },
     "output_type": "display_data"
    }
   ],
   "source": [
    "# output_notebook()\n",
    "\n",
    "p = figure(tools=\"pan,wheel_zoom,reset,save\",\n",
    "           toolbar_location=\"above\",\n",
    "           title=\"word2vec T-SNE (eng model, top1000 words, +SVD)\")\n",
    "\n",
    "source = ColumnDataSource(data=dict(x1=top_words_tsne2[:,0],\n",
    "                                    x2=top_words_tsne2[:,1],\n",
    "                                    names=top_words1))\n",
    "\n",
    "p.scatter(x=\"x1\", y=\"x2\", size=8, source=source)\n",
    "\n",
    "labels = LabelSet(x=\"x1\", y=\"x2\", text=\"names\", y_offset=6,\n",
    "                  text_font_size=\"8pt\", text_color=\"#555555\",\n",
    "                  source=source, text_align='center')\n",
    "p.add_layout(labels)\n",
    "\n",
    "show(p)"
   ]
  },
  {
   "cell_type": "code",
   "execution_count": 92,
   "id": "2c2e8960",
   "metadata": {},
   "outputs": [],
   "source": [
    "import matplotlib.pyplot as plt\n",
    "import seaborn as sns\n",
    "from sklearn.manifold import TSNE\n",
    "\n",
    "def tsne_scatterplot(model, word, list_names):\n",
    "    \"\"\"Plot in seaborn the results from the t-SNE dimensionality reduction \n",
    "    algorithm of the vectors of a query word,\n",
    "    its list of most similar words, and a list of words.\"\"\"\n",
    "    e = r'{}\\w+'.format(word)\n",
    "    prog = re.compile(e)\n",
    "    r = re.search(prog, xxx)\n",
    "    word = r.group(0)\n",
    "    try:\n",
    "        vectors_words = [model.word_vec(word)]\n",
    "        word_labels = [word]\n",
    "        color_list = ['red']\n",
    "        close_words = model.most_similar(word)\n",
    "    except:\n",
    "        pass\n",
    "    for wrd_score in close_words:\n",
    "        wrd_vector = model.word_vec(wrd_score[0])\n",
    "        vectors_words.append(wrd_vector)\n",
    "        word_labels.append(wrd_score[0])\n",
    "        color_list.append('blue')\n",
    "    # adds the vector for each of the words from list_names to the array\n",
    "    for wrd in list_names:\n",
    "        try:\n",
    "            wrd_vector = model.word_vec(wrd)\n",
    "            vectors_words.append(wrd_vector)\n",
    "            word_labels.append(wrd)\n",
    "            color_list.append('green')\n",
    "        except:\n",
    "                pass\n",
    "    # t-SNE reduction\n",
    "    Y = (TSNE(n_components=2, random_state=0, perplexity=15, init=\"pca\")\n",
    "        .fit_transform(vectors_words))\n",
    "    # Sets everything up to plot\n",
    "    df = pd.DataFrame({\"x\": [x for x in Y[:, 0]],\n",
    "                    \"y\": [y for y in Y[:, 1]],\n",
    "                    \"words\": word_labels,\n",
    "                    \"color\": color_list})\n",
    "    fig, _ = plt.subplots()\n",
    "    fig.set_size_inches(9, 9)\n",
    "    # Basic plot\n",
    "    p1 = sns.regplot(data=df,\n",
    "                    x=\"x\",\n",
    "                    y=\"y\",\n",
    "                    fit_reg=False,\n",
    "                    marker=\"o\",\n",
    "                    scatter_kws={\"s\": 40,\n",
    "                                \"facecolors\": df[\"color\"]}\n",
    "    )\n",
    "    # Adds annotations one by one with a loop\n",
    "    for line in range(0, df.shape[0]):\n",
    "        p1.text(df[\"x\"][line],\n",
    "                df[\"y\"][line],\n",
    "                \" \" + df[\"words\"][line].title(),\n",
    "                horizontalalignment=\"left\",\n",
    "                verticalalignment=\"bottom\", size=\"medium\",\n",
    "                color=df[\"color\"][line],\n",
    "                weight=\"normal\"\n",
    "        ).set_size(15)\n",
    "    plt.xlim(Y[:, 0].min()-50, Y[:, 0].max()+50)\n",
    "    plt.ylim(Y[:, 1].min()-50, Y[:, 1].max()+50)\n",
    "    plt.title('t-SNE visualization for {}'.format(word.title()))"
   ]
  },
  {
   "cell_type": "code",
   "execution_count": 93,
   "id": "f30e2784",
   "metadata": {},
   "outputs": [
    {
     "data": {
      "image/png": "[encoded data removed]",
      "text/plain": [
       "<Figure size 648x648 with 1 Axes>"
      ]
     },
     "metadata": {
      "needs_background": "light"
     },
     "output_type": "display_data"
    }
   ],
   "source": [
    "tsne_scatterplot(embeddings, \"история\", top_words1)"
   ]
  },
  {
   "cell_type": "markdown",
   "id": "487e049a",
   "metadata": {},
   "source": [
    "# FastText"
   ]
  },
  {
   "cell_type": "markdown",
   "id": "582bcd25",
   "metadata": {},
   "source": [
    "https://www.kaggle.com/code/hongpeiyi/text-classification-with-fasttext\n",
    "https://colab.research.google.com/github/PragmaticsLab/NLP-course-FinTech/blob/master/seminars/2/2_embeddings.ipynb#scrollTo=s-IW_cBDX-sp"
   ]
  },
  {
   "cell_type": "markdown",
   "id": "866beb5b",
   "metadata": {},
   "source": [
    "https://rukshanjayasekara.wordpress.com/2022/05/13/text-classification-with-fasttext/\n",
    "https://colab.research.google.com/github/NaiveNeuron/nlp-excercises/blob/master/tutorial2-fasttext/Text_Classification_fastText.ipynb\n",
    "https://rukshanjayasekara.wordpress.com/2022/05/13/text-classification-with-fasttext/"
   ]
  },
  {
   "cell_type": "code",
   "execution_count": 19,
   "id": "e9683b5f",
   "metadata": {},
   "outputs": [
    {
     "data": {
      "text/html": [
       "<div>\n",
       "<style scoped>\n",
       "    .dataframe tbody tr th:only-of-type {\n",
       "        vertical-align: middle;\n",
       "    }\n",
       "\n",
       "    .dataframe tbody tr th {\n",
       "        vertical-align: top;\n",
       "    }\n",
       "\n",
       "    .dataframe thead th {\n",
       "        text-align: right;\n",
       "    }\n",
       "</style>\n",
       "<table border=\"1\" class=\"dataframe\">\n",
       "  <thead>\n",
       "    <tr style=\"text-align: right;\">\n",
       "      <th></th>\n",
       "      <th>text</th>\n",
       "      <th>TargetClass</th>\n",
       "    </tr>\n",
       "  </thead>\n",
       "  <tbody>\n",
       "    <tr>\n",
       "      <th>0</th>\n",
       "      <td>Сегодня у нас проходит т.н. гайдаровский форум...</td>\n",
       "      <td>1</td>\n",
       "    </tr>\n",
       "    <tr>\n",
       "      <th>1</th>\n",
       "      <td>Сбер представил отчет по РСБУ. Вклады населени...</td>\n",
       "      <td>0</td>\n",
       "    </tr>\n",
       "    <tr>\n",
       "      <th>2</th>\n",
       "      <td>Мы будем предлагатьсказал Улюкаев.  Чтобы прив...</td>\n",
       "      <td>0</td>\n",
       "    </tr>\n",
       "    <tr>\n",
       "      <th>3</th>\n",
       "      <td>Здравствуйте, сегодня наткнулся на ткую новост...</td>\n",
       "      <td>0</td>\n",
       "    </tr>\n",
       "    <tr>\n",
       "      <th>4</th>\n",
       "      <td>Коммерсант сегодня написал, что Керимов хочет ...</td>\n",
       "      <td>1</td>\n",
       "    </tr>\n",
       "    <tr>\n",
       "      <th>...</th>\n",
       "      <td>...</td>\n",
       "      <td>...</td>\n",
       "    </tr>\n",
       "    <tr>\n",
       "      <th>1460</th>\n",
       "      <td>Сбербанк отмечает улучшение ситуации с реструк...</td>\n",
       "      <td>0</td>\n",
       "    </tr>\n",
       "    <tr>\n",
       "      <th>1461</th>\n",
       "      <td>Правительство России распространило действие п...</td>\n",
       "      <td>1</td>\n",
       "    </tr>\n",
       "    <tr>\n",
       "      <th>1462</th>\n",
       "      <td>Совкомбанк занимает 8 место по активам среди р...</td>\n",
       "      <td>0</td>\n",
       "    </tr>\n",
       "    <tr>\n",
       "      <th>1463</th>\n",
       "      <td>Правительство принимает «некоторые меры» для п...</td>\n",
       "      <td>0</td>\n",
       "    </tr>\n",
       "    <tr>\n",
       "      <th>1464</th>\n",
       "      <td>Российские банки выдадут ипотечных кредитов по...</td>\n",
       "      <td>0</td>\n",
       "    </tr>\n",
       "  </tbody>\n",
       "</table>\n",
       "<p>1465 rows × 2 columns</p>\n",
       "</div>"
      ],
      "text/plain": [
       "                                                   text  TargetClass\n",
       "0     Сегодня у нас проходит т.н. гайдаровский форум...            1\n",
       "1     Сбер представил отчет по РСБУ. Вклады населени...            0\n",
       "2     Мы будем предлагатьсказал Улюкаев.  Чтобы прив...            0\n",
       "3     Здравствуйте, сегодня наткнулся на ткую новост...            0\n",
       "4     Коммерсант сегодня написал, что Керимов хочет ...            1\n",
       "...                                                 ...          ...\n",
       "1460  Сбербанк отмечает улучшение ситуации с реструк...            0\n",
       "1461  Правительство России распространило действие п...            1\n",
       "1462  Совкомбанк занимает 8 место по активам среди р...            0\n",
       "1463  Правительство принимает «некоторые меры» для п...            0\n",
       "1464  Российские банки выдадут ипотечных кредитов по...            0\n",
       "\n",
       "[1465 rows x 2 columns]"
      ]
     },
     "execution_count": 19,
     "metadata": {},
     "output_type": "execute_result"
    }
   ],
   "source": [
    "df"
   ]
  },
  {
   "cell_type": "code",
   "execution_count": 20,
   "id": "6ecb9fa3",
   "metadata": {},
   "outputs": [
    {
     "data": {
      "text/plain": [
       "1    743\n",
       "0    722\n",
       "Name: TargetClass, dtype: int64"
      ]
     },
     "execution_count": 20,
     "metadata": {},
     "output_type": "execute_result"
    }
   ],
   "source": [
    "df['TargetClass'].value_counts()"
   ]
  },
  {
   "cell_type": "code",
   "execution_count": 21,
   "id": "ea2ad9f7",
   "metadata": {},
   "outputs": [],
   "source": [
    "# Lets do some cleaning of this text\n",
    "def clean_it(text,normalize=True):\n",
    "    # Replacing possible issues with data. We can add or reduce the replacemtent in this chain\n",
    "    s = str(text).replace(',',' ').replace('\"','').replace('\\'',' \\' ').replace('.',' . ').replace('(',' ( ').\\\n",
    "            replace(')',' ) ').replace('!',' ! ').replace('?',' ? ').replace(':',' ').replace(';',' ').lower()\n",
    "    \n",
    "    s = re.sub(r'http\\S+', '', s)\n",
    "    s = s.replace(u'\\xa0', u' ')\n",
    "    regex = re.compile('[%s]' % re.escape(string.punctuation))\n",
    "    s = regex.sub(' ', s)\n",
    "    s = re.sub(r'\\s+', ' ', s)\n",
    "\n",
    "    # normalizing / encoding the text\n",
    "    if normalize:\n",
    "        s = s.normalize('NFKD').str.encode('ascii','ignore').str.decode('utf-8')\n",
    "\n",
    "    return s\n",
    "\n",
    "# Now lets define a small function where we can use above cleaning on datasets\n",
    "def clean_df(data, cleanit= False, shuffleit=False, encodeit=False, label_prefix='__class__'):\n",
    "    # Defining the new data\n",
    "    df = data.copy(deep=True)\n",
    "    df['class'] = label_prefix + df['TargetClass'].astype(str) + ' '\n",
    "\n",
    "    # cleaning it\n",
    "    if cleanit:\n",
    "        df['text'] = df['text'].apply(lambda x: clean_it(x,encodeit))\n",
    "#         df['id'] = df['id'].apply(lambda x: clean_it(x,encodeit))\n",
    "\n",
    "    # shuffling it\n",
    "    if shuffleit:\n",
    "        df.sample(frac=1).reset_index(drop=True)\n",
    "\n",
    "    return df"
   ]
  },
  {
   "cell_type": "code",
   "execution_count": 22,
   "id": "d15823c0",
   "metadata": {},
   "outputs": [
    {
     "name": "stdout",
     "output_type": "stream",
     "text": [
      "CPU times: total: 297 ms\n",
      "Wall time: 297 ms\n"
     ]
    }
   ],
   "source": [
    "%%time\n",
    "# Transform the datasets using the above clean functions\n",
    "data_train_cleaned = clean_df(df, True, True)"
   ]
  },
  {
   "cell_type": "code",
   "execution_count": 23,
   "id": "2171e3ac",
   "metadata": {},
   "outputs": [
    {
     "data": {
      "text/html": [
       "<div>\n",
       "<style scoped>\n",
       "    .dataframe tbody tr th:only-of-type {\n",
       "        vertical-align: middle;\n",
       "    }\n",
       "\n",
       "    .dataframe tbody tr th {\n",
       "        vertical-align: top;\n",
       "    }\n",
       "\n",
       "    .dataframe thead th {\n",
       "        text-align: right;\n",
       "    }\n",
       "</style>\n",
       "<table border=\"1\" class=\"dataframe\">\n",
       "  <thead>\n",
       "    <tr style=\"text-align: right;\">\n",
       "      <th></th>\n",
       "      <th>text</th>\n",
       "      <th>TargetClass</th>\n",
       "      <th>class</th>\n",
       "    </tr>\n",
       "  </thead>\n",
       "  <tbody>\n",
       "    <tr>\n",
       "      <th>0</th>\n",
       "      <td>сегодня у нас проходит т н гайдаровский форум ...</td>\n",
       "      <td>1</td>\n",
       "      <td>__class__1</td>\n",
       "    </tr>\n",
       "    <tr>\n",
       "      <th>1</th>\n",
       "      <td>сбер представил отчет по рсбу вклады населения...</td>\n",
       "      <td>0</td>\n",
       "      <td>__class__0</td>\n",
       "    </tr>\n",
       "    <tr>\n",
       "      <th>2</th>\n",
       "      <td>мы будем предлагатьсказал улюкаев чтобы приват...</td>\n",
       "      <td>0</td>\n",
       "      <td>__class__0</td>\n",
       "    </tr>\n",
       "    <tr>\n",
       "      <th>3</th>\n",
       "      <td>здравствуйте сегодня наткнулся на ткую новость...</td>\n",
       "      <td>0</td>\n",
       "      <td>__class__0</td>\n",
       "    </tr>\n",
       "    <tr>\n",
       "      <th>4</th>\n",
       "      <td>коммерсант сегодня написал что керимов хочет о...</td>\n",
       "      <td>1</td>\n",
       "      <td>__class__1</td>\n",
       "    </tr>\n",
       "    <tr>\n",
       "      <th>...</th>\n",
       "      <td>...</td>\n",
       "      <td>...</td>\n",
       "      <td>...</td>\n",
       "    </tr>\n",
       "    <tr>\n",
       "      <th>1460</th>\n",
       "      <td>сбербанк отмечает улучшение ситуации с реструк...</td>\n",
       "      <td>0</td>\n",
       "      <td>__class__0</td>\n",
       "    </tr>\n",
       "    <tr>\n",
       "      <th>1461</th>\n",
       "      <td>правительство россии распространило действие п...</td>\n",
       "      <td>1</td>\n",
       "      <td>__class__1</td>\n",
       "    </tr>\n",
       "    <tr>\n",
       "      <th>1462</th>\n",
       "      <td>совкомбанк занимает 8 место по активам среди р...</td>\n",
       "      <td>0</td>\n",
       "      <td>__class__0</td>\n",
       "    </tr>\n",
       "    <tr>\n",
       "      <th>1463</th>\n",
       "      <td>правительство принимает «некоторые меры» для п...</td>\n",
       "      <td>0</td>\n",
       "      <td>__class__0</td>\n",
       "    </tr>\n",
       "    <tr>\n",
       "      <th>1464</th>\n",
       "      <td>российские банки выдадут ипотечных кредитов по...</td>\n",
       "      <td>0</td>\n",
       "      <td>__class__0</td>\n",
       "    </tr>\n",
       "  </tbody>\n",
       "</table>\n",
       "<p>1465 rows × 3 columns</p>\n",
       "</div>"
      ],
      "text/plain": [
       "                                                   text  TargetClass  \\\n",
       "0     сегодня у нас проходит т н гайдаровский форум ...            1   \n",
       "1     сбер представил отчет по рсбу вклады населения...            0   \n",
       "2     мы будем предлагатьсказал улюкаев чтобы приват...            0   \n",
       "3     здравствуйте сегодня наткнулся на ткую новость...            0   \n",
       "4     коммерсант сегодня написал что керимов хочет о...            1   \n",
       "...                                                 ...          ...   \n",
       "1460  сбербанк отмечает улучшение ситуации с реструк...            0   \n",
       "1461  правительство россии распространило действие п...            1   \n",
       "1462  совкомбанк занимает 8 место по активам среди р...            0   \n",
       "1463  правительство принимает «некоторые меры» для п...            0   \n",
       "1464  российские банки выдадут ипотечных кредитов по...            0   \n",
       "\n",
       "            class  \n",
       "0     __class__1   \n",
       "1     __class__0   \n",
       "2     __class__0   \n",
       "3     __class__0   \n",
       "4     __class__1   \n",
       "...           ...  \n",
       "1460  __class__0   \n",
       "1461  __class__1   \n",
       "1462  __class__0   \n",
       "1463  __class__0   \n",
       "1464  __class__0   \n",
       "\n",
       "[1465 rows x 3 columns]"
      ]
     },
     "execution_count": 23,
     "metadata": {},
     "output_type": "execute_result"
    }
   ],
   "source": [
    "data_train_cleaned"
   ]
  },
  {
   "cell_type": "code",
   "execution_count": 24,
   "id": "ba1ffc2f",
   "metadata": {},
   "outputs": [
    {
     "data": {
      "text/html": [
       "<div>\n",
       "<style scoped>\n",
       "    .dataframe tbody tr th:only-of-type {\n",
       "        vertical-align: middle;\n",
       "    }\n",
       "\n",
       "    .dataframe tbody tr th {\n",
       "        vertical-align: top;\n",
       "    }\n",
       "\n",
       "    .dataframe thead th {\n",
       "        text-align: right;\n",
       "    }\n",
       "</style>\n",
       "<table border=\"1\" class=\"dataframe\">\n",
       "  <thead>\n",
       "    <tr style=\"text-align: right;\">\n",
       "      <th></th>\n",
       "      <th>class</th>\n",
       "      <th>text</th>\n",
       "    </tr>\n",
       "  </thead>\n",
       "  <tbody>\n",
       "    <tr>\n",
       "      <th>0</th>\n",
       "      <td>__class__1</td>\n",
       "      <td>сегодня у нас проходит т н гайдаровский форум ...</td>\n",
       "    </tr>\n",
       "    <tr>\n",
       "      <th>1</th>\n",
       "      <td>__class__0</td>\n",
       "      <td>сбер представил отчет по рсбу вклады населения...</td>\n",
       "    </tr>\n",
       "    <tr>\n",
       "      <th>2</th>\n",
       "      <td>__class__0</td>\n",
       "      <td>мы будем предлагатьсказал улюкаев чтобы приват...</td>\n",
       "    </tr>\n",
       "    <tr>\n",
       "      <th>3</th>\n",
       "      <td>__class__0</td>\n",
       "      <td>здравствуйте сегодня наткнулся на ткую новость...</td>\n",
       "    </tr>\n",
       "    <tr>\n",
       "      <th>4</th>\n",
       "      <td>__class__1</td>\n",
       "      <td>коммерсант сегодня написал что керимов хочет о...</td>\n",
       "    </tr>\n",
       "    <tr>\n",
       "      <th>...</th>\n",
       "      <td>...</td>\n",
       "      <td>...</td>\n",
       "    </tr>\n",
       "    <tr>\n",
       "      <th>1460</th>\n",
       "      <td>__class__0</td>\n",
       "      <td>сбербанк отмечает улучшение ситуации с реструк...</td>\n",
       "    </tr>\n",
       "    <tr>\n",
       "      <th>1461</th>\n",
       "      <td>__class__1</td>\n",
       "      <td>правительство россии распространило действие п...</td>\n",
       "    </tr>\n",
       "    <tr>\n",
       "      <th>1462</th>\n",
       "      <td>__class__0</td>\n",
       "      <td>совкомбанк занимает 8 место по активам среди р...</td>\n",
       "    </tr>\n",
       "    <tr>\n",
       "      <th>1463</th>\n",
       "      <td>__class__0</td>\n",
       "      <td>правительство принимает «некоторые меры» для п...</td>\n",
       "    </tr>\n",
       "    <tr>\n",
       "      <th>1464</th>\n",
       "      <td>__class__0</td>\n",
       "      <td>российские банки выдадут ипотечных кредитов по...</td>\n",
       "    </tr>\n",
       "  </tbody>\n",
       "</table>\n",
       "<p>1465 rows × 2 columns</p>\n",
       "</div>"
      ],
      "text/plain": [
       "            class                                               text\n",
       "0     __class__1   сегодня у нас проходит т н гайдаровский форум ...\n",
       "1     __class__0   сбер представил отчет по рсбу вклады населения...\n",
       "2     __class__0   мы будем предлагатьсказал улюкаев чтобы приват...\n",
       "3     __class__0   здравствуйте сегодня наткнулся на ткую новость...\n",
       "4     __class__1   коммерсант сегодня написал что керимов хочет о...\n",
       "...           ...                                                ...\n",
       "1460  __class__0   сбербанк отмечает улучшение ситуации с реструк...\n",
       "1461  __class__1   правительство россии распространило действие п...\n",
       "1462  __class__0   совкомбанк занимает 8 место по активам среди р...\n",
       "1463  __class__0   правительство принимает «некоторые меры» для п...\n",
       "1464  __class__0   российские банки выдадут ипотечных кредитов по...\n",
       "\n",
       "[1465 rows x 2 columns]"
      ]
     },
     "execution_count": 24,
     "metadata": {},
     "output_type": "execute_result"
    }
   ],
   "source": [
    "data_train_cleaned = data_train_cleaned[['class', 'text']]\n",
    "data_train_cleaned"
   ]
  },
  {
   "cell_type": "code",
   "execution_count": 25,
   "id": "82b00b7e",
   "metadata": {},
   "outputs": [
    {
     "data": {
      "text/plain": [
       "((1172, 1), (293, 1), (1172,), (293,))"
      ]
     },
     "execution_count": 25,
     "metadata": {},
     "output_type": "execute_result"
    }
   ],
   "source": [
    "X_train, X_test, y_train, y_test= train_test_split(data_train_cleaned.drop(['class'], axis=1), data_train_cleaned['class'], test_size = 0.2, random_state = 42)\n",
    "X_train.shape, X_test.shape, y_train.shape, y_test.shape"
   ]
  },
  {
   "cell_type": "code",
   "execution_count": 26,
   "id": "81869594",
   "metadata": {},
   "outputs": [
    {
     "data": {
      "text/html": [
       "<div>\n",
       "<style scoped>\n",
       "    .dataframe tbody tr th:only-of-type {\n",
       "        vertical-align: middle;\n",
       "    }\n",
       "\n",
       "    .dataframe tbody tr th {\n",
       "        vertical-align: top;\n",
       "    }\n",
       "\n",
       "    .dataframe thead th {\n",
       "        text-align: right;\n",
       "    }\n",
       "</style>\n",
       "<table border=\"1\" class=\"dataframe\">\n",
       "  <thead>\n",
       "    <tr style=\"text-align: right;\">\n",
       "      <th></th>\n",
       "      <th>class</th>\n",
       "      <th>text</th>\n",
       "    </tr>\n",
       "  </thead>\n",
       "  <tbody>\n",
       "    <tr>\n",
       "      <th>0</th>\n",
       "      <td>__class__0</td>\n",
       "      <td>сбербанк не поддержал введение института небан...</td>\n",
       "    </tr>\n",
       "    <tr>\n",
       "      <th>1</th>\n",
       "      <td>__class__0</td>\n",
       "      <td>цб рф не исключает повышения прогноза по прибы...</td>\n",
       "    </tr>\n",
       "    <tr>\n",
       "      <th>2</th>\n",
       "      <td>__class__1</td>\n",
       "      <td>к середине дня индекс мосбиржи торговался вбли...</td>\n",
       "    </tr>\n",
       "    <tr>\n",
       "      <th>3</th>\n",
       "      <td>__class__0</td>\n",
       "      <td>сбер вывел на рынок собственную платформу по в...</td>\n",
       "    </tr>\n",
       "    <tr>\n",
       "      <th>4</th>\n",
       "      <td>__class__0</td>\n",
       "      <td>автокредиты в октябре оказались самым депресси...</td>\n",
       "    </tr>\n",
       "    <tr>\n",
       "      <th>...</th>\n",
       "      <td>...</td>\n",
       "      <td>...</td>\n",
       "    </tr>\n",
       "    <tr>\n",
       "      <th>1167</th>\n",
       "      <td>__class__0</td>\n",
       "      <td>контракт «газпрома» с украиной может развалить...</td>\n",
       "    </tr>\n",
       "    <tr>\n",
       "      <th>1168</th>\n",
       "      <td>__class__1</td>\n",
       "      <td>сервис доставки продуктов «сбермаркет» перерег...</td>\n",
       "    </tr>\n",
       "    <tr>\n",
       "      <th>1169</th>\n",
       "      <td>__class__0</td>\n",
       "      <td>банк втб отчитался близко к прогнозу прибыль с...</td>\n",
       "    </tr>\n",
       "    <tr>\n",
       "      <th>1170</th>\n",
       "      <td>__class__0</td>\n",
       "      <td>«банки вернулись в хорошую форму пора думать о...</td>\n",
       "    </tr>\n",
       "    <tr>\n",
       "      <th>1171</th>\n",
       "      <td>__class__1</td>\n",
       "      <td>в соответствии с документом американского минф...</td>\n",
       "    </tr>\n",
       "  </tbody>\n",
       "</table>\n",
       "<p>1172 rows × 2 columns</p>\n",
       "</div>"
      ],
      "text/plain": [
       "            class                                               text\n",
       "0     __class__0   сбербанк не поддержал введение института небан...\n",
       "1     __class__0   цб рф не исключает повышения прогноза по прибы...\n",
       "2     __class__1   к середине дня индекс мосбиржи торговался вбли...\n",
       "3     __class__0   сбер вывел на рынок собственную платформу по в...\n",
       "4     __class__0   автокредиты в октябре оказались самым депресси...\n",
       "...           ...                                                ...\n",
       "1167  __class__0   контракт «газпрома» с украиной может развалить...\n",
       "1168  __class__1   сервис доставки продуктов «сбермаркет» перерег...\n",
       "1169  __class__0   банк втб отчитался близко к прогнозу прибыль с...\n",
       "1170  __class__0   «банки вернулись в хорошую форму пора думать о...\n",
       "1171  __class__1   в соответствии с документом американского минф...\n",
       "\n",
       "[1172 rows x 2 columns]"
      ]
     },
     "execution_count": 26,
     "metadata": {},
     "output_type": "execute_result"
    }
   ],
   "source": [
    "train = pd.concat([y_train, X_train], axis = 1).reset_index(drop=True)\n",
    "train"
   ]
  },
  {
   "cell_type": "code",
   "execution_count": 27,
   "id": "b4a8f28a",
   "metadata": {},
   "outputs": [
    {
     "data": {
      "text/html": [
       "<div>\n",
       "<style scoped>\n",
       "    .dataframe tbody tr th:only-of-type {\n",
       "        vertical-align: middle;\n",
       "    }\n",
       "\n",
       "    .dataframe tbody tr th {\n",
       "        vertical-align: top;\n",
       "    }\n",
       "\n",
       "    .dataframe thead th {\n",
       "        text-align: right;\n",
       "    }\n",
       "</style>\n",
       "<table border=\"1\" class=\"dataframe\">\n",
       "  <thead>\n",
       "    <tr style=\"text-align: right;\">\n",
       "      <th></th>\n",
       "      <th>class</th>\n",
       "      <th>text</th>\n",
       "    </tr>\n",
       "  </thead>\n",
       "  <tbody>\n",
       "    <tr>\n",
       "      <th>0</th>\n",
       "      <td>__class__1</td>\n",
       "      <td>втб управление инвестициями провела стратегиче...</td>\n",
       "    </tr>\n",
       "    <tr>\n",
       "      <th>1</th>\n",
       "      <td>__class__0</td>\n",
       "      <td>слабый рост чистых комиссий может быть компенс...</td>\n",
       "    </tr>\n",
       "    <tr>\n",
       "      <th>2</th>\n",
       "      <td>__class__0</td>\n",
       "      <td>«газпром» готов договариваться с «нафтогазом» ...</td>\n",
       "    </tr>\n",
       "    <tr>\n",
       "      <th>3</th>\n",
       "      <td>__class__1</td>\n",
       "      <td>в среду 31 июля сбербанк опубликует финансовые...</td>\n",
       "    </tr>\n",
       "    <tr>\n",
       "      <th>4</th>\n",
       "      <td>__class__1</td>\n",
       "      <td>выход глобальной экономики из «режима пандемии...</td>\n",
       "    </tr>\n",
       "    <tr>\n",
       "      <th>...</th>\n",
       "      <td>...</td>\n",
       "      <td>...</td>\n",
       "    </tr>\n",
       "    <tr>\n",
       "      <th>288</th>\n",
       "      <td>__class__0</td>\n",
       "      <td>прирост ипотечного портфеля в 2023г превысил 3...</td>\n",
       "    </tr>\n",
       "    <tr>\n",
       "      <th>289</th>\n",
       "      <td>__class__1</td>\n",
       "      <td>газообразные обещания почему новые предложения...</td>\n",
       "    </tr>\n",
       "    <tr>\n",
       "      <th>290</th>\n",
       "      <td>__class__0</td>\n",
       "      <td>мордашов заинтересовался покупкой доли в сети ...</td>\n",
       "    </tr>\n",
       "    <tr>\n",
       "      <th>291</th>\n",
       "      <td>__class__0</td>\n",
       "      <td>сбербанк планирует выкупить акции на сумму до ...</td>\n",
       "    </tr>\n",
       "    <tr>\n",
       "      <th>292</th>\n",
       "      <td>__class__0</td>\n",
       "      <td>«интер рао» осветит абхазию россия начинает по...</td>\n",
       "    </tr>\n",
       "  </tbody>\n",
       "</table>\n",
       "<p>293 rows × 2 columns</p>\n",
       "</div>"
      ],
      "text/plain": [
       "           class                                               text\n",
       "0    __class__1   втб управление инвестициями провела стратегиче...\n",
       "1    __class__0   слабый рост чистых комиссий может быть компенс...\n",
       "2    __class__0   «газпром» готов договариваться с «нафтогазом» ...\n",
       "3    __class__1   в среду 31 июля сбербанк опубликует финансовые...\n",
       "4    __class__1   выход глобальной экономики из «режима пандемии...\n",
       "..           ...                                                ...\n",
       "288  __class__0   прирост ипотечного портфеля в 2023г превысил 3...\n",
       "289  __class__1   газообразные обещания почему новые предложения...\n",
       "290  __class__0   мордашов заинтересовался покупкой доли в сети ...\n",
       "291  __class__0   сбербанк планирует выкупить акции на сумму до ...\n",
       "292  __class__0   «интер рао» осветит абхазию россия начинает по...\n",
       "\n",
       "[293 rows x 2 columns]"
      ]
     },
     "execution_count": 27,
     "metadata": {},
     "output_type": "execute_result"
    }
   ],
   "source": [
    "test = pd.concat([y_test, X_test], axis = 1).reset_index(drop=True)\n",
    "test"
   ]
  },
  {
   "cell_type": "code",
   "execution_count": 28,
   "id": "0408732b",
   "metadata": {},
   "outputs": [],
   "source": [
    "# Write files to disk as fastText classifier API reads files from disk.\n",
    "train_file =  'train.csv'\n",
    "train.to_csv(train_file, header=None, index=False, columns=['class','text'] )\n",
    "test_file =  'test.csv'\n",
    "test.to_csv(test_file, header=None, index=False, columns=['class','text'] )"
   ]
  },
  {
   "cell_type": "code",
   "execution_count": 29,
   "id": "a05780e0",
   "metadata": {},
   "outputs": [],
   "source": [
    "\"\"\"fastText expects and training file (csv), a model name as input arguments.\n",
    "label_prefix refers to the prefix before label string in the dataset.\n",
    "default is __label__. In our dataset, it is __class__.\n",
    "There are several other parameters which can be seen in:\n",
    "https://pypi.org/project/fasttext/\n",
    "\"\"\"\n",
    "model7 = train_supervised(input=train_file, label=\"__class__\", lr=1.0, epoch=100, loss='ova', wordNgrams=2, dim=200, thread=2, verbose=100)"
   ]
  },
  {
   "cell_type": "code",
   "execution_count": 30,
   "id": "b4e4fa00",
   "metadata": {},
   "outputs": [
    {
     "data": {
      "text/plain": [
       "array([ 4.70277388e-03,  3.27658211e-03,  1.17006823e-02, -2.27539744e-02,\n",
       "        1.12598483e-02,  4.20230860e-03, -5.16136969e-03, -2.78879814e-02,\n",
       "       -1.00221112e-02, -1.08292338e-03, -2.40237340e-02, -1.25146555e-02,\n",
       "        1.21126901e-02, -1.72178075e-03,  3.64310201e-03,  2.14757286e-02,\n",
       "        8.23559985e-03,  1.31368851e-02,  3.49544175e-03, -3.95038724e-03,\n",
       "        7.02214567e-03,  1.45433284e-02,  1.15804654e-03,  4.09877719e-03,\n",
       "        1.24823889e-02, -5.03262272e-03, -1.48990517e-03,  2.06843503e-02,\n",
       "        1.96168991e-03,  2.36591659e-02,  1.34989619e-02,  7.10282568e-03,\n",
       "        2.11357642e-02,  3.23739164e-02,  2.06180867e-02,  2.83607375e-02,\n",
       "       -1.24558702e-03,  1.17399124e-03,  7.74009712e-03, -8.87977052e-03,\n",
       "       -5.15351351e-03, -2.37789974e-02,  1.88095524e-04, -9.80076657e-05,\n",
       "        4.23183152e-03, -1.16634304e-02,  3.17366095e-04, -8.76651891e-03,\n",
       "       -1.77645627e-02, -2.44533774e-02,  3.33432741e-02,  7.74826296e-03,\n",
       "       -2.74966680e-03, -6.19664183e-03,  1.71607162e-03,  1.19109126e-02,\n",
       "       -1.02407520e-03,  6.18926296e-03, -3.29522043e-02, -2.79926322e-02,\n",
       "       -7.47038703e-03, -7.21929036e-03, -2.19567548e-02, -1.39691737e-02,\n",
       "        9.29049868e-03,  5.51304827e-03,  1.45488661e-02,  3.54847359e-03,\n",
       "       -1.09700607e-02,  7.84937385e-03,  1.26184877e-02,  2.47906987e-02,\n",
       "       -1.33345248e-02,  7.25398399e-03, -3.43246222e-03, -1.90919843e-02,\n",
       "       -5.46159362e-03,  3.97679163e-03, -1.37818316e-02,  4.89812577e-03,\n",
       "        1.37036331e-02, -1.84265357e-02, -6.64940896e-03, -1.66121665e-02,\n",
       "       -3.04968446e-03,  1.11673512e-02,  8.71259160e-03, -1.05124209e-02,\n",
       "        9.88370646e-03,  1.57674793e-02,  1.40829303e-03, -1.07054403e-02,\n",
       "        2.92760582e-04,  8.06429610e-03, -3.81854782e-03,  1.87818669e-02,\n",
       "        3.03290561e-02,  9.18849558e-03,  1.21835042e-02, -1.08161476e-02,\n",
       "       -8.99588596e-03, -1.16370041e-02, -6.63964404e-03, -9.19647701e-03,\n",
       "        5.54481987e-03, -9.20879096e-03,  1.05675170e-02, -9.41487215e-03,\n",
       "        1.12538617e-02,  3.25113721e-02,  2.40577832e-02,  5.95647190e-03,\n",
       "       -8.94371141e-03,  1.95524581e-02, -2.08718739e-02,  1.57214236e-02,\n",
       "        2.50777160e-03, -2.68972889e-02,  2.49778340e-03, -1.19468169e-02,\n",
       "        4.87479055e-03,  2.39743460e-02,  1.34774065e-03,  1.40843983e-03,\n",
       "       -2.03135759e-02, -1.09082107e-02, -1.01351896e-02, -1.13640847e-02,\n",
       "       -4.74980101e-03, -1.41079416e-02,  6.35084137e-03, -1.22903204e-02,\n",
       "        7.12143816e-03,  6.58407435e-03,  5.16914763e-03,  2.39727553e-03,\n",
       "       -1.81568451e-02, -3.73315229e-03, -2.71231006e-03, -1.32186580e-02,\n",
       "       -2.28510667e-02, -1.17386570e-02, -7.28956843e-03,  2.74057640e-03,\n",
       "       -6.34465320e-03,  4.18909919e-03, -2.34930310e-02, -1.29531277e-02,\n",
       "       -1.18674915e-02, -6.43969607e-03,  1.82349589e-02, -7.73730804e-04,\n",
       "        1.02594215e-02,  3.11288238e-03,  4.02062759e-03,  4.07039654e-03,\n",
       "       -2.14747898e-02, -5.65207144e-03, -1.93571008e-03,  9.83283482e-03,\n",
       "       -4.39017639e-03, -1.57322902e-02,  3.78707470e-03, -1.43044554e-02,\n",
       "        1.19598387e-02, -1.19366841e-02,  5.20970300e-03, -1.67911090e-02,\n",
       "        1.79611705e-02, -1.61965890e-03, -5.31847449e-03,  2.54028440e-02,\n",
       "       -2.62068156e-02,  1.07780891e-02, -4.07267176e-03, -7.86041957e-04,\n",
       "        5.75401122e-04, -2.03107968e-02,  1.04350876e-02,  6.48162607e-03,\n",
       "        1.24024972e-03,  1.06926505e-02, -8.21886398e-03, -3.47108324e-03,\n",
       "       -1.41880848e-02,  2.33238544e-02, -1.62736978e-02, -1.41606079e-02,\n",
       "       -1.55132189e-02,  1.39126356e-03, -2.32000509e-03, -9.43851378e-03,\n",
       "       -2.86769005e-03,  7.98291340e-03, -7.09763356e-03, -7.88218807e-03,\n",
       "       -2.02364381e-03, -9.89761483e-03,  2.06277356e-03, -2.05325335e-02],\n",
       "      dtype=float32)"
      ]
     },
     "execution_count": 30,
     "metadata": {},
     "output_type": "execute_result"
    }
   ],
   "source": [
    "model7.get_word_vector(\"хорошо\")"
   ]
  },
  {
   "cell_type": "code",
   "execution_count": 31,
   "id": "3f66c589",
   "metadata": {},
   "outputs": [
    {
     "data": {
      "text/plain": [
       "[(0.9767996072769165, 'обязательствам'),\n",
       " (0.9765377044677734, 'начинает'),\n",
       " (0.9764205813407898, 'компаниями'),\n",
       " (0.9763075113296509, 'сохраняет'),\n",
       " (0.9762691855430603, 'видит'),\n",
       " (0.9762370586395264, 'благодаря'),\n",
       " (0.9761258363723755, 'производству'),\n",
       " (0.9761194586753845, 'занять'),\n",
       " (0.9761006832122803, 'куда'),\n",
       " (0.9760592579841614, 'способны')]"
      ]
     },
     "execution_count": 31,
     "metadata": {},
     "output_type": "execute_result"
    }
   ],
   "source": [
    "model7.get_nearest_neighbors('хорошо')"
   ]
  },
  {
   "cell_type": "code",
   "execution_count": 32,
   "id": "7f8f57d3",
   "metadata": {},
   "outputs": [
    {
     "data": {
      "text/plain": [
       "[(0.0, 'по'),\n",
       " (0.0, 'на'),\n",
       " (0.0, 'с'),\n",
       " (0.0, 'руб'),\n",
       " (0.0, 'за'),\n",
       " (0.0, 'млрд'),\n",
       " (0.0, 'не'),\n",
       " (0.0, 'амстердамский'),\n",
       " (0.0, 'зарегистрирован'),\n",
       " (0.0, 'амстердамским')]"
      ]
     },
     "execution_count": 32,
     "metadata": {},
     "output_type": "execute_result"
    }
   ],
   "source": [
    "# проблема с опечатками решена\n",
    "model7.get_nearest_neighbors('хоршо')"
   ]
  },
  {
   "cell_type": "code",
   "execution_count": 33,
   "id": "4cc88f42",
   "metadata": {},
   "outputs": [
    {
     "data": {
      "text/plain": [
       "[(0.0, 'по'),\n",
       " (0.0, 'на'),\n",
       " (0.0, 'с'),\n",
       " (0.0, 'руб'),\n",
       " (0.0, 'за'),\n",
       " (0.0, 'млрд'),\n",
       " (0.0, 'не'),\n",
       " (0.0, 'амстердамский'),\n",
       " (0.0, 'зарегистрирован'),\n",
       " (0.0, 'амстердамским')]"
      ]
     },
     "execution_count": 33,
     "metadata": {},
     "output_type": "execute_result"
    }
   ],
   "source": [
    "# проблема с out of vocabulary словами - тоже\n",
    "model7.get_nearest_neighbors('moviegeek')"
   ]
  },
  {
   "cell_type": "code",
   "execution_count": 34,
   "id": "e12a2774",
   "metadata": {},
   "outputs": [
    {
     "data": {
      "text/plain": [
       "[(0.0, 'по'),\n",
       " (0.0, 'на'),\n",
       " (0.0, 'с'),\n",
       " (0.0, 'руб'),\n",
       " (0.0, 'за'),\n",
       " (0.0, 'млрд'),\n",
       " (0.0, 'не'),\n",
       " (0.0, 'амстердамский'),\n",
       " (0.0, 'зарегистрирован'),\n",
       " (0.0, 'амстердамским')]"
      ]
     },
     "execution_count": 34,
     "metadata": {},
     "output_type": "execute_result"
    }
   ],
   "source": [
    "model7.get_analogies(\"женщина\", \"мужчина\", \"актер\")"
   ]
  },
  {
   "cell_type": "code",
   "execution_count": 35,
   "id": "6cd44055",
   "metadata": {},
   "outputs": [
    {
     "name": "stdout",
     "output_type": "stream",
     "text": [
      "Test Samples: 293 Precision@1 : 54.9488 Recall@1 : 54.9488\n",
      "Test Samples: 293 Precision@2 : 50.0000 Recall@2 : 100.0000\n",
      "Test Samples: 293 Precision@3 : 50.0000 Recall@3 : 100.0000\n",
      "Test Samples: 293 Precision@4 : 50.0000 Recall@4 : 100.0000\n",
      "Test Samples: 293 Precision@5 : 50.0000 Recall@5 : 100.0000\n"
     ]
    }
   ],
   "source": [
    "for k in range(1,6):\n",
    "    results = model7.test(test_file,k=k)\n",
    "    print(f\"Test Samples: {results[0]} Precision@{k} : {results[1]*100:2.4f} Recall@{k} : {results[2]*100:2.4f}\")"
   ]
  },
  {
   "cell_type": "code",
   "execution_count": 36,
   "id": "6ed2d356",
   "metadata": {},
   "outputs": [
    {
     "data": {
      "application/vnd.jupyter.widget-view+json": {
       "model_id": "844255fd24064ffdb6f08d887e05c1e7",
       "version_major": 2,
       "version_minor": 0
      },
      "text/plain": [
       "  0%|          | 0/1465 [00:00<?, ?it/s]"
      ]
     },
     "metadata": {},
     "output_type": "display_data"
    }
   ],
   "source": [
    "ress1 = []\n",
    "for sentence in tqdm(df['text']):\n",
    "    # print(sentence)\n",
    "    res = {}\n",
    "#     sentence = sentence.replace(\"\\n\",\" \")\n",
    "    res['text'] = sentence\n",
    "    # print(res['text'])\n",
    "    preds = model7.predict(sentence)[0]\n",
    "    # print(preds)\n",
    "    if preds[0] == '__class__1':\n",
    "                  label = 1\n",
    "    else:\n",
    "                  label = 0\n",
    "    res['pred_class'] = label\n",
    "    ress1.append(res)"
   ]
  },
  {
   "cell_type": "code",
   "execution_count": 37,
   "id": "bf21969e",
   "metadata": {},
   "outputs": [
    {
     "data": {
      "text/html": [
       "<div>\n",
       "<style scoped>\n",
       "    .dataframe tbody tr th:only-of-type {\n",
       "        vertical-align: middle;\n",
       "    }\n",
       "\n",
       "    .dataframe tbody tr th {\n",
       "        vertical-align: top;\n",
       "    }\n",
       "\n",
       "    .dataframe thead th {\n",
       "        text-align: right;\n",
       "    }\n",
       "</style>\n",
       "<table border=\"1\" class=\"dataframe\">\n",
       "  <thead>\n",
       "    <tr style=\"text-align: right;\">\n",
       "      <th></th>\n",
       "      <th>text</th>\n",
       "      <th>pred_class</th>\n",
       "      <th>class</th>\n",
       "    </tr>\n",
       "  </thead>\n",
       "  <tbody>\n",
       "    <tr>\n",
       "      <th>0</th>\n",
       "      <td>Сегодня у нас проходит т.н. гайдаровский форум...</td>\n",
       "      <td>1</td>\n",
       "      <td>1</td>\n",
       "    </tr>\n",
       "    <tr>\n",
       "      <th>1</th>\n",
       "      <td>Сбер представил отчет по РСБУ. Вклады населени...</td>\n",
       "      <td>0</td>\n",
       "      <td>0</td>\n",
       "    </tr>\n",
       "    <tr>\n",
       "      <th>2</th>\n",
       "      <td>Мы будем предлагатьсказал Улюкаев.  Чтобы прив...</td>\n",
       "      <td>0</td>\n",
       "      <td>0</td>\n",
       "    </tr>\n",
       "    <tr>\n",
       "      <th>3</th>\n",
       "      <td>Здравствуйте, сегодня наткнулся на ткую новост...</td>\n",
       "      <td>0</td>\n",
       "      <td>0</td>\n",
       "    </tr>\n",
       "    <tr>\n",
       "      <th>4</th>\n",
       "      <td>Коммерсант сегодня написал, что Керимов хочет ...</td>\n",
       "      <td>1</td>\n",
       "      <td>1</td>\n",
       "    </tr>\n",
       "    <tr>\n",
       "      <th>...</th>\n",
       "      <td>...</td>\n",
       "      <td>...</td>\n",
       "      <td>...</td>\n",
       "    </tr>\n",
       "    <tr>\n",
       "      <th>1460</th>\n",
       "      <td>Сбербанк отмечает улучшение ситуации с реструк...</td>\n",
       "      <td>0</td>\n",
       "      <td>0</td>\n",
       "    </tr>\n",
       "    <tr>\n",
       "      <th>1461</th>\n",
       "      <td>Правительство России распространило действие п...</td>\n",
       "      <td>1</td>\n",
       "      <td>1</td>\n",
       "    </tr>\n",
       "    <tr>\n",
       "      <th>1462</th>\n",
       "      <td>Совкомбанк занимает 8 место по активам среди р...</td>\n",
       "      <td>0</td>\n",
       "      <td>0</td>\n",
       "    </tr>\n",
       "    <tr>\n",
       "      <th>1463</th>\n",
       "      <td>Правительство принимает «некоторые меры» для п...</td>\n",
       "      <td>0</td>\n",
       "      <td>0</td>\n",
       "    </tr>\n",
       "    <tr>\n",
       "      <th>1464</th>\n",
       "      <td>Российские банки выдадут ипотечных кредитов по...</td>\n",
       "      <td>1</td>\n",
       "      <td>0</td>\n",
       "    </tr>\n",
       "  </tbody>\n",
       "</table>\n",
       "<p>1465 rows × 3 columns</p>\n",
       "</div>"
      ],
      "text/plain": [
       "                                                   text  pred_class  class\n",
       "0     Сегодня у нас проходит т.н. гайдаровский форум...           1      1\n",
       "1     Сбер представил отчет по РСБУ. Вклады населени...           0      0\n",
       "2     Мы будем предлагатьсказал Улюкаев.  Чтобы прив...           0      0\n",
       "3     Здравствуйте, сегодня наткнулся на ткую новост...           0      0\n",
       "4     Коммерсант сегодня написал, что Керимов хочет ...           1      1\n",
       "...                                                 ...         ...    ...\n",
       "1460  Сбербанк отмечает улучшение ситуации с реструк...           0      0\n",
       "1461  Правительство России распространило действие п...           1      1\n",
       "1462  Совкомбанк занимает 8 место по активам среди р...           0      0\n",
       "1463  Правительство принимает «некоторые меры» для п...           0      0\n",
       "1464  Российские банки выдадут ипотечных кредитов по...           1      0\n",
       "\n",
       "[1465 rows x 3 columns]"
      ]
     },
     "execution_count": 37,
     "metadata": {},
     "output_type": "execute_result"
    }
   ],
   "source": [
    "itog1 = pd.DataFrame.from_dict(ress1)\n",
    "itog1['class'] = df['TargetClass'].reset_index(drop=True)\n",
    "itog1"
   ]
  },
  {
   "cell_type": "code",
   "execution_count": 38,
   "id": "6481ec64",
   "metadata": {},
   "outputs": [
    {
     "data": {
      "text/plain": [
       "pred_class\n",
       "1    757\n",
       "0    708\n",
       "dtype: int64"
      ]
     },
     "execution_count": 38,
     "metadata": {},
     "output_type": "execute_result"
    }
   ],
   "source": [
    "itog1.value_counts(\"pred_class\")"
   ]
  },
  {
   "cell_type": "code",
   "execution_count": 39,
   "id": "cd97f95d",
   "metadata": {},
   "outputs": [
    {
     "name": "stdout",
     "output_type": "stream",
     "text": [
      "f1: 0.8893, acc: 0.8867, recall: 0.8811\n"
     ]
    }
   ],
   "source": [
    "f1 = metrics.f1_score(itog1['class'], itog1['pred_class'])\n",
    "acc = metrics.accuracy_score(itog1['class'], itog1['pred_class'])\n",
    "recall = metrics.precision_score(itog1['class'], itog1['pred_class'])\n",
    "print('f1: {:.4f}, acc: {:.4f}, recall: {:.4f}'.format(f1, acc, recall))"
   ]
  },
  {
   "cell_type": "markdown",
   "id": "20d592d4",
   "metadata": {},
   "source": [
    "# Clove"
   ]
  },
  {
   "cell_type": "markdown",
   "id": "cebdce25",
   "metadata": {},
   "source": [
    "https://edumunozsala.github.io/BlogEms/jupyter/nlp/classification/embeddings/python/2020/08/15/Intro_NLP_WordEmbeddings_Classification.html\n",
    "    \n",
    "https://debuggercafe.com/pretrained-glove-embeddings/"
   ]
  },
  {
   "cell_type": "markdown",
   "id": "e343eba7",
   "metadata": {},
   "source": [
    "# RNN"
   ]
  },
  {
   "cell_type": "code",
   "execution_count": null,
   "id": "e7961b82",
   "metadata": {},
   "outputs": [],
   "source": [
    "https://debuggercafe.com/text-classification-using-pytorch/\n",
    "    \n",
    "https://debuggercafe.com/disaster-tweet-classification-using-pytorch/\n",
    "    \n",
    "https://github.com/prakashpandey9/Text-Classification-Pytorch/tree/master\n",
    "    \n",
    "https://saturncloud.io/blog/pytorch-for-natural-language-processing-building-a-fake-news-classification-model/"
   ]
  },
  {
   "cell_type": "code",
   "execution_count": 40,
   "id": "ff00c4cc",
   "metadata": {},
   "outputs": [],
   "source": [
    "# Set seed.\n",
    "# seed = 42\n",
    "# np.random.seed(seed)\n",
    "# torch.manual_seed(seed)\n",
    "# torch.cuda.manual_seed(seed)\n",
    "# torch.backends.cudnn.deterministic = True\n",
    "# torch.backends.cudnn.benchmark = True"
   ]
  },
  {
   "cell_type": "code",
   "execution_count": 19,
   "id": "c12bfe1e",
   "metadata": {},
   "outputs": [
    {
     "data": {
      "text/html": [
       "<div>\n",
       "<style scoped>\n",
       "    .dataframe tbody tr th:only-of-type {\n",
       "        vertical-align: middle;\n",
       "    }\n",
       "\n",
       "    .dataframe tbody tr th {\n",
       "        vertical-align: top;\n",
       "    }\n",
       "\n",
       "    .dataframe thead th {\n",
       "        text-align: right;\n",
       "    }\n",
       "</style>\n",
       "<table border=\"1\" class=\"dataframe\">\n",
       "  <thead>\n",
       "    <tr style=\"text-align: right;\">\n",
       "      <th></th>\n",
       "      <th>text</th>\n",
       "      <th>TargetClass</th>\n",
       "    </tr>\n",
       "  </thead>\n",
       "  <tbody>\n",
       "    <tr>\n",
       "      <th>0</th>\n",
       "      <td>Сегодня у нас проходит т.н. гайдаровский форум...</td>\n",
       "      <td>1</td>\n",
       "    </tr>\n",
       "    <tr>\n",
       "      <th>1</th>\n",
       "      <td>Сбер представил отчет по РСБУ. Вклады населени...</td>\n",
       "      <td>0</td>\n",
       "    </tr>\n",
       "    <tr>\n",
       "      <th>2</th>\n",
       "      <td>Мы будем предлагатьсказал Улюкаев.  Чтобы прив...</td>\n",
       "      <td>0</td>\n",
       "    </tr>\n",
       "    <tr>\n",
       "      <th>3</th>\n",
       "      <td>Здравствуйте, сегодня наткнулся на ткую новост...</td>\n",
       "      <td>0</td>\n",
       "    </tr>\n",
       "    <tr>\n",
       "      <th>4</th>\n",
       "      <td>Коммерсант сегодня написал, что Керимов хочет ...</td>\n",
       "      <td>1</td>\n",
       "    </tr>\n",
       "    <tr>\n",
       "      <th>...</th>\n",
       "      <td>...</td>\n",
       "      <td>...</td>\n",
       "    </tr>\n",
       "    <tr>\n",
       "      <th>1461</th>\n",
       "      <td>Правительство России распространило действие п...</td>\n",
       "      <td>1</td>\n",
       "    </tr>\n",
       "    <tr>\n",
       "      <th>1462</th>\n",
       "      <td>Совкомбанк занимает 8 место по активам среди р...</td>\n",
       "      <td>0</td>\n",
       "    </tr>\n",
       "    <tr>\n",
       "      <th>1463</th>\n",
       "      <td>Правительство принимает «некоторые меры» для п...</td>\n",
       "      <td>0</td>\n",
       "    </tr>\n",
       "    <tr>\n",
       "      <th>1464</th>\n",
       "      <td>Российские банки выдадут ипотечных кредитов по...</td>\n",
       "      <td>0</td>\n",
       "    </tr>\n",
       "    <tr>\n",
       "      <th>1465</th>\n",
       "      <td>В России могут повысить первоначальный взнос п...</td>\n",
       "      <td>1</td>\n",
       "    </tr>\n",
       "  </tbody>\n",
       "</table>\n",
       "<p>1466 rows × 2 columns</p>\n",
       "</div>"
      ],
      "text/plain": [
       "                                                   text  TargetClass\n",
       "0     Сегодня у нас проходит т.н. гайдаровский форум...            1\n",
       "1     Сбер представил отчет по РСБУ. Вклады населени...            0\n",
       "2     Мы будем предлагатьсказал Улюкаев.  Чтобы прив...            0\n",
       "3     Здравствуйте, сегодня наткнулся на ткую новост...            0\n",
       "4     Коммерсант сегодня написал, что Керимов хочет ...            1\n",
       "...                                                 ...          ...\n",
       "1461  Правительство России распространило действие п...            1\n",
       "1462  Совкомбанк занимает 8 место по активам среди р...            0\n",
       "1463  Правительство принимает «некоторые меры» для п...            0\n",
       "1464  Российские банки выдадут ипотечных кредитов по...            0\n",
       "1465  В России могут повысить первоначальный взнос п...            1\n",
       "\n",
       "[1466 rows x 2 columns]"
      ]
     },
     "execution_count": 19,
     "metadata": {},
     "output_type": "execute_result"
    }
   ],
   "source": [
    "df_rnn = pd.read_csv(f'{sym1}_dataset_news.csv')\n",
    "df_rnn"
   ]
  },
  {
   "cell_type": "code",
   "execution_count": 20,
   "id": "fcbf9b3b",
   "metadata": {},
   "outputs": [
    {
     "data": {
      "text/html": [
       "<div>\n",
       "<style scoped>\n",
       "    .dataframe tbody tr th:only-of-type {\n",
       "        vertical-align: middle;\n",
       "    }\n",
       "\n",
       "    .dataframe tbody tr th {\n",
       "        vertical-align: top;\n",
       "    }\n",
       "\n",
       "    .dataframe thead th {\n",
       "        text-align: right;\n",
       "    }\n",
       "</style>\n",
       "<table border=\"1\" class=\"dataframe\">\n",
       "  <thead>\n",
       "    <tr style=\"text-align: right;\">\n",
       "      <th></th>\n",
       "      <th>text</th>\n",
       "      <th>TargetClass</th>\n",
       "      <th>clean_text</th>\n",
       "    </tr>\n",
       "  </thead>\n",
       "  <tbody>\n",
       "    <tr>\n",
       "      <th>0</th>\n",
       "      <td>Сегодня у нас проходит т.н. гайдаровский форум...</td>\n",
       "      <td>1</td>\n",
       "      <td>сегодня проходит т н гайдаровский форум делают...</td>\n",
       "    </tr>\n",
       "    <tr>\n",
       "      <th>1</th>\n",
       "      <td>Сбер представил отчет по РСБУ. Вклады населени...</td>\n",
       "      <td>0</td>\n",
       "      <td>сбер представил отчет рсбу вклады населения 27...</td>\n",
       "    </tr>\n",
       "    <tr>\n",
       "      <th>2</th>\n",
       "      <td>Мы будем предлагатьсказал Улюкаев.  Чтобы прив...</td>\n",
       "      <td>0</td>\n",
       "      <td>будем предлагатьсказал улюкаев приватизировать...</td>\n",
       "    </tr>\n",
       "    <tr>\n",
       "      <th>3</th>\n",
       "      <td>Здравствуйте, сегодня наткнулся на ткую новост...</td>\n",
       "      <td>0</td>\n",
       "      <td>здравствуйте сегодня наткнулся ткую новость бу...</td>\n",
       "    </tr>\n",
       "    <tr>\n",
       "      <th>4</th>\n",
       "      <td>Коммерсант сегодня написал, что Керимов хочет ...</td>\n",
       "      <td>1</td>\n",
       "      <td>коммерсант сегодня написал керимов хочет обкеш...</td>\n",
       "    </tr>\n",
       "  </tbody>\n",
       "</table>\n",
       "</div>"
      ],
      "text/plain": [
       "                                                text  TargetClass  \\\n",
       "0  Сегодня у нас проходит т.н. гайдаровский форум...            1   \n",
       "1  Сбер представил отчет по РСБУ. Вклады населени...            0   \n",
       "2  Мы будем предлагатьсказал Улюкаев.  Чтобы прив...            0   \n",
       "3  Здравствуйте, сегодня наткнулся на ткую новост...            0   \n",
       "4  Коммерсант сегодня написал, что Керимов хочет ...            1   \n",
       "\n",
       "                                          clean_text  \n",
       "0  сегодня проходит т н гайдаровский форум делают...  \n",
       "1  сбер представил отчет рсбу вклады населения 27...  \n",
       "2  будем предлагатьсказал улюкаев приватизировать...  \n",
       "3  здравствуйте сегодня наткнулся ткую новость бу...  \n",
       "4  коммерсант сегодня написал керимов хочет обкеш...  "
      ]
     },
     "execution_count": 20,
     "metadata": {},
     "output_type": "execute_result"
    }
   ],
   "source": [
    "def clean_text(text):\n",
    "    text = re.sub(r'http\\S+', '', text)\n",
    "    text = text.replace(u'\\xa0', u' ')\n",
    "    text = text.lower()\n",
    "#     text = re.sub(r'[^\\w\\s]+|[\\d]+', r'',text).strip()\n",
    "    regex = re.compile('[%s]' % re.escape(string.punctuation))\n",
    "    text = regex.sub(' ', text)\n",
    "    text = re.sub(r'\\s+', ' ', text)\n",
    "    text = \" \".join(word for word in text.split() if word not in STOPWORDS)\n",
    "#     text = \" \".join(lemmatizer.normal_forms(word)[0] for word in text.split())\n",
    "    return text\n",
    "  \n",
    "df_rnn['clean_text'] = df_rnn['text'].apply(clean_text)\n",
    "df_rnn.head()"
   ]
  },
  {
   "cell_type": "code",
   "execution_count": 21,
   "id": "2065efd6",
   "metadata": {},
   "outputs": [
    {
     "data": {
      "text/plain": [
       "'ВИРТУАЛЬНЫЙ ОПЕРАТОР СВЯЗИ СБЕРБАНКА НАЧНЕТ РАБОТУ ДО КОНЦА ЭТОГО ГОДАСбербанк планирует развивать услуги виртуального оператора связи (MNVO), используя инфраструктуру Tele2. Партнеры рассчитывают запустить пилотный проект в одном из регионов в ближайшем будущем, а затем развивать его в 65 регионах присутствия Tele2.Сбербанк еще официально не представил оператора MVNO. Проект позволит банку снизить операционные затраты, связанные с услугами связи, и более активно продвигать мобильные финансовые технологии. В настоящий момент нам сложно оценить, как проект повлияет на финансовые показатели Сбербанка, однако ранее банк заявлял, что только на рассылку СМС клиентам банк тратит $100 млн в год. \\xa0\\xa0 \\xa0 \\xa0 \\xa0 \\xa0 \\xa0 \\xa0 АТОН'"
      ]
     },
     "execution_count": 21,
     "metadata": {},
     "output_type": "execute_result"
    }
   ],
   "source": [
    "df_rnn['text'].loc[100]"
   ]
  },
  {
   "cell_type": "code",
   "execution_count": 22,
   "id": "2ac29205",
   "metadata": {},
   "outputs": [
    {
     "data": {
      "text/plain": [
       "'виртуальный оператор связи сбербанка начнет работу конца годасбербанк планирует развивать услуги виртуального оператора связи mnvo используя инфраструктуру tele2 партнеры рассчитывают запустить пилотный проект одном регионов ближайшем будущем затем развивать 65 регионах присутствия tele2 сбербанк официально представил оператора mvno проект позволит банку снизить операционные затраты связанные услугами связи активно продвигать мобильные финансовые технологии настоящий момент нам сложно оценить проект повлияет финансовые показатели сбербанка однако ранее банк заявлял рассылку смс клиентам банк тратит 100 млн год атон'"
      ]
     },
     "execution_count": 22,
     "metadata": {},
     "output_type": "execute_result"
    }
   ],
   "source": [
    "df_rnn['clean_text'].loc[100]"
   ]
  },
  {
   "cell_type": "code",
   "execution_count": 23,
   "id": "60c36a72",
   "metadata": {},
   "outputs": [
    {
     "name": "stdout",
     "output_type": "stream",
     "text": [
      "Longest review length: 1159 words\n"
     ]
    }
   ],
   "source": [
    "def find_longest_length(data):\n",
    "    \"\"\"\n",
    "    Find the longest review length in the entire training set.\n",
    "\n",
    "    :param data.\n",
    "\n",
    "    Returns:\n",
    "        max_len: Longest review length.\n",
    "    \"\"\"\n",
    "    max_length = 0\n",
    "    for text in data['clean_text']:\n",
    "            text = re.sub('<[^>]+>+', '', text)\n",
    "            corpus = [\n",
    "                word for word in text.split()\n",
    "            ]\n",
    "            if len(corpus) > max_length:\n",
    "                max_length = len(corpus)\n",
    "    return max_length\n",
    "\n",
    "longest = find_longest_length(df_rnn)\n",
    "print(f\"Longest review length: {longest} words\")"
   ]
  },
  {
   "cell_type": "code",
   "execution_count": 24,
   "id": "71a90ed7",
   "metadata": {},
   "outputs": [
    {
     "name": "stdout",
     "output_type": "stream",
     "text": [
      "Longest review length: 1435 words\n"
     ]
    }
   ],
   "source": [
    "def find_longest_length(data):\n",
    "    \"\"\"\n",
    "    Find the longest review length in the entire training set.\n",
    "\n",
    "    :param data.\n",
    "\n",
    "    Returns:\n",
    "        max_len: Longest review length.\n",
    "    \"\"\"\n",
    "    max_length = 0\n",
    "    for text in data['text']:\n",
    "            text = re.sub('<[^>]+>+', '', text)\n",
    "            corpus = [\n",
    "                word for word in text.split()\n",
    "            ]\n",
    "            if len(corpus) > max_length:\n",
    "                max_length = len(corpus)\n",
    "    return max_length\n",
    "\n",
    "longest = find_longest_length(df_rnn)\n",
    "print(f\"Longest review length: {longest} words\")"
   ]
  },
  {
   "cell_type": "code",
   "execution_count": 25,
   "id": "49e30116",
   "metadata": {},
   "outputs": [
    {
     "name": "stdout",
     "output_type": "stream",
     "text": [
      "Average review length train: 217.72987721691678 words\n"
     ]
    }
   ],
   "source": [
    "def find_avg_sentence_length(data):\n",
    "    \"\"\"\n",
    "    Find the average sentence in the entire training set.\n",
    "\n",
    "    :param data['text'].\n",
    "\n",
    "    Returns:\n",
    "        avg_len: Average length.\n",
    "    \"\"\"\n",
    "    sentence_lengths = []\n",
    "    for text in data['clean_text']:\n",
    "            # Remove <br> tags.\n",
    "            text = re.sub('<[^>]+>+', '', text)\n",
    "            corpus = [\n",
    "                word for word in text.split()\n",
    "            ]\n",
    "            sentence_lengths.append(len(corpus))\n",
    "    return sum(sentence_lengths)/len(sentence_lengths)\n",
    "\n",
    "average_length = find_avg_sentence_length(df_rnn)\n",
    "print(f\"Average review length train: {average_length} words\")"
   ]
  },
  {
   "cell_type": "code",
   "execution_count": 26,
   "id": "fa77c8ce",
   "metadata": {},
   "outputs": [
    {
     "name": "stdout",
     "output_type": "stream",
     "text": [
      "Average review length train: 269.7660300136426 words\n"
     ]
    }
   ],
   "source": [
    "def find_avg_sentence_length(data):\n",
    "    \"\"\"\n",
    "    Find the average sentence in the entire training set.\n",
    "\n",
    "    :param data['text'].\n",
    "\n",
    "    Returns:\n",
    "        avg_len: Average length.\n",
    "    \"\"\"\n",
    "    sentence_lengths = []\n",
    "    for text in data['text']:\n",
    "            # Remove <br> tags.\n",
    "            text = re.sub('<[^>]+>+', '', text)\n",
    "            corpus = [\n",
    "                word for word in text.split()\n",
    "            ]\n",
    "            sentence_lengths.append(len(corpus))\n",
    "    return sum(sentence_lengths)/len(sentence_lengths)\n",
    "\n",
    "average_length = find_avg_sentence_length(df_rnn)\n",
    "print(f\"Average review length train: {average_length} words\")"
   ]
  },
  {
   "cell_type": "code",
   "execution_count": 27,
   "id": "ce645cf6",
   "metadata": {},
   "outputs": [],
   "source": [
    "class DatasetSeq(Dataset):\n",
    "    def __init__(self, df):\n",
    "        #open file\n",
    "        self.train = df\n",
    "#         self.train = pd.read_csv('SBERP_dataset_news.csv')\n",
    "        # delete extra tag markup\n",
    "        train1 = [x for x in self.train['clean_text']]\n",
    "        \n",
    "        #init vocabs of tokens for encoding { token:  id}\n",
    "        self.word_vocab = {} # {cat: 1, sat: 2, on: 3, mat: 4, '.': 5}\n",
    "        self.char_vocab = {} # {c: 1, a: 2, t: 3, ' ': 4, s: 5}\n",
    "\n",
    "        # Cat sat on mat. -> [1, 2, 3, 4, 5]\n",
    "        # p    a  r  p pu -> [1, 2, 3, 1, 4]\n",
    "        # chars  -> [1, 2, 3, 4, 5, 2, 3, 4]\n",
    "\n",
    "        #init encoded sequences lists (processed data)\n",
    "        self.encoded_sequences = []\n",
    "        self.encoded_char_sequences = []\n",
    "        \n",
    "        # n=1 because first (n=0) value is padding\n",
    "        n_word = 1\n",
    "        n_char = 1\n",
    "        \n",
    "        for line in train1:\n",
    "            sequence = []\n",
    "            chars = []\n",
    "            \n",
    "            for word in line.split(' '):\n",
    "                if word != '':\n",
    "                        \n",
    "                        if self.word_vocab.get(word) is None:\n",
    "                                    self.word_vocab[word] = n_word\n",
    "                                    n_word += 1\n",
    "                    \n",
    "                        for char in word:\n",
    "                                    if self.char_vocab.get(char) is None:\n",
    "                                                self.char_vocab[char] = n_char\n",
    "                                                n_char += 1\n",
    "                    \n",
    "                        sequence.append(self.word_vocab[word])\n",
    "                        chars.append([self.char_vocab[char] for char in word])\n",
    "            \n",
    "            self.encoded_sequences.append(sequence)\n",
    "            self.encoded_char_sequences.append(chars)\n",
    "\n",
    "    def __len__(self):\n",
    "        return len(self.encoded_sequences)\n",
    "\n",
    "    def __getitem__(self, index):\n",
    "        return {\n",
    "            'data': self.encoded_sequences[index], # [1, 2, 3, 4, 6] len=5\n",
    "            'char': self.encoded_char_sequences[index],# [[1,2,3], [4,5], [1,2], [2,6,5,4], []] len=5\n",
    "            'target': self.train['TargetClass'].loc[index], #  (1)\n",
    "        }"
   ]
  },
  {
   "cell_type": "code",
   "execution_count": 28,
   "id": "9474cacd",
   "metadata": {},
   "outputs": [],
   "source": [
    "dataset = DatasetSeq(df_rnn)"
   ]
  },
  {
   "cell_type": "code",
   "execution_count": 29,
   "id": "c6814c8e",
   "metadata": {},
   "outputs": [
    {
     "data": {
      "text/plain": [
       "1466"
      ]
     },
     "execution_count": 29,
     "metadata": {},
     "output_type": "execute_result"
    }
   ],
   "source": [
    "dataset.__len__()"
   ]
  },
  {
   "cell_type": "code",
   "execution_count": 249,
   "id": "64f8c490",
   "metadata": {},
   "outputs": [],
   "source": [
    "# dataset.__getitem__(1)"
   ]
  },
  {
   "cell_type": "code",
   "execution_count": 31,
   "id": "81306ea0",
   "metadata": {},
   "outputs": [],
   "source": [
    "def collate_fn(input_data):\n",
    "    \n",
    "    data = []\n",
    "    chars = []\n",
    "    targets = []\n",
    "    max_len = 0\n",
    "    \n",
    "    for item in input_data:\n",
    "        if len(item['data']) > max_len:\n",
    "            max_len = len(item['data'])\n",
    "        data.append(torch.as_tensor(item['data']))\n",
    "        chars.append(item['char'])\n",
    "        targets.append(torch.as_tensor(item['target']))\n",
    "    \n",
    "    chars_seq = [[torch.as_tensor([0]) for _ in range(len(input_data))] for _ in range(max_len)]\n",
    "    \n",
    "    for j in range(len(input_data)):\n",
    "        for i in range(max_len):\n",
    "            if len(chars[j]) > i:\n",
    "                chars_seq[i][j] = torch.as_tensor(chars[j][i])\n",
    "    \n",
    "    for j in range(max_len):\n",
    "        chars_seq[j] = pad_sequence(chars_seq[j], batch_first=True, padding_value=0)\n",
    "    \n",
    "    data = pad_sequence(data, batch_first=True, padding_value=0)\n",
    "    targets = torch.tensor(targets, dtype=torch.float32)\n",
    "    \n",
    "    return {'data': data, 'chars': chars_seq, 'target': targets}"
   ]
  },
  {
   "cell_type": "code",
   "execution_count": 42,
   "id": "38e011f5",
   "metadata": {},
   "outputs": [
    {
     "name": "stdout",
     "output_type": "stream",
     "text": [
      "cpu\n"
     ]
    }
   ],
   "source": [
    "#hyper params\n",
    "vocab_size = len(dataset.word_vocab) + 1\n",
    "n_classes = 1\n",
    "n_chars = len(dataset.char_vocab) + 1\n",
    "#TODO try to use other model parameters\n",
    "emb_dim = 256 # поменял с 256 на 128\n",
    "hidden = 256\n",
    "char_hid = 64\n",
    "char_emb = 32\n",
    "n_epochs = 10\n",
    "batch_size = 16\n",
    "cuda_device = -1\n",
    "device = f'cuda:{cuda_device}' if cuda_device != -1 else 'cpu'\n",
    "print(device)"
   ]
  },
  {
   "cell_type": "code",
   "execution_count": 43,
   "id": "6eb84438",
   "metadata": {},
   "outputs": [],
   "source": [
    "train_size = int(0.9 * len(dataset))\n",
    "size = len(dataset) - train_size\n",
    "val_size = int(0.5 * size)\n",
    "test_size = size - val_size\n",
    "# train_size, val_size, test_size, len(dataset), train_size + val_size + test_size\n",
    "train_dataset, val_dataset, test_dataset = torch.utils.data.random_split(dataset, [train_size, val_size, test_size])"
   ]
  },
  {
   "cell_type": "code",
   "execution_count": 44,
   "id": "14b58e11",
   "metadata": {},
   "outputs": [
    {
     "data": {
      "text/plain": [
       "(1319, 73, 74)"
      ]
     },
     "execution_count": 44,
     "metadata": {},
     "output_type": "execute_result"
    }
   ],
   "source": [
    "len(train_dataset), len(val_dataset), len(test_dataset)"
   ]
  },
  {
   "cell_type": "code",
   "execution_count": 45,
   "id": "443477a4",
   "metadata": {},
   "outputs": [],
   "source": [
    "train_dataloader = DataLoader(train_dataset, batch_size = batch_size, shuffle=True, collate_fn=collate_fn, drop_last = True)\n",
    "val_dataloader = DataLoader(val_dataset, batch_size, shuffle=True, collate_fn=collate_fn, drop_last = True)\n",
    "test_dataloader = DataLoader(test_dataset, batch_size, shuffle=True, collate_fn=collate_fn, drop_last = True)"
   ]
  },
  {
   "cell_type": "code",
   "execution_count": 46,
   "id": "870f1ff0",
   "metadata": {},
   "outputs": [
    {
     "data": {
      "text/plain": [
       "1319"
      ]
     },
     "execution_count": 46,
     "metadata": {},
     "output_type": "execute_result"
    }
   ],
   "source": [
    "len(train_dataloader.dataset)"
   ]
  },
  {
   "cell_type": "code",
   "execution_count": 47,
   "id": "827531a8",
   "metadata": {},
   "outputs": [],
   "source": [
    "class CharRNN_GRU(nn.Module):\n",
    "    def __init__(self, vocab_size, emb_dim, hidden_dim):\n",
    "        super().__init__()\n",
    "        self.char_emb = nn.Embedding(vocab_size, emb_dim)\n",
    "        self.rnn = nn.GRU(emb_dim, hidden_dim, batch_first=True)\n",
    "\n",
    "    def forward(self, x):\n",
    "        emb = self.char_emb(x) # B x T x Emb_dim\n",
    "        _, out = self.rnn(emb)\n",
    "        # _: B x T x Hidden\n",
    "        # out: 1 x B x Hidden\n",
    "\n",
    "        return out.transpose(0, 1) # B x 1 x Hidden"
   ]
  },
  {
   "cell_type": "code",
   "execution_count": 48,
   "id": "d39464f7",
   "metadata": {},
   "outputs": [],
   "source": [
    "class RNN_GRU_CH(nn.Module):\n",
    "    \n",
    "    def __init__(self, vocab_size, emb_dim, hidden_dim, n_classes,\n",
    "                 char_vocab, char_emb, char_hidden):\n",
    "        super().__init__()\n",
    "        #TODO try to use other RNN archicetures, f.e. RNN and LSTM\n",
    "        self.word_emb = nn.Embedding(vocab_size, emb_dim)\n",
    "        # batch_first = False: T x B x Vec\n",
    "        # batch_first = True: B x T x Vec\n",
    "        self.rnn = nn.GRU(emb_dim + char_hidden, hidden_dim, num_layers=1, batch_first=True, bidirectional=False)\n",
    "        self.clf = nn.Linear(hidden_dim, n_classes)\n",
    "        self.do = nn.Dropout(0.2)\n",
    "        self.hidden_dim = hidden_dim\n",
    "        self.char_rnn = CharRNN_GRU(char_vocab, char_emb, char_hidden)\n",
    "\n",
    "    def forward(self, x, chars):\n",
    "        emb = self.word_emb(x)\n",
    "        char_features = [self.char_rnn(c.to(x.device)) for c in chars]\n",
    "        char_features = torch.cat(char_features, dim=1) # конкатенация по времени B x T x Char_hid\n",
    "        emb = torch.cat((emb, char_features), dim=-1) # конкатенация векторов\n",
    "        output, context = self.rnn(emb)\n",
    "        \n",
    "#         print(output.shape, context.shape)\n",
    "\n",
    "        out = self.clf(self.do(context))\n",
    "    \n",
    "        return out.view(-1)"
   ]
  },
  {
   "cell_type": "code",
   "execution_count": 49,
   "id": "44757abe",
   "metadata": {},
   "outputs": [
    {
     "name": "stdout",
     "output_type": "stream",
     "text": [
      "RNN_GRU_CH(\n",
      "  (word_emb): Embedding(44013, 256)\n",
      "  (rnn): GRU(320, 256, batch_first=True)\n",
      "  (clf): Linear(in_features=256, out_features=1, bias=True)\n",
      "  (do): Dropout(p=0.2, inplace=False)\n",
      "  (char_rnn): CharRNN_GRU(\n",
      "    (char_emb): Embedding(105, 32)\n",
      "    (rnn): GRU(32, 64, batch_first=True)\n",
      "  )\n",
      ")\n",
      "11,733,665 total parameters.\n",
      "11,733,665 training parameters.\n",
      "\n"
     ]
    }
   ],
   "source": [
    "model = RNN_GRU_CH(vocab_size, emb_dim, hidden, n_classes, n_chars, char_emb, char_hid).to(device)\n",
    "print(model)\n",
    "criterion = nn.BCEWithLogitsLoss()\n",
    "optimizer = optim.Adam(model.parameters(), lr=0.001,)\n",
    "# Total parameters and trainable parameters.\n",
    "total_params = sum(p.numel() for p in model.parameters())\n",
    "print(f\"{total_params:,} total parameters.\")\n",
    "total_trainable_params = sum(p.numel() for p in model.parameters() if p.requires_grad)\n",
    "print(f\"{total_trainable_params:,} training parameters.\\n\")"
   ]
  },
  {
   "cell_type": "code",
   "execution_count": 50,
   "id": "f0c51e73",
   "metadata": {},
   "outputs": [
    {
     "name": "stdout",
     "output_type": "stream",
     "text": [
      "torch.Size([16, 657, 256]) torch.Size([1, 16, 256])\n"
     ]
    },
    {
     "data": {
      "text/plain": [
       "(torch.Size([16]), torch.Size([16]))"
      ]
     },
     "execution_count": 50,
     "metadata": {},
     "output_type": "execute_result"
    }
   ],
   "source": [
    "batch = next(iter(train_dataloader))\n",
    "# batch['data'].shape, len(batch['chars']), batch['target'].shape\n",
    "predict = model(batch['data'].to(device), batch['chars'])\n",
    "predict.shape, batch['target'].shape"
   ]
  },
  {
   "cell_type": "code",
   "execution_count": 239,
   "id": "97cc57d9",
   "metadata": {},
   "outputs": [],
   "source": [
    "def binary_accuracy(labels, outputs, train_running_correct):\n",
    "    # As the outputs are currently logits.\n",
    "    outputs = torch.sigmoid(outputs)\n",
    "    running_correct = 0\n",
    "    for i, label in enumerate(labels):\n",
    "        if label < 0.5 and outputs[i] < 0.5:\n",
    "            running_correct += 1\n",
    "        elif label >= 0.5 and outputs[i] >= 0.5:\n",
    "            running_correct += 1\n",
    "    return running_correct"
   ]
  },
  {
   "cell_type": "code",
   "execution_count": 240,
   "id": "92d13c1c",
   "metadata": {},
   "outputs": [],
   "source": [
    "# Training function.\n",
    "def train(model, trainloader, optimizer, criterion, device):\n",
    "    model.train()\n",
    "    print('Training')\n",
    "    train_running_loss = 0.0\n",
    "    train_running_correct = 0\n",
    "    counter = 0\n",
    "    for i, data in tqdm(enumerate(trainloader), total=len(trainloader)):\n",
    "        counter += 1\n",
    "        inputs, chars, labels = data['data'], data['chars'], data['target']\n",
    "        inputs = inputs.to(device)\n",
    "#         labels = labels.to(device)\n",
    "        optimizer.zero_grad()\n",
    "        # Forward pass.\n",
    "        outputs = model(inputs, chars)\n",
    "        # Calculate the loss.\n",
    "        loss = criterion(outputs, labels)\n",
    "        train_running_loss += loss.item()\n",
    "        running_correct = binary_accuracy(\n",
    "            labels, outputs, train_running_correct\n",
    "        )\n",
    "        train_running_correct += running_correct\n",
    "        # Backpropagation.\n",
    "        loss.backward()\n",
    "        # Update the optimizer parameters.\n",
    "        optimizer.step()\n",
    "    \n",
    "    # Loss and accuracy for the complete epoch.\n",
    "    epoch_loss = train_running_loss / counter\n",
    "    epoch_acc = 100. * (train_running_correct / len(trainloader.dataset))\n",
    "    return epoch_loss, epoch_acc"
   ]
  },
  {
   "cell_type": "code",
   "execution_count": null,
   "id": "4f828d27",
   "metadata": {},
   "outputs": [],
   "source": [
    "# Validation function.\n",
    "def validate(model, testloader, criterion, device):\n",
    "    model.eval()\n",
    "    print('Validation')\n",
    "    valid_running_loss = 0.0\n",
    "    valid_running_correct = 0\n",
    "    counter = 0\n",
    "    \n",
    "    with torch.no_grad():\n",
    "        for i, data in tqdm(enumerate(testloader), total=len(testloader)):\n",
    "            counter += 1\n",
    "            inputs, chars, labels = data['data'], data['chars'], data['target']\n",
    "            inputs = inputs.to(device)\n",
    "#             labels = labels.to(device)\n",
    "            # Forward pass.\n",
    "            outputs = model(inputs, chars)\n",
    "            # Calculate the loss.\n",
    "            loss = criterion(outputs, labels)\n",
    "            valid_running_loss += loss.item()\n",
    "            running_correct = binary_accuracy(\n",
    "                labels, outputs, valid_running_correct\n",
    "            )\n",
    "            valid_running_correct += running_correct\n",
    "        \n",
    "    # Loss and accuracy for the complete epoch.\n",
    "    epoch_loss = valid_running_loss / counter\n",
    "    epoch_acc = 100. * (valid_running_correct / len(testloader.dataset))\n",
    "    return epoch_loss, epoch_acc"
   ]
  },
  {
   "cell_type": "code",
   "execution_count": null,
   "id": "168e06fe",
   "metadata": {},
   "outputs": [],
   "source": [
    "epochs = n_epochs\n",
    "# Lists to keep track of losses and accuracies.\n",
    "train_loss, valid_loss = [], []\n",
    "train_acc, valid_acc = [], []\n",
    "# Start the training.\n",
    "for epoch in range(epochs):\n",
    "    print(f\"[INFO]: Epoch {epoch+1} of {epochs}\")\n",
    "    train_epoch_loss, train_epoch_acc = train(model, train_dataloader, \n",
    "                                            optimizer, criterion, device)\n",
    "    valid_epoch_loss, valid_epoch_acc = validate(model, val_dataloader,  \n",
    "                                                criterion, device)\n",
    "    train_loss.append(train_epoch_loss)\n",
    "    valid_loss.append(valid_epoch_loss)\n",
    "    train_acc.append(train_epoch_acc)\n",
    "    valid_acc.append(valid_epoch_acc)\n",
    "    print(f\"Training loss: {train_epoch_loss}, training acc: {train_epoch_acc}\")\n",
    "    print(f\"Validation loss: {valid_epoch_loss}, validation acc: {valid_epoch_acc}\")\n",
    "    # Save model.\n",
    "    torch.save(model, 'model.pth')\n",
    "    \n",
    "    print('-'*50)"
   ]
  },
  {
   "cell_type": "code",
   "execution_count": null,
   "id": "38031dd9",
   "metadata": {},
   "outputs": [],
   "source": [
    "def save_plots(train_acc, valid_acc, train_loss, valid_loss):\n",
    "    \"\"\"\n",
    "    Function to save the loss and accuracy plots to disk.\n",
    "    \"\"\"\n",
    "    # Accuracy plots.\n",
    "    plt.figure(figsize=(10, 7))\n",
    "    plt.plot(\n",
    "        train_acc, color='blue', linestyle='-', \n",
    "        label='train accuracy'\n",
    "    )\n",
    "    plt.plot(\n",
    "        valid_acc, color='red', linestyle='-', \n",
    "        label='validataion accuracy'\n",
    "    )\n",
    "    plt.xlabel('Epochs')\n",
    "    plt.ylabel('Accuracy')\n",
    "    plt.legend()\n",
    "#     plt.savefig('accuracy.png')\n",
    "    plt.show()\n",
    "    # Loss plots.\n",
    "    plt.figure(figsize=(10, 7))\n",
    "    plt.plot(\n",
    "        train_loss, color='blue', linestyle='-', \n",
    "        label='train loss'\n",
    "    )\n",
    "    plt.plot(\n",
    "        valid_loss, color='red', linestyle='-', \n",
    "        label='validataion loss'\n",
    "    )\n",
    "    plt.xlabel('Epochs')\n",
    "    plt.ylabel('Loss')\n",
    "    plt.legend()\n",
    "#     plt.savefig('loss.png')\n",
    "    plt.show()\n",
    "save_plots(train_acc, valid_acc, train_loss, valid_loss)"
   ]
  },
  {
   "cell_type": "code",
   "execution_count": null,
   "id": "0c659e47",
   "metadata": {},
   "outputs": [],
   "source": [
    "test_model = torch.load('model.pth')"
   ]
  },
  {
   "cell_type": "code",
   "execution_count": null,
   "id": "43a78069",
   "metadata": {},
   "outputs": [],
   "source": [
    "test_running_correct = 0\n",
    "with torch.no_grad():\n",
    "    model.eval()\n",
    "    for i, data in tqdm(enumerate(test_dataloader), total=len(test_dataloader)):\n",
    "            counter += 1\n",
    "            inputs, chars, labels = data['data'], data['chars'], data['target']\n",
    "            inputs = inputs.to(device)\n",
    "            outputs = test_model(inputs, chars)\n",
    "            running_correct = binary_accuracy(\n",
    "                labels, outputs, test_running_correct\n",
    "            )\n",
    "            test_running_correct += running_correct\n",
    "test_acc = 100. * (test_running_correct / len(test_dataloader.dataset))"
   ]
  },
  {
   "cell_type": "code",
   "execution_count": null,
   "id": "4233931c",
   "metadata": {},
   "outputs": [],
   "source": []
  },
  {
   "cell_type": "markdown",
   "id": "d9b7074c",
   "metadata": {},
   "source": [
    "# Attention"
   ]
  },
  {
   "cell_type": "code",
   "execution_count": 243,
   "id": "b03c33cd",
   "metadata": {},
   "outputs": [],
   "source": [
    "class Attention_net(nn.Module):\n",
    "    def __init__(self):\n",
    "        super().__init__()\n",
    "        self.dropout = nn.Dropout(0.1)\n",
    "        self.softmax = nn.Softmax(dim=2)\n",
    "\n",
    "    def forward(self, q, k, v):\n",
    "\n",
    "        attn = torch.bmm(q, # B x T1 x V\n",
    "                         k.transpose(1, 2), # B x T2 x V -> B x V x T2\n",
    "                         ) # B x T1 x T2\n",
    "\n",
    "        attn = self.softmax(attn)\n",
    "        \n",
    "        attn = self.dropout(attn)\n",
    "       \n",
    "        output = torch.bmm(attn, v) # B x T1 x T2 @ B x T1 x V\n",
    "\n",
    "        return output"
   ]
  },
  {
   "cell_type": "code",
   "execution_count": 281,
   "id": "ed16bea4",
   "metadata": {},
   "outputs": [],
   "source": [
    "class RNN_GRU_CH_Attention(nn.Module):\n",
    "    def __init__(self, vocab_size, emb_dim, hidden_dim, n_classes,\n",
    "                 char_vocab, char_emb, char_hidden):\n",
    "        super().__init__()\n",
    "        #TODO try to use other RNN archicetures, f.e. RNN and LSTM\n",
    "        self.word_emb = nn.Embedding(vocab_size, emb_dim)\n",
    "        # batch_first = False: T x B x Vec\n",
    "        # batch_first = True: B x T x Vec\n",
    "        self.rnn = nn.GRU(emb_dim + char_hidden, hidden_dim, num_layers=1, batch_first=True, bidirectional=False)\n",
    "        self.clf = nn.Linear(hidden_dim*2, n_classes)\n",
    "        self.do = nn.Dropout(0.2)\n",
    "        self.hidden_dim = hidden_dim\n",
    "        self.char_rnn = CharRNN_GRU(char_vocab, char_emb, char_hidden)\n",
    "        self.attn = Attention_net()\n",
    "\n",
    "\n",
    "    def forward(self, x, chars):\n",
    "       \n",
    "        emb = self.word_emb(x)\n",
    "        char_features = [self.char_rnn(c.to(x.device)) for c in chars]\n",
    "        char_features = torch.cat(char_features, dim=1) # конкатенация по времени B x T x Char_hid\n",
    "        emb = torch.cat((emb, char_features), dim=-1) # конкатенация векторов\n",
    "        \n",
    "        output, context = self.rnn(emb)   \n",
    "#         print(context.shape)\n",
    "        context = context.permute(1, 0, 2)\n",
    "        attn_output = self.attn(context, output, output)\n",
    "        out = self.do(torch.cat((context, attn_output), dim=-1))\n",
    "        out = self.clf(out)\n",
    "        \n",
    "        return  out.view(-1)"
   ]
  },
  {
   "cell_type": "code",
   "execution_count": 282,
   "id": "b3885a9d",
   "metadata": {},
   "outputs": [
    {
     "name": "stdout",
     "output_type": "stream",
     "text": [
      "RNN_GRU_CH_Attention(\n",
      "  (word_emb): Embedding(44013, 256)\n",
      "  (rnn): GRU(320, 256, batch_first=True)\n",
      "  (clf): Linear(in_features=512, out_features=1, bias=True)\n",
      "  (do): Dropout(p=0.2, inplace=False)\n",
      "  (char_rnn): CharRNN_GRU(\n",
      "    (char_emb): Embedding(105, 32)\n",
      "    (rnn): GRU(32, 64, batch_first=True)\n",
      "  )\n",
      "  (attn): Attention_net(\n",
      "    (dropout): Dropout(p=0.1, inplace=False)\n",
      "    (softmax): Softmax(dim=2)\n",
      "  )\n",
      ")\n",
      "11,733,921 total parameters.\n",
      "11,733,921 training parameters.\n",
      "\n"
     ]
    }
   ],
   "source": [
    "model_a = RNN_GRU_CH_Attention(vocab_size, emb_dim, hidden, n_classes, n_chars, char_emb, char_hid).to(device)\n",
    "print(model_a)\n",
    "criterion = nn.BCEWithLogitsLoss()\n",
    "optimizer = optim.Adam(model_a.parameters(), lr=0.001,)\n",
    "# Total parameters and trainable parameters.\n",
    "total_params = sum(p.numel() for p in model_a.parameters())\n",
    "print(f\"{total_params:,} total parameters.\")\n",
    "total_trainable_params = sum(p.numel() for p in model_a.parameters() if p.requires_grad)\n",
    "print(f\"{total_trainable_params:,} training parameters.\\n\")"
   ]
  },
  {
   "cell_type": "code",
   "execution_count": 283,
   "id": "9ebb44b6",
   "metadata": {},
   "outputs": [
    {
     "data": {
      "text/plain": [
       "(torch.Size([16]), torch.Size([16]))"
      ]
     },
     "execution_count": 283,
     "metadata": {},
     "output_type": "execute_result"
    }
   ],
   "source": [
    "batch = next(iter(train_dataloader))\n",
    "# batch['data'].shape, len(batch['chars']), batch['target'].shape\n",
    "predict = model_a(batch['data'].to(device), batch['chars'])\n",
    "# loss = criterion(predict, batch['target'].to(device))\n",
    "predict.shape, batch['target'].shape\n",
    "# loss"
   ]
  },
  {
   "cell_type": "code",
   "execution_count": null,
   "id": "5fe84503",
   "metadata": {},
   "outputs": [],
   "source": [
    "epochs = n_epochs\n",
    "# Lists to keep track of losses and accuracies.\n",
    "train_loss2, valid_loss2 = [], []\n",
    "train_acc2, valid_acc2 = [], []\n",
    "# Start the training.\n",
    "for epoch in range(epochs):\n",
    "    print(f\"[INFO]: Epoch {epoch+1} of {epochs}\")\n",
    "    train_epoch_loss, train_epoch_acc = train(model_a, train_dataloader, \n",
    "                                            optimizer, criterion, device)\n",
    "    valid_epoch_loss, valid_epoch_acc = validate(model_a, val_dataloader,  \n",
    "                                                criterion, device)\n",
    "    train_loss2.append(train_epoch_loss)\n",
    "    valid_loss2.append(valid_epoch_loss)\n",
    "    train_acc2.append(train_epoch_acc)\n",
    "    valid_acc2.append(valid_epoch_acc)\n",
    "    print(f\"Training loss: {train_epoch_loss}, training acc: {train_epoch_acc}\")\n",
    "    print(f\"Validation loss: {valid_epoch_loss}, validation acc: {valid_epoch_acc}\")\n",
    "    # Save model.\n",
    "    torch.save(model_a, 'model_a.pth')\n",
    "    \n",
    "    print('-'*50)"
   ]
  },
  {
   "cell_type": "code",
   "execution_count": null,
   "id": "d798cad7",
   "metadata": {},
   "outputs": [],
   "source": [
    "save_plots(train_acc2, valid_acc2, train_loss2, valid_loss2)"
   ]
  },
  {
   "cell_type": "code",
   "execution_count": null,
   "id": "d13396e8",
   "metadata": {},
   "outputs": [],
   "source": [
    "test_model_a = torch.load('model_a.pth')"
   ]
  },
  {
   "cell_type": "code",
   "execution_count": null,
   "id": "18e4ab1b",
   "metadata": {},
   "outputs": [],
   "source": [
    "test_running_correct = 0\n",
    "model_a.eval()\n",
    "for i, data in tqdm(enumerate(test_dataloader), total=len(test_dataloader)):\n",
    "            counter += 1\n",
    "            inputs, chars, labels = data['data'], data['chars'], data['target']\n",
    "            inputs = inputs.to(device)\n",
    "            outputs = test_model_a(inputs, chars)\n",
    "            running_correct = binary_accuracy(\n",
    "                labels, outputs, test_running_correct\n",
    "            )\n",
    "            test_running_correct += running_correct\n",
    "test_acc2 = 100. * (test_running_correct / len(test_dataloader.dataset))\n",
    "print(test_acc2)"
   ]
  },
  {
   "cell_type": "code",
   "execution_count": null,
   "id": "2f5d5ac5",
   "metadata": {},
   "outputs": [],
   "source": []
  },
  {
   "cell_type": "markdown",
   "id": "c5e32ca0",
   "metadata": {},
   "source": [
    "# Bert"
   ]
  },
  {
   "cell_type": "markdown",
   "id": "7bb6af36",
   "metadata": {},
   "source": [
    "https://saturncloud.io/blog/pytorch-for-natural-language-processing-building-a-fake-news-classification-model/"
   ]
  },
  {
   "cell_type": "code",
   "execution_count": null,
   "id": "5ce59498",
   "metadata": {},
   "outputs": [],
   "source": []
  },
  {
   "cell_type": "markdown",
   "id": "f1586efb",
   "metadata": {},
   "source": [
    "# Transformer "
   ]
  },
  {
   "cell_type": "markdown",
   "id": "9216e0d6",
   "metadata": {},
   "source": [
    "https://debuggercafe.com/text-classification-using-transformer-encoder-in-pytorch/\n",
    "    \n",
    "https://debuggercafe.com/language-translation-using-pytorch-transformer/\n",
    "    \n",
    "https://debuggercafe.com/transformer-neural-network/"
   ]
  },
  {
   "cell_type": "code",
   "execution_count": null,
   "id": "727158ef",
   "metadata": {},
   "outputs": [],
   "source": []
  }
 ],
 "metadata": {
  "kernelspec": {
   "display_name": "Python 3 (ipykernel)",
   "language": "python",
   "name": "python3"
  },
  "language_info": {
   "codemirror_mode": {
    "name": "ipython",
    "version": 3
   },
   "file_extension": ".py",
   "mimetype": "text/x-python",
   "name": "python",
   "nbconvert_exporter": "python",
   "pygments_lexer": "ipython3",
   "version": "3.9.12"
  }
 },
 "nbformat": 4,
 "nbformat_minor": 5
}
