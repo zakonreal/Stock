{
 "cells": [
  {
   "cell_type": "code",
   "execution_count": 5,
   "id": "fc28152b-6b7b-4e9f-8ab3-18067001c7e5",
   "metadata": {},
   "outputs": [],
   "source": [
    "import git, os, sys"
   ]
  },
  {
   "cell_type": "code",
   "execution_count": 7,
   "id": "b159fb3e-b672-4920-9c3d-09d91e2de822",
   "metadata": {},
   "outputs": [
    {
     "data": {
      "text/plain": [
       "'C:\\\\Users\\\\150ho\\\\Desktop\\\\DE\\\\pro\\\\MyStock'"
      ]
     },
     "execution_count": 7,
     "metadata": {},
     "output_type": "execute_result"
    }
   ],
   "source": [
    "%pwd"
   ]
  },
  {
   "cell_type": "code",
   "execution_count": 6,
   "id": "c182eec2-249b-4bdb-87c7-2ea7f928d28d",
   "metadata": {},
   "outputs": [
    {
     "name": "stderr",
     "output_type": "stream",
     "text": [
      "fatal: detected dubious ownership in repository at 'C:/Users/150ho/Desktop/DE/pro/MyStock'\n",
      "'C:/Users/150ho/Desktop/DE/pro/MyStock' is owned by:\n",
      "\t'S-1-5-32-544'\n",
      "but the current user is:\n",
      "\t'S-1-5-21-3624418407-401191512-1678265481-1001'\n",
      "To add an exception for this directory, call:\n",
      "\n",
      "\tgit config --global --add safe.directory C:/Users/150ho/Desktop/DE/pro/MyStock\n"
     ]
    }
   ],
   "source": [
    "!git commit -a -m \"update\""
   ]
  },
  {
   "cell_type": "code",
   "execution_count": 4,
   "id": "1be0b428-bfbf-4396-81ff-2903508aed21",
   "metadata": {},
   "outputs": [
    {
     "name": "stderr",
     "output_type": "stream",
     "text": [
      "fatal: detected dubious ownership in repository at 'C:/Users/150ho/Desktop/DE/pro/MyStock'\n",
      "'C:/Users/150ho/Desktop/DE/pro/MyStock' is owned by:\n",
      "\t'S-1-5-32-544'\n",
      "but the current user is:\n",
      "\t'S-1-5-21-3624418407-401191512-1678265481-1001'\n",
      "To add an exception for this directory, call:\n",
      "\n",
      "\tgit config --global --add safe.directory C:/Users/150ho/Desktop/DE/pro/MyStock\n"
     ]
    }
   ],
   "source": [
    "!git push origin main"
   ]
  },
  {
   "cell_type": "code",
   "execution_count": null,
   "id": "9fe927af-0de3-40a5-9dc8-08086b56251c",
   "metadata": {},
   "outputs": [],
   "source": []
  }
 ],
 "metadata": {
  "kernelspec": {
   "display_name": "Python 3 (ipykernel)",
   "language": "python",
   "name": "python3"
  },
  "language_info": {
   "codemirror_mode": {
    "name": "ipython",
    "version": 3
   },
   "file_extension": ".py",
   "mimetype": "text/x-python",
   "name": "python",
   "nbconvert_exporter": "python",
   "pygments_lexer": "ipython3",
   "version": "3.9.18"
  }
 },
 "nbformat": 4,
 "nbformat_minor": 5
}
