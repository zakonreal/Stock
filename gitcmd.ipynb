{
 "cells": [
  {
   "cell_type": "code",
   "execution_count": 1,
   "id": "fc28152b-6b7b-4e9f-8ab3-18067001c7e5",
   "metadata": {},
   "outputs": [],
   "source": [
    "import git, os"
   ]
  },
  {
   "cell_type": "code",
   "execution_count": 2,
   "id": "57bdb015-6592-4037-a9e3-b56546cb1f57",
   "metadata": {},
   "outputs": [
    {
     "data": {
      "text/plain": [
       "'C:\\\\Users\\\\150ho\\\\Desktop\\\\DE\\\\pro\\\\MyStock'"
      ]
     },
     "execution_count": 2,
     "metadata": {},
     "output_type": "execute_result"
    }
   ],
   "source": [
    "%pwd"
   ]
  },
  {
   "cell_type": "code",
   "execution_count": 3,
   "id": "a5b58475-8c35-4958-a5f7-668dc0c83597",
   "metadata": {},
   "outputs": [
    {
     "name": "stderr",
     "output_type": "stream",
     "text": [
      "warning: in the working copy of 'gitcmd.ipynb', LF will be replaced by CRLF the next time Git touches it\n"
     ]
    }
   ],
   "source": [
    "!git add --all"
   ]
  },
  {
   "cell_type": "code",
   "execution_count": null,
   "id": "c182eec2-249b-4bdb-87c7-2ea7f928d28d",
   "metadata": {},
   "outputs": [],
   "source": []
  }
 ],
 "metadata": {
  "kernelspec": {
   "display_name": "Python 3 (ipykernel)",
   "language": "python",
   "name": "python3"
  },
  "language_info": {
   "codemirror_mode": {
    "name": "ipython",
    "version": 3
   },
   "file_extension": ".py",
   "mimetype": "text/x-python",
   "name": "python",
   "nbconvert_exporter": "python",
   "pygments_lexer": "ipython3",
   "version": "3.9.18"
  }
 },
 "nbformat": 4,
 "nbformat_minor": 5
}
