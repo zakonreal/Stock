{
 "cells": [
  {
   "cell_type": "code",
   "execution_count": 5,
   "id": "fc28152b-6b7b-4e9f-8ab3-18067001c7e5",
   "metadata": {},
   "outputs": [],
   "source": [
    "import git, os, sys"
   ]
  },
  {
   "cell_type": "code",
   "execution_count": 16,
   "id": "15b5ae9f-2253-478c-832c-4115047810fd",
   "metadata": {},
   "outputs": [],
   "source": [
    "!git add --all"
   ]
  },
  {
   "cell_type": "code",
   "execution_count": 17,
   "id": "c182eec2-249b-4bdb-87c7-2ea7f928d28d",
   "metadata": {},
   "outputs": [
    {
     "name": "stdout",
     "output_type": "stream",
     "text": [
      "[main b491c44] update\n",
      " 3 files changed, 2900 insertions(+), 32 deletions(-)\n",
      " create mode 100644 .ipynb_checkpoints/gitcmd-checkpoint.ipynb\n",
      " create mode 100644 data/stock_day.csv\n"
     ]
    }
   ],
   "source": [
    "!git commit -a -m \"update\""
   ]
  },
  {
   "cell_type": "code",
   "execution_count": 18,
   "id": "1be0b428-bfbf-4396-81ff-2903508aed21",
   "metadata": {},
   "outputs": [
    {
     "name": "stderr",
     "output_type": "stream",
     "text": [
      "To https://github.com/zakonreal/Stock.git\n",
      "   00f6a88..b491c44  main -> main\n"
     ]
    }
   ],
   "source": [
    "!git push origin main"
   ]
  }
 ],
 "metadata": {
  "kernelspec": {
   "display_name": "Python 3 (ipykernel)",
   "language": "python",
   "name": "python3"
  },
  "language_info": {
   "codemirror_mode": {
    "name": "ipython",
    "version": 3
   },
   "file_extension": ".py",
   "mimetype": "text/x-python",
   "name": "python",
   "nbconvert_exporter": "python",
   "pygments_lexer": "ipython3",
   "version": "3.9.18"
  }
 },
 "nbformat": 4,
 "nbformat_minor": 5
}
