{
 "cells": [
  {
   "cell_type": "code",
   "execution_count": 1,
   "id": "fc28152b-6b7b-4e9f-8ab3-18067001c7e5",
   "metadata": {},
   "outputs": [],
   "source": [
    "import git, os, sys"
   ]
  },
  {
   "cell_type": "code",
   "execution_count": 12,
   "id": "60b98157-8743-4119-9946-9c589ba9929a",
   "metadata": {},
   "outputs": [
    {
     "name": "stdout",
     "output_type": "stream",
     "text": [
      "C:\\Users\\150ho\\Desktop\\DE\\pro\\MyStock\n"
     ]
    }
   ],
   "source": [
    "%cd MyStock"
   ]
  },
  {
   "cell_type": "code",
   "execution_count": 13,
   "id": "a5b58475-8c35-4958-a5f7-668dc0c83597",
   "metadata": {},
   "outputs": [
    {
     "name": "stderr",
     "output_type": "stream",
     "text": [
      "warning: in the working copy of 'gitcmd.ipynb', LF will be replaced by CRLF the next time Git touches it\n"
     ]
    }
   ],
   "source": [
    "!git add --all"
   ]
  },
  {
   "cell_type": "code",
   "execution_count": 8,
   "id": "c182eec2-249b-4bdb-87c7-2ea7f928d28d",
   "metadata": {},
   "outputs": [
    {
     "name": "stdout",
     "output_type": "stream",
     "text": [
      "[main 9388fe7] update\n",
      " 1 file changed, 3 insertions(+), 11 deletions(-)\n"
     ]
    }
   ],
   "source": [
    "!git commit -a -m \"update\""
   ]
  },
  {
   "cell_type": "code",
   "execution_count": 10,
   "id": "1be0b428-bfbf-4396-81ff-2903508aed21",
   "metadata": {},
   "outputs": [
    {
     "name": "stderr",
     "output_type": "stream",
     "text": [
      "To https://github.com/zakonreal/Stock.git\n",
      " ! [rejected]        main -> main (fetch first)\n",
      "error: failed to push some refs to 'https://github.com/zakonreal/Stock.git'\n",
      "hint: Updates were rejected because the remote contains work that you do not\n",
      "hint: have locally. This is usually caused by another repository pushing to\n",
      "hint: the same ref. If you want to integrate the remote changes, use\n",
      "hint: 'git pull' before pushing again.\n",
      "hint: See the 'Note about fast-forwards' in 'git push --help' for details.\n"
     ]
    }
   ],
   "source": [
    "!git push origin main"
   ]
  },
  {
   "cell_type": "code",
   "execution_count": null,
   "id": "9fe927af-0de3-40a5-9dc8-08086b56251c",
   "metadata": {},
   "outputs": [],
   "source": []
  }
 ],
 "metadata": {
  "kernelspec": {
   "display_name": "Python 3 (ipykernel)",
   "language": "python",
   "name": "python3"
  },
  "language_info": {
   "codemirror_mode": {
    "name": "ipython",
    "version": 3
   },
   "file_extension": ".py",
   "mimetype": "text/x-python",
   "name": "python",
   "nbconvert_exporter": "python",
   "pygments_lexer": "ipython3",
   "version": "3.9.18"
  }
 },
 "nbformat": 4,
 "nbformat_minor": 5
}
