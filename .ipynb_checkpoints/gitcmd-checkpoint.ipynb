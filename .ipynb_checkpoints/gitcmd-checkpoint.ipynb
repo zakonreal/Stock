{
 "cells": [
  {
   "cell_type": "code",
   "execution_count": 5,
   "id": "fc28152b-6b7b-4e9f-8ab3-18067001c7e5",
   "metadata": {},
   "outputs": [],
   "source": [
    "import git, os, sys"
   ]
  },
  {
   "cell_type": "code",
   "execution_count": null,
   "id": "459526f0-a73c-4889-baba-71d3b4177d6c",
   "metadata": {},
   "outputs": [],
   "source": [
    "!git add --all"
   ]
  },
  {
   "cell_type": "code",
   "execution_count": 23,
   "id": "c182eec2-249b-4bdb-87c7-2ea7f928d28d",
   "metadata": {},
   "outputs": [
    {
     "name": "stdout",
     "output_type": "stream",
     "text": [
      "[main 4b0f6d6] update\n",
      " 3 files changed, 22 insertions(+), 2840 deletions(-)\n",
      " delete mode 100644 data/stock_day.csv\n"
     ]
    },
    {
     "name": "stderr",
     "output_type": "stream",
     "text": [
      "warning: in the working copy of '.ipynb_checkpoints/gitcmd-checkpoint.ipynb', LF will be replaced by CRLF the next time Git touches it\n",
      "warning: in the working copy of 'gitcmd.ipynb', LF will be replaced by CRLF the next time Git touches it\n"
     ]
    }
   ],
   "source": [
    "!git commit -a -m \"update\""
   ]
  },
  {
   "cell_type": "code",
   "execution_count": 24,
   "id": "1be0b428-bfbf-4396-81ff-2903508aed21",
   "metadata": {},
   "outputs": [
    {
     "name": "stderr",
     "output_type": "stream",
     "text": [
      "To https://github.com/zakonreal/Stock.git\n",
      "   e4b87f4..4b0f6d6  main -> main\n"
     ]
    }
   ],
   "source": [
    "!git push origin main"
   ]
  },
  {
   "cell_type": "code",
   "execution_count": null,
   "id": "350355b7-8d2d-4813-8cc3-244d04a259d6",
   "metadata": {},
   "outputs": [],
   "source": []
  }
 ],
 "metadata": {
  "kernelspec": {
   "display_name": "Python 3 (ipykernel)",
   "language": "python",
   "name": "python3"
  },
  "language_info": {
   "codemirror_mode": {
    "name": "ipython",
    "version": 3
   },
   "file_extension": ".py",
   "mimetype": "text/x-python",
   "name": "python",
   "nbconvert_exporter": "python",
   "pygments_lexer": "ipython3",
   "version": "3.9.18"
  }
 },
 "nbformat": 4,
 "nbformat_minor": 5
}
