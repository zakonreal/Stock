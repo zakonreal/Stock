{
 "cells": [
  {
   "cell_type": "markdown",
   "id": "62821ade",
   "metadata": {},
   "source": [
    "# Актуальные котировки SBER (Московской биржи) с Финама"
   ]
  },
  {
   "cell_type": "code",
   "execution_count": 1,
   "id": "068ad3e5",
   "metadata": {},
   "outputs": [],
   "source": [
    "# Библиотеки\n",
    "import pandas as pd\n",
    "import numpy as np\n",
    "\n",
    "import requests\n",
    "import urllib.request\n",
    "from urllib.parse import urlencode\n",
    "from urllib.request import urlopen\n",
    "\n",
    "import io\n",
    "import os\n",
    "\n",
    "import datetime\n",
    "from datetime import datetime, date, timedelta\n",
    "\n",
    "import matplotlib.pyplot as plt\n",
    "\n",
    "import warnings\n",
    "warnings.filterwarnings('ignore')"
   ]
  },
  {
   "cell_type": "code",
   "execution_count": 2,
   "id": "bec8382d",
   "metadata": {
    "scrolled": false
   },
   "outputs": [],
   "source": [
    "from parser_stock_arhiv_1 import stock_day_arhiv, stock_hour_arhiv, stock_min_arhiv, stock"
   ]
  },
  {
   "cell_type": "markdown",
   "id": "72010fd9",
   "metadata": {},
   "source": [
    "## Актуализируем датафреймы"
   ]
  },
  {
   "cell_type": "markdown",
   "id": "b2fc2426",
   "metadata": {},
   "source": [
    "### Создаем файл xlsx / csv"
   ]
  },
  {
   "cell_type": "markdown",
   "id": "c78895d4",
   "metadata": {},
   "source": [
    "### Day"
   ]
  },
  {
   "cell_type": "code",
   "execution_count": 3,
   "id": "447fca44",
   "metadata": {},
   "outputs": [],
   "source": [
    "prices_path = 'stock_prices_day'\n",
    "for i in stock:\n",
    "    d1 = pd.read_csv(f'{i}_day.csv')\n",
    "    d2 = stock_day_arhiv(i, data_start = d1[['DATE']][-1:].values[0][0]).reset_index()\n",
    "    day = pd.concat([d1, d2], axis=0, ignore_index=True)\n",
    "    day = day.drop_duplicates (subset=['DATE'], keep='last')\n",
    "    day.to_csv(f'{i}_day.csv', index = False)\n",
    "    \n",
    "    quotes_price_path = os.path.join(prices_path, i)\n",
    "    if not os.path.exists(quotes_price_path ):\n",
    "                os.makedirs(quotes_price_path)\n",
    "\n",
    "    stock_date = datetime.today().date().strftime(format=\"%d%m%Y\")\n",
    "    quotes_price_file_path = os.path.join(quotes_price_path, f'{i}_price_{stock_date}.xlsx')\n",
    "    stock_price_file_path = os.path.join(quotes_price_path, f'{i}_price_{stock_date}.csv')\n",
    "    if os.path.exists(quotes_price_file_path):\n",
    "                        os.remove(quotes_price_file_path)  \n",
    "    day.to_csv(stock_price_file_path, index = False)        \n",
    "    with pd.ExcelWriter(quotes_price_file_path, engine='xlsxwriter') as writer:\n",
    "                day.to_excel(writer, sheet_name='price')\n",
    "                \n",
    "                day['DATE'] = pd.to_datetime(day['DATE'], format='%Y-%m-%d')\n",
    "                day.set_index('DATE', inplace=True)\n",
    "\n",
    "                # Добавляем график с ценой\n",
    "                plot_path = f'{i}_moex.png'\n",
    "                plt.title('Цена', fontsize=16, fontweight='bold')\n",
    "                plt.plot(day['CLOSE'].rolling(30).mean())\n",
    "                plt.savefig(plot_path)\n",
    "                plt.close()\n",
    "\n",
    "                worksheet = writer.sheets['price']\n",
    "                worksheet.insert_image('L2', plot_path)\n",
    "                \n",
    "                \n",
    "\n",
    "#         print(f\"{quotes} готов\")\n",
    "\n",
    "#         print(\"Удаляем ненужные файлы\")\n",
    "for k in stock:\n",
    "            if os.path.exists(f\"{k}_moex.png\"):\n",
    "                os.remove(f\"{k}_moex.png\")  "
   ]
  },
  {
   "cell_type": "code",
   "execution_count": 4,
   "id": "9c061c77",
   "metadata": {},
   "outputs": [],
   "source": [
    "df = pd.DataFrame()\n",
    "for i in stock[1:]:\n",
    "#     stock_day_arhiv(cod = i).to_csv(f'{i}_day.csv', index = True)\n",
    "    d = pd.read_csv(f'{i}_day.csv', index_col=0, \n",
    "                   parse_dates=True)\n",
    "    df[i] = d['CLOSE'] \n",
    "\n",
    "df.to_csv('stock_day.csv', index = True)"
   ]
  },
  {
   "cell_type": "markdown",
   "id": "6f1cb13e",
   "metadata": {},
   "source": [
    "### Hour "
   ]
  },
  {
   "cell_type": "code",
   "execution_count": 5,
   "id": "c170790a",
   "metadata": {},
   "outputs": [],
   "source": [
    "prices_path = 'stock_prices_hour'\n",
    "for i in stock:\n",
    "    h1 = pd.read_csv(f'{i}_hour.csv')\n",
    "    h2 = stock_hour_arhiv(i, data_start = h1[['DATE']][-2:].values[0][0][:10]).reset_index()\n",
    "    hour = pd.concat([h1, h2], axis=0, ignore_index=True)\n",
    "    hour = hour.drop_duplicates (subset=['DATE'], keep='last')\n",
    "    hour.to_csv(f'{i}_hour.csv', index = False)\n",
    "    \n",
    "    quotes_price_path = os.path.join(prices_path, i)\n",
    "    if not os.path.exists(quotes_price_path ):\n",
    "                os.makedirs(quotes_price_path)\n",
    "\n",
    "    stock_date = datetime.today().date().strftime(format=\"%d%m%Y\")\n",
    "    quotes_price_file_path = os.path.join(quotes_price_path, f'{i}_price_{stock_date}.xlsx')\n",
    "    stock_price_file_path = os.path.join(quotes_price_path, f'{i}_price_{stock_date}.csv')\n",
    "    if os.path.exists(quotes_price_file_path):\n",
    "                        os.remove(quotes_price_file_path)  \n",
    "    hour.to_csv(stock_price_file_path, index = False)           \n",
    "    with pd.ExcelWriter(quotes_price_file_path, engine='xlsxwriter') as writer:\n",
    "                hour.to_excel(writer, sheet_name='price')\n",
    "            \n",
    "                hour['DATE'] = pd.to_datetime(hour['DATE'], format='%Y%m%d %H:%M:%S')\n",
    "                hour.set_index('DATE', inplace=True)\n",
    "\n",
    "                # Добавляем график с ценой\n",
    "                plot_path = f'{i}_moex.png'\n",
    "                plt.title('Цена', fontsize=16, fontweight='bold')\n",
    "                plt.plot(hour['CLOSE'].rolling(180).mean())\n",
    "                plt.savefig(plot_path)\n",
    "                plt.close()\n",
    "\n",
    "                worksheet = writer.sheets['price']\n",
    "                worksheet.insert_image('L2', plot_path)\n",
    "                \n",
    "                \n",
    "\n",
    "#         print(f\"{quotes} готов\")\n",
    "\n",
    "#         print(\"Удаляем ненужные файлы\")\n",
    "for k in stock:\n",
    "            if os.path.exists(f\"{k}_moex.png\"):\n",
    "                os.remove(f\"{k}_moex.png\")  "
   ]
  },
  {
   "cell_type": "code",
   "execution_count": 6,
   "id": "65ddc99d",
   "metadata": {},
   "outputs": [],
   "source": [
    "df = pd.DataFrame()\n",
    "for i in stock[1:]:\n",
    "#     stock_hour_arhiv(cod = i).to_csv(f'{i}_hour.csv', index = True)\n",
    "    d = pd.read_csv(f'{i}_hour.csv', index_col=0, \n",
    "                   parse_dates=True)\n",
    "    df[i] = d['CLOSE'] \n",
    "    \n",
    "df.to_csv('stock_hour.csv', index = True)"
   ]
  },
  {
   "cell_type": "markdown",
   "id": "c0c077d1",
   "metadata": {},
   "source": [
    "### min"
   ]
  },
  {
   "cell_type": "code",
   "execution_count": 7,
   "id": "8797eda2",
   "metadata": {},
   "outputs": [],
   "source": [
    "prices_path = 'stock_prices_min'\n",
    "for i in stock:\n",
    "    h1 = pd.read_csv(f'{i}_min.csv')\n",
    "    h2 = stock_min_arhiv(i, data_start = h1[['DATE']][-2:].values[0][0][:10]).reset_index()\n",
    "    hour = pd.concat([h1, h2], axis=0, ignore_index=True)\n",
    "    hour = hour.drop_duplicates (subset=['DATE'], keep='last')\n",
    "    hour.to_csv(f'{i}_min.csv', index = False)\n",
    "    \n",
    "    quotes_price_path = os.path.join(prices_path, i)\n",
    "    if not os.path.exists(quotes_price_path ):\n",
    "                os.makedirs(quotes_price_path)\n",
    "\n",
    "    stock_date = datetime.today().date().strftime(format=\"%d%m%Y\")\n",
    "    quotes_price_file_path = os.path.join(quotes_price_path, f'{i}_price_{stock_date}.xlsx')\n",
    "    stock_price_file_path = os.path.join(quotes_price_path, f'{i}_price_{stock_date}.csv')\n",
    "    if os.path.exists(quotes_price_file_path):\n",
    "                        os.remove(quotes_price_file_path)  \n",
    "    hour.to_csv(stock_price_file_path, index = False)           \n",
    "    with pd.ExcelWriter(quotes_price_file_path, engine='xlsxwriter') as writer:\n",
    "                hour.to_excel(writer, sheet_name='price')\n",
    "            \n",
    "                hour['DATE'] = pd.to_datetime(hour['DATE'], format='%Y%m%d %H:%M:%S')\n",
    "                hour.set_index('DATE', inplace=True)\n",
    "\n",
    "                # Добавляем график с ценой\n",
    "                plot_path = f'{i}_moex.png'\n",
    "                plt.title('Цена', fontsize=16, fontweight='bold')\n",
    "                plt.plot(hour['CLOSE'].rolling(180).mean())\n",
    "                plt.savefig(plot_path)\n",
    "                plt.close()\n",
    "\n",
    "                worksheet = writer.sheets['price']\n",
    "                worksheet.insert_image('L2', plot_path)\n",
    "                \n",
    "                \n",
    "\n",
    "#         print(f\"{quotes} готов\")\n",
    "\n",
    "#         print(\"Удаляем ненужные файлы\")\n",
    "for k in stock:\n",
    "            if os.path.exists(f\"{k}_moex.png\"):\n",
    "                os.remove(f\"{k}_moex.png\")  "
   ]
  },
  {
   "cell_type": "code",
   "execution_count": 8,
   "id": "53d0a953",
   "metadata": {},
   "outputs": [],
   "source": [
    "df = pd.DataFrame()\n",
    "for i in stock[1:]:\n",
    "#     stock_hour_arhiv(cod = i).to_csv(f'{i}_hour.csv', index = True)\n",
    "    d = pd.read_csv(f'{i}_min.csv', index_col=0, \n",
    "                   parse_dates=True)\n",
    "    df[i] = d['CLOSE'] \n",
    "    \n",
    "df.to_csv('stock_min.csv', index = True)"
   ]
  },
  {
   "cell_type": "code",
   "execution_count": null,
   "id": "d7024309",
   "metadata": {},
   "outputs": [],
   "source": []
  }
 ],
 "metadata": {
  "kernelspec": {
   "display_name": "Python 3 (ipykernel)",
   "language": "python",
   "name": "python3"
  },
  "language_info": {
   "codemirror_mode": {
    "name": "ipython",
    "version": 3
   },
   "file_extension": ".py",
   "mimetype": "text/x-python",
   "name": "python",
   "nbconvert_exporter": "python",
   "pygments_lexer": "ipython3",
   "version": "3.9.12"
  }
 },
 "nbformat": 4,
 "nbformat_minor": 5
}
