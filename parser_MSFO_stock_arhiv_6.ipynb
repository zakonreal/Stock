{
 "cells": [
  {
   "cell_type": "markdown",
   "id": "3d3c86f3",
   "metadata": {},
   "source": [
    "# Фундаментальный анализ акций"
   ]
  },
  {
   "cell_type": "code",
   "execution_count": 1,
   "id": "388ff692",
   "metadata": {},
   "outputs": [],
   "source": [
    "# Библиотеки\n",
    "import pandas as pd\n",
    "import numpy as np\n",
    "\n",
    "import requests\n",
    "import urllib.request\n",
    "from urllib.parse import urlencode\n",
    "from urllib.request import urlopen\n",
    "\n",
    "from bs4 import BeautifulSoup as bs\n",
    "import json\n",
    "import re\n",
    "import io\n",
    "import os\n",
    "import time\n",
    "\n",
    "import datetime as dt\n",
    "\n",
    "import datetime\n",
    "from datetime import datetime, date, timedelta\n",
    "\n",
    "import warnings\n",
    "warnings.filterwarnings('ignore')"
   ]
  },
  {
   "cell_type": "code",
   "execution_count": 2,
   "id": "38f2124c",
   "metadata": {},
   "outputs": [],
   "source": [
    "pd.set_option('display.max_rows', None)"
   ]
  },
  {
   "cell_type": "code",
   "execution_count": 3,
   "id": "d45765ed",
   "metadata": {},
   "outputs": [
    {
     "name": "stdout",
     "output_type": "stream",
     "text": [
      "Ключевая ставка = 15.0 %\n"
     ]
    }
   ],
   "source": [
    "# загружаем ставку ЦБ на сегодня\n",
    "url = 'https://cbr.ru/hd_base/KeyRate/'\n",
    "html = requests.get(url).content\n",
    "df_list = pd.read_html(html)\n",
    "df = df_list[0]\n",
    "cb = df.iloc[0][1]/100\n",
    "print(f'Ключевая ставка = {cb} %')"
   ]
  },
  {
   "cell_type": "code",
   "execution_count": 4,
   "id": "5c31e24b",
   "metadata": {},
   "outputs": [],
   "source": [
    "def Q_date(date):\n",
    "    Q_list = {'4': '12-31', '3': '09-30', '2': '06-30', '1': '03-31'}\n",
    "    if date == 'LTM':\n",
    "        return date\n",
    "    else:\n",
    "        date_list = date.split('Q')\n",
    "        Q = Q_list[date_list[1]]\n",
    "        return date_list[0] +'-' + Q"
   ]
  },
  {
   "cell_type": "code",
   "execution_count": 5,
   "id": "6b964f9a",
   "metadata": {},
   "outputs": [],
   "source": [
    "# загружаем квартальные финансовые отчеты МСФО\n",
    "def MSFO_stock(stock = \"SBER\"):\n",
    "    url =f'https://smart-lab.ru/q/{stock}/f/q/MSFO/download/'\n",
    "    req = urllib.request.Request(\n",
    "    url,\n",
    "    data=None,\n",
    "    headers={\n",
    "    'User-Agent': 'Mozilla/5.0 (Macintosh; Intel Mac OS X 10_9_3) AppleWebKit/537.36 (KHTML, like Gecko) Chrome/35.0.1916.47 Safari/537.36'\n",
    "    }\n",
    "    )\n",
    "    s = urllib.request.urlopen(req)\n",
    "    df = pd.read_csv(s , sep=';', header=0)\n",
    "    \n",
    "    df = df.T\n",
    "    df.columns = df.iloc[0]\n",
    "    df = df.iloc[1:].rename_axis(None, axis=1)\n",
    "    \n",
    "    if stock == \"SBER\":\n",
    "        df = df[['Капитализация, млрд руб', 'EV, млрд руб', 'Чистый операц доход, млрд руб', 'Чистая прибыль, млрд руб', 'Див доход, ао, %', 'Дивиденды/прибыль, %', 'P/E', 'P/B', 'ROE, %', 'ROA, %', 'Чистая процентная маржа, %']]\n",
    "    else:\n",
    "        df = df[['Капитализация, млрд руб', 'EV, млрд руб', 'Выручка, млрд руб', 'Чистая прибыль, млрд руб', 'Див доход, ао, %', 'Дивиденды/прибыль, %', 'P/E', 'P/S', 'P/BV', 'ROE, %', 'ROA, %', 'EV/EBITDA', 'Рентаб EBITDA, %', 'Долг/EBITDA']]\n",
    "    \n",
    "    df = df.reset_index()\n",
    "    df['index'] = df['index'].apply(lambda x: Q_date(x))\n",
    "    df = df.set_index('index')\n",
    "    df.index.names = ['DATE']\n",
    "    df = df.loc['2013-12-31':]\n",
    "\n",
    "    return df"
   ]
  },
  {
   "cell_type": "code",
   "execution_count": 6,
   "id": "9da2a8ee",
   "metadata": {},
   "outputs": [],
   "source": [
    "stock = ['GAZP', 'ROSN', 'SBER', 'RTKM', 'MOEX']"
   ]
  },
  {
   "cell_type": "code",
   "execution_count": 7,
   "id": "cf1856f2",
   "metadata": {},
   "outputs": [],
   "source": [
    "for i in stock:\n",
    "    MSFO_stock(stock = i).to_csv(f'MSFO_{i}.csv', index = True)"
   ]
  },
  {
   "cell_type": "code",
   "execution_count": null,
   "id": "8c226bd0",
   "metadata": {},
   "outputs": [],
   "source": []
  }
 ],
 "metadata": {
  "kernelspec": {
   "display_name": "Python 3 (ipykernel)",
   "language": "python",
   "name": "python3"
  },
  "language_info": {
   "codemirror_mode": {
    "name": "ipython",
    "version": 3
   },
   "file_extension": ".py",
   "mimetype": "text/x-python",
   "name": "python",
   "nbconvert_exporter": "python",
   "pygments_lexer": "ipython3",
   "version": "3.9.12"
  }
 },
 "nbformat": 4,
 "nbformat_minor": 5
}
